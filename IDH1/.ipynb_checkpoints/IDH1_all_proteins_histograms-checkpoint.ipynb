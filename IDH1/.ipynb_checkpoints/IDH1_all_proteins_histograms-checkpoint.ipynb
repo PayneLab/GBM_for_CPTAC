{
 "cells": [
  {
   "cell_type": "markdown",
   "metadata": {},
   "source": [
    "# IDH1 trans effect histograms for all proteins\n"
   ]
  },
  {
   "cell_type": "markdown",
   "metadata": {},
   "source": [
    "This notebook analyzes the trans effect of TP53 mutation for all proteins."
   ]
  },
  {
   "cell_type": "markdown",
   "metadata": {},
   "source": [
    "### Library Imports"
   ]
  },
  {
   "cell_type": "code",
   "execution_count": 58,
   "metadata": {},
   "outputs": [],
   "source": [
    "import pandas as pd\n",
    "import numpy as np\n",
    "import scipy.stats\n",
    "import seaborn as sns\n",
    "import matplotlib.pyplot as plt\n",
    "import gseapy as gp\n",
    "from gseapy.plot import barplot, dotplot\n",
    "\n",
    "import warnings\n",
    "warnings.filterwarnings(\"ignore\")\n",
    "\n",
    "import cptac\n",
    "import cptac.utils as al"
   ]
  },
  {
   "cell_type": "code",
   "execution_count": 2,
   "metadata": {},
   "outputs": [
    {
     "name": "stdout",
     "output_type": "stream",
     "text": [
      "                                    \r"
     ]
    }
   ],
   "source": [
    "brain = cptac.Gbm()"
   ]
  },
  {
   "cell_type": "markdown",
   "metadata": {},
   "source": [
    "### Specify Gene"
   ]
  },
  {
   "cell_type": "code",
   "execution_count": 3,
   "metadata": {},
   "outputs": [],
   "source": [
    "gene = \"IDH1\""
   ]
  },
  {
   "cell_type": "markdown",
   "metadata": {},
   "source": [
    "# Transcriptomics: All Proteins"
   ]
  },
  {
   "cell_type": "code",
   "execution_count": 4,
   "metadata": {},
   "outputs": [
    {
     "name": "stdout",
     "output_type": "stream",
     "text": [
      "\n",
      "Gene:  IDH1\n"
     ]
    },
    {
     "name": "stderr",
     "output_type": "stream",
     "text": [
      "Warning: In joining the somatic_mutation table, no mutations were found for the following samples, so they were filled with Wildtype_Tumor or Wildtype_Normal: 101 samples for the IDH1 gene (C:\\Users\\brittany henderson\\Anaconda3\\envs\\Research\\lib\\site-packages\\ipykernel_launcher.py, line 9)\n"
     ]
    },
    {
     "name": "stdout",
     "output_type": "stream",
     "text": [
      "Doing t-test comparisons\n",
      "\n",
      "459 significant comparisons!\n",
      "Number of comparisons: 60482\n",
      "Bonferroni cutoff =  8.266922390132602e-07\n",
      "Logged Bonferroni cutoff =  -6.0826561395096865\n"
     ]
    }
   ],
   "source": [
    "transcrpt = \"transcriptomics\"\n",
    "\n",
    "try:\n",
    "    print(\"\\nGene: \", gene)\n",
    "\n",
    "    #Use all proteins\n",
    "\n",
    "    #Create dataframe in order to do comparisons with wrap_ttest\n",
    "    transcrpt_df = brain.join_omics_to_mutations(mutations_genes=[gene], omics_df_name=transcrpt)\n",
    "    transcrpt_df = brain.reduce_multiindex(transcrpt_df, flatten=True)\n",
    "    transcrpt_df = transcrpt_df[transcrpt_df.Sample_Status == 'Tumor'] # drop Normal samples\n",
    "    #Remove Cis interactions \n",
    "    transcrpt_df = transcrpt_df.loc[:,~transcrpt_df.columns.str.contains(gene+'_transcriptomics')] # change for each gene \n",
    "    transcrpt_df = transcrpt_df.dropna(axis=1, how='all') # drop columns with all NaN data\n",
    "    \n",
    "    #Create the binary valued column needed to do the comparison\n",
    "    for ind, row in transcrpt_df.iterrows():\n",
    "        if row[gene+\"_Mutation_Status\"] != 'Wildtype_Tumor':\n",
    "            transcrpt_df.at[ind,'Label'] = 'Mutated'\n",
    "        else:\n",
    "            transcrpt_df.at[ind,'Label'] = 'Wildtype'\n",
    "\n",
    "    #Format the datafram correctly\n",
    "    transcrpt_df = transcrpt_df.drop(gene+\"_Mutation\",axis=1)\n",
    "    transcrpt_df = transcrpt_df.drop(gene+\"_Location\",axis=1)\n",
    "    transcrpt_df = transcrpt_df.drop(gene+\"_Mutation_Status\", axis=1)\n",
    "    transcrpt_df = transcrpt_df.drop(\"Sample_Status\",axis=1)\n",
    "\n",
    "    #Make list of columns to be compared using t-tests\n",
    "    t_col_list = list(transcrpt_df.columns)\n",
    "    t_col_list.remove('Label')\n",
    "\n",
    "    print(\"Doing t-test comparisons\\n\")\n",
    "    \n",
    "    #Call wrap_ttest, pass in formatted dataframe\n",
    "    transcrpt_all_comparisons = al.wrap_ttest(transcrpt_df, 'Label', t_col_list, return_all=True)\n",
    "\n",
    "    t_num_comparisons = len(t_col_list)\n",
    "    print(\"Number of comparisons:\", t_num_comparisons)\n",
    "    t_bonferroni_cutoff = .05 / t_num_comparisons\n",
    "    print(\"Bonferroni cutoff = \", t_bonferroni_cutoff)\n",
    "    print(\"Logged Bonferroni cutoff = \", np.log10(t_bonferroni_cutoff))\n",
    "\n",
    "except Exception as e:\n",
    "    print(\"Error in Comparison\")\n",
    "    print(e)"
   ]
  },
  {
   "cell_type": "markdown",
   "metadata": {},
   "source": [
    "Transcriptomics: Print Significant Comparisons"
   ]
  },
  {
   "cell_type": "code",
   "execution_count": 5,
   "metadata": {},
   "outputs": [
    {
     "name": "stdout",
     "output_type": "stream",
     "text": [
      "Number of significant comparisons for Transcriptomics:  459\n"
     ]
    },
    {
     "data": {
      "text/html": [
       "<div>\n",
       "<style scoped>\n",
       "    .dataframe tbody tr th:only-of-type {\n",
       "        vertical-align: middle;\n",
       "    }\n",
       "\n",
       "    .dataframe tbody tr th {\n",
       "        vertical-align: top;\n",
       "    }\n",
       "\n",
       "    .dataframe thead th {\n",
       "        text-align: right;\n",
       "    }\n",
       "</style>\n",
       "<table border=\"1\" class=\"dataframe\">\n",
       "  <thead>\n",
       "    <tr style=\"text-align: right;\">\n",
       "      <th></th>\n",
       "      <th>Comparison</th>\n",
       "      <th>P_Value</th>\n",
       "    </tr>\n",
       "  </thead>\n",
       "  <tbody>\n",
       "    <tr>\n",
       "      <td>0</td>\n",
       "      <td>RP11-168O22.1_transcriptomics_ENSG00000236744.2</td>\n",
       "      <td>1.676259e-22</td>\n",
       "    </tr>\n",
       "    <tr>\n",
       "      <td>1</td>\n",
       "      <td>RP11-264A11.1_transcriptomics_ENSG00000236958.1</td>\n",
       "      <td>4.112785e-20</td>\n",
       "    </tr>\n",
       "    <tr>\n",
       "      <td>2</td>\n",
       "      <td>FREM3_transcriptomics_ENSG00000183090.5</td>\n",
       "      <td>3.834287e-19</td>\n",
       "    </tr>\n",
       "    <tr>\n",
       "      <td>3</td>\n",
       "      <td>OR4N2_transcriptomics_ENSG00000176294.4</td>\n",
       "      <td>5.047973e-18</td>\n",
       "    </tr>\n",
       "    <tr>\n",
       "      <td>4</td>\n",
       "      <td>OR4K6P_transcriptomics_ENSG00000228304.1</td>\n",
       "      <td>8.123690e-18</td>\n",
       "    </tr>\n",
       "    <tr>\n",
       "      <td>...</td>\n",
       "      <td>...</td>\n",
       "      <td>...</td>\n",
       "    </tr>\n",
       "    <tr>\n",
       "      <td>454</td>\n",
       "      <td>RP11-46C24.7_transcriptomics_ENSG00000259877.2</td>\n",
       "      <td>7.915440e-07</td>\n",
       "    </tr>\n",
       "    <tr>\n",
       "      <td>455</td>\n",
       "      <td>LINC00693_transcriptomics_ENSG00000228214.5</td>\n",
       "      <td>7.943545e-07</td>\n",
       "    </tr>\n",
       "    <tr>\n",
       "      <td>456</td>\n",
       "      <td>RP4-635E18.7_transcriptomics_ENSG00000226849.1</td>\n",
       "      <td>8.025414e-07</td>\n",
       "    </tr>\n",
       "    <tr>\n",
       "      <td>457</td>\n",
       "      <td>AC000095.9_transcriptomics_ENSG00000270393.1</td>\n",
       "      <td>8.045376e-07</td>\n",
       "    </tr>\n",
       "    <tr>\n",
       "      <td>458</td>\n",
       "      <td>GS1-124K5.13_transcriptomics_ENSG00000279785.1</td>\n",
       "      <td>8.100096e-07</td>\n",
       "    </tr>\n",
       "  </tbody>\n",
       "</table>\n",
       "<p>459 rows × 2 columns</p>\n",
       "</div>"
      ],
      "text/plain": [
       "                                          Comparison       P_Value\n",
       "0    RP11-168O22.1_transcriptomics_ENSG00000236744.2  1.676259e-22\n",
       "1    RP11-264A11.1_transcriptomics_ENSG00000236958.1  4.112785e-20\n",
       "2            FREM3_transcriptomics_ENSG00000183090.5  3.834287e-19\n",
       "3            OR4N2_transcriptomics_ENSG00000176294.4  5.047973e-18\n",
       "4           OR4K6P_transcriptomics_ENSG00000228304.1  8.123690e-18\n",
       "..                                               ...           ...\n",
       "454   RP11-46C24.7_transcriptomics_ENSG00000259877.2  7.915440e-07\n",
       "455      LINC00693_transcriptomics_ENSG00000228214.5  7.943545e-07\n",
       "456   RP4-635E18.7_transcriptomics_ENSG00000226849.1  8.025414e-07\n",
       "457     AC000095.9_transcriptomics_ENSG00000270393.1  8.045376e-07\n",
       "458   GS1-124K5.13_transcriptomics_ENSG00000279785.1  8.100096e-07\n",
       "\n",
       "[459 rows x 2 columns]"
      ]
     },
     "execution_count": 5,
     "metadata": {},
     "output_type": "execute_result"
    }
   ],
   "source": [
    "transcrpt_all_comparisons = transcrpt_all_comparisons.dropna(axis=0)\n",
    "transcrpt_sig_comparisons = transcrpt_all_comparisons.loc[transcrpt_all_comparisons['P_Value'] <= t_bonferroni_cutoff]\n",
    "print(\"Number of significant comparisons for Transcriptomics: \", len(transcrpt_sig_comparisons))\n",
    "transcrpt_sig_comparisons"
   ]
  },
  {
   "cell_type": "markdown",
   "metadata": {},
   "source": [
    "Transcriptomics: Histogram for all proteins"
   ]
  },
  {
   "cell_type": "code",
   "execution_count": 6,
   "metadata": {},
   "outputs": [
    {
     "data": {
      "image/png": "[encoded data removed]",
      "text/plain": [
       "<Figure size 720x576 with 1 Axes>"
      ]
     },
     "metadata": {},
     "output_type": "display_data"
    }
   ],
   "source": [
    "# Create series of p-values for Histogram\n",
    "transcrpt_pval_series = transcrpt_all_comparisons['P_Value']\n",
    "\n",
    "# Format figure size and font\n",
    "plt.rcParams['figure.figsize']=(10,8)\n",
    "sns.set(font_scale = 1.3)\n",
    "\n",
    "# Create log scale for the x-axis\n",
    "plt.xscale('log')\n",
    "t_log_min, t_log_max = np.log10(transcrpt_pval_series.min()), np.log10(transcrpt_pval_series.max())\n",
    "t_bins = np.logspace(t_log_min - 1, t_log_max, 100) # change bin number here\n",
    "histogram = sns.distplot(transcrpt_pval_series, bins = t_bins, kde=False, color='navy') \n",
    "\n",
    "# Format title and axis\n",
    "histogram.set_title(\"P_Value Distribution for \"+gene+\" trans Transcriptomics\")\n",
    "histogram.set(ylabel = 'Number of Proteins')\n",
    "#plt.xlim([10e-9,10e-1])\n",
    "#plt.ylim([0, 3500]) # change y-axis range\n",
    "\n",
    "# Graph cutoffs: alpha = green, bonferroni = red\n",
    "plt.axvline(t_bonferroni_cutoff, 0, 0.95, linewidth=2, color='r')\n",
    "plt.axvline(0.05, 0, 0.95, linewidth=2, color='g')\n",
    "\n",
    "plt.show()\n",
    "plt.clf()\n",
    "plt.close()"
   ]
  },
  {
   "cell_type": "markdown",
   "metadata": {},
   "source": [
    "Transcriptomics zoomed in"
   ]
  },
  {
   "cell_type": "code",
   "execution_count": 7,
   "metadata": {},
   "outputs": [
    {
     "data": {
      "image/png": "[encoded data removed]",
      "text/plain": [
       "<Figure size 720x576 with 1 Axes>"
      ]
     },
     "metadata": {},
     "output_type": "display_data"
    }
   ],
   "source": [
    "# Select p-values within range 0 - end_value \n",
    "t_end_value = 0.01\n",
    "transcrpt_zoomed = transcrpt_pval_series.loc[transcrpt_pval_series <= t_end_value]\n",
    "\n",
    "# Format size of figure and font\n",
    "plt.rcParams['figure.figsize']=(10,8)\n",
    "sns.set(font_scale = 1.3)\n",
    "\n",
    "# Create log scale for the x-axis\n",
    "plt.xscale('log')\n",
    "t_zoomed_log_min, t_zoomed_log_max = np.log10(transcrpt_zoomed.min()),np.log10(transcrpt_zoomed.max())\n",
    "t_zoomed_bins = np.logspace(t_zoomed_log_min - 1, t_zoomed_log_max, 100) # change this number for more or less bins\n",
    "histogram = sns.distplot(transcrpt_zoomed, bins=t_zoomed_bins, kde=False, color='teal')\n",
    "\n",
    "# Format title and axis\n",
    "histogram.set_title(\"P_Value Distribution for \"+gene+\" trans Transcriptomics (P_Value < \" + str(t_end_value) + \")\")\n",
    "histogram.set(ylabel = 'Number of Proteins')\n",
    "plt.xlim([10e-23,10e-3])\n",
    "#plt.ylim([0.0,400]) # change y axis intervals\n",
    "\n",
    "# Create bonferroni cutoff line \n",
    "plt.axvline(t_bonferroni_cutoff, 0, .95, linewidth=2, color='r') # cutoff line parameters: (cutoff, 0, height)\n",
    "\n",
    "plt.show()\n",
    "plt.clf()\n",
    "plt.close()"
   ]
  },
  {
   "cell_type": "code",
   "execution_count": 46,
   "metadata": {},
   "outputs": [
    {
     "name": "stdout",
     "output_type": "stream",
     "text": [
      "Number of Transcriptomics comparisons for gsea:  459\n"
     ]
    },
    {
     "name": "stderr",
     "output_type": "stream",
     "text": [
      "2019-10-02 10:06:59,351 Warning: No enrich terms using library KEGG_2016 when cutoff = 0.05\n"
     ]
    },
    {
     "data": {
      "text/html": [
       "<div>\n",
       "<style scoped>\n",
       "    .dataframe tbody tr th:only-of-type {\n",
       "        vertical-align: middle;\n",
       "    }\n",
       "\n",
       "    .dataframe tbody tr th {\n",
       "        vertical-align: top;\n",
       "    }\n",
       "\n",
       "    .dataframe thead th {\n",
       "        text-align: right;\n",
       "    }\n",
       "</style>\n",
       "<table border=\"1\" class=\"dataframe\">\n",
       "  <thead>\n",
       "    <tr style=\"text-align: right;\">\n",
       "      <th></th>\n",
       "      <th>Term</th>\n",
       "      <th>Overlap</th>\n",
       "      <th>P-value</th>\n",
       "      <th>Adjusted P-value</th>\n",
       "      <th>Old P-value</th>\n",
       "      <th>Old Adjusted P-value</th>\n",
       "      <th>Odds Ratio</th>\n",
       "      <th>Combined Score</th>\n",
       "      <th>Genes</th>\n",
       "      <th>Gene_set</th>\n",
       "    </tr>\n",
       "  </thead>\n",
       "  <tbody>\n",
       "    <tr>\n",
       "      <td>0</td>\n",
       "      <td>Notch signaling pathway_Homo sapiens_hsa04330</td>\n",
       "      <td>3/48</td>\n",
       "      <td>0.036999</td>\n",
       "      <td>1.0</td>\n",
       "      <td>0</td>\n",
       "      <td>0</td>\n",
       "      <td>4.084967</td>\n",
       "      <td>13.467619</td>\n",
       "      <td>MAML2;DLL1;DLL3</td>\n",
       "      <td>KEGG_2016</td>\n",
       "    </tr>\n",
       "    <tr>\n",
       "      <td>1</td>\n",
       "      <td>TGF-beta signaling pathway_Homo sapiens_hsa04350</td>\n",
       "      <td>4/84</td>\n",
       "      <td>0.039990</td>\n",
       "      <td>1.0</td>\n",
       "      <td>0</td>\n",
       "      <td>0</td>\n",
       "      <td>3.112356</td>\n",
       "      <td>10.019093</td>\n",
       "      <td>BMP2;NOG;ID4;BMPR1A</td>\n",
       "      <td>KEGG_2016</td>\n",
       "    </tr>\n",
       "    <tr>\n",
       "      <td>2</td>\n",
       "      <td>Dopaminergic synapse_Homo sapiens_hsa04728</td>\n",
       "      <td>5/129</td>\n",
       "      <td>0.048369</td>\n",
       "      <td>1.0</td>\n",
       "      <td>0</td>\n",
       "      <td>0</td>\n",
       "      <td>2.533313</td>\n",
       "      <td>7.673166</td>\n",
       "      <td>MAPK8;CACNA1A;PPP2R5A;PLCB1;GRIA4</td>\n",
       "      <td>KEGG_2016</td>\n",
       "    </tr>\n",
       "    <tr>\n",
       "      <td>3</td>\n",
       "      <td>Retrograde endocannabinoid signaling_Homo sapi...</td>\n",
       "      <td>4/101</td>\n",
       "      <td>0.069497</td>\n",
       "      <td>1.0</td>\n",
       "      <td>0</td>\n",
       "      <td>0</td>\n",
       "      <td>2.588494</td>\n",
       "      <td>6.902151</td>\n",
       "      <td>MAPK8;CACNA1A;PLCB1;GRIA4</td>\n",
       "      <td>KEGG_2016</td>\n",
       "    </tr>\n",
       "    <tr>\n",
       "      <td>4</td>\n",
       "      <td>Glutamatergic synapse_Homo sapiens_hsa04724</td>\n",
       "      <td>4/114</td>\n",
       "      <td>0.097848</td>\n",
       "      <td>1.0</td>\n",
       "      <td>0</td>\n",
       "      <td>0</td>\n",
       "      <td>2.293315</td>\n",
       "      <td>5.330442</td>\n",
       "      <td>CACNA1A;DLGAP1;PLCB1;GRIA4</td>\n",
       "      <td>KEGG_2016</td>\n",
       "    </tr>\n",
       "  </tbody>\n",
       "</table>\n",
       "</div>"
      ],
      "text/plain": [
       "                                                Term Overlap   P-value  \\\n",
       "0      Notch signaling pathway_Homo sapiens_hsa04330    3/48  0.036999   \n",
       "1   TGF-beta signaling pathway_Homo sapiens_hsa04350    4/84  0.039990   \n",
       "2         Dopaminergic synapse_Homo sapiens_hsa04728   5/129  0.048369   \n",
       "3  Retrograde endocannabinoid signaling_Homo sapi...   4/101  0.069497   \n",
       "4        Glutamatergic synapse_Homo sapiens_hsa04724   4/114  0.097848   \n",
       "\n",
       "   Adjusted P-value  Old P-value  Old Adjusted P-value  Odds Ratio  \\\n",
       "0               1.0            0                     0    4.084967   \n",
       "1               1.0            0                     0    3.112356   \n",
       "2               1.0            0                     0    2.533313   \n",
       "3               1.0            0                     0    2.588494   \n",
       "4               1.0            0                     0    2.293315   \n",
       "\n",
       "   Combined Score                              Genes   Gene_set  \n",
       "0       13.467619                    MAML2;DLL1;DLL3  KEGG_2016  \n",
       "1       10.019093                BMP2;NOG;ID4;BMPR1A  KEGG_2016  \n",
       "2        7.673166  MAPK8;CACNA1A;PPP2R5A;PLCB1;GRIA4  KEGG_2016  \n",
       "3        6.902151          MAPK8;CACNA1A;PLCB1;GRIA4  KEGG_2016  \n",
       "4        5.330442         CACNA1A;DLGAP1;PLCB1;GRIA4  KEGG_2016  "
      ]
     },
     "execution_count": 46,
     "metadata": {},
     "output_type": "execute_result"
    }
   ],
   "source": [
    "# Gene set enrichment analysis\n",
    "t_extended_cutoff = t_bonferroni_cutoff\n",
    "t_gsea = transcrpt_all_comparisons.loc[transcrpt_all_comparisons['P_Value'] <= t_extended_cutoff]\n",
    "print(\"Number of Transcriptomics comparisons for gsea: \", len(t_gsea))\n",
    "\n",
    "# create gene list\n",
    "t_genes = t_gsea['Comparison']\n",
    "t_genes.replace(to_replace = '_transcriptomics.*$', value = '', \n",
    "                        inplace = True, regex = True) # shorten column names\n",
    "t_genes.replace(to_replace = '-.*$', value = '', \n",
    "                        inplace = True, regex = True) # shorten column names\n",
    "t_genes_list = list(t_genes)\n",
    "\n",
    "t_enr = gp.enrichr(gene_list = t_genes_list, description='Transcriptomics_Comparisons', gene_sets='KEGG_2016', \n",
    "                       outdir='Enrichment Analysis')\n",
    "\n",
    "t_enr.res2d.head()"
   ]
  },
  {
   "cell_type": "code",
   "execution_count": 67,
   "metadata": {},
   "outputs": [],
   "source": [
    "barplot(t_enr.res2d,title=\"Transcriptomics\")\n",
    "plt.show()\n",
    "# FIX!"
   ]
  },
  {
   "cell_type": "markdown",
   "metadata": {},
   "source": [
    "# Proteomics: All Proteins"
   ]
  },
  {
   "cell_type": "code",
   "execution_count": 8,
   "metadata": {},
   "outputs": [
    {
     "name": "stdout",
     "output_type": "stream",
     "text": [
      "\n",
      "Gene:  IDH1\n"
     ]
    },
    {
     "name": "stderr",
     "output_type": "stream",
     "text": [
      "Warning: In joining the somatic_mutation table, no mutations were found for the following samples, so they were filled with Wildtype_Tumor or Wildtype_Normal: 102 samples for the IDH1 gene (C:\\Users\\brittany henderson\\Anaconda3\\envs\\Research\\lib\\site-packages\\ipykernel_launcher.py, line 9)\n",
      "Warning: You tried to flatten an index that didn't have multiple levels, so we didn't actually change anything. (C:\\Users\\brittany henderson\\Anaconda3\\envs\\Research\\lib\\site-packages\\ipykernel_launcher.py, line 10)\n"
     ]
    },
    {
     "name": "stdout",
     "output_type": "stream",
     "text": [
      "Doing t-test comparisons\n",
      "\n",
      "10 significant comparisons!\n",
      "Number of comparisons: 11140\n",
      "Bonferroni cutoff =  4.4883303411131066e-06\n",
      "Logged Bonferroni cutoff =  -5.347915186501691\n"
     ]
    }
   ],
   "source": [
    "prot = \"proteomics\"\n",
    "\n",
    "try:\n",
    "    print(\"\\nGene: \", gene)\n",
    "\n",
    "    #Use all proteins\n",
    "\n",
    "    #Create dataframe in order to do comparisons with wrap_ttest\n",
    "    protdf = brain.join_omics_to_mutations(mutations_genes=[gene], omics_df_name=prot)\n",
    "    protdf = brain.reduce_multiindex(protdf, flatten=True)\n",
    "    protdf = protdf[protdf.Sample_Status == 'Tumor'] # drop Normal samples\n",
    "    \n",
    "    #Remove Cis interactions \n",
    "    protdf = protdf.drop(columns = gene+\"_proteomics\") # change for each gene \n",
    "    protdf = protdf.dropna(axis=1, how='all') # drop columns with all NaN data\n",
    "    \n",
    "    #Create the binary valued column needed to do the comparison\n",
    "    for ind, row in protdf.iterrows():\n",
    "        if row[gene+\"_Mutation_Status\"] != 'Wildtype_Tumor':\n",
    "            protdf.at[ind,'Label'] = 'Mutated'\n",
    "        else:\n",
    "            protdf.at[ind,'Label'] = 'Wildtype'\n",
    "\n",
    "    #Format the datafram correctly\n",
    "    protdf = protdf.drop(gene+\"_Mutation\",axis=1)\n",
    "    protdf = protdf.drop(gene+\"_Location\",axis=1)\n",
    "    protdf = protdf.drop(gene+\"_Mutation_Status\", axis=1)\n",
    "    protdf = protdf.drop(\"Sample_Status\",axis=1)\n",
    "\n",
    "    #Make list of columns to be compared using t-tests\n",
    "    prot_col_list = list(protdf.columns)\n",
    "    prot_col_list.remove('Label')\n",
    "\n",
    "    print(\"Doing t-test comparisons\\n\")\n",
    "    \n",
    "    #Call wrap_ttest, pass in formatted dataframe\n",
    "    prot_all_comparisons = al.wrap_ttest(protdf, 'Label', prot_col_list, return_all=True)\n",
    "\n",
    "    prot_num_comparisons = len(prot_col_list)\n",
    "    print(\"Number of comparisons:\", prot_num_comparisons)\n",
    "    prot_bonferroni_cutoff = .05 / prot_num_comparisons\n",
    "    print(\"Bonferroni cutoff = \", prot_bonferroni_cutoff)\n",
    "    print(\"Logged Bonferroni cutoff = \", np.log10(prot_bonferroni_cutoff))\n",
    "\n",
    "\n",
    "except Exception as e:\n",
    "    print(\"Error in Comparison\")\n",
    "    print(e)"
   ]
  },
  {
   "cell_type": "markdown",
   "metadata": {},
   "source": [
    "Print Significant Comparisons"
   ]
  },
  {
   "cell_type": "code",
   "execution_count": 9,
   "metadata": {},
   "outputs": [
    {
     "name": "stdout",
     "output_type": "stream",
     "text": [
      "Number of significant Proteomics comparisons:  10\n"
     ]
    },
    {
     "data": {
      "text/html": [
       "<div>\n",
       "<style scoped>\n",
       "    .dataframe tbody tr th:only-of-type {\n",
       "        vertical-align: middle;\n",
       "    }\n",
       "\n",
       "    .dataframe tbody tr th {\n",
       "        vertical-align: top;\n",
       "    }\n",
       "\n",
       "    .dataframe thead th {\n",
       "        text-align: right;\n",
       "    }\n",
       "</style>\n",
       "<table border=\"1\" class=\"dataframe\">\n",
       "  <thead>\n",
       "    <tr style=\"text-align: right;\">\n",
       "      <th></th>\n",
       "      <th>Comparison</th>\n",
       "      <th>P_Value</th>\n",
       "    </tr>\n",
       "  </thead>\n",
       "  <tbody>\n",
       "    <tr>\n",
       "      <td>0</td>\n",
       "      <td>TRIP4_proteomics</td>\n",
       "      <td>4.666963e-09</td>\n",
       "    </tr>\n",
       "    <tr>\n",
       "      <td>1</td>\n",
       "      <td>MSN_proteomics</td>\n",
       "      <td>9.346782e-08</td>\n",
       "    </tr>\n",
       "    <tr>\n",
       "      <td>2</td>\n",
       "      <td>C9orf64_proteomics</td>\n",
       "      <td>1.009256e-07</td>\n",
       "    </tr>\n",
       "    <tr>\n",
       "      <td>3</td>\n",
       "      <td>TAGLN2_proteomics</td>\n",
       "      <td>1.406284e-07</td>\n",
       "    </tr>\n",
       "    <tr>\n",
       "      <td>4</td>\n",
       "      <td>SWAP70_proteomics</td>\n",
       "      <td>1.524854e-07</td>\n",
       "    </tr>\n",
       "    <tr>\n",
       "      <td>5</td>\n",
       "      <td>NPEPL1_proteomics</td>\n",
       "      <td>2.080008e-07</td>\n",
       "    </tr>\n",
       "    <tr>\n",
       "      <td>6</td>\n",
       "      <td>KCND2_proteomics</td>\n",
       "      <td>1.264020e-06</td>\n",
       "    </tr>\n",
       "    <tr>\n",
       "      <td>7</td>\n",
       "      <td>OPHN1_proteomics</td>\n",
       "      <td>2.038452e-06</td>\n",
       "    </tr>\n",
       "    <tr>\n",
       "      <td>8</td>\n",
       "      <td>RBP1_proteomics</td>\n",
       "      <td>2.444656e-06</td>\n",
       "    </tr>\n",
       "    <tr>\n",
       "      <td>9</td>\n",
       "      <td>CPQ_proteomics</td>\n",
       "      <td>3.410150e-06</td>\n",
       "    </tr>\n",
       "  </tbody>\n",
       "</table>\n",
       "</div>"
      ],
      "text/plain": [
       "           Comparison       P_Value\n",
       "0    TRIP4_proteomics  4.666963e-09\n",
       "1      MSN_proteomics  9.346782e-08\n",
       "2  C9orf64_proteomics  1.009256e-07\n",
       "3   TAGLN2_proteomics  1.406284e-07\n",
       "4   SWAP70_proteomics  1.524854e-07\n",
       "5   NPEPL1_proteomics  2.080008e-07\n",
       "6    KCND2_proteomics  1.264020e-06\n",
       "7    OPHN1_proteomics  2.038452e-06\n",
       "8     RBP1_proteomics  2.444656e-06\n",
       "9      CPQ_proteomics  3.410150e-06"
      ]
     },
     "execution_count": 9,
     "metadata": {},
     "output_type": "execute_result"
    }
   ],
   "source": [
    "prot_all_comparisons = prot_all_comparisons.dropna(axis=0)\n",
    "prot_sig_comparisons = prot_all_comparisons.loc[prot_all_comparisons['P_Value'] <= prot_bonferroni_cutoff]\n",
    "print(\"Number of significant Proteomics comparisons: \", len(prot_sig_comparisons))\n",
    "prot_sig_comparisons"
   ]
  },
  {
   "cell_type": "markdown",
   "metadata": {},
   "source": [
    "Proteomics Histograms "
   ]
  },
  {
   "cell_type": "code",
   "execution_count": 10,
   "metadata": {},
   "outputs": [
    {
     "data": {
      "image/png": "[encoded data removed]",
      "text/plain": [
       "<Figure size 720x576 with 1 Axes>"
      ]
     },
     "metadata": {},
     "output_type": "display_data"
    }
   ],
   "source": [
    "# Create series of p-values for Histogram\n",
    "prot_pval_series = prot_all_comparisons['P_Value']\n",
    "\n",
    "# Format figure size and font\n",
    "plt.rcParams['figure.figsize']=(10,8)\n",
    "sns.set(font_scale = 1.3)\n",
    "\n",
    "# Create log scale for the x-axis\n",
    "plt.xscale('log')\n",
    "prot_log_min, prot_log_max = np.log10(prot_pval_series.min()), np.log10(prot_pval_series.max())\n",
    "prot_bins = np.logspace(prot_log_min - 1, prot_log_max, 100) # change bin number here\n",
    "histogram = sns.distplot(prot_pval_series, bins = prot_bins, kde=False, color='navy') # bins 100 \n",
    "\n",
    "# Format title and axis\n",
    "histogram.set_title(\"P_Value Distribution for \"+gene+\" trans Proteomics for All Proteins\")\n",
    "histogram.set(ylabel = 'Number of Proteins')\n",
    "#plt.xlim([10e-8,10e-1]) # change x-axis range\n",
    "#plt.ylim([0, 3500]) # change y-axis range\n",
    "\n",
    "# Graph cutoffs: alpha = green, bonferroni = red\n",
    "plt.axvline(prot_bonferroni_cutoff, 0, 0.95, linewidth=2, color='r')\n",
    "plt.axvline(0.05, 0, 0.95, linewidth=2, color='g')\n",
    "\n",
    "plt.show()\n",
    "plt.clf()\n",
    "plt.close()"
   ]
  },
  {
   "cell_type": "markdown",
   "metadata": {},
   "source": [
    "Proteomics zoomed in "
   ]
  },
  {
   "cell_type": "code",
   "execution_count": 11,
   "metadata": {},
   "outputs": [
    {
     "data": {
      "image/png": "[encoded data removed]",
      "text/plain": [
       "<Figure size 720x576 with 1 Axes>"
      ]
     },
     "metadata": {},
     "output_type": "display_data"
    }
   ],
   "source": [
    "prot_all_comparisons = prot_all_comparisons.dropna(axis=0)\n",
    "prot_sig_comparisons = prot_all_comparisons.loc[prot_all_comparisons['P_Value'] <= prot_bonferroni_cutoff]\n",
    "print(\"Number of significant Proteomics comparisons: \", len(prot_sig_comparisons))\n",
    "prot_sig_comparisons"
   ]
  },
  {
   "cell_type": "code",
   "execution_count": 50,
   "metadata": {},
   "outputs": [
    {
     "name": "stdout",
     "output_type": "stream",
     "text": [
      "Number of Proteomics comparisons for gsea:  31\n"
     ]
    },
    {
     "name": "stderr",
     "output_type": "stream",
     "text": [
      "2019-10-02 10:10:03,321 Warning: No enrich terms using library KEGG_2016 when cutoff = 0.05\n"
     ]
    },
    {
     "data": {
      "text/html": [
       "<div>\n",
       "<style scoped>\n",
       "    .dataframe tbody tr th:only-of-type {\n",
       "        vertical-align: middle;\n",
       "    }\n",
       "\n",
       "    .dataframe tbody tr th {\n",
       "        vertical-align: top;\n",
       "    }\n",
       "\n",
       "    .dataframe thead th {\n",
       "        text-align: right;\n",
       "    }\n",
       "</style>\n",
       "<table border=\"1\" class=\"dataframe\">\n",
       "  <thead>\n",
       "    <tr style=\"text-align: right;\">\n",
       "      <th></th>\n",
       "      <th>Term</th>\n",
       "      <th>Overlap</th>\n",
       "      <th>P-value</th>\n",
       "      <th>Adjusted P-value</th>\n",
       "      <th>Old P-value</th>\n",
       "      <th>Old Adjusted P-value</th>\n",
       "      <th>Odds Ratio</th>\n",
       "      <th>Combined Score</th>\n",
       "      <th>Genes</th>\n",
       "      <th>Gene_set</th>\n",
       "    </tr>\n",
       "  </thead>\n",
       "  <tbody>\n",
       "    <tr>\n",
       "      <td>0</td>\n",
       "      <td>Vascular smooth muscle contraction_Homo sapien...</td>\n",
       "      <td>2/120</td>\n",
       "      <td>0.014819</td>\n",
       "      <td>1.0</td>\n",
       "      <td>0</td>\n",
       "      <td>0</td>\n",
       "      <td>10.752688</td>\n",
       "      <td>45.288676</td>\n",
       "      <td>CALCRL;RAMP1</td>\n",
       "      <td>KEGG_2016</td>\n",
       "    </tr>\n",
       "    <tr>\n",
       "      <td>1</td>\n",
       "      <td>Measles_Homo sapiens_hsa05162</td>\n",
       "      <td>2/136</td>\n",
       "      <td>0.018764</td>\n",
       "      <td>1.0</td>\n",
       "      <td>0</td>\n",
       "      <td>0</td>\n",
       "      <td>9.487666</td>\n",
       "      <td>37.721442</td>\n",
       "      <td>MSN;JAK1</td>\n",
       "      <td>KEGG_2016</td>\n",
       "    </tr>\n",
       "    <tr>\n",
       "      <td>2</td>\n",
       "      <td>Primary bile acid biosynthesis_Homo sapiens_hs...</td>\n",
       "      <td>1/17</td>\n",
       "      <td>0.026036</td>\n",
       "      <td>1.0</td>\n",
       "      <td>0</td>\n",
       "      <td>0</td>\n",
       "      <td>37.950664</td>\n",
       "      <td>138.454620</td>\n",
       "      <td>CYP27A1</td>\n",
       "      <td>KEGG_2016</td>\n",
       "    </tr>\n",
       "    <tr>\n",
       "      <td>3</td>\n",
       "      <td>Purine metabolism_Homo sapiens_hsa00230</td>\n",
       "      <td>2/176</td>\n",
       "      <td>0.030298</td>\n",
       "      <td>1.0</td>\n",
       "      <td>0</td>\n",
       "      <td>0</td>\n",
       "      <td>7.331378</td>\n",
       "      <td>25.635426</td>\n",
       "      <td>POLR1D;ADK</td>\n",
       "      <td>KEGG_2016</td>\n",
       "    </tr>\n",
       "    <tr>\n",
       "      <td>4</td>\n",
       "      <td>Epstein-Barr virus infection_Homo sapiens_hsa0...</td>\n",
       "      <td>2/202</td>\n",
       "      <td>0.038964</td>\n",
       "      <td>1.0</td>\n",
       "      <td>0</td>\n",
       "      <td>0</td>\n",
       "      <td>6.387736</td>\n",
       "      <td>20.728883</td>\n",
       "      <td>POLR1D;JAK1</td>\n",
       "      <td>KEGG_2016</td>\n",
       "    </tr>\n",
       "  </tbody>\n",
       "</table>\n",
       "</div>"
      ],
      "text/plain": [
       "                                                Term Overlap   P-value  \\\n",
       "0  Vascular smooth muscle contraction_Homo sapien...   2/120  0.014819   \n",
       "1                      Measles_Homo sapiens_hsa05162   2/136  0.018764   \n",
       "2  Primary bile acid biosynthesis_Homo sapiens_hs...    1/17  0.026036   \n",
       "3            Purine metabolism_Homo sapiens_hsa00230   2/176  0.030298   \n",
       "4  Epstein-Barr virus infection_Homo sapiens_hsa0...   2/202  0.038964   \n",
       "\n",
       "   Adjusted P-value  Old P-value  Old Adjusted P-value  Odds Ratio  \\\n",
       "0               1.0            0                     0   10.752688   \n",
       "1               1.0            0                     0    9.487666   \n",
       "2               1.0            0                     0   37.950664   \n",
       "3               1.0            0                     0    7.331378   \n",
       "4               1.0            0                     0    6.387736   \n",
       "\n",
       "   Combined Score         Genes   Gene_set  \n",
       "0       45.288676  CALCRL;RAMP1  KEGG_2016  \n",
       "1       37.721442      MSN;JAK1  KEGG_2016  \n",
       "2      138.454620       CYP27A1  KEGG_2016  \n",
       "3       25.635426    POLR1D;ADK  KEGG_2016  \n",
       "4       20.728883   POLR1D;JAK1  KEGG_2016  "
      ]
     },
     "execution_count": 50,
     "metadata": {},
     "output_type": "execute_result"
    }
   ],
   "source": [
    "# Gene set enrichment analysis\n",
    "prot_extended_cutoff = .00008\n",
    "prot_gsea = prot_all_comparisons.loc[prot_all_comparisons['P_Value'] <= prot_extended_cutoff]\n",
    "print(\"Number of Proteomics comparisons for gsea: \", len(prot_gsea))\n",
    "\n",
    "# create gene list\n",
    "prot_genes = prot_gsea['Comparison']\n",
    "prot_genes.replace(to_replace = '_proteomics', value = '', \n",
    "                        inplace = True, regex = True) # shorten column names\n",
    "prot_genes_list = list(prot_genes)\n",
    "\n",
    "prot_enr = gp.enrichr(gene_list = prot_genes_list, description='Proteomics_Comparisons', gene_sets='KEGG_2016', \n",
    "                       outdir='Enrichment Analysis')\n",
    "\n",
    "prot_enr.res2d.head()"
   ]
  },
  {
   "cell_type": "code",
   "execution_count": 69,
   "metadata": {},
   "outputs": [],
   "source": [
    "barplot(prot_enr.res2d,title=\"Proteomics\")\n",
    "plt.show()"
   ]
  },
  {
   "cell_type": "markdown",
   "metadata": {},
   "source": [
    "# Phosphoproteomics: All Proteins"
   ]
  },
  {
   "cell_type": "code",
   "execution_count": 12,
   "metadata": {},
   "outputs": [
    {
     "name": "stdout",
     "output_type": "stream",
     "text": [
      "\n",
      "Gene:  IDH1\n"
     ]
    },
    {
     "name": "stderr",
     "output_type": "stream",
     "text": [
      "Warning: In joining the somatic_mutation table, no mutations were found for the following samples, so they were filled with Wildtype_Tumor or Wildtype_Normal: 102 samples for the IDH1 gene (C:\\Users\\brittany henderson\\Anaconda3\\envs\\Research\\lib\\site-packages\\ipykernel_launcher.py, line 7)\n"
     ]
    },
    {
     "name": "stdout",
     "output_type": "stream",
     "text": [
      "Doing t-test comparisons\n",
      "\n",
      "1 significant comparisons!\n",
      "Number of comparisons: 101344\n",
      "Bonferroni cutoff =  4.933691190401011e-07\n",
      "Logged Bonferroni cutoff =  4.933691190401011e-07\n"
     ]
    }
   ],
   "source": [
    "phos = 'phosphoproteomics'\n",
    "\n",
    "try:\n",
    "    print(\"\\nGene: \", gene)\n",
    "\n",
    "    # Create dataframe in order to do comparisons with wrap_ttest\n",
    "    phosdf = brain.join_omics_to_mutations(mutations_genes=[gene], omics_df_name=phos)\n",
    "    phosdf = brain.reduce_multiindex(phosdf, flatten = True)\n",
    "    phosdf = phosdf.loc[phosdf['Sample_Status'] == 'Tumor']\n",
    "    \n",
    "    #Remove Cis interactions\n",
    "    phosdf = phosdf.loc[:,~phosdf.columns.str.contains(gene+'_phosphoproteomics')]\n",
    "    phosdf = phosdf.dropna(axis=1, how='all') # drop columns with all NaN data\n",
    "    \n",
    "    \n",
    "    # Create the binary valued column needed to do the comparison\n",
    "    for ind, row in phosdf.iterrows():\n",
    "        if row[gene+\"_Mutation_Status\"] != 'Wildtype_Tumor':\n",
    "            phosdf.at[ind,'Label'] = 'Mutated'\n",
    "        else:\n",
    "            phosdf.at[ind,'Label'] = 'Wildtype'\n",
    "\n",
    "    # Format the datafram correctly'''\n",
    "    phosdf = phosdf.drop(gene+\"_Mutation\",axis=1)\n",
    "    phosdf = phosdf.drop(gene+\"_Location\",axis=1)\n",
    "    phosdf = phosdf.drop(gene+\"_Mutation_Status\", axis=1)\n",
    "    phosdf = phosdf.drop(\"Sample_Status\",axis=1)\n",
    "\n",
    "    # Make list of columns to be compared using t-tests\n",
    "    phos_col_list = list(phosdf.columns)\n",
    "    phos_col_list.remove('Label')\n",
    "    \n",
    "    print(\"Doing t-test comparisons\\n\")\n",
    "    \n",
    "    #Call wrap_ttest, pass in formatted dataframe\n",
    "    phos_all_comparisons = al.wrap_ttest(phosdf, 'Label', phos_col_list, return_all=True)\n",
    "    \n",
    "    phos_num_comparisons = len(phos_col_list)\n",
    "    print(\"Number of comparisons:\", phos_num_comparisons)\n",
    "    phos_bonferroni_cutoff = .05 / phos_num_comparisons\n",
    "    print(\"Bonferroni cutoff = \", phos_bonferroni_cutoff)\n",
    "    print(\"Logged Bonferroni cutoff = \", phos_bonferroni_cutoff)\n",
    "            \n",
    "        \n",
    "except Exception as e:\n",
    "    print(\"Error in Comparison\")\n",
    "    print(e)"
   ]
  },
  {
   "cell_type": "markdown",
   "metadata": {},
   "source": [
    "Print Significant Comparisons"
   ]
  },
  {
   "cell_type": "code",
   "execution_count": 13,
   "metadata": {},
   "outputs": [
    {
     "name": "stdout",
     "output_type": "stream",
     "text": [
      "Number of significant Phosphoproteomics comparisons:  1\n"
     ]
    },
    {
     "data": {
      "text/html": [
       "<div>\n",
       "<style scoped>\n",
       "    .dataframe tbody tr th:only-of-type {\n",
       "        vertical-align: middle;\n",
       "    }\n",
       "\n",
       "    .dataframe tbody tr th {\n",
       "        vertical-align: top;\n",
       "    }\n",
       "\n",
       "    .dataframe thead th {\n",
       "        text-align: right;\n",
       "    }\n",
       "</style>\n",
       "<table border=\"1\" class=\"dataframe\">\n",
       "  <thead>\n",
       "    <tr style=\"text-align: right;\">\n",
       "      <th></th>\n",
       "      <th>Comparison</th>\n",
       "      <th>P_Value</th>\n",
       "    </tr>\n",
       "  </thead>\n",
       "  <tbody>\n",
       "    <tr>\n",
       "      <td>0</td>\n",
       "      <td>PDE8B_phosphoproteomics_S538_RLS*GNEYVFTK_NP_0...</td>\n",
       "      <td>1.541342e-07</td>\n",
       "    </tr>\n",
       "  </tbody>\n",
       "</table>\n",
       "</div>"
      ],
      "text/plain": [
       "                                          Comparison       P_Value\n",
       "0  PDE8B_phosphoproteomics_S538_RLS*GNEYVFTK_NP_0...  1.541342e-07"
      ]
     },
     "execution_count": 13,
     "metadata": {},
     "output_type": "execute_result"
    }
   ],
   "source": [
    "phos_all_comparisons = phos_all_comparisons.dropna(axis=0)\n",
    "phos_sig_comparisons = phos_all_comparisons.loc[phos_all_comparisons['P_Value'] <= phos_bonferroni_cutoff]\n",
    "print(\"Number of significant Phosphoproteomics comparisons: \", len(phos_sig_comparisons))\n",
    "phos_sig_comparisons.head()"
   ]
  },
  {
   "cell_type": "markdown",
   "metadata": {},
   "source": [
    "Phosphoproteomics Histograms"
   ]
  },
  {
   "cell_type": "code",
   "execution_count": 14,
   "metadata": {},
   "outputs": [
    {
     "data": {
      "image/png": "[encoded data removed]",
      "text/plain": [
       "<Figure size 720x576 with 1 Axes>"
      ]
     },
     "metadata": {},
     "output_type": "display_data"
    }
   ],
   "source": [
    "# Create series of p-values for Histogram\n",
    "phos_pval_series = phos_all_comparisons['P_Value']\n",
    "\n",
    "# Format figure size and font\n",
    "plt.rcParams['figure.figsize']=(10,8)\n",
    "sns.set(font_scale = 1.3)\n",
    "\n",
    "# Create log scale for the x-axis\n",
    "plt.xscale('log')\n",
    "phos_log_min, phos_log_max = np.log10(phos_pval_series.min()), np.log10(phos_pval_series.max())\n",
    "phos_bins = np.logspace(phos_log_min - 1, phos_log_max, 100) # change bin number here\n",
    "histogram = sns.distplot(phos_pval_series, bins = phos_bins, kde=False, color='navy') \n",
    "\n",
    "# Format title and axis\n",
    "histogram.set_title(\"P_Value Distribution for \"+gene+\" trans Phosphoproteomics for All Proteins\")\n",
    "histogram.set(ylabel = 'Number of Proteins')\n",
    "#plt.xlim([10e-10,10e-1]) # change x-axis range\n",
    "#plt.ylim([0, 3500]) # change y-axis range\n",
    "\n",
    "# Graph cutoffs: alpha = green, bonferroni = red\n",
    "plt.axvline(phos_bonferroni_cutoff, 0, 0.95, linewidth=2, color='r')\n",
    "plt.axvline(0.05, 0, 0.95, linewidth=2, color='g')\n",
    "\n",
    "plt.show()\n",
    "plt.clf()\n",
    "plt.close()"
   ]
  },
  {
   "cell_type": "markdown",
   "metadata": {},
   "source": [
    "Phosphoproteomics zoomed in"
   ]
  },
  {
   "cell_type": "code",
   "execution_count": 15,
   "metadata": {},
   "outputs": [
    {
     "data": {
      "image/png": "[encoded data removed]",
      "text/plain": [
       "<Figure size 720x576 with 1 Axes>"
      ]
     },
     "metadata": {},
     "output_type": "display_data"
    }
   ],
   "source": [
    "# Select p-values within range 0 - end_value \n",
    "phos_end_value = 0.01\n",
    "phos_zoomed = phos_pval_series.loc[phos_pval_series <= phos_end_value]\n",
    "\n",
    "# Format size of figure and font\n",
    "plt.rcParams['figure.figsize']=(10,8)\n",
    "sns.set(font_scale = 1.3)\n",
    "\n",
    "# Create log scale for the x-axis\n",
    "plt.xscale('log')\n",
    "phos_zoomed_log_min, phos_zoomed_log_max = np.log10(phos_zoomed.min()),np.log10(phos_zoomed.max())\n",
    "phos_bins_zoomed = np.logspace(phos_zoomed_log_min - 1, phos_zoomed_log_max, 100) # change this number for more or less bins\n",
    "histogram = sns.distplot(phos_zoomed, bins = phos_bins_zoomed, kde=False, color='teal')\n",
    "\n",
    "# Format title and axis\n",
    "histogram.set_title(\"P_Value Distribution for \"+gene+\" trans Phosphoproteomics (P_Value < \" + str(phos_end_value) + \")\")\n",
    "histogram.set(ylabel = 'Number of Proteins')\n",
    "plt.xlim([10e-10,10e-3]) # change x-axis range\n",
    "#plt.ylim([0.0,20]) # change y axis intervals\n",
    "\n",
    "# Create bonferroni cutoff line \n",
    "plt.axvline(phos_bonferroni_cutoff, 0, .95, linewidth=2, color='r') # cutoff line parameters: (cutoff, 0, height)\n",
    "\n",
    "plt.show()\n",
    "plt.clf()\n",
    "plt.close()"
   ]
  },
  {
   "cell_type": "code",
   "execution_count": 39,
   "metadata": {},
   "outputs": [
    {
     "name": "stdout",
     "output_type": "stream",
     "text": [
      "Number of Phosphoproteomics comparisons for gsea:  19\n"
     ]
    },
    {
     "name": "stderr",
     "output_type": "stream",
     "text": [
      "2019-10-02 10:03:11,692 Warning: No enrich terms using library KEGG_2016 when cutoff = 0.05\n"
     ]
    },
    {
     "data": {
      "text/html": [
       "<div>\n",
       "<style scoped>\n",
       "    .dataframe tbody tr th:only-of-type {\n",
       "        vertical-align: middle;\n",
       "    }\n",
       "\n",
       "    .dataframe tbody tr th {\n",
       "        vertical-align: top;\n",
       "    }\n",
       "\n",
       "    .dataframe thead th {\n",
       "        text-align: right;\n",
       "    }\n",
       "</style>\n",
       "<table border=\"1\" class=\"dataframe\">\n",
       "  <thead>\n",
       "    <tr style=\"text-align: right;\">\n",
       "      <th></th>\n",
       "      <th>Term</th>\n",
       "      <th>Overlap</th>\n",
       "      <th>P-value</th>\n",
       "      <th>Adjusted P-value</th>\n",
       "      <th>Old P-value</th>\n",
       "      <th>Old Adjusted P-value</th>\n",
       "      <th>Odds Ratio</th>\n",
       "      <th>Combined Score</th>\n",
       "      <th>Genes</th>\n",
       "      <th>Gene_set</th>\n",
       "    </tr>\n",
       "  </thead>\n",
       "  <tbody>\n",
       "    <tr>\n",
       "      <td>0</td>\n",
       "      <td>Regulation of actin cytoskeleton_Homo sapiens_...</td>\n",
       "      <td>3/214</td>\n",
       "      <td>0.000735</td>\n",
       "      <td>0.215436</td>\n",
       "      <td>0</td>\n",
       "      <td>0</td>\n",
       "      <td>16.492578</td>\n",
       "      <td>118.998304</td>\n",
       "      <td>F2R;MSN;SSH3</td>\n",
       "      <td>KEGG_2016</td>\n",
       "    </tr>\n",
       "    <tr>\n",
       "      <td>1</td>\n",
       "      <td>Neuroactive ligand-receptor interaction_Homo s...</td>\n",
       "      <td>3/277</td>\n",
       "      <td>0.001548</td>\n",
       "      <td>0.226725</td>\n",
       "      <td>0</td>\n",
       "      <td>0</td>\n",
       "      <td>12.741559</td>\n",
       "      <td>82.451198</td>\n",
       "      <td>EDNRA;CALCRL;F2R</td>\n",
       "      <td>KEGG_2016</td>\n",
       "    </tr>\n",
       "    <tr>\n",
       "      <td>2</td>\n",
       "      <td>Vascular smooth muscle contraction_Homo sapien...</td>\n",
       "      <td>2/120</td>\n",
       "      <td>0.004578</td>\n",
       "      <td>0.447069</td>\n",
       "      <td>0</td>\n",
       "      <td>0</td>\n",
       "      <td>19.607843</td>\n",
       "      <td>105.619646</td>\n",
       "      <td>EDNRA;CALCRL</td>\n",
       "      <td>KEGG_2016</td>\n",
       "    </tr>\n",
       "    <tr>\n",
       "      <td>3</td>\n",
       "      <td>Calcium signaling pathway_Homo sapiens_hsa04020</td>\n",
       "      <td>2/180</td>\n",
       "      <td>0.010024</td>\n",
       "      <td>0.734263</td>\n",
       "      <td>0</td>\n",
       "      <td>0</td>\n",
       "      <td>13.071895</td>\n",
       "      <td>60.166873</td>\n",
       "      <td>EDNRA;F2R</td>\n",
       "      <td>KEGG_2016</td>\n",
       "    </tr>\n",
       "    <tr>\n",
       "      <td>4</td>\n",
       "      <td>cAMP signaling pathway_Homo sapiens_hsa04024</td>\n",
       "      <td>2/199</td>\n",
       "      <td>0.012143</td>\n",
       "      <td>0.711587</td>\n",
       "      <td>0</td>\n",
       "      <td>0</td>\n",
       "      <td>11.823825</td>\n",
       "      <td>52.154800</td>\n",
       "      <td>EDNRA;F2R</td>\n",
       "      <td>KEGG_2016</td>\n",
       "    </tr>\n",
       "  </tbody>\n",
       "</table>\n",
       "</div>"
      ],
      "text/plain": [
       "                                                Term Overlap   P-value  \\\n",
       "0  Regulation of actin cytoskeleton_Homo sapiens_...   3/214  0.000735   \n",
       "1  Neuroactive ligand-receptor interaction_Homo s...   3/277  0.001548   \n",
       "2  Vascular smooth muscle contraction_Homo sapien...   2/120  0.004578   \n",
       "3    Calcium signaling pathway_Homo sapiens_hsa04020   2/180  0.010024   \n",
       "4       cAMP signaling pathway_Homo sapiens_hsa04024   2/199  0.012143   \n",
       "\n",
       "   Adjusted P-value  Old P-value  Old Adjusted P-value  Odds Ratio  \\\n",
       "0          0.215436            0                     0   16.492578   \n",
       "1          0.226725            0                     0   12.741559   \n",
       "2          0.447069            0                     0   19.607843   \n",
       "3          0.734263            0                     0   13.071895   \n",
       "4          0.711587            0                     0   11.823825   \n",
       "\n",
       "   Combined Score             Genes   Gene_set  \n",
       "0      118.998304      F2R;MSN;SSH3  KEGG_2016  \n",
       "1       82.451198  EDNRA;CALCRL;F2R  KEGG_2016  \n",
       "2      105.619646      EDNRA;CALCRL  KEGG_2016  \n",
       "3       60.166873         EDNRA;F2R  KEGG_2016  \n",
       "4       52.154800         EDNRA;F2R  KEGG_2016  "
      ]
     },
     "execution_count": 39,
     "metadata": {},
     "output_type": "execute_result"
    }
   ],
   "source": [
    "# Gene set enrichment analysis\n",
    "phos_extended_cutoff = .00005\n",
    "phos_gsea = phos_all_comparisons.loc[phos_all_comparisons['P_Value'] <= phos_extended_cutoff]\n",
    "print(\"Number of Phosphoproteomics comparisons for gsea: \", len(phos_gsea))\n",
    "\n",
    "# create gene list\n",
    "phos_genes = phos_gsea['Comparison']\n",
    "phos_genes.replace(to_replace = '_phosphoproteomics.*$', value = '', \n",
    "                        inplace = True, regex = True) # shorten column names\n",
    "phos_genes_list = list(phos_genes)\n",
    "\n",
    "phos_enr = gp.enrichr(gene_list = phos_genes_list, description='Phosphoproteomics_Comparisons', gene_sets='KEGG_2016', \n",
    "                       outdir='Enrichment Analysis')\n",
    "\n",
    "phos_enr.res2d.head()"
   ]
  },
  {
   "cell_type": "code",
   "execution_count": null,
   "metadata": {},
   "outputs": [],
   "source": []
  }
 ],
 "metadata": {
  "kernelspec": {
   "display_name": "Python 3",
   "language": "python",
   "name": "python3"
  },
  "language_info": {
   "codemirror_mode": {
    "name": "ipython",
    "version": 3
   },
   "file_extension": ".py",
   "mimetype": "text/x-python",
   "name": "python",
   "nbconvert_exporter": "python",
   "pygments_lexer": "ipython3",
   "version": "3.7.3"
  }
 },
 "nbformat": 4,
 "nbformat_minor": 2
}
