{
 "cells": [
  {
   "cell_type": "markdown",
   "metadata": {},
   "source": [
    "# PIK3R1 Mutation Trans Effect on Transcriptomics"
   ]
  },
  {
   "cell_type": "markdown",
   "metadata": {},
   "source": [
    "### Library Imports"
   ]
  },
  {
   "cell_type": "code",
   "execution_count": 1,
   "metadata": {},
   "outputs": [
    {
     "name": "stdout",
     "output_type": "stream",
     "text": [
      "                                    \r"
     ]
    }
   ],
   "source": [
    "import pandas as pd\n",
    "import numpy as np\n",
    "import scipy.stats\n",
    "\n",
    "import warnings\n",
    "warnings.filterwarnings(\"ignore\")\n",
    "\n",
    "import cptac\n",
    "import cptac.utils as al\n",
    "\n",
    "brain = cptac.Gbm()"
   ]
  },
  {
   "cell_type": "markdown",
   "metadata": {},
   "source": [
    "### Select Gene"
   ]
  },
  {
   "cell_type": "code",
   "execution_count": 2,
   "metadata": {},
   "outputs": [],
   "source": [
    "gene = \"PIK3R1\""
   ]
  },
  {
   "cell_type": "markdown",
   "metadata": {},
   "source": [
    "### Investigate Proteomics, Phosphoproteomics, Acetylproteomics, or Transcriptomics"
   ]
  },
  {
   "cell_type": "code",
   "execution_count": 3,
   "metadata": {},
   "outputs": [],
   "source": [
    "#omics = \"proteomics\"\n",
    "omics = \"transcriptomics\"\n",
    "#omics = \"phosphoproteomics\"\n",
    "#omics = \"acetylproteomics\""
   ]
  },
  {
   "cell_type": "markdown",
   "metadata": {},
   "source": [
    "### Track all significant comparisons in Dataframe"
   ]
  },
  {
   "cell_type": "code",
   "execution_count": 4,
   "metadata": {},
   "outputs": [],
   "source": [
    "all_significant_comparisons = pd.DataFrame(columns=['Cancer_Type', 'Gene', 'Comparison','Interacting_Protein','P_Value'])"
   ]
  },
  {
   "cell_type": "code",
   "execution_count": 5,
   "metadata": {},
   "outputs": [],
   "source": [
    "def add_to_all_significant_comparisons(df, cancer, interacting, all_sig_comp):\n",
    "    expanded = df\n",
    "    expanded['Gene'] = gene\n",
    "    expanded['Cancer_Type'] = cancer\n",
    "    expanded['Interacting_Protein'] = interacting\n",
    "    \n",
    "    updated_all_comparisons = pd.concat([all_sig_comp, expanded], sort=False)\n",
    "    \n",
    "    return updated_all_comparisons"
   ]
  },
  {
   "cell_type": "markdown",
   "metadata": {},
   "source": [
    "# Interacting Proteins: Transcriptomics"
   ]
  },
  {
   "cell_type": "markdown",
   "metadata": {},
   "source": [
    "### Generate interacting protein list"
   ]
  },
  {
   "cell_type": "markdown",
   "metadata": {},
   "source": [
    "Make a call to cptac.utils to get the interacting proteins method, which interacts with the uniprot and string databases to generate a list of known interacting partners with the given gene."
   ]
  },
  {
   "cell_type": "code",
   "execution_count": 6,
   "metadata": {},
   "outputs": [
    {
     "name": "stdout",
     "output_type": "stream",
     "text": [
      "Interacting Proteins:\n",
      "PDGFRA\n",
      "PIK3R2\n",
      "PIK3R3\n",
      "PIK3CA\n",
      "CBL\n",
      "STAT3\n",
      "ERBB3\n",
      "IGF1R\n",
      "ERBB2\n",
      "EGFR\n",
      "KIT\n",
      "PIK3CB\n",
      "CRK\n",
      "IRS1\n",
      "CTNNB1\n",
      "PIK3CG\n",
      "PTEN\n",
      "SRC\n",
      "IRS2\n",
      "PIK3CD\n",
      "SOS1\n",
      "FGFR1\n",
      "SHC1\n",
      "HRAS\n",
      "PIK3R1\n",
      "AKT1\n",
      "LCP2\n",
      "ABL1\n",
      "FYN\n",
      "LCK\n",
      "GNAQ\n",
      "FCGR2A\n",
      "VAV1\n",
      "AXL\n",
      "DOK1\n"
     ]
    }
   ],
   "source": [
    "# Use get interacting proteins method to generate list of interacting proteins\n",
    "interacting_proteins = al.get_interacting_proteins(gene)\n",
    "\n",
    "# Show interacting protein list\n",
    "print(\"Interacting Proteins:\")\n",
    "for interacting_protein in interacting_proteins:\n",
    "    print(interacting_protein)"
   ]
  },
  {
   "cell_type": "markdown",
   "metadata": {},
   "source": [
    "### Test for significant comparisons in any of interacting proteins"
   ]
  },
  {
   "cell_type": "code",
   "execution_count": 7,
   "metadata": {},
   "outputs": [
    {
     "name": "stdout",
     "output_type": "stream",
     "text": [
      "Doing t-test comparisons\n",
      "\n",
      "No significant comparisons.\n"
     ]
    },
    {
     "name": "stderr",
     "output_type": "stream",
     "text": [
      "Warning: In joining the somatic_mutation table, no mutations were found for the following samples, so they were filled with Wildtype_Tumor or Wildtype_Normal: 102 samples for the PIK3R1 gene (/Users/Lindsey/anaconda3/lib/python3.7/site-packages/ipykernel_launcher.py, line 2)\n"
     ]
    }
   ],
   "source": [
    "# Create dataframe in order to do comparisons with wrap_ttest\n",
    "protdf = brain.join_omics_to_mutations(mutations_genes=[gene], omics_df_name=omics, omics_genes=interacting_proteins)\n",
    "protdf = brain.reduce_multiindex(protdf, flatten=True)\n",
    "protdf = protdf[protdf.Sample_Status == 'Tumor'] # drop Normal samples\n",
    "\n",
    "# Create the binary valued column needed to do the comparison\n",
    "for ind, row in protdf.iterrows():\n",
    "    if row[gene+\"_Mutation_Status\"] != 'Wildtype_Tumor':\n",
    "        protdf.at[ind,'Label'] = 'Mutated'\n",
    "    else:\n",
    "        protdf.at[ind,'Label'] = 'Wildtype'\n",
    "\n",
    "# Format the dataframe correctly\n",
    "protdf = protdf.drop(gene+\"_Mutation\",axis=1)\n",
    "protdf = protdf.drop(gene+\"_Location\",axis=1)\n",
    "protdf = protdf.drop(gene+\"_Mutation_Status\", axis=1)\n",
    "protdf = protdf.drop(\"Sample_Status\",axis=1)\n",
    "\n",
    "\n",
    "# Make list of columns to be compared using t-tests\n",
    "col_list = list(protdf.columns)\n",
    "col_list.remove('Label')\n",
    "\n",
    "print(\"Doing t-test comparisons\\n\")\n",
    "\n",
    "# Call wrap_ttest, pass in formatted dataframe\n",
    "wrap_results = al.wrap_ttest(protdf, 'Label', col_list)\n",
    "\n",
    "# Print results, if anything significant was found\n",
    "if wrap_results is not None:\n",
    "        print(wrap_results)\n",
    "        print(\"\\n\\n\")\n",
    "        \n",
    "        all_significant_comparisons = add_to_all_significant_comparisons(wrap_results, \"Gbm\", True, all_significant_comparisons)\n",
    "        "
   ]
  },
  {
   "cell_type": "markdown",
   "metadata": {},
   "source": [
    "# All Proteins: Transcriptomics "
   ]
  },
  {
   "cell_type": "code",
   "execution_count": 8,
   "metadata": {},
   "outputs": [
    {
     "name": "stdout",
     "output_type": "stream",
     "text": [
      "\n",
      "Gene:  PIK3R1\n"
     ]
    },
    {
     "name": "stderr",
     "output_type": "stream",
     "text": [
      "Warning: In joining the somatic_mutation table, no mutations were found for the following samples, so they were filled with Wildtype_Tumor or Wildtype_Normal: 102 samples for the PIK3R1 gene (/Users/Lindsey/anaconda3/lib/python3.7/site-packages/ipykernel_launcher.py, line 7)\n"
     ]
    },
    {
     "name": "stdout",
     "output_type": "stream",
     "text": [
      "Doing t-test comparisons\n",
      "\n",
      "                                         Comparison       P_Value\n",
      "0      AC005618.9_transcriptomics_ENSG00000279855.1  4.733451e-09\n",
      "1      FP671120.4_transcriptomics_ENSG00000275530.1  1.225371e-08\n",
      "2        HMGN1P10_transcriptomics_ENSG00000244101.1  1.984333e-08\n",
      "3      AC012494.1_transcriptomics_ENSG00000229494.1  2.847025e-08\n",
      "4    RP11-192H6.2_transcriptomics_ENSG00000251654.2  2.878552e-08\n",
      "5        MTND1P29_transcriptomics_ENSG00000237722.1  3.027026e-08\n",
      "6       RNA5SP336_transcriptomics_ENSG00000201059.1  3.377987e-08\n",
      "7         MIR4722_transcriptomics_ENSG00000265672.1  3.852006e-08\n",
      "8       RN7SL655P_transcriptomics_ENSG00000241963.3  5.775029e-08\n",
      "9         TRBV5-2_transcriptomics_ENSG00000242771.1  2.335379e-07\n",
      "10   RP11-93K22.6_transcriptomics_ENSG00000250643.1  3.974502e-07\n",
      "11       IGLV1-62_transcriptomics_ENSG00000253823.1  4.370122e-07\n",
      "12       IMPDH1P4_transcriptomics_ENSG00000237206.1  5.557672e-07\n",
      "13   CTD-2566J3.1_transcriptomics_ENSG00000258837.1  5.701106e-07\n",
      "14  RP11-395P13.7_transcriptomics_ENSG00000281608.1  6.679751e-07\n",
      "\n",
      "\n",
      "\n"
     ]
    }
   ],
   "source": [
    "try:\n",
    "    print(\"\\nGene: \", gene)\n",
    "\n",
    "    # Use all proteins\n",
    "\n",
    "    # Create dataframe in order to do comparisons with wrap_ttest\n",
    "    protdf = brain.join_omics_to_mutations(mutations_genes=[gene], omics_df_name=omics)\n",
    "    protdf = brain.reduce_multiindex(protdf, flatten=True) # flatten for specific column names\n",
    "    protdf = protdf.loc[protdf['Sample_Status'] == 'Tumor']\n",
    "    \n",
    "    # Create binary column \n",
    "    protdf['Label'] = np.where(\n",
    "                protdf[gene+'_Mutation_Status'] == 'Wildtype_Tumor', 'Wildtype', 'Mutated')\n",
    "\n",
    "    # Format the dataframe correctly'''\n",
    "    protdf = protdf.drop(gene+\"_Mutation\",axis=1)\n",
    "    protdf = protdf.drop(gene+\"_Location\",axis=1)\n",
    "    protdf = protdf.drop(gene+\"_Mutation_Status\", axis=1)\n",
    "    protdf = protdf.drop(\"Sample_Status\",axis=1)\n",
    "\n",
    "    # Make list of columns to be compared using t-tests\n",
    "    col_list = list(protdf.columns)\n",
    "    col_list.remove('Label')\n",
    "\n",
    "    print(\"Doing t-test comparisons\\n\")\n",
    "    \n",
    "    # Call wrap_ttest, pass in formatted dataframe\n",
    "    wrap_results = al.wrap_ttest(protdf, 'Label', col_list)\n",
    "\n",
    "    # Print results, if anything significant was found\n",
    "    if wrap_results is not None:\n",
    "            print(wrap_results)\n",
    "            print(\"\\n\\n\")\n",
    "            \n",
    "            all_significant_comparisons = add_to_all_significant_comparisons(wrap_results, \"Gbm\", False, all_significant_comparisons)\n",
    "\n",
    "\n",
    "except Exception as e:\n",
    "    print(\"Error in Comparison\")\n",
    "    print(e)"
   ]
  },
  {
   "cell_type": "markdown",
   "metadata": {},
   "source": [
    "# Print all significant comparisons"
   ]
  },
  {
   "cell_type": "code",
   "execution_count": 9,
   "metadata": {},
   "outputs": [
    {
     "data": {
      "text/html": [
       "<div>\n",
       "<style scoped>\n",
       "    .dataframe tbody tr th:only-of-type {\n",
       "        vertical-align: middle;\n",
       "    }\n",
       "\n",
       "    .dataframe tbody tr th {\n",
       "        vertical-align: top;\n",
       "    }\n",
       "\n",
       "    .dataframe thead th {\n",
       "        text-align: right;\n",
       "    }\n",
       "</style>\n",
       "<table border=\"1\" class=\"dataframe\">\n",
       "  <thead>\n",
       "    <tr style=\"text-align: right;\">\n",
       "      <th></th>\n",
       "      <th>Cancer_Type</th>\n",
       "      <th>Gene</th>\n",
       "      <th>Comparison</th>\n",
       "      <th>Interacting_Protein</th>\n",
       "      <th>P_Value</th>\n",
       "    </tr>\n",
       "  </thead>\n",
       "  <tbody>\n",
       "    <tr>\n",
       "      <td>0</td>\n",
       "      <td>Gbm</td>\n",
       "      <td>PIK3R1</td>\n",
       "      <td>AC005618.9_transcriptomics_ENSG00000279855.1</td>\n",
       "      <td>False</td>\n",
       "      <td>4.733451e-09</td>\n",
       "    </tr>\n",
       "    <tr>\n",
       "      <td>1</td>\n",
       "      <td>Gbm</td>\n",
       "      <td>PIK3R1</td>\n",
       "      <td>FP671120.4_transcriptomics_ENSG00000275530.1</td>\n",
       "      <td>False</td>\n",
       "      <td>1.225371e-08</td>\n",
       "    </tr>\n",
       "    <tr>\n",
       "      <td>2</td>\n",
       "      <td>Gbm</td>\n",
       "      <td>PIK3R1</td>\n",
       "      <td>HMGN1P10_transcriptomics_ENSG00000244101.1</td>\n",
       "      <td>False</td>\n",
       "      <td>1.984333e-08</td>\n",
       "    </tr>\n",
       "    <tr>\n",
       "      <td>3</td>\n",
       "      <td>Gbm</td>\n",
       "      <td>PIK3R1</td>\n",
       "      <td>AC012494.1_transcriptomics_ENSG00000229494.1</td>\n",
       "      <td>False</td>\n",
       "      <td>2.847025e-08</td>\n",
       "    </tr>\n",
       "    <tr>\n",
       "      <td>4</td>\n",
       "      <td>Gbm</td>\n",
       "      <td>PIK3R1</td>\n",
       "      <td>RP11-192H6.2_transcriptomics_ENSG00000251654.2</td>\n",
       "      <td>False</td>\n",
       "      <td>2.878552e-08</td>\n",
       "    </tr>\n",
       "    <tr>\n",
       "      <td>5</td>\n",
       "      <td>Gbm</td>\n",
       "      <td>PIK3R1</td>\n",
       "      <td>MTND1P29_transcriptomics_ENSG00000237722.1</td>\n",
       "      <td>False</td>\n",
       "      <td>3.027026e-08</td>\n",
       "    </tr>\n",
       "    <tr>\n",
       "      <td>6</td>\n",
       "      <td>Gbm</td>\n",
       "      <td>PIK3R1</td>\n",
       "      <td>RNA5SP336_transcriptomics_ENSG00000201059.1</td>\n",
       "      <td>False</td>\n",
       "      <td>3.377987e-08</td>\n",
       "    </tr>\n",
       "    <tr>\n",
       "      <td>7</td>\n",
       "      <td>Gbm</td>\n",
       "      <td>PIK3R1</td>\n",
       "      <td>MIR4722_transcriptomics_ENSG00000265672.1</td>\n",
       "      <td>False</td>\n",
       "      <td>3.852006e-08</td>\n",
       "    </tr>\n",
       "    <tr>\n",
       "      <td>8</td>\n",
       "      <td>Gbm</td>\n",
       "      <td>PIK3R1</td>\n",
       "      <td>RN7SL655P_transcriptomics_ENSG00000241963.3</td>\n",
       "      <td>False</td>\n",
       "      <td>5.775029e-08</td>\n",
       "    </tr>\n",
       "    <tr>\n",
       "      <td>9</td>\n",
       "      <td>Gbm</td>\n",
       "      <td>PIK3R1</td>\n",
       "      <td>TRBV5-2_transcriptomics_ENSG00000242771.1</td>\n",
       "      <td>False</td>\n",
       "      <td>2.335379e-07</td>\n",
       "    </tr>\n",
       "    <tr>\n",
       "      <td>10</td>\n",
       "      <td>Gbm</td>\n",
       "      <td>PIK3R1</td>\n",
       "      <td>RP11-93K22.6_transcriptomics_ENSG00000250643.1</td>\n",
       "      <td>False</td>\n",
       "      <td>3.974502e-07</td>\n",
       "    </tr>\n",
       "    <tr>\n",
       "      <td>11</td>\n",
       "      <td>Gbm</td>\n",
       "      <td>PIK3R1</td>\n",
       "      <td>IGLV1-62_transcriptomics_ENSG00000253823.1</td>\n",
       "      <td>False</td>\n",
       "      <td>4.370122e-07</td>\n",
       "    </tr>\n",
       "    <tr>\n",
       "      <td>12</td>\n",
       "      <td>Gbm</td>\n",
       "      <td>PIK3R1</td>\n",
       "      <td>IMPDH1P4_transcriptomics_ENSG00000237206.1</td>\n",
       "      <td>False</td>\n",
       "      <td>5.557672e-07</td>\n",
       "    </tr>\n",
       "    <tr>\n",
       "      <td>13</td>\n",
       "      <td>Gbm</td>\n",
       "      <td>PIK3R1</td>\n",
       "      <td>CTD-2566J3.1_transcriptomics_ENSG00000258837.1</td>\n",
       "      <td>False</td>\n",
       "      <td>5.701106e-07</td>\n",
       "    </tr>\n",
       "    <tr>\n",
       "      <td>14</td>\n",
       "      <td>Gbm</td>\n",
       "      <td>PIK3R1</td>\n",
       "      <td>RP11-395P13.7_transcriptomics_ENSG00000281608.1</td>\n",
       "      <td>False</td>\n",
       "      <td>6.679751e-07</td>\n",
       "    </tr>\n",
       "  </tbody>\n",
       "</table>\n",
       "</div>"
      ],
      "text/plain": [
       "   Cancer_Type    Gene                                       Comparison  \\\n",
       "0          Gbm  PIK3R1     AC005618.9_transcriptomics_ENSG00000279855.1   \n",
       "1          Gbm  PIK3R1     FP671120.4_transcriptomics_ENSG00000275530.1   \n",
       "2          Gbm  PIK3R1       HMGN1P10_transcriptomics_ENSG00000244101.1   \n",
       "3          Gbm  PIK3R1     AC012494.1_transcriptomics_ENSG00000229494.1   \n",
       "4          Gbm  PIK3R1   RP11-192H6.2_transcriptomics_ENSG00000251654.2   \n",
       "5          Gbm  PIK3R1       MTND1P29_transcriptomics_ENSG00000237722.1   \n",
       "6          Gbm  PIK3R1      RNA5SP336_transcriptomics_ENSG00000201059.1   \n",
       "7          Gbm  PIK3R1        MIR4722_transcriptomics_ENSG00000265672.1   \n",
       "8          Gbm  PIK3R1      RN7SL655P_transcriptomics_ENSG00000241963.3   \n",
       "9          Gbm  PIK3R1        TRBV5-2_transcriptomics_ENSG00000242771.1   \n",
       "10         Gbm  PIK3R1   RP11-93K22.6_transcriptomics_ENSG00000250643.1   \n",
       "11         Gbm  PIK3R1       IGLV1-62_transcriptomics_ENSG00000253823.1   \n",
       "12         Gbm  PIK3R1       IMPDH1P4_transcriptomics_ENSG00000237206.1   \n",
       "13         Gbm  PIK3R1   CTD-2566J3.1_transcriptomics_ENSG00000258837.1   \n",
       "14         Gbm  PIK3R1  RP11-395P13.7_transcriptomics_ENSG00000281608.1   \n",
       "\n",
       "   Interacting_Protein       P_Value  \n",
       "0                False  4.733451e-09  \n",
       "1                False  1.225371e-08  \n",
       "2                False  1.984333e-08  \n",
       "3                False  2.847025e-08  \n",
       "4                False  2.878552e-08  \n",
       "5                False  3.027026e-08  \n",
       "6                False  3.377987e-08  \n",
       "7                False  3.852006e-08  \n",
       "8                False  5.775029e-08  \n",
       "9                False  2.335379e-07  \n",
       "10               False  3.974502e-07  \n",
       "11               False  4.370122e-07  \n",
       "12               False  5.557672e-07  \n",
       "13               False  5.701106e-07  \n",
       "14               False  6.679751e-07  "
      ]
     },
     "metadata": {},
     "output_type": "display_data"
    }
   ],
   "source": [
    "if len(all_significant_comparisons) > 0:\n",
    "    display(all_significant_comparisons)\n",
    "    \n",
    "else:\n",
    "    print('No Significant Comparisons!')"
   ]
  },
  {
   "cell_type": "markdown",
   "metadata": {},
   "source": [
    "### Write Significant Comparisons (if any) to Shared CSV file"
   ]
  },
  {
   "cell_type": "code",
   "execution_count": 10,
   "metadata": {},
   "outputs": [
    {
     "data": {
      "text/plain": [
       "\"\\nexisting_results = pd.read_csv(gene+'_Trans_Results.csv')\\n\\nupdated_results = pd.concat([existing_results, all_significant_comparisons], sort=False)\\n\\nupdated_results.to_csv(path_or_buf = gene + '_Trans_Results.csv', index=False)\""
      ]
     },
     "execution_count": 10,
     "metadata": {},
     "output_type": "execute_result"
    }
   ],
   "source": [
    "'''\n",
    "existing_results = pd.read_csv(gene+'_Trans_Results.csv')\n",
    "\n",
    "updated_results = pd.concat([existing_results, all_significant_comparisons], sort=False)\n",
    "\n",
    "updated_results.to_csv(path_or_buf = gene + '_Trans_Results.csv', index=False)'''"
   ]
  }
 ],
 "metadata": {
  "kernelspec": {
   "display_name": "Python 3",
   "language": "python",
   "name": "python3"
  },
  "language_info": {
   "codemirror_mode": {
    "name": "ipython",
    "version": 3
   },
   "file_extension": ".py",
   "mimetype": "text/x-python",
   "name": "python",
   "nbconvert_exporter": "python",
   "pygments_lexer": "ipython3",
   "version": "3.7.3"
  }
 },
 "nbformat": 4,
 "nbformat_minor": 2
}
