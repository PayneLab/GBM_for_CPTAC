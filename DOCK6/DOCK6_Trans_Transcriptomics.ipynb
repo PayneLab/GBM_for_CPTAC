{
 "cells": [
  {
   "cell_type": "markdown",
   "metadata": {},
   "source": [
    "# DOCK6 Mutation Trans Effect on Transcriptomics"
   ]
  },
  {
   "cell_type": "markdown",
   "metadata": {},
   "source": [
    "### Library Imports"
   ]
  },
  {
   "cell_type": "code",
   "execution_count": 1,
   "metadata": {},
   "outputs": [
    {
     "name": "stdout",
     "output_type": "stream",
     "text": [
      "                                    \r"
     ]
    }
   ],
   "source": [
    "import pandas as pd\n",
    "import numpy as np\n",
    "import scipy.stats\n",
    "\n",
    "import warnings\n",
    "warnings.filterwarnings(\"ignore\")\n",
    "\n",
    "import cptac\n",
    "import cptac.utils as al\n",
    "\n",
    "brain = cptac.Gbm()"
   ]
  },
  {
   "cell_type": "markdown",
   "metadata": {},
   "source": [
    "### Select Gene"
   ]
  },
  {
   "cell_type": "code",
   "execution_count": 2,
   "metadata": {},
   "outputs": [],
   "source": [
    "gene = \"DOCK6\""
   ]
  },
  {
   "cell_type": "markdown",
   "metadata": {},
   "source": [
    "### Investigate Proteomics, Phosphoproteomics, Acetylproteomics, or Transcriptomics"
   ]
  },
  {
   "cell_type": "code",
   "execution_count": 3,
   "metadata": {},
   "outputs": [],
   "source": [
    "#omics = \"proteomics\"\n",
    "omics = \"transcriptomics\"\n",
    "#omics = \"phosphoproteomics\"\n",
    "#omics = \"acetylproteomics\""
   ]
  },
  {
   "cell_type": "markdown",
   "metadata": {},
   "source": [
    "### Track all significant comparisons in Dataframe"
   ]
  },
  {
   "cell_type": "code",
   "execution_count": 4,
   "metadata": {},
   "outputs": [],
   "source": [
    "all_significant_comparisons = pd.DataFrame(columns=['Cancer_Type', 'Gene', 'Comparison','Interacting_Protein','P_Value'])"
   ]
  },
  {
   "cell_type": "code",
   "execution_count": 5,
   "metadata": {},
   "outputs": [],
   "source": [
    "def add_to_all_significant_comparisons(df, cancer, interacting, all_sig_comp):\n",
    "    expanded = df\n",
    "    expanded['Gene'] = gene\n",
    "    expanded['Cancer_Type'] = cancer\n",
    "    expanded['Interacting_Protein'] = interacting\n",
    "    \n",
    "    updated_all_comparisons = pd.concat([all_sig_comp, expanded], sort=False)\n",
    "    \n",
    "    return updated_all_comparisons"
   ]
  },
  {
   "cell_type": "markdown",
   "metadata": {},
   "source": [
    "# Interacting Proteins: Transcriptomics"
   ]
  },
  {
   "cell_type": "markdown",
   "metadata": {},
   "source": [
    "### Generate interacting protein list"
   ]
  },
  {
   "cell_type": "markdown",
   "metadata": {},
   "source": [
    "Make a call to cptac.utils to get the interacting proteins method, which interacts with the uniprot and string databases to generate a list of known interacting partners with the given gene."
   ]
  },
  {
   "cell_type": "code",
   "execution_count": 6,
   "metadata": {},
   "outputs": [
    {
     "name": "stdout",
     "output_type": "stream",
     "text": [
      "Interacting Proteins:\n",
      "DOCK1\n",
      "DHX8\n",
      "DOCK6\n",
      "MGRN1\n",
      "ARHGAP31\n",
      "CRK\n",
      "SWSAP1\n",
      "DHX37\n",
      "ELMO1\n",
      "RHBDF2\n",
      "DDHD1\n",
      "LRCH3\n",
      "GRAP2\n",
      "TMEM205\n",
      "RAC1\n",
      "SNRNP25\n",
      "EOGT\n",
      "MOB1A\n",
      "CDC42\n",
      "DOCK8\n",
      "ENDOU\n",
      "AKT1\n",
      "KANK2\n",
      "CCDC159\n",
      "C19orf80\n",
      "NPRL3\n",
      "TADA2A\n",
      "UBC\n",
      "CRLF3\n",
      "DOCK7\n",
      "MOB1B\n",
      "XPO1\n",
      "CLU\n",
      "MYH6\n",
      "RAB2A\n",
      "LRP8\n",
      "REEP5\n",
      "SLC33A1\n",
      "RNASEH2A\n",
      "RAB32\n",
      "KIF7\n",
      "Smad3\n",
      "Msn\n",
      "Rock1\n",
      "Kifc1\n",
      "Cep135\n"
     ]
    }
   ],
   "source": [
    "# Use get interacting proteins method to generate list of interacting proteins\n",
    "interacting_proteins = al.get_interacting_proteins(gene)\n",
    "\n",
    "# Show interacting protein list\n",
    "print(\"Interacting Proteins:\")\n",
    "for interacting_protein in interacting_proteins:\n",
    "    print(interacting_protein)"
   ]
  },
  {
   "cell_type": "markdown",
   "metadata": {},
   "source": [
    "### Test for significant comparisons in any of interacting proteins"
   ]
  },
  {
   "cell_type": "code",
   "execution_count": 7,
   "metadata": {},
   "outputs": [
    {
     "name": "stderr",
     "output_type": "stream",
     "text": [
      "Warning: The following columns were not found in the transcriptomics dataframe, so they were inserted into joined table, but filled with NaN: Cep135, Kifc1, Msn, Rock1, Smad3 (C:\\Users\\brittany henderson\\Anaconda3\\envs\\Research\\lib\\site-packages\\ipykernel_launcher.py, line 2)\n",
      "Warning: In joining the somatic_mutation table, no mutations were found for the following samples, so they were filled with Wildtype_Tumor or Wildtype_Normal: 103 samples for the DOCK6 gene (C:\\Users\\brittany henderson\\Anaconda3\\envs\\Research\\lib\\site-packages\\ipykernel_launcher.py, line 2)\n"
     ]
    },
    {
     "name": "stdout",
     "output_type": "stream",
     "text": [
      "Doing t-test comparisons\n",
      "\n",
      "No significant comparisons.\n"
     ]
    }
   ],
   "source": [
    "# Create dataframe in order to do comparisons with wrap_ttest\n",
    "protdf = brain.join_omics_to_mutations(mutations_genes=[gene], omics_df_name=omics, omics_genes=interacting_proteins)\n",
    "protdf = brain.reduce_multiindex(protdf, flatten=True)\n",
    "protdf = protdf[protdf.Sample_Status == 'Tumor'] # drop Normal samples\n",
    "\n",
    "# Create the binary valued column needed to do the comparison\n",
    "for ind, row in protdf.iterrows():\n",
    "    if row[gene+\"_Mutation_Status\"] != 'Wildtype_Tumor':\n",
    "        protdf.at[ind,'Label'] = 'Mutated'\n",
    "    else:\n",
    "        protdf.at[ind,'Label'] = 'Wildtype'\n",
    "\n",
    "# Format the dataframe correctly\n",
    "protdf = protdf.drop(gene+\"_Mutation\",axis=1)\n",
    "protdf = protdf.drop(gene+\"_Location\",axis=1)\n",
    "protdf = protdf.drop(gene+\"_Mutation_Status\", axis=1)\n",
    "protdf = protdf.drop(\"Sample_Status\",axis=1)\n",
    "\n",
    "\n",
    "# Make list of columns to be compared using t-tests\n",
    "col_list = list(protdf.columns)\n",
    "col_list.remove('Label')\n",
    "\n",
    "print(\"Doing t-test comparisons\\n\")\n",
    "\n",
    "# Call wrap_ttest, pass in formatted dataframe\n",
    "wrap_results = al.wrap_ttest(protdf, 'Label', col_list)\n",
    "\n",
    "# Print results, if anything significant was found\n",
    "if wrap_results is not None:\n",
    "        print(wrap_results)\n",
    "        print(\"\\n\\n\")\n",
    "        \n",
    "        all_significant_comparisons = add_to_all_significant_comparisons(wrap_results, \"Gbm\", True, all_significant_comparisons)\n",
    "        "
   ]
  },
  {
   "cell_type": "markdown",
   "metadata": {},
   "source": [
    "# All Proteins: Transcriptomics "
   ]
  },
  {
   "cell_type": "code",
   "execution_count": 8,
   "metadata": {},
   "outputs": [
    {
     "name": "stdout",
     "output_type": "stream",
     "text": [
      "\n",
      "Gene:  DOCK6\n"
     ]
    },
    {
     "name": "stderr",
     "output_type": "stream",
     "text": [
      "Warning: In joining the somatic_mutation table, no mutations were found for the following samples, so they were filled with Wildtype_Tumor or Wildtype_Normal: 103 samples for the DOCK6 gene (C:\\Users\\brittany henderson\\Anaconda3\\envs\\Research\\lib\\site-packages\\ipykernel_launcher.py, line 7)\n"
     ]
    },
    {
     "name": "stdout",
     "output_type": "stream",
     "text": [
      "Doing t-test comparisons\n",
      "\n",
      "                                           Comparison       P_Value\n",
      "0        RNU6-1304P_transcriptomics_ENSG00000223306.2  9.536445e-16\n",
      "1           RPSAP64_transcriptomics_ENSG00000227721.1  8.820364e-10\n",
      "2     RP11-285A15.1_transcriptomics_ENSG00000250191.1  9.031615e-10\n",
      "3         RNU6-752P_transcriptomics_ENSG00000252185.1  9.031615e-10\n",
      "4          TNFSF11_transcriptomics_ENSG00000120659.13  7.726449e-09\n",
      "5           SCML2P1_transcriptomics_ENSG00000264127.1  1.565341e-08\n",
      "6           MIR6846_transcriptomics_ENSG00000277888.1  2.606630e-08\n",
      "7           UBE2SP1_transcriptomics_ENSG00000233966.1  3.147624e-08\n",
      "8   RP3-336K20__B.2_transcriptomics_ENSG00000236512.1  1.230388e-07\n",
      "9     RP11-254F19.2_transcriptomics_ENSG00000260859.1  1.441931e-07\n",
      "10     RP5-1011O1.3_transcriptomics_ENSG00000236069.1  1.619497e-07\n",
      "11             MMP9_transcriptomics_ENSG00000100985.7  1.840137e-07\n",
      "12      CTB-31O20.9_transcriptomics_ENSG00000267232.1  1.849078e-07\n",
      "13       ABHD15-AS1_transcriptomics_ENSG00000264031.1  2.567574e-07\n",
      "14          SNORD38_transcriptomics_ENSG00000200733.1  2.609546e-07\n",
      "15        RNA5SP292_transcriptomics_ENSG00000212276.1  2.958074e-07\n",
      "16    RP11-467P22.5_transcriptomics_ENSG00000277876.1  3.493358e-07\n",
      "17       AC113617.1_transcriptomics_ENSG00000228358.4  5.416285e-07\n",
      "18    RP11-474B16.1_transcriptomics_ENSG00000257642.1  6.404848e-07\n",
      "19          MIR6855_transcriptomics_ENSG00000276124.1  7.503397e-07\n",
      "20          OR10T1P_transcriptomics_ENSG00000203758.4  7.736305e-07\n",
      "21      RP11-91J3.3_transcriptomics_ENSG00000250620.1  8.197027e-07\n",
      "\n",
      "\n",
      "\n"
     ]
    }
   ],
   "source": [
    "try:\n",
    "    print(\"\\nGene: \", gene)\n",
    "\n",
    "    # Use all proteins\n",
    "\n",
    "    # Create dataframe in order to do comparisons with wrap_ttest\n",
    "    protdf = brain.join_omics_to_mutations(mutations_genes=[gene], omics_df_name=omics)\n",
    "    protdf = brain.reduce_multiindex(protdf, flatten=True) # flatten for specific column names\n",
    "    protdf = protdf.loc[protdf['Sample_Status'] == 'Tumor']\n",
    "    \n",
    "    # Create binary column \n",
    "    protdf['Label'] = np.where(\n",
    "                protdf[gene+'_Mutation_Status'] == 'Wildtype_Tumor', 'Wildtype', 'Mutated')\n",
    "\n",
    "    # Format the dataframe correctly'''\n",
    "    protdf = protdf.drop(gene+\"_Mutation\",axis=1)\n",
    "    protdf = protdf.drop(gene+\"_Location\",axis=1)\n",
    "    protdf = protdf.drop(gene+\"_Mutation_Status\", axis=1)\n",
    "    protdf = protdf.drop(\"Sample_Status\",axis=1)\n",
    "\n",
    "    # Make list of columns to be compared using t-tests\n",
    "    col_list = list(protdf.columns)\n",
    "    col_list.remove('Label')\n",
    "\n",
    "    print(\"Doing t-test comparisons\\n\")\n",
    "    \n",
    "    # Call wrap_ttest, pass in formatted dataframe\n",
    "    wrap_results = al.wrap_ttest(protdf, 'Label', col_list)\n",
    "\n",
    "    # Print results, if anything significant was found\n",
    "    if wrap_results is not None:\n",
    "            print(wrap_results)\n",
    "            print(\"\\n\\n\")\n",
    "            \n",
    "            all_significant_comparisons = add_to_all_significant_comparisons(wrap_results, \"Gbm\", False, all_significant_comparisons)\n",
    "\n",
    "\n",
    "except Exception as e:\n",
    "    print(\"Error in Comparison\")\n",
    "    print(e)"
   ]
  },
  {
   "cell_type": "markdown",
   "metadata": {},
   "source": [
    "# Print all significant comparisons"
   ]
  },
  {
   "cell_type": "code",
   "execution_count": 9,
   "metadata": {},
   "outputs": [
    {
     "data": {
      "text/html": [
       "<div>\n",
       "<style scoped>\n",
       "    .dataframe tbody tr th:only-of-type {\n",
       "        vertical-align: middle;\n",
       "    }\n",
       "\n",
       "    .dataframe tbody tr th {\n",
       "        vertical-align: top;\n",
       "    }\n",
       "\n",
       "    .dataframe thead th {\n",
       "        text-align: right;\n",
       "    }\n",
       "</style>\n",
       "<table border=\"1\" class=\"dataframe\">\n",
       "  <thead>\n",
       "    <tr style=\"text-align: right;\">\n",
       "      <th></th>\n",
       "      <th>Cancer_Type</th>\n",
       "      <th>Gene</th>\n",
       "      <th>Comparison</th>\n",
       "      <th>Interacting_Protein</th>\n",
       "      <th>P_Value</th>\n",
       "    </tr>\n",
       "  </thead>\n",
       "  <tbody>\n",
       "    <tr>\n",
       "      <td>0</td>\n",
       "      <td>Gbm</td>\n",
       "      <td>DOCK6</td>\n",
       "      <td>RNU6-1304P_transcriptomics_ENSG00000223306.2</td>\n",
       "      <td>False</td>\n",
       "      <td>9.536445e-16</td>\n",
       "    </tr>\n",
       "    <tr>\n",
       "      <td>1</td>\n",
       "      <td>Gbm</td>\n",
       "      <td>DOCK6</td>\n",
       "      <td>RPSAP64_transcriptomics_ENSG00000227721.1</td>\n",
       "      <td>False</td>\n",
       "      <td>8.820364e-10</td>\n",
       "    </tr>\n",
       "    <tr>\n",
       "      <td>2</td>\n",
       "      <td>Gbm</td>\n",
       "      <td>DOCK6</td>\n",
       "      <td>RP11-285A15.1_transcriptomics_ENSG00000250191.1</td>\n",
       "      <td>False</td>\n",
       "      <td>9.031615e-10</td>\n",
       "    </tr>\n",
       "    <tr>\n",
       "      <td>3</td>\n",
       "      <td>Gbm</td>\n",
       "      <td>DOCK6</td>\n",
       "      <td>RNU6-752P_transcriptomics_ENSG00000252185.1</td>\n",
       "      <td>False</td>\n",
       "      <td>9.031615e-10</td>\n",
       "    </tr>\n",
       "    <tr>\n",
       "      <td>4</td>\n",
       "      <td>Gbm</td>\n",
       "      <td>DOCK6</td>\n",
       "      <td>TNFSF11_transcriptomics_ENSG00000120659.13</td>\n",
       "      <td>False</td>\n",
       "      <td>7.726449e-09</td>\n",
       "    </tr>\n",
       "    <tr>\n",
       "      <td>5</td>\n",
       "      <td>Gbm</td>\n",
       "      <td>DOCK6</td>\n",
       "      <td>SCML2P1_transcriptomics_ENSG00000264127.1</td>\n",
       "      <td>False</td>\n",
       "      <td>1.565341e-08</td>\n",
       "    </tr>\n",
       "    <tr>\n",
       "      <td>6</td>\n",
       "      <td>Gbm</td>\n",
       "      <td>DOCK6</td>\n",
       "      <td>MIR6846_transcriptomics_ENSG00000277888.1</td>\n",
       "      <td>False</td>\n",
       "      <td>2.606630e-08</td>\n",
       "    </tr>\n",
       "    <tr>\n",
       "      <td>7</td>\n",
       "      <td>Gbm</td>\n",
       "      <td>DOCK6</td>\n",
       "      <td>UBE2SP1_transcriptomics_ENSG00000233966.1</td>\n",
       "      <td>False</td>\n",
       "      <td>3.147624e-08</td>\n",
       "    </tr>\n",
       "    <tr>\n",
       "      <td>8</td>\n",
       "      <td>Gbm</td>\n",
       "      <td>DOCK6</td>\n",
       "      <td>RP3-336K20__B.2_transcriptomics_ENSG00000236512.1</td>\n",
       "      <td>False</td>\n",
       "      <td>1.230388e-07</td>\n",
       "    </tr>\n",
       "    <tr>\n",
       "      <td>9</td>\n",
       "      <td>Gbm</td>\n",
       "      <td>DOCK6</td>\n",
       "      <td>RP11-254F19.2_transcriptomics_ENSG00000260859.1</td>\n",
       "      <td>False</td>\n",
       "      <td>1.441931e-07</td>\n",
       "    </tr>\n",
       "    <tr>\n",
       "      <td>10</td>\n",
       "      <td>Gbm</td>\n",
       "      <td>DOCK6</td>\n",
       "      <td>RP5-1011O1.3_transcriptomics_ENSG00000236069.1</td>\n",
       "      <td>False</td>\n",
       "      <td>1.619497e-07</td>\n",
       "    </tr>\n",
       "    <tr>\n",
       "      <td>11</td>\n",
       "      <td>Gbm</td>\n",
       "      <td>DOCK6</td>\n",
       "      <td>MMP9_transcriptomics_ENSG00000100985.7</td>\n",
       "      <td>False</td>\n",
       "      <td>1.840137e-07</td>\n",
       "    </tr>\n",
       "    <tr>\n",
       "      <td>12</td>\n",
       "      <td>Gbm</td>\n",
       "      <td>DOCK6</td>\n",
       "      <td>CTB-31O20.9_transcriptomics_ENSG00000267232.1</td>\n",
       "      <td>False</td>\n",
       "      <td>1.849078e-07</td>\n",
       "    </tr>\n",
       "    <tr>\n",
       "      <td>13</td>\n",
       "      <td>Gbm</td>\n",
       "      <td>DOCK6</td>\n",
       "      <td>ABHD15-AS1_transcriptomics_ENSG00000264031.1</td>\n",
       "      <td>False</td>\n",
       "      <td>2.567574e-07</td>\n",
       "    </tr>\n",
       "    <tr>\n",
       "      <td>14</td>\n",
       "      <td>Gbm</td>\n",
       "      <td>DOCK6</td>\n",
       "      <td>SNORD38_transcriptomics_ENSG00000200733.1</td>\n",
       "      <td>False</td>\n",
       "      <td>2.609546e-07</td>\n",
       "    </tr>\n",
       "    <tr>\n",
       "      <td>15</td>\n",
       "      <td>Gbm</td>\n",
       "      <td>DOCK6</td>\n",
       "      <td>RNA5SP292_transcriptomics_ENSG00000212276.1</td>\n",
       "      <td>False</td>\n",
       "      <td>2.958074e-07</td>\n",
       "    </tr>\n",
       "    <tr>\n",
       "      <td>16</td>\n",
       "      <td>Gbm</td>\n",
       "      <td>DOCK6</td>\n",
       "      <td>RP11-467P22.5_transcriptomics_ENSG00000277876.1</td>\n",
       "      <td>False</td>\n",
       "      <td>3.493358e-07</td>\n",
       "    </tr>\n",
       "    <tr>\n",
       "      <td>17</td>\n",
       "      <td>Gbm</td>\n",
       "      <td>DOCK6</td>\n",
       "      <td>AC113617.1_transcriptomics_ENSG00000228358.4</td>\n",
       "      <td>False</td>\n",
       "      <td>5.416285e-07</td>\n",
       "    </tr>\n",
       "    <tr>\n",
       "      <td>18</td>\n",
       "      <td>Gbm</td>\n",
       "      <td>DOCK6</td>\n",
       "      <td>RP11-474B16.1_transcriptomics_ENSG00000257642.1</td>\n",
       "      <td>False</td>\n",
       "      <td>6.404848e-07</td>\n",
       "    </tr>\n",
       "    <tr>\n",
       "      <td>19</td>\n",
       "      <td>Gbm</td>\n",
       "      <td>DOCK6</td>\n",
       "      <td>MIR6855_transcriptomics_ENSG00000276124.1</td>\n",
       "      <td>False</td>\n",
       "      <td>7.503397e-07</td>\n",
       "    </tr>\n",
       "    <tr>\n",
       "      <td>20</td>\n",
       "      <td>Gbm</td>\n",
       "      <td>DOCK6</td>\n",
       "      <td>OR10T1P_transcriptomics_ENSG00000203758.4</td>\n",
       "      <td>False</td>\n",
       "      <td>7.736305e-07</td>\n",
       "    </tr>\n",
       "    <tr>\n",
       "      <td>21</td>\n",
       "      <td>Gbm</td>\n",
       "      <td>DOCK6</td>\n",
       "      <td>RP11-91J3.3_transcriptomics_ENSG00000250620.1</td>\n",
       "      <td>False</td>\n",
       "      <td>8.197027e-07</td>\n",
       "    </tr>\n",
       "  </tbody>\n",
       "</table>\n",
       "</div>"
      ],
      "text/plain": [
       "   Cancer_Type   Gene                                         Comparison  \\\n",
       "0          Gbm  DOCK6       RNU6-1304P_transcriptomics_ENSG00000223306.2   \n",
       "1          Gbm  DOCK6          RPSAP64_transcriptomics_ENSG00000227721.1   \n",
       "2          Gbm  DOCK6    RP11-285A15.1_transcriptomics_ENSG00000250191.1   \n",
       "3          Gbm  DOCK6        RNU6-752P_transcriptomics_ENSG00000252185.1   \n",
       "4          Gbm  DOCK6         TNFSF11_transcriptomics_ENSG00000120659.13   \n",
       "5          Gbm  DOCK6          SCML2P1_transcriptomics_ENSG00000264127.1   \n",
       "6          Gbm  DOCK6          MIR6846_transcriptomics_ENSG00000277888.1   \n",
       "7          Gbm  DOCK6          UBE2SP1_transcriptomics_ENSG00000233966.1   \n",
       "8          Gbm  DOCK6  RP3-336K20__B.2_transcriptomics_ENSG00000236512.1   \n",
       "9          Gbm  DOCK6    RP11-254F19.2_transcriptomics_ENSG00000260859.1   \n",
       "10         Gbm  DOCK6     RP5-1011O1.3_transcriptomics_ENSG00000236069.1   \n",
       "11         Gbm  DOCK6             MMP9_transcriptomics_ENSG00000100985.7   \n",
       "12         Gbm  DOCK6      CTB-31O20.9_transcriptomics_ENSG00000267232.1   \n",
       "13         Gbm  DOCK6       ABHD15-AS1_transcriptomics_ENSG00000264031.1   \n",
       "14         Gbm  DOCK6          SNORD38_transcriptomics_ENSG00000200733.1   \n",
       "15         Gbm  DOCK6        RNA5SP292_transcriptomics_ENSG00000212276.1   \n",
       "16         Gbm  DOCK6    RP11-467P22.5_transcriptomics_ENSG00000277876.1   \n",
       "17         Gbm  DOCK6       AC113617.1_transcriptomics_ENSG00000228358.4   \n",
       "18         Gbm  DOCK6    RP11-474B16.1_transcriptomics_ENSG00000257642.1   \n",
       "19         Gbm  DOCK6          MIR6855_transcriptomics_ENSG00000276124.1   \n",
       "20         Gbm  DOCK6          OR10T1P_transcriptomics_ENSG00000203758.4   \n",
       "21         Gbm  DOCK6      RP11-91J3.3_transcriptomics_ENSG00000250620.1   \n",
       "\n",
       "   Interacting_Protein       P_Value  \n",
       "0                False  9.536445e-16  \n",
       "1                False  8.820364e-10  \n",
       "2                False  9.031615e-10  \n",
       "3                False  9.031615e-10  \n",
       "4                False  7.726449e-09  \n",
       "5                False  1.565341e-08  \n",
       "6                False  2.606630e-08  \n",
       "7                False  3.147624e-08  \n",
       "8                False  1.230388e-07  \n",
       "9                False  1.441931e-07  \n",
       "10               False  1.619497e-07  \n",
       "11               False  1.840137e-07  \n",
       "12               False  1.849078e-07  \n",
       "13               False  2.567574e-07  \n",
       "14               False  2.609546e-07  \n",
       "15               False  2.958074e-07  \n",
       "16               False  3.493358e-07  \n",
       "17               False  5.416285e-07  \n",
       "18               False  6.404848e-07  \n",
       "19               False  7.503397e-07  \n",
       "20               False  7.736305e-07  \n",
       "21               False  8.197027e-07  "
      ]
     },
     "metadata": {},
     "output_type": "display_data"
    }
   ],
   "source": [
    "if len(all_significant_comparisons) > 0:\n",
    "    display(all_significant_comparisons)\n",
    "    \n",
    "else:\n",
    "    print('No Significant Comparisons!')"
   ]
  },
  {
   "cell_type": "markdown",
   "metadata": {},
   "source": [
    "### Write Significant Comparisons (if any) to Shared CSV file"
   ]
  },
  {
   "cell_type": "code",
   "execution_count": 10,
   "metadata": {},
   "outputs": [
    {
     "data": {
      "text/plain": [
       "\"\\nexisting_results = pd.read_csv(gene+'_Trans_Results.csv')\\n\\nupdated_results = pd.concat([existing_results, all_significant_comparisons], sort=False)\\n\\nupdated_results.to_csv(path_or_buf = gene + '_Trans_Results.csv', index=False)\""
      ]
     },
     "execution_count": 10,
     "metadata": {},
     "output_type": "execute_result"
    }
   ],
   "source": [
    "'''\n",
    "existing_results = pd.read_csv(gene+'_Trans_Results.csv')\n",
    "\n",
    "updated_results = pd.concat([existing_results, all_significant_comparisons], sort=False)\n",
    "\n",
    "updated_results.to_csv(path_or_buf = gene + '_Trans_Results.csv', index=False)'''"
   ]
  }
 ],
 "metadata": {
  "kernelspec": {
   "display_name": "Python 3",
   "language": "python",
   "name": "python3"
  },
  "language_info": {
   "codemirror_mode": {
    "name": "ipython",
    "version": 3
   },
   "file_extension": ".py",
   "mimetype": "text/x-python",
   "name": "python",
   "nbconvert_exporter": "python",
   "pygments_lexer": "ipython3",
   "version": "3.7.3"
  }
 },
 "nbformat": 4,
 "nbformat_minor": 2
}
