{
 "cells": [
  {
   "cell_type": "markdown",
   "metadata": {},
   "source": [
    "# ARHGAP5 Mutation Trans Effect on Transcriptomics"
   ]
  },
  {
   "cell_type": "markdown",
   "metadata": {},
   "source": [
    "### Library Imports"
   ]
  },
  {
   "cell_type": "code",
   "execution_count": 1,
   "metadata": {},
   "outputs": [
    {
     "name": "stdout",
     "output_type": "stream",
     "text": [
      "                                    \r"
     ]
    }
   ],
   "source": [
    "import pandas as pd\n",
    "import numpy as np\n",
    "import scipy.stats\n",
    "\n",
    "import warnings\n",
    "warnings.filterwarnings(\"ignore\")\n",
    "\n",
    "import cptac\n",
    "import cptac.utils as al\n",
    "\n",
    "brain = cptac.Gbm()"
   ]
  },
  {
   "cell_type": "markdown",
   "metadata": {},
   "source": [
    "### Select Gene"
   ]
  },
  {
   "cell_type": "code",
   "execution_count": 2,
   "metadata": {},
   "outputs": [],
   "source": [
    "gene = \"ARHGAP5\""
   ]
  },
  {
   "cell_type": "markdown",
   "metadata": {},
   "source": [
    "### Investigate Proteomics, Phosphoproteomics, Acetylproteomics, or Transcriptomics"
   ]
  },
  {
   "cell_type": "code",
   "execution_count": 3,
   "metadata": {},
   "outputs": [],
   "source": [
    "#omics = \"proteomics\"\n",
    "omics = \"transcriptomics\"\n",
    "#omics = \"phosphoproteomics\"\n",
    "#omics = \"acetylproteomics\""
   ]
  },
  {
   "cell_type": "markdown",
   "metadata": {},
   "source": [
    "### Track all significant comparisons in Dataframe"
   ]
  },
  {
   "cell_type": "code",
   "execution_count": 4,
   "metadata": {},
   "outputs": [],
   "source": [
    "all_significant_comparisons = pd.DataFrame(columns=['Cancer_Type', 'Gene', 'Comparison','Interacting_Protein','P_Value'])"
   ]
  },
  {
   "cell_type": "code",
   "execution_count": 5,
   "metadata": {},
   "outputs": [],
   "source": [
    "def add_to_all_significant_comparisons(df, cancer, interacting, all_sig_comp):\n",
    "    expanded = df\n",
    "    expanded['Gene'] = gene\n",
    "    expanded['Cancer_Type'] = cancer\n",
    "    expanded['Interacting_Protein'] = interacting\n",
    "    \n",
    "    updated_all_comparisons = pd.concat([all_sig_comp, expanded], sort=False)\n",
    "    \n",
    "    return updated_all_comparisons"
   ]
  },
  {
   "cell_type": "markdown",
   "metadata": {},
   "source": [
    "# Interacting Proteins: Transcriptomics"
   ]
  },
  {
   "cell_type": "markdown",
   "metadata": {},
   "source": [
    "### Generate interacting protein list"
   ]
  },
  {
   "cell_type": "markdown",
   "metadata": {},
   "source": [
    "Make a call to cptac.utils to get the interacting proteins method, which interacts with the uniprot and string databases to generate a list of known interacting partners with the given gene."
   ]
  },
  {
   "cell_type": "code",
   "execution_count": 6,
   "metadata": {},
   "outputs": [
    {
     "name": "stdout",
     "output_type": "stream",
     "text": [
      "Interacting Proteins:\n",
      "RHOV\n",
      "ARHGEF5\n",
      "RHOQ\n",
      "RAC2\n",
      "RHOF\n",
      "RHOB\n",
      "RHOC\n",
      "RAC3\n",
      "RHOD\n",
      "RHOJ\n",
      "RHOT2\n",
      "RHOBTB1\n",
      "RHOG\n",
      "RAC1\n",
      "RHOT1\n",
      "RHOU\n",
      "SRC\n",
      "RHOH\n",
      "ARHGAP5\n",
      "ROCK1\n",
      "CDC42\n",
      "RHOA\n",
      "HRAS\n",
      "RHOBTB2\n",
      "ARF1\n",
      "VAV1\n",
      "RND3\n",
      "RND1\n",
      "RND2\n",
      "XRCC6\n",
      "SMURF1\n",
      "SMURF2\n",
      "NPM1\n",
      "ADRB2\n",
      "UNK\n",
      "CDH1\n",
      "PTPRU\n",
      "IQCF1\n",
      "PLK1\n",
      "RNF123\n"
     ]
    }
   ],
   "source": [
    "# Use get interacting proteins method to generate list of interacting proteins\n",
    "interacting_proteins = al.get_interacting_proteins(gene)\n",
    "\n",
    "# Show interacting protein list\n",
    "print(\"Interacting Proteins:\")\n",
    "for interacting_protein in interacting_proteins:\n",
    "    print(interacting_protein)"
   ]
  },
  {
   "cell_type": "markdown",
   "metadata": {},
   "source": [
    "### Test for significant comparisons in any of interacting proteins"
   ]
  },
  {
   "cell_type": "code",
   "execution_count": 7,
   "metadata": {},
   "outputs": [
    {
     "name": "stdout",
     "output_type": "stream",
     "text": [
      "Doing t-test comparisons\n",
      "\n",
      "No significant comparisons.\n"
     ]
    },
    {
     "name": "stderr",
     "output_type": "stream",
     "text": [
      "Warning: In joining the somatic_mutation table, no mutations were found for the following samples, so they were filled with Wildtype_Tumor or Wildtype_Normal: 102 samples for the ARHGAP5 gene (C:\\Users\\brittany henderson\\Anaconda3\\envs\\Research\\lib\\site-packages\\ipykernel_launcher.py, line 2)\n"
     ]
    }
   ],
   "source": [
    "# Create dataframe in order to do comparisons with wrap_ttest\n",
    "protdf = brain.join_omics_to_mutations(mutations_genes=[gene], omics_df_name=omics, omics_genes=interacting_proteins)\n",
    "protdf = brain.reduce_multiindex(protdf, flatten=True)\n",
    "protdf = protdf[protdf.Sample_Status == 'Tumor'] # drop Normal samples\n",
    "\n",
    "# Create the binary valued column needed to do the comparison\n",
    "for ind, row in protdf.iterrows():\n",
    "    if row[gene+\"_Mutation_Status\"] != 'Wildtype_Tumor':\n",
    "        protdf.at[ind,'Label'] = 'Mutated'\n",
    "    else:\n",
    "        protdf.at[ind,'Label'] = 'Wildtype'\n",
    "\n",
    "# Format the dataframe correctly\n",
    "protdf = protdf.drop(gene+\"_Mutation\",axis=1)\n",
    "protdf = protdf.drop(gene+\"_Location\",axis=1)\n",
    "protdf = protdf.drop(gene+\"_Mutation_Status\", axis=1)\n",
    "protdf = protdf.drop(\"Sample_Status\",axis=1)\n",
    "\n",
    "\n",
    "# Make list of columns to be compared using t-tests\n",
    "col_list = list(protdf.columns)\n",
    "col_list.remove('Label')\n",
    "\n",
    "print(\"Doing t-test comparisons\\n\")\n",
    "\n",
    "# Call wrap_ttest, pass in formatted dataframe\n",
    "wrap_results = al.wrap_ttest(protdf, 'Label', col_list)\n",
    "\n",
    "# Print results, if anything significant was found\n",
    "if wrap_results is not None:\n",
    "        print(wrap_results)\n",
    "        print(\"\\n\\n\")\n",
    "        \n",
    "        all_significant_comparisons = add_to_all_significant_comparisons(wrap_results, \"Gbm\", True, all_significant_comparisons)\n",
    "        "
   ]
  },
  {
   "cell_type": "markdown",
   "metadata": {},
   "source": [
    "# All Proteins: Transcriptomics "
   ]
  },
  {
   "cell_type": "code",
   "execution_count": 8,
   "metadata": {},
   "outputs": [
    {
     "name": "stdout",
     "output_type": "stream",
     "text": [
      "\n",
      "Gene:  ARHGAP5\n"
     ]
    },
    {
     "name": "stderr",
     "output_type": "stream",
     "text": [
      "Warning: In joining the somatic_mutation table, no mutations were found for the following samples, so they were filled with Wildtype_Tumor or Wildtype_Normal: 102 samples for the ARHGAP5 gene (C:\\Users\\brittany henderson\\Anaconda3\\envs\\Research\\lib\\site-packages\\ipykernel_launcher.py, line 7)\n"
     ]
    },
    {
     "name": "stdout",
     "output_type": "stream",
     "text": [
      "Doing t-test comparisons\n",
      "\n",
      "                                         Comparison       P_Value\n",
      "0           ATP4B_transcriptomics_ENSG00000186009.4  6.153592e-10\n",
      "1   RP11-386G11.3_transcriptomics_ENSG00000258283.1  1.288919e-08\n",
      "2            DRGX_transcriptomics_ENSG00000165606.7  1.438286e-08\n",
      "3      AC012354.6_transcriptomics_ENSG00000225156.2  2.146154e-08\n",
      "4         LRRC10B_transcriptomics_ENSG00000204950.3  2.262499e-08\n",
      "5         MYB-AS1_transcriptomics_ENSG00000236703.1  2.826756e-08\n",
      "6          uc_338_transcriptomics_ENSG00000275001.1  2.838073e-08\n",
      "7    RP11-316I3.2_transcriptomics_ENSG00000238054.1  2.923351e-08\n",
      "8    RP11-351C8.1_transcriptomics_ENSG00000253573.1  3.252915e-08\n",
      "9   CTD-2311M21.2_transcriptomics_ENSG00000260266.1  3.395080e-08\n",
      "10  RP11-474L11.3_transcriptomics_ENSG00000220730.2  3.825574e-08\n",
      "11   RP11-313I2.6_transcriptomics_ENSG00000255170.2  3.964755e-08\n",
      "12      RNU6-199P_transcriptomics_ENSG00000199824.1  4.160904e-08\n",
      "13         TBX20_transcriptomics_ENSG00000164532.10  4.848240e-08\n",
      "14     AC080125.1_transcriptomics_ENSG00000225406.1  6.399473e-08\n",
      "15       C2orf70_transcriptomics_ENSG00000173557.13  8.284370e-08\n",
      "16      Six3os1_6_transcriptomics_ENSG00000274547.1  1.245963e-07\n",
      "17      RNA5SP384_transcriptomics_ENSG00000252424.1  1.447118e-07\n",
      "18        MIR5707_transcriptomics_ENSG00000265598.1  1.934706e-07\n",
      "19       CCDC108_transcriptomics_ENSG00000181378.12  1.970628e-07\n",
      "20        MAPK15_transcriptomics_ENSG00000181085.13  2.309301e-07\n",
      "21         KCNJ13_transcriptomics_ENSG00000115474.6  3.231088e-07\n",
      "22       CCDC146_transcriptomics_ENSG00000135205.13  5.820300e-07\n",
      "23      C22orf15_transcriptomics_ENSG00000169314.13  6.038888e-07\n",
      "24         ERBB2_transcriptomics_ENSG00000141736.12  6.506256e-07\n",
      "25  RP11-300G22.2_transcriptomics_ENSG00000259561.1  7.462659e-07\n",
      "26        LGALS7B_transcriptomics_ENSG00000178934.4  7.948600e-07\n",
      "27  RP11-136F16.2_transcriptomics_ENSG00000257220.1  8.168254e-07\n",
      "\n",
      "\n",
      "\n"
     ]
    }
   ],
   "source": [
    "try:\n",
    "    print(\"\\nGene: \", gene)\n",
    "\n",
    "    # Use all proteins\n",
    "\n",
    "    # Create dataframe in order to do comparisons with wrap_ttest\n",
    "    protdf = brain.join_omics_to_mutations(mutations_genes=[gene], omics_df_name=omics)\n",
    "    protdf = brain.reduce_multiindex(protdf, flatten=True) # flatten for specific column names\n",
    "    protdf = protdf.loc[protdf['Sample_Status'] == 'Tumor']\n",
    "    \n",
    "    # Create binary column \n",
    "    protdf['Label'] = np.where(\n",
    "                protdf[gene+'_Mutation_Status'] == 'Wildtype_Tumor', 'Wildtype', 'Mutated')\n",
    "\n",
    "    # Format the dataframe correctly'''\n",
    "    protdf = protdf.drop(gene+\"_Mutation\",axis=1)\n",
    "    protdf = protdf.drop(gene+\"_Location\",axis=1)\n",
    "    protdf = protdf.drop(gene+\"_Mutation_Status\", axis=1)\n",
    "    protdf = protdf.drop(\"Sample_Status\",axis=1)\n",
    "\n",
    "    # Make list of columns to be compared using t-tests\n",
    "    col_list = list(protdf.columns)\n",
    "    col_list.remove('Label')\n",
    "\n",
    "    print(\"Doing t-test comparisons\\n\")\n",
    "    \n",
    "    # Call wrap_ttest, pass in formatted dataframe\n",
    "    wrap_results = al.wrap_ttest(protdf, 'Label', col_list)\n",
    "\n",
    "    # Print results, if anything significant was found\n",
    "    if wrap_results is not None:\n",
    "            print(wrap_results)\n",
    "            print(\"\\n\\n\")\n",
    "            \n",
    "            all_significant_comparisons = add_to_all_significant_comparisons(wrap_results, \"Gbm\", False, all_significant_comparisons)\n",
    "\n",
    "\n",
    "except Exception as e:\n",
    "    print(\"Error in Comparison\")\n",
    "    print(e)"
   ]
  },
  {
   "cell_type": "markdown",
   "metadata": {},
   "source": [
    "# Print all significant comparisons"
   ]
  },
  {
   "cell_type": "code",
   "execution_count": 9,
   "metadata": {},
   "outputs": [
    {
     "data": {
      "text/html": [
       "<div>\n",
       "<style scoped>\n",
       "    .dataframe tbody tr th:only-of-type {\n",
       "        vertical-align: middle;\n",
       "    }\n",
       "\n",
       "    .dataframe tbody tr th {\n",
       "        vertical-align: top;\n",
       "    }\n",
       "\n",
       "    .dataframe thead th {\n",
       "        text-align: right;\n",
       "    }\n",
       "</style>\n",
       "<table border=\"1\" class=\"dataframe\">\n",
       "  <thead>\n",
       "    <tr style=\"text-align: right;\">\n",
       "      <th></th>\n",
       "      <th>Cancer_Type</th>\n",
       "      <th>Gene</th>\n",
       "      <th>Comparison</th>\n",
       "      <th>Interacting_Protein</th>\n",
       "      <th>P_Value</th>\n",
       "    </tr>\n",
       "  </thead>\n",
       "  <tbody>\n",
       "    <tr>\n",
       "      <td>0</td>\n",
       "      <td>Gbm</td>\n",
       "      <td>ARHGAP5</td>\n",
       "      <td>ATP4B_transcriptomics_ENSG00000186009.4</td>\n",
       "      <td>False</td>\n",
       "      <td>6.153592e-10</td>\n",
       "    </tr>\n",
       "    <tr>\n",
       "      <td>1</td>\n",
       "      <td>Gbm</td>\n",
       "      <td>ARHGAP5</td>\n",
       "      <td>RP11-386G11.3_transcriptomics_ENSG00000258283.1</td>\n",
       "      <td>False</td>\n",
       "      <td>1.288919e-08</td>\n",
       "    </tr>\n",
       "    <tr>\n",
       "      <td>2</td>\n",
       "      <td>Gbm</td>\n",
       "      <td>ARHGAP5</td>\n",
       "      <td>DRGX_transcriptomics_ENSG00000165606.7</td>\n",
       "      <td>False</td>\n",
       "      <td>1.438286e-08</td>\n",
       "    </tr>\n",
       "    <tr>\n",
       "      <td>3</td>\n",
       "      <td>Gbm</td>\n",
       "      <td>ARHGAP5</td>\n",
       "      <td>AC012354.6_transcriptomics_ENSG00000225156.2</td>\n",
       "      <td>False</td>\n",
       "      <td>2.146154e-08</td>\n",
       "    </tr>\n",
       "    <tr>\n",
       "      <td>4</td>\n",
       "      <td>Gbm</td>\n",
       "      <td>ARHGAP5</td>\n",
       "      <td>LRRC10B_transcriptomics_ENSG00000204950.3</td>\n",
       "      <td>False</td>\n",
       "      <td>2.262499e-08</td>\n",
       "    </tr>\n",
       "    <tr>\n",
       "      <td>5</td>\n",
       "      <td>Gbm</td>\n",
       "      <td>ARHGAP5</td>\n",
       "      <td>MYB-AS1_transcriptomics_ENSG00000236703.1</td>\n",
       "      <td>False</td>\n",
       "      <td>2.826756e-08</td>\n",
       "    </tr>\n",
       "    <tr>\n",
       "      <td>6</td>\n",
       "      <td>Gbm</td>\n",
       "      <td>ARHGAP5</td>\n",
       "      <td>uc_338_transcriptomics_ENSG00000275001.1</td>\n",
       "      <td>False</td>\n",
       "      <td>2.838073e-08</td>\n",
       "    </tr>\n",
       "    <tr>\n",
       "      <td>7</td>\n",
       "      <td>Gbm</td>\n",
       "      <td>ARHGAP5</td>\n",
       "      <td>RP11-316I3.2_transcriptomics_ENSG00000238054.1</td>\n",
       "      <td>False</td>\n",
       "      <td>2.923351e-08</td>\n",
       "    </tr>\n",
       "    <tr>\n",
       "      <td>8</td>\n",
       "      <td>Gbm</td>\n",
       "      <td>ARHGAP5</td>\n",
       "      <td>RP11-351C8.1_transcriptomics_ENSG00000253573.1</td>\n",
       "      <td>False</td>\n",
       "      <td>3.252915e-08</td>\n",
       "    </tr>\n",
       "    <tr>\n",
       "      <td>9</td>\n",
       "      <td>Gbm</td>\n",
       "      <td>ARHGAP5</td>\n",
       "      <td>CTD-2311M21.2_transcriptomics_ENSG00000260266.1</td>\n",
       "      <td>False</td>\n",
       "      <td>3.395080e-08</td>\n",
       "    </tr>\n",
       "    <tr>\n",
       "      <td>10</td>\n",
       "      <td>Gbm</td>\n",
       "      <td>ARHGAP5</td>\n",
       "      <td>RP11-474L11.3_transcriptomics_ENSG00000220730.2</td>\n",
       "      <td>False</td>\n",
       "      <td>3.825574e-08</td>\n",
       "    </tr>\n",
       "    <tr>\n",
       "      <td>11</td>\n",
       "      <td>Gbm</td>\n",
       "      <td>ARHGAP5</td>\n",
       "      <td>RP11-313I2.6_transcriptomics_ENSG00000255170.2</td>\n",
       "      <td>False</td>\n",
       "      <td>3.964755e-08</td>\n",
       "    </tr>\n",
       "    <tr>\n",
       "      <td>12</td>\n",
       "      <td>Gbm</td>\n",
       "      <td>ARHGAP5</td>\n",
       "      <td>RNU6-199P_transcriptomics_ENSG00000199824.1</td>\n",
       "      <td>False</td>\n",
       "      <td>4.160904e-08</td>\n",
       "    </tr>\n",
       "    <tr>\n",
       "      <td>13</td>\n",
       "      <td>Gbm</td>\n",
       "      <td>ARHGAP5</td>\n",
       "      <td>TBX20_transcriptomics_ENSG00000164532.10</td>\n",
       "      <td>False</td>\n",
       "      <td>4.848240e-08</td>\n",
       "    </tr>\n",
       "    <tr>\n",
       "      <td>14</td>\n",
       "      <td>Gbm</td>\n",
       "      <td>ARHGAP5</td>\n",
       "      <td>AC080125.1_transcriptomics_ENSG00000225406.1</td>\n",
       "      <td>False</td>\n",
       "      <td>6.399473e-08</td>\n",
       "    </tr>\n",
       "    <tr>\n",
       "      <td>15</td>\n",
       "      <td>Gbm</td>\n",
       "      <td>ARHGAP5</td>\n",
       "      <td>C2orf70_transcriptomics_ENSG00000173557.13</td>\n",
       "      <td>False</td>\n",
       "      <td>8.284370e-08</td>\n",
       "    </tr>\n",
       "    <tr>\n",
       "      <td>16</td>\n",
       "      <td>Gbm</td>\n",
       "      <td>ARHGAP5</td>\n",
       "      <td>Six3os1_6_transcriptomics_ENSG00000274547.1</td>\n",
       "      <td>False</td>\n",
       "      <td>1.245963e-07</td>\n",
       "    </tr>\n",
       "    <tr>\n",
       "      <td>17</td>\n",
       "      <td>Gbm</td>\n",
       "      <td>ARHGAP5</td>\n",
       "      <td>RNA5SP384_transcriptomics_ENSG00000252424.1</td>\n",
       "      <td>False</td>\n",
       "      <td>1.447118e-07</td>\n",
       "    </tr>\n",
       "    <tr>\n",
       "      <td>18</td>\n",
       "      <td>Gbm</td>\n",
       "      <td>ARHGAP5</td>\n",
       "      <td>MIR5707_transcriptomics_ENSG00000265598.1</td>\n",
       "      <td>False</td>\n",
       "      <td>1.934706e-07</td>\n",
       "    </tr>\n",
       "    <tr>\n",
       "      <td>19</td>\n",
       "      <td>Gbm</td>\n",
       "      <td>ARHGAP5</td>\n",
       "      <td>CCDC108_transcriptomics_ENSG00000181378.12</td>\n",
       "      <td>False</td>\n",
       "      <td>1.970628e-07</td>\n",
       "    </tr>\n",
       "    <tr>\n",
       "      <td>20</td>\n",
       "      <td>Gbm</td>\n",
       "      <td>ARHGAP5</td>\n",
       "      <td>MAPK15_transcriptomics_ENSG00000181085.13</td>\n",
       "      <td>False</td>\n",
       "      <td>2.309301e-07</td>\n",
       "    </tr>\n",
       "    <tr>\n",
       "      <td>21</td>\n",
       "      <td>Gbm</td>\n",
       "      <td>ARHGAP5</td>\n",
       "      <td>KCNJ13_transcriptomics_ENSG00000115474.6</td>\n",
       "      <td>False</td>\n",
       "      <td>3.231088e-07</td>\n",
       "    </tr>\n",
       "    <tr>\n",
       "      <td>22</td>\n",
       "      <td>Gbm</td>\n",
       "      <td>ARHGAP5</td>\n",
       "      <td>CCDC146_transcriptomics_ENSG00000135205.13</td>\n",
       "      <td>False</td>\n",
       "      <td>5.820300e-07</td>\n",
       "    </tr>\n",
       "    <tr>\n",
       "      <td>23</td>\n",
       "      <td>Gbm</td>\n",
       "      <td>ARHGAP5</td>\n",
       "      <td>C22orf15_transcriptomics_ENSG00000169314.13</td>\n",
       "      <td>False</td>\n",
       "      <td>6.038888e-07</td>\n",
       "    </tr>\n",
       "    <tr>\n",
       "      <td>24</td>\n",
       "      <td>Gbm</td>\n",
       "      <td>ARHGAP5</td>\n",
       "      <td>ERBB2_transcriptomics_ENSG00000141736.12</td>\n",
       "      <td>False</td>\n",
       "      <td>6.506256e-07</td>\n",
       "    </tr>\n",
       "    <tr>\n",
       "      <td>25</td>\n",
       "      <td>Gbm</td>\n",
       "      <td>ARHGAP5</td>\n",
       "      <td>RP11-300G22.2_transcriptomics_ENSG00000259561.1</td>\n",
       "      <td>False</td>\n",
       "      <td>7.462659e-07</td>\n",
       "    </tr>\n",
       "    <tr>\n",
       "      <td>26</td>\n",
       "      <td>Gbm</td>\n",
       "      <td>ARHGAP5</td>\n",
       "      <td>LGALS7B_transcriptomics_ENSG00000178934.4</td>\n",
       "      <td>False</td>\n",
       "      <td>7.948600e-07</td>\n",
       "    </tr>\n",
       "    <tr>\n",
       "      <td>27</td>\n",
       "      <td>Gbm</td>\n",
       "      <td>ARHGAP5</td>\n",
       "      <td>RP11-136F16.2_transcriptomics_ENSG00000257220.1</td>\n",
       "      <td>False</td>\n",
       "      <td>8.168254e-07</td>\n",
       "    </tr>\n",
       "  </tbody>\n",
       "</table>\n",
       "</div>"
      ],
      "text/plain": [
       "   Cancer_Type     Gene                                       Comparison  \\\n",
       "0          Gbm  ARHGAP5          ATP4B_transcriptomics_ENSG00000186009.4   \n",
       "1          Gbm  ARHGAP5  RP11-386G11.3_transcriptomics_ENSG00000258283.1   \n",
       "2          Gbm  ARHGAP5           DRGX_transcriptomics_ENSG00000165606.7   \n",
       "3          Gbm  ARHGAP5     AC012354.6_transcriptomics_ENSG00000225156.2   \n",
       "4          Gbm  ARHGAP5        LRRC10B_transcriptomics_ENSG00000204950.3   \n",
       "5          Gbm  ARHGAP5        MYB-AS1_transcriptomics_ENSG00000236703.1   \n",
       "6          Gbm  ARHGAP5         uc_338_transcriptomics_ENSG00000275001.1   \n",
       "7          Gbm  ARHGAP5   RP11-316I3.2_transcriptomics_ENSG00000238054.1   \n",
       "8          Gbm  ARHGAP5   RP11-351C8.1_transcriptomics_ENSG00000253573.1   \n",
       "9          Gbm  ARHGAP5  CTD-2311M21.2_transcriptomics_ENSG00000260266.1   \n",
       "10         Gbm  ARHGAP5  RP11-474L11.3_transcriptomics_ENSG00000220730.2   \n",
       "11         Gbm  ARHGAP5   RP11-313I2.6_transcriptomics_ENSG00000255170.2   \n",
       "12         Gbm  ARHGAP5      RNU6-199P_transcriptomics_ENSG00000199824.1   \n",
       "13         Gbm  ARHGAP5         TBX20_transcriptomics_ENSG00000164532.10   \n",
       "14         Gbm  ARHGAP5     AC080125.1_transcriptomics_ENSG00000225406.1   \n",
       "15         Gbm  ARHGAP5       C2orf70_transcriptomics_ENSG00000173557.13   \n",
       "16         Gbm  ARHGAP5      Six3os1_6_transcriptomics_ENSG00000274547.1   \n",
       "17         Gbm  ARHGAP5      RNA5SP384_transcriptomics_ENSG00000252424.1   \n",
       "18         Gbm  ARHGAP5        MIR5707_transcriptomics_ENSG00000265598.1   \n",
       "19         Gbm  ARHGAP5       CCDC108_transcriptomics_ENSG00000181378.12   \n",
       "20         Gbm  ARHGAP5        MAPK15_transcriptomics_ENSG00000181085.13   \n",
       "21         Gbm  ARHGAP5         KCNJ13_transcriptomics_ENSG00000115474.6   \n",
       "22         Gbm  ARHGAP5       CCDC146_transcriptomics_ENSG00000135205.13   \n",
       "23         Gbm  ARHGAP5      C22orf15_transcriptomics_ENSG00000169314.13   \n",
       "24         Gbm  ARHGAP5         ERBB2_transcriptomics_ENSG00000141736.12   \n",
       "25         Gbm  ARHGAP5  RP11-300G22.2_transcriptomics_ENSG00000259561.1   \n",
       "26         Gbm  ARHGAP5        LGALS7B_transcriptomics_ENSG00000178934.4   \n",
       "27         Gbm  ARHGAP5  RP11-136F16.2_transcriptomics_ENSG00000257220.1   \n",
       "\n",
       "   Interacting_Protein       P_Value  \n",
       "0                False  6.153592e-10  \n",
       "1                False  1.288919e-08  \n",
       "2                False  1.438286e-08  \n",
       "3                False  2.146154e-08  \n",
       "4                False  2.262499e-08  \n",
       "5                False  2.826756e-08  \n",
       "6                False  2.838073e-08  \n",
       "7                False  2.923351e-08  \n",
       "8                False  3.252915e-08  \n",
       "9                False  3.395080e-08  \n",
       "10               False  3.825574e-08  \n",
       "11               False  3.964755e-08  \n",
       "12               False  4.160904e-08  \n",
       "13               False  4.848240e-08  \n",
       "14               False  6.399473e-08  \n",
       "15               False  8.284370e-08  \n",
       "16               False  1.245963e-07  \n",
       "17               False  1.447118e-07  \n",
       "18               False  1.934706e-07  \n",
       "19               False  1.970628e-07  \n",
       "20               False  2.309301e-07  \n",
       "21               False  3.231088e-07  \n",
       "22               False  5.820300e-07  \n",
       "23               False  6.038888e-07  \n",
       "24               False  6.506256e-07  \n",
       "25               False  7.462659e-07  \n",
       "26               False  7.948600e-07  \n",
       "27               False  8.168254e-07  "
      ]
     },
     "metadata": {},
     "output_type": "display_data"
    }
   ],
   "source": [
    "if len(all_significant_comparisons) > 0:\n",
    "    display(all_significant_comparisons)\n",
    "    \n",
    "else:\n",
    "    print('No Significant Comparisons!')"
   ]
  },
  {
   "cell_type": "markdown",
   "metadata": {},
   "source": [
    "### Write Significant Comparisons (if any) to Shared CSV file"
   ]
  },
  {
   "cell_type": "code",
   "execution_count": 10,
   "metadata": {},
   "outputs": [
    {
     "data": {
      "text/plain": [
       "\"\\nexisting_results = pd.read_csv(gene+'_Trans_Results.csv')\\n\\nupdated_results = pd.concat([existing_results, all_significant_comparisons], sort=False)\\n\\nupdated_results.to_csv(path_or_buf = gene + '_Trans_Results.csv', index=False)\""
      ]
     },
     "execution_count": 10,
     "metadata": {},
     "output_type": "execute_result"
    }
   ],
   "source": [
    "'''\n",
    "existing_results = pd.read_csv(gene+'_Trans_Results.csv')\n",
    "\n",
    "updated_results = pd.concat([existing_results, all_significant_comparisons], sort=False)\n",
    "\n",
    "updated_results.to_csv(path_or_buf = gene + '_Trans_Results.csv', index=False)'''"
   ]
  }
 ],
 "metadata": {
  "kernelspec": {
   "display_name": "Python 3",
   "language": "python",
   "name": "python3"
  },
  "language_info": {
   "codemirror_mode": {
    "name": "ipython",
    "version": 3
   },
   "file_extension": ".py",
   "mimetype": "text/x-python",
   "name": "python",
   "nbconvert_exporter": "python",
   "pygments_lexer": "ipython3",
   "version": "3.7.3"
  }
 },
 "nbformat": 4,
 "nbformat_minor": 2
}
