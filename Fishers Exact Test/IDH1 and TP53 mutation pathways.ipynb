{
 "cells": [
  {
   "cell_type": "markdown",
   "metadata": {},
   "source": [
    "# Fishers test for IDH1 and TP53 mutation pathways"
   ]
  },
  {
   "cell_type": "code",
   "execution_count": 1,
   "metadata": {},
   "outputs": [],
   "source": [
    "import seaborn as sns\n",
    "import pandas as pd\n",
    "import numpy as np\n",
    "import matplotlib.pyplot as plt\n",
    "import scipy.stats\n",
    "import cptac\n",
    "import cptac.utils as u"
   ]
  },
  {
   "cell_type": "code",
   "execution_count": 2,
   "metadata": {},
   "outputs": [
    {
     "name": "stdout",
     "output_type": "stream",
     "text": [
      "                                    \r"
     ]
    }
   ],
   "source": [
    "gb = cptac.Gbm()"
   ]
  },
  {
   "cell_type": "code",
   "execution_count": 4,
   "metadata": {},
   "outputs": [
    {
     "name": "stderr",
     "output_type": "stream",
     "text": [
      "Warning: In joining the somatic_mutation table, no mutations were found for the following samples, so they were filled with Wildtype_Tumor or Wildtype_Normal: 101 samples for the IDH1 gene, 77 samples for the TP53 gene (C:\\Users\\brittany henderson\\Anaconda3\\envs\\Research\\lib\\site-packages\\ipykernel_launcher.py, line 2)\n"
     ]
    }
   ],
   "source": [
    "#get mutations and drop normal samples\n",
    "mutations = gb.join_omics_to_mutations(\n",
    "    omics_genes=['IDH1'], omics_df_name='proteomics', mutations_genes=['IDH1','TP53'])\n",
    "mutations = mutations.loc[mutations['IDH1_Mutation_Status'] != 'Wildtype_Normal']\n",
    "mutations = mutations.loc[mutations['TP53_Mutation_Status'] != 'Wildtype_Normal']"
   ]
  },
  {
   "cell_type": "code",
   "execution_count": 6,
   "metadata": {},
   "outputs": [
    {
     "data": {
      "text/html": [
       "<div>\n",
       "<style scoped>\n",
       "    .dataframe tbody tr th:only-of-type {\n",
       "        vertical-align: middle;\n",
       "    }\n",
       "\n",
       "    .dataframe tbody tr th {\n",
       "        vertical-align: top;\n",
       "    }\n",
       "\n",
       "    .dataframe thead th {\n",
       "        text-align: right;\n",
       "    }\n",
       "</style>\n",
       "<table border=\"1\" class=\"dataframe\">\n",
       "  <thead>\n",
       "    <tr style=\"text-align: right;\">\n",
       "      <th>Name</th>\n",
       "      <th>IDH1_proteomics</th>\n",
       "      <th>IDH1_Mutation</th>\n",
       "      <th>IDH1_Location</th>\n",
       "      <th>IDH1_Mutation_Status</th>\n",
       "      <th>TP53_Mutation</th>\n",
       "      <th>TP53_Location</th>\n",
       "      <th>TP53_Mutation_Status</th>\n",
       "      <th>Sample_Status</th>\n",
       "    </tr>\n",
       "    <tr>\n",
       "      <th>Sample_ID</th>\n",
       "      <th></th>\n",
       "      <th></th>\n",
       "      <th></th>\n",
       "      <th></th>\n",
       "      <th></th>\n",
       "      <th></th>\n",
       "      <th></th>\n",
       "      <th></th>\n",
       "    </tr>\n",
       "  </thead>\n",
       "  <tbody>\n",
       "    <tr>\n",
       "      <td>S001</td>\n",
       "      <td>-0.741522</td>\n",
       "      <td>[Wildtype_Tumor]</td>\n",
       "      <td>[No_mutation]</td>\n",
       "      <td>Wildtype</td>\n",
       "      <td>[Missense_Mutation]</td>\n",
       "      <td>[p.G266R]</td>\n",
       "      <td>Mutation</td>\n",
       "      <td>Tumor</td>\n",
       "    </tr>\n",
       "    <tr>\n",
       "      <td>S002</td>\n",
       "      <td>-0.460861</td>\n",
       "      <td>[Wildtype_Tumor]</td>\n",
       "      <td>[No_mutation]</td>\n",
       "      <td>Wildtype</td>\n",
       "      <td>[Missense_Mutation]</td>\n",
       "      <td>[p.K132R]</td>\n",
       "      <td>Mutation</td>\n",
       "      <td>Tumor</td>\n",
       "    </tr>\n",
       "    <tr>\n",
       "      <td>S003</td>\n",
       "      <td>0.271150</td>\n",
       "      <td>[Wildtype_Tumor]</td>\n",
       "      <td>[No_mutation]</td>\n",
       "      <td>Wildtype</td>\n",
       "      <td>[Wildtype_Tumor]</td>\n",
       "      <td>[No_mutation]</td>\n",
       "      <td>Wildtype</td>\n",
       "      <td>Tumor</td>\n",
       "    </tr>\n",
       "    <tr>\n",
       "      <td>S004</td>\n",
       "      <td>-0.167075</td>\n",
       "      <td>[Wildtype_Tumor]</td>\n",
       "      <td>[No_mutation]</td>\n",
       "      <td>Wildtype</td>\n",
       "      <td>[Missense_Mutation, Missense_Mutation]</td>\n",
       "      <td>[p.R248Q, p.R158H]</td>\n",
       "      <td>Mutation</td>\n",
       "      <td>Tumor</td>\n",
       "    </tr>\n",
       "    <tr>\n",
       "      <td>S005</td>\n",
       "      <td>-0.234281</td>\n",
       "      <td>[Wildtype_Tumor]</td>\n",
       "      <td>[No_mutation]</td>\n",
       "      <td>Wildtype</td>\n",
       "      <td>[Wildtype_Tumor]</td>\n",
       "      <td>[No_mutation]</td>\n",
       "      <td>Wildtype</td>\n",
       "      <td>Tumor</td>\n",
       "    </tr>\n",
       "    <tr>\n",
       "      <td>...</td>\n",
       "      <td>...</td>\n",
       "      <td>...</td>\n",
       "      <td>...</td>\n",
       "      <td>...</td>\n",
       "      <td>...</td>\n",
       "      <td>...</td>\n",
       "      <td>...</td>\n",
       "      <td>...</td>\n",
       "    </tr>\n",
       "    <tr>\n",
       "      <td>S100</td>\n",
       "      <td>0.312952</td>\n",
       "      <td>[Wildtype_Tumor]</td>\n",
       "      <td>[No_mutation]</td>\n",
       "      <td>Wildtype</td>\n",
       "      <td>[Wildtype_Tumor]</td>\n",
       "      <td>[No_mutation]</td>\n",
       "      <td>Wildtype</td>\n",
       "      <td>Tumor</td>\n",
       "    </tr>\n",
       "    <tr>\n",
       "      <td>S101</td>\n",
       "      <td>0.933610</td>\n",
       "      <td>[Wildtype_Tumor]</td>\n",
       "      <td>[No_mutation]</td>\n",
       "      <td>Wildtype</td>\n",
       "      <td>[Wildtype_Tumor]</td>\n",
       "      <td>[No_mutation]</td>\n",
       "      <td>Wildtype</td>\n",
       "      <td>Tumor</td>\n",
       "    </tr>\n",
       "    <tr>\n",
       "      <td>S102</td>\n",
       "      <td>0.300247</td>\n",
       "      <td>[Wildtype_Tumor]</td>\n",
       "      <td>[No_mutation]</td>\n",
       "      <td>Wildtype</td>\n",
       "      <td>[Wildtype_Tumor]</td>\n",
       "      <td>[No_mutation]</td>\n",
       "      <td>Wildtype</td>\n",
       "      <td>Tumor</td>\n",
       "    </tr>\n",
       "    <tr>\n",
       "      <td>S104</td>\n",
       "      <td>-0.128564</td>\n",
       "      <td>[Wildtype_Tumor]</td>\n",
       "      <td>[No_mutation]</td>\n",
       "      <td>Wildtype</td>\n",
       "      <td>[Wildtype_Tumor]</td>\n",
       "      <td>[No_mutation]</td>\n",
       "      <td>Wildtype</td>\n",
       "      <td>Tumor</td>\n",
       "    </tr>\n",
       "    <tr>\n",
       "      <td>S105</td>\n",
       "      <td>0.815966</td>\n",
       "      <td>[Wildtype_Tumor]</td>\n",
       "      <td>[No_mutation]</td>\n",
       "      <td>Wildtype</td>\n",
       "      <td>[In_Frame_Ins, Missense_Mutation]</td>\n",
       "      <td>[p.A161dup, p.R156G]</td>\n",
       "      <td>Mutation</td>\n",
       "      <td>Tumor</td>\n",
       "    </tr>\n",
       "  </tbody>\n",
       "</table>\n",
       "<p>99 rows × 8 columns</p>\n",
       "</div>"
      ],
      "text/plain": [
       "Name       IDH1_proteomics     IDH1_Mutation  IDH1_Location  \\\n",
       "Sample_ID                                                     \n",
       "S001             -0.741522  [Wildtype_Tumor]  [No_mutation]   \n",
       "S002             -0.460861  [Wildtype_Tumor]  [No_mutation]   \n",
       "S003              0.271150  [Wildtype_Tumor]  [No_mutation]   \n",
       "S004             -0.167075  [Wildtype_Tumor]  [No_mutation]   \n",
       "S005             -0.234281  [Wildtype_Tumor]  [No_mutation]   \n",
       "...                    ...               ...            ...   \n",
       "S100              0.312952  [Wildtype_Tumor]  [No_mutation]   \n",
       "S101              0.933610  [Wildtype_Tumor]  [No_mutation]   \n",
       "S102              0.300247  [Wildtype_Tumor]  [No_mutation]   \n",
       "S104             -0.128564  [Wildtype_Tumor]  [No_mutation]   \n",
       "S105              0.815966  [Wildtype_Tumor]  [No_mutation]   \n",
       "\n",
       "Name      IDH1_Mutation_Status                           TP53_Mutation  \\\n",
       "Sample_ID                                                                \n",
       "S001                  Wildtype                     [Missense_Mutation]   \n",
       "S002                  Wildtype                     [Missense_Mutation]   \n",
       "S003                  Wildtype                        [Wildtype_Tumor]   \n",
       "S004                  Wildtype  [Missense_Mutation, Missense_Mutation]   \n",
       "S005                  Wildtype                        [Wildtype_Tumor]   \n",
       "...                        ...                                     ...   \n",
       "S100                  Wildtype                        [Wildtype_Tumor]   \n",
       "S101                  Wildtype                        [Wildtype_Tumor]   \n",
       "S102                  Wildtype                        [Wildtype_Tumor]   \n",
       "S104                  Wildtype                        [Wildtype_Tumor]   \n",
       "S105                  Wildtype       [In_Frame_Ins, Missense_Mutation]   \n",
       "\n",
       "Name              TP53_Location TP53_Mutation_Status Sample_Status  \n",
       "Sample_ID                                                           \n",
       "S001                  [p.G266R]             Mutation         Tumor  \n",
       "S002                  [p.K132R]             Mutation         Tumor  \n",
       "S003              [No_mutation]             Wildtype         Tumor  \n",
       "S004         [p.R248Q, p.R158H]             Mutation         Tumor  \n",
       "S005              [No_mutation]             Wildtype         Tumor  \n",
       "...                         ...                  ...           ...  \n",
       "S100              [No_mutation]             Wildtype         Tumor  \n",
       "S101              [No_mutation]             Wildtype         Tumor  \n",
       "S102              [No_mutation]             Wildtype         Tumor  \n",
       "S104              [No_mutation]             Wildtype         Tumor  \n",
       "S105       [p.A161dup, p.R156G]             Mutation         Tumor  \n",
       "\n",
       "[99 rows x 8 columns]"
      ]
     },
     "execution_count": 6,
     "metadata": {},
     "output_type": "execute_result"
    }
   ],
   "source": [
    "#Classify all mutations as 'mutation' and all wildtypes as 'wildtype'\n",
    "mutations = mutations.replace(\n",
    "    {'Wildtype_Tumor':'Wildtype','Single_mutation':'Mutation','Multiple_mutation':'Mutation'})\n",
    "mutations"
   ]
  },
  {
   "cell_type": "code",
   "execution_count": 10,
   "metadata": {},
   "outputs": [],
   "source": [
    "for ind, row in mutations.iterrows():\n",
    "    if row['IDH1_Mutation_Status'] == 'Mutation' and row['TP53_Mutation_Status'] == 'Mutation':\n",
    "        mutations.loc[ind, 'Mutation_Exclusivity'] = 'Both'\n",
    "        \n",
    "    elif row['IDH1_Mutation_Status'] == 'Mutation' and row['TP53_Mutation_Status'] != 'Mutation':\n",
    "        mutations.loc[ind, 'Mutation_Exclusivity'] = 'IDH1_Only'\n",
    "        \n",
    "    elif row['IDH1_Mutation_Status'] != 'Mutation' and row['TP53_Mutation_Status'] == 'Mutation':\n",
    "        mutations.loc[ind, 'Mutation_Exclusivity'] = 'TP53_Only'\n",
    "        \n",
    "    else:\n",
    "        mutations.loc[ind, 'Mutation_Exclusivity'] = 'Neither'\n"
   ]
  },
  {
   "cell_type": "code",
   "execution_count": 12,
   "metadata": {},
   "outputs": [
    {
     "data": {
      "text/plain": [
       "Neither      65\n",
       "TP53_Only    26\n",
       "Both          6\n",
       "IDH1_Only     2\n",
       "Name: Mutation_Exclusivity, dtype: int64"
      ]
     },
     "execution_count": 12,
     "metadata": {},
     "output_type": "execute_result"
    }
   ],
   "source": [
    "#len(RB1_and_other_Mutations.loc[RB1_and_other_Mutations['IDH1_Mutation_Status'] != 'Mutation'])\n",
    "mutations['Mutation_Exclusivity'].value_counts()"
   ]
  },
  {
   "cell_type": "code",
   "execution_count": 13,
   "metadata": {},
   "outputs": [
    {
     "data": {
      "text/plain": [
       "<matplotlib.axes._subplots.AxesSubplot at 0x186cc39e048>"
      ]
     },
     "execution_count": 13,
     "metadata": {},
     "output_type": "execute_result"
    },
    {
     "data": {
      "image/png": "[encoded data removed]",
      "text/plain": [
       "<Figure size 432x288 with 1 Axes>"
      ]
     },
     "metadata": {
      "needs_background": "light"
     },
     "output_type": "display_data"
    }
   ],
   "source": [
    "sns.countplot(data=mutations, x='Mutation_Exclusivity')\n"
   ]
  },
  {
   "cell_type": "code",
   "execution_count": 16,
   "metadata": {},
   "outputs": [
    {
     "name": "stdout",
     "output_type": "stream",
     "text": [
      "RB1 Only:  2\n",
      "TP53 Only:  26\n",
      "Neither:  65\n",
      "Both:  6\n",
      "pval:  0.9986213232328388\n"
     ]
    }
   ],
   "source": [
    "IDH1_only = mutations.loc[mutations['Mutation_Exclusivity'] == 'IDH1_Only']\n",
    "other_only = mutations.loc[mutations['Mutation_Exclusivity'] == 'TP53_Only']\n",
    "Neither = mutations.loc[mutations['Mutation_Exclusivity'] == 'Neither']\n",
    "Both = mutations.loc[mutations['Mutation_Exclusivity'] == 'Both']\n",
    "print(\"RB1 Only: \", len(IDH1_only))\n",
    "print(\"TP53 Only: \", len(other_only))\n",
    "print(\"Neither: \", len(Neither))\n",
    "print(\"Both: \", len(Both))\n",
    "oddsratio, pval = scipy.stats.fisher_exact([[len(Both), len(other_only)],[len(IDH1_only), len(Neither)]], alternative='less')\n",
    "print(\"pval: \",pval)"
   ]
  },
  {
   "cell_type": "markdown",
   "metadata": {},
   "source": [
    "Null H: no association for IDH1 and TP53 mutation pathways\n",
    "        \n",
    "\n",
    "Alternate hypothesis: IDH1 and TP53 muation pathways are associated\n",
    "\n",
    "Because the p-value is not significant, we don't reject the null hypothesis (that there is no association with IDH1 and TP53 mutation pathways)."
   ]
  },
  {
   "cell_type": "markdown",
   "metadata": {},
   "source": [
    "A significant p-value means that there is an association.\n",
    "\"The sum of P-values less than or equal to P_(cutoff)=0.0238 is then 0.0476 which, because it is less than 0.05, is significant. Therefore, in this case, there would be a statistically significant association between the journal and type of article appearing\"\n",
    "http://mathworld.wolfram.com/FishersExactTest.html\n",
    "\n",
    "This value can be interpreted as the sum of evidence provided by the observed data—or any more extreme table—for the null hypothesis (that there is no difference in the proportions of studiers between men and women). The smaller the value of p, the greater the evidence for rejecting the null hypothesis; so here the evidence is strong that men and women are not equally likely to be studiers. \n",
    "https://en.wikipedia.org/wiki/Fisher%27s_exact_test"
   ]
  },
  {
   "cell_type": "code",
   "execution_count": null,
   "metadata": {},
   "outputs": [],
   "source": [
    "# Check counts"
   ]
  },
  {
   "cell_type": "code",
   "execution_count": 29,
   "metadata": {},
   "outputs": [
    {
     "name": "stderr",
     "output_type": "stream",
     "text": [
      "Warning: In joining the somatic_mutation table, no mutations were found for the following samples, so they were filled with Wildtype_Tumor or Wildtype_Normal: 99 samples for the RB1 gene (C:\\Users\\brittany henderson\\Anaconda3\\envs\\Research\\lib\\site-packages\\ipykernel_launcher.py, line 1)\n"
     ]
    }
   ],
   "source": [
    "# Check RB1_only\n",
    "RB1_mutations = gb.join_omics_to_mutations(omics_genes=['RB1'], omics_df_name='proteomics', mutations_genes=['RB1'])\n",
    "RB1_mutations = RB1_mutations.loc[RB1_mutations['RB1_Mutation_Status'] != 'Wildtype_Normal']"
   ]
  },
  {
   "cell_type": "code",
   "execution_count": 36,
   "metadata": {},
   "outputs": [],
   "source": [
    "RB1_mutations.to_excel('check_rb1.xlsx', sheet_name='Sheet1')"
   ]
  },
  {
   "cell_type": "code",
   "execution_count": 37,
   "metadata": {},
   "outputs": [
    {
     "name": "stderr",
     "output_type": "stream",
     "text": [
      "Warning: In joining the somatic_mutation table, no mutations were found for the following samples, so they were filled with Wildtype_Tumor or Wildtype_Normal: 77 samples for the TP53 gene (C:\\Users\\brittany henderson\\Anaconda3\\envs\\Research\\lib\\site-packages\\ipykernel_launcher.py, line 2)\n"
     ]
    }
   ],
   "source": [
    "# check TP53_only\n",
    "TP53_mutations = gb.join_omics_to_mutations(omics_genes=['TP53'], omics_df_name='proteomics', mutations_genes=['TP53'])\n",
    "TP53_mutations = TP53_mutations.loc[TP53_mutations['TP53_Mutation_Status'] != 'Wildtype_Normal']"
   ]
  },
  {
   "cell_type": "code",
   "execution_count": 38,
   "metadata": {},
   "outputs": [],
   "source": [
    "TP53_mutations.to_excel('check_tp53.xlsx', sheet_name='Sheet1')"
   ]
  },
  {
   "cell_type": "code",
   "execution_count": 41,
   "metadata": {},
   "outputs": [
    {
     "name": "stderr",
     "output_type": "stream",
     "text": [
      "Warning: In joining the somatic_mutation table, no mutations were found for the following samples, so they were filled with Wildtype_Tumor or Wildtype_Normal: 77 samples for the TP53 gene, 99 samples for the RB1 gene (C:\\Users\\brittany henderson\\Anaconda3\\envs\\Research\\lib\\site-packages\\ipykernel_launcher.py, line 2)\n"
     ]
    }
   ],
   "source": [
    "# check Both and Neither\n",
    "mutations = gb.join_omics_to_mutations(omics_genes=['RB1','TP53'], omics_df_name='proteomics', mutations_genes=['TP53','RB1'])\n",
    "mutations = mutations.loc[mutations['RB1_Mutation_Status'] != 'Wildtype_Normal']\n",
    "both_mutations = mutations.loc[mutations['TP53_Mutation_Status'] != 'Wildtype_Normal']"
   ]
  },
  {
   "cell_type": "code",
   "execution_count": 43,
   "metadata": {},
   "outputs": [],
   "source": [
    "both_mutations.to_excel('check_both.xlsx', sheet_name='Sheet1')"
   ]
  },
  {
   "cell_type": "code",
   "execution_count": 68,
   "metadata": {},
   "outputs": [
    {
     "name": "stderr",
     "output_type": "stream",
     "text": [
      "Warning: In joining the somatic_mutation table, no mutations were found for the following samples, so they were filled with Wildtype_Tumor or Wildtype_Normal: 77 samples for the TP53 gene (C:\\Users\\brittany henderson\\Anaconda3\\envs\\Research\\lib\\site-packages\\cptac\\utils\\__init__.py, line 388)\n"
     ]
    },
    {
     "data": {
      "text/html": [
       "<div>\n",
       "<style scoped>\n",
       "    .dataframe tbody tr th:only-of-type {\n",
       "        vertical-align: middle;\n",
       "    }\n",
       "\n",
       "    .dataframe tbody tr th {\n",
       "        vertical-align: top;\n",
       "    }\n",
       "\n",
       "    .dataframe thead th {\n",
       "        text-align: right;\n",
       "    }\n",
       "</style>\n",
       "<table border=\"1\" class=\"dataframe\">\n",
       "  <thead>\n",
       "    <tr style=\"text-align: right;\">\n",
       "      <th>Name</th>\n",
       "      <th>Gene</th>\n",
       "      <th>Unique_Samples_Mut</th>\n",
       "      <th>Missense_Mut</th>\n",
       "      <th>Truncation_Mut</th>\n",
       "      <th>Non-Coding</th>\n",
       "    </tr>\n",
       "  </thead>\n",
       "  <tbody>\n",
       "    <tr>\n",
       "      <td>2192</td>\n",
       "      <td>PDGFRA</td>\n",
       "      <td>0.030303</td>\n",
       "      <td>0.030303</td>\n",
       "      <td>0.0</td>\n",
       "      <td>0.0</td>\n",
       "    </tr>\n",
       "  </tbody>\n",
       "</table>\n",
       "</div>"
      ],
      "text/plain": [
       "Name    Gene  Unique_Samples_Mut  Missense_Mut  Truncation_Mut  Non-Coding\n",
       "2192  PDGFRA            0.030303      0.030303             0.0         0.0"
      ]
     },
     "execution_count": 68,
     "metadata": {},
     "output_type": "execute_result"
    }
   ],
   "source": [
    "m = u.get_frequently_mutated(gb,.01)\n",
    "m.loc[m['Gene']== 'PDGFRA']"
   ]
  },
  {
   "cell_type": "code",
   "execution_count": 52,
   "metadata": {},
   "outputs": [
    {
     "name": "stderr",
     "output_type": "stream",
     "text": [
      "Warning: In joining the somatic_mutation table, no mutations were found for the following samples, so they were filled with Wildtype_Tumor or Wildtype_Normal: 77 samples for the TP53 gene (C:\\Users\\brittany henderson\\Anaconda3\\envs\\Research\\lib\\site-packages\\cptac\\utils\\__init__.py, line 388)\n"
     ]
    }
   ],
   "source": [
    "m = u.get_frequently_mutated(gb,.05)"
   ]
  },
  {
   "cell_type": "code",
   "execution_count": 54,
   "metadata": {},
   "outputs": [
    {
     "data": {
      "text/html": [
       "<div>\n",
       "<style scoped>\n",
       "    .dataframe tbody tr th:only-of-type {\n",
       "        vertical-align: middle;\n",
       "    }\n",
       "\n",
       "    .dataframe tbody tr th {\n",
       "        vertical-align: top;\n",
       "    }\n",
       "\n",
       "    .dataframe thead th {\n",
       "        text-align: right;\n",
       "    }\n",
       "</style>\n",
       "<table border=\"1\" class=\"dataframe\">\n",
       "  <thead>\n",
       "    <tr style=\"text-align: right;\">\n",
       "      <th>Name</th>\n",
       "      <th>Gene</th>\n",
       "      <th>Unique_Samples_Mut</th>\n",
       "      <th>Missense_Mut</th>\n",
       "      <th>Truncation_Mut</th>\n",
       "      <th>Non-Coding</th>\n",
       "    </tr>\n",
       "  </thead>\n",
       "  <tbody>\n",
       "    <tr>\n",
       "      <td>0</td>\n",
       "      <td>ARHGAP5</td>\n",
       "      <td>0.060606</td>\n",
       "      <td>0.050505</td>\n",
       "      <td>0.030303</td>\n",
       "      <td>0.000000</td>\n",
       "    </tr>\n",
       "    <tr>\n",
       "      <td>1</td>\n",
       "      <td>ATP10A</td>\n",
       "      <td>0.050505</td>\n",
       "      <td>0.050505</td>\n",
       "      <td>0.000000</td>\n",
       "      <td>0.000000</td>\n",
       "    </tr>\n",
       "    <tr>\n",
       "      <td>2</td>\n",
       "      <td>ATP4A</td>\n",
       "      <td>0.050505</td>\n",
       "      <td>0.050505</td>\n",
       "      <td>0.000000</td>\n",
       "      <td>0.000000</td>\n",
       "    </tr>\n",
       "    <tr>\n",
       "      <td>3</td>\n",
       "      <td>ATRX</td>\n",
       "      <td>0.090909</td>\n",
       "      <td>0.020202</td>\n",
       "      <td>0.070707</td>\n",
       "      <td>0.000000</td>\n",
       "    </tr>\n",
       "    <tr>\n",
       "      <td>4</td>\n",
       "      <td>BRAF</td>\n",
       "      <td>0.060606</td>\n",
       "      <td>0.060606</td>\n",
       "      <td>0.000000</td>\n",
       "      <td>0.000000</td>\n",
       "    </tr>\n",
       "    <tr>\n",
       "      <td>5</td>\n",
       "      <td>CSMD3</td>\n",
       "      <td>0.050505</td>\n",
       "      <td>0.050505</td>\n",
       "      <td>0.000000</td>\n",
       "      <td>0.000000</td>\n",
       "    </tr>\n",
       "    <tr>\n",
       "      <td>6</td>\n",
       "      <td>DOCK6</td>\n",
       "      <td>0.060606</td>\n",
       "      <td>0.050505</td>\n",
       "      <td>0.010101</td>\n",
       "      <td>0.000000</td>\n",
       "    </tr>\n",
       "    <tr>\n",
       "      <td>7</td>\n",
       "      <td>DSG4</td>\n",
       "      <td>0.050505</td>\n",
       "      <td>0.050505</td>\n",
       "      <td>0.000000</td>\n",
       "      <td>0.000000</td>\n",
       "    </tr>\n",
       "    <tr>\n",
       "      <td>8</td>\n",
       "      <td>EGFR</td>\n",
       "      <td>0.161616</td>\n",
       "      <td>0.161616</td>\n",
       "      <td>0.000000</td>\n",
       "      <td>0.000000</td>\n",
       "    </tr>\n",
       "    <tr>\n",
       "      <td>9</td>\n",
       "      <td>EPHA6</td>\n",
       "      <td>0.050505</td>\n",
       "      <td>0.030303</td>\n",
       "      <td>0.000000</td>\n",
       "      <td>0.020202</td>\n",
       "    </tr>\n",
       "    <tr>\n",
       "      <td>10</td>\n",
       "      <td>FLG</td>\n",
       "      <td>0.060606</td>\n",
       "      <td>0.060606</td>\n",
       "      <td>0.000000</td>\n",
       "      <td>0.000000</td>\n",
       "    </tr>\n",
       "    <tr>\n",
       "      <td>11</td>\n",
       "      <td>GLT1D1</td>\n",
       "      <td>0.050505</td>\n",
       "      <td>0.010101</td>\n",
       "      <td>0.000000</td>\n",
       "      <td>0.040404</td>\n",
       "    </tr>\n",
       "    <tr>\n",
       "      <td>12</td>\n",
       "      <td>HCN1</td>\n",
       "      <td>0.070707</td>\n",
       "      <td>0.060606</td>\n",
       "      <td>0.010101</td>\n",
       "      <td>0.000000</td>\n",
       "    </tr>\n",
       "    <tr>\n",
       "      <td>13</td>\n",
       "      <td>HMCN1</td>\n",
       "      <td>0.070707</td>\n",
       "      <td>0.070707</td>\n",
       "      <td>0.000000</td>\n",
       "      <td>0.000000</td>\n",
       "    </tr>\n",
       "    <tr>\n",
       "      <td>14</td>\n",
       "      <td>IDH1</td>\n",
       "      <td>0.070707</td>\n",
       "      <td>0.070707</td>\n",
       "      <td>0.000000</td>\n",
       "      <td>0.000000</td>\n",
       "    </tr>\n",
       "    <tr>\n",
       "      <td>15</td>\n",
       "      <td>LRP2</td>\n",
       "      <td>0.050505</td>\n",
       "      <td>0.040404</td>\n",
       "      <td>0.010101</td>\n",
       "      <td>0.000000</td>\n",
       "    </tr>\n",
       "    <tr>\n",
       "      <td>16</td>\n",
       "      <td>MAGEC1</td>\n",
       "      <td>0.050505</td>\n",
       "      <td>0.050505</td>\n",
       "      <td>0.000000</td>\n",
       "      <td>0.000000</td>\n",
       "    </tr>\n",
       "    <tr>\n",
       "      <td>17</td>\n",
       "      <td>MSH4</td>\n",
       "      <td>0.050505</td>\n",
       "      <td>0.050505</td>\n",
       "      <td>0.000000</td>\n",
       "      <td>0.000000</td>\n",
       "    </tr>\n",
       "    <tr>\n",
       "      <td>18</td>\n",
       "      <td>MUC16</td>\n",
       "      <td>0.080808</td>\n",
       "      <td>0.080808</td>\n",
       "      <td>0.000000</td>\n",
       "      <td>0.000000</td>\n",
       "    </tr>\n",
       "    <tr>\n",
       "      <td>19</td>\n",
       "      <td>MUC17</td>\n",
       "      <td>0.060606</td>\n",
       "      <td>0.060606</td>\n",
       "      <td>0.000000</td>\n",
       "      <td>0.000000</td>\n",
       "    </tr>\n",
       "    <tr>\n",
       "      <td>20</td>\n",
       "      <td>MXRA5</td>\n",
       "      <td>0.050505</td>\n",
       "      <td>0.050505</td>\n",
       "      <td>0.000000</td>\n",
       "      <td>0.000000</td>\n",
       "    </tr>\n",
       "    <tr>\n",
       "      <td>21</td>\n",
       "      <td>NF1</td>\n",
       "      <td>0.151515</td>\n",
       "      <td>0.020202</td>\n",
       "      <td>0.141414</td>\n",
       "      <td>0.000000</td>\n",
       "    </tr>\n",
       "    <tr>\n",
       "      <td>22</td>\n",
       "      <td>PIK3CA</td>\n",
       "      <td>0.101010</td>\n",
       "      <td>0.090909</td>\n",
       "      <td>0.010101</td>\n",
       "      <td>0.000000</td>\n",
       "    </tr>\n",
       "    <tr>\n",
       "      <td>23</td>\n",
       "      <td>PIK3R1</td>\n",
       "      <td>0.060606</td>\n",
       "      <td>0.050505</td>\n",
       "      <td>0.010101</td>\n",
       "      <td>0.000000</td>\n",
       "    </tr>\n",
       "    <tr>\n",
       "      <td>24</td>\n",
       "      <td>PKHD1</td>\n",
       "      <td>0.050505</td>\n",
       "      <td>0.040404</td>\n",
       "      <td>0.010101</td>\n",
       "      <td>0.000000</td>\n",
       "    </tr>\n",
       "    <tr>\n",
       "      <td>25</td>\n",
       "      <td>PTEN</td>\n",
       "      <td>0.272727</td>\n",
       "      <td>0.161616</td>\n",
       "      <td>0.111111</td>\n",
       "      <td>0.000000</td>\n",
       "    </tr>\n",
       "    <tr>\n",
       "      <td>26</td>\n",
       "      <td>RB1</td>\n",
       "      <td>0.101010</td>\n",
       "      <td>0.000000</td>\n",
       "      <td>0.101010</td>\n",
       "      <td>0.010101</td>\n",
       "    </tr>\n",
       "    <tr>\n",
       "      <td>27</td>\n",
       "      <td>RPL5</td>\n",
       "      <td>0.050505</td>\n",
       "      <td>0.010101</td>\n",
       "      <td>0.040404</td>\n",
       "      <td>0.000000</td>\n",
       "    </tr>\n",
       "    <tr>\n",
       "      <td>28</td>\n",
       "      <td>RYR2</td>\n",
       "      <td>0.090909</td>\n",
       "      <td>0.080808</td>\n",
       "      <td>0.020202</td>\n",
       "      <td>0.000000</td>\n",
       "    </tr>\n",
       "    <tr>\n",
       "      <td>29</td>\n",
       "      <td>RYR3</td>\n",
       "      <td>0.080808</td>\n",
       "      <td>0.070707</td>\n",
       "      <td>0.010101</td>\n",
       "      <td>0.000000</td>\n",
       "    </tr>\n",
       "    <tr>\n",
       "      <td>30</td>\n",
       "      <td>SETD2</td>\n",
       "      <td>0.050505</td>\n",
       "      <td>0.020202</td>\n",
       "      <td>0.020202</td>\n",
       "      <td>0.010101</td>\n",
       "    </tr>\n",
       "    <tr>\n",
       "      <td>31</td>\n",
       "      <td>TP53</td>\n",
       "      <td>0.323232</td>\n",
       "      <td>0.272727</td>\n",
       "      <td>0.050505</td>\n",
       "      <td>0.000000</td>\n",
       "    </tr>\n",
       "    <tr>\n",
       "      <td>32</td>\n",
       "      <td>TTC6</td>\n",
       "      <td>0.060606</td>\n",
       "      <td>0.030303</td>\n",
       "      <td>0.000000</td>\n",
       "      <td>0.030303</td>\n",
       "    </tr>\n",
       "    <tr>\n",
       "      <td>33</td>\n",
       "      <td>USH2A</td>\n",
       "      <td>0.050505</td>\n",
       "      <td>0.050505</td>\n",
       "      <td>0.000000</td>\n",
       "      <td>0.000000</td>\n",
       "    </tr>\n",
       "  </tbody>\n",
       "</table>\n",
       "</div>"
      ],
      "text/plain": [
       "Name     Gene  Unique_Samples_Mut  Missense_Mut  Truncation_Mut  Non-Coding\n",
       "0     ARHGAP5            0.060606      0.050505        0.030303    0.000000\n",
       "1      ATP10A            0.050505      0.050505        0.000000    0.000000\n",
       "2       ATP4A            0.050505      0.050505        0.000000    0.000000\n",
       "3        ATRX            0.090909      0.020202        0.070707    0.000000\n",
       "4        BRAF            0.060606      0.060606        0.000000    0.000000\n",
       "5       CSMD3            0.050505      0.050505        0.000000    0.000000\n",
       "6       DOCK6            0.060606      0.050505        0.010101    0.000000\n",
       "7        DSG4            0.050505      0.050505        0.000000    0.000000\n",
       "8        EGFR            0.161616      0.161616        0.000000    0.000000\n",
       "9       EPHA6            0.050505      0.030303        0.000000    0.020202\n",
       "10        FLG            0.060606      0.060606        0.000000    0.000000\n",
       "11     GLT1D1            0.050505      0.010101        0.000000    0.040404\n",
       "12       HCN1            0.070707      0.060606        0.010101    0.000000\n",
       "13      HMCN1            0.070707      0.070707        0.000000    0.000000\n",
       "14       IDH1            0.070707      0.070707        0.000000    0.000000\n",
       "15       LRP2            0.050505      0.040404        0.010101    0.000000\n",
       "16     MAGEC1            0.050505      0.050505        0.000000    0.000000\n",
       "17       MSH4            0.050505      0.050505        0.000000    0.000000\n",
       "18      MUC16            0.080808      0.080808        0.000000    0.000000\n",
       "19      MUC17            0.060606      0.060606        0.000000    0.000000\n",
       "20      MXRA5            0.050505      0.050505        0.000000    0.000000\n",
       "21        NF1            0.151515      0.020202        0.141414    0.000000\n",
       "22     PIK3CA            0.101010      0.090909        0.010101    0.000000\n",
       "23     PIK3R1            0.060606      0.050505        0.010101    0.000000\n",
       "24      PKHD1            0.050505      0.040404        0.010101    0.000000\n",
       "25       PTEN            0.272727      0.161616        0.111111    0.000000\n",
       "26        RB1            0.101010      0.000000        0.101010    0.010101\n",
       "27       RPL5            0.050505      0.010101        0.040404    0.000000\n",
       "28       RYR2            0.090909      0.080808        0.020202    0.000000\n",
       "29       RYR3            0.080808      0.070707        0.010101    0.000000\n",
       "30      SETD2            0.050505      0.020202        0.020202    0.010101\n",
       "31       TP53            0.323232      0.272727        0.050505    0.000000\n",
       "32       TTC6            0.060606      0.030303        0.000000    0.030303\n",
       "33      USH2A            0.050505      0.050505        0.000000    0.000000"
      ]
     },
     "execution_count": 54,
     "metadata": {},
     "output_type": "execute_result"
    }
   ],
   "source": [
    "m"
   ]
  },
  {
   "cell_type": "code",
   "execution_count": null,
   "metadata": {},
   "outputs": [],
   "source": []
  }
 ],
 "metadata": {
  "kernelspec": {
   "display_name": "Python 3",
   "language": "python",
   "name": "python3"
  },
  "language_info": {
   "codemirror_mode": {
    "name": "ipython",
    "version": 3
   },
   "file_extension": ".py",
   "mimetype": "text/x-python",
   "name": "python",
   "nbconvert_exporter": "python",
   "pygments_lexer": "ipython3",
   "version": "3.7.3"
  }
 },
 "nbformat": 4,
 "nbformat_minor": 2
}
