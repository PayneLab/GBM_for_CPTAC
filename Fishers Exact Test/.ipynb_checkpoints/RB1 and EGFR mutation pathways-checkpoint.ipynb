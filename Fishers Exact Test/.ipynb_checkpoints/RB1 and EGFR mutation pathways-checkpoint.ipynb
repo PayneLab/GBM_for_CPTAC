{
 "cells": [
  {
   "cell_type": "code",
   "execution_count": 1,
   "metadata": {},
   "outputs": [
    {
     "name": "stderr",
     "output_type": "stream",
     "text": [
      "Warning: Your version of cptac (0.6.3) is out-of-date. Latest is 0.6.4. Please run 'pip install --upgrade cptac' to update it. (C:\\Users\\brittany henderson\\Anaconda3\\envs\\Research\\lib\\site-packages\\ipykernel_launcher.py, line 6)\n"
     ]
    }
   ],
   "source": [
    "import seaborn as sns\n",
    "import pandas as pd\n",
    "import numpy as np\n",
    "import matplotlib.pyplot as plt\n",
    "import scipy.stats\n",
    "import cptac"
   ]
  },
  {
   "cell_type": "code",
   "execution_count": 3,
   "metadata": {},
   "outputs": [
    {
     "name": "stdout",
     "output_type": "stream",
     "text": [
      "                                    \r"
     ]
    }
   ],
   "source": [
    "en = cptac.Endometrial()"
   ]
  },
  {
   "cell_type": "code",
   "execution_count": 4,
   "metadata": {},
   "outputs": [
    {
     "name": "stderr",
     "output_type": "stream",
     "text": [
      "Warning: In joining the somatic_mutation table, no mutations were found for the following samples, so they were filled with Wildtype_Tumor or Wildtype_Normal: 123 samples for the TP53 gene (C:\\Users\\brittany henderson\\Anaconda3\\envs\\Research\\lib\\site-packages\\ipykernel_launcher.py, line 2)\n",
      "Warning: In joining the somatic_mutation table, no mutations were found for the following samples, so they were filled with Wildtype_Tumor or Wildtype_Normal: 117 samples for the CTCF gene (C:\\Users\\brittany henderson\\Anaconda3\\envs\\Research\\lib\\site-packages\\ipykernel_launcher.py, line 8)\n"
     ]
    }
   ],
   "source": [
    "#get tp53 mutations and drop normal samples\n",
    "TP53_mutations = en.join_omics_to_mutations(omics_genes=['TP53'], omics_df_name='proteomics', mutations_genes=['TP53'])[['TP53_Mutation_Status','TP53_Mutation']]\n",
    "TP53_mutations = TP53_mutations.loc[TP53_mutations['TP53_Mutation_Status'] != 'Wildtype_Normal']\n",
    "#Get CTNNB1 Mutations and drop normal samples\n",
    "other_gene = 'CTCF'\n",
    "other_col1 = '%s_Mutation_Status'%other_gene\n",
    "other_col2 = '%s_Mutation'%other_gene\n",
    "other_mutations = en.join_omics_to_mutations(omics_genes=[other_gene], omics_df_name='proteomics', mutations_genes=[other_gene])[[other_col1,other_col2]]\n",
    "other_mutations = other_mutations.loc[other_mutations[other_col1] != 'Wildtype_Normal']\n"
   ]
  },
  {
   "cell_type": "code",
   "execution_count": 5,
   "metadata": {},
   "outputs": [
    {
     "data": {
      "text/html": [
       "<div>\n",
       "<style scoped>\n",
       "    .dataframe tbody tr th:only-of-type {\n",
       "        vertical-align: middle;\n",
       "    }\n",
       "\n",
       "    .dataframe tbody tr th {\n",
       "        vertical-align: top;\n",
       "    }\n",
       "\n",
       "    .dataframe thead th {\n",
       "        text-align: right;\n",
       "    }\n",
       "</style>\n",
       "<table border=\"1\" class=\"dataframe\">\n",
       "  <thead>\n",
       "    <tr style=\"text-align: right;\">\n",
       "      <th>Name</th>\n",
       "      <th>TP53_Mutation_Status</th>\n",
       "    </tr>\n",
       "    <tr>\n",
       "      <th>CTCF_Mutation_Status</th>\n",
       "      <th></th>\n",
       "    </tr>\n",
       "  </thead>\n",
       "  <tbody>\n",
       "    <tr>\n",
       "      <td>Mutation</td>\n",
       "      <td>27</td>\n",
       "    </tr>\n",
       "    <tr>\n",
       "      <td>Wildtype</td>\n",
       "      <td>68</td>\n",
       "    </tr>\n",
       "  </tbody>\n",
       "</table>\n",
       "</div>"
      ],
      "text/plain": [
       "Name                  TP53_Mutation_Status\n",
       "CTCF_Mutation_Status                      \n",
       "Mutation                                27\n",
       "Wildtype                                68"
      ]
     },
     "execution_count": 5,
     "metadata": {},
     "output_type": "execute_result"
    }
   ],
   "source": [
    "#Concatenate Dataframes\n",
    "TP53_and_other_Mutations = pd.concat([other_mutations, TP53_mutations], axis=1)[[other_col1,'TP53_Mutation_Status']]\n",
    "#Classify all mutations as 'mutation' and all wildtypes as 'wildtype'\n",
    "TP53_and_other_Mutations = TP53_and_other_Mutations.replace({'Wildtype_Tumor':'Wildtype','Single_mutation':'Mutation','Multiple_mutation':'Mutation'})\n",
    "TP53_and_other_Mutations.groupby(other_col1).count()"
   ]
  },
  {
   "cell_type": "code",
   "execution_count": 6,
   "metadata": {},
   "outputs": [],
   "source": [
    "other_exclusive = '%s_Only'%other_gene\n",
    "for ind, row in TP53_and_other_Mutations.iterrows():\n",
    "    if row['TP53_Mutation_Status'] == 'Mutation' and row[other_col1] == 'Mutation':\n",
    "        TP53_and_other_Mutations.loc[ind, 'Mutation_Exclusivity'] = 'Both'\n",
    "        \n",
    "    elif row['TP53_Mutation_Status'] == 'Mutation' and row[other_col1] != 'Mutation':\n",
    "        TP53_and_other_Mutations.loc[ind, 'Mutation_Exclusivity'] = 'TP53_Only'\n",
    "        \n",
    "    elif row['TP53_Mutation_Status'] != 'Mutation' and row[other_col1] == 'Mutation':\n",
    "        TP53_and_other_Mutations.loc[ind, 'Mutation_Exclusivity'] = other_exclusive\n",
    "        \n",
    "    else:\n",
    "        TP53_and_other_Mutations.loc[ind, 'Mutation_Exclusivity'] = 'Neither'\n"
   ]
  },
  {
   "cell_type": "code",
   "execution_count": 8,
   "metadata": {},
   "outputs": [
    {
     "data": {
      "text/html": [
       "<div>\n",
       "<style scoped>\n",
       "    .dataframe tbody tr th:only-of-type {\n",
       "        vertical-align: middle;\n",
       "    }\n",
       "\n",
       "    .dataframe tbody tr th {\n",
       "        vertical-align: top;\n",
       "    }\n",
       "\n",
       "    .dataframe thead th {\n",
       "        text-align: right;\n",
       "    }\n",
       "</style>\n",
       "<table border=\"1\" class=\"dataframe\">\n",
       "  <thead>\n",
       "    <tr style=\"text-align: right;\">\n",
       "      <th>Name</th>\n",
       "      <th>CTCF_Mutation_Status</th>\n",
       "      <th>TP53_Mutation_Status</th>\n",
       "      <th>Mutation_Exclusivity</th>\n",
       "    </tr>\n",
       "    <tr>\n",
       "      <th>Sample_ID</th>\n",
       "      <th></th>\n",
       "      <th></th>\n",
       "      <th></th>\n",
       "    </tr>\n",
       "  </thead>\n",
       "  <tbody>\n",
       "    <tr>\n",
       "      <td>S001</td>\n",
       "      <td>Mutation</td>\n",
       "      <td>Mutation</td>\n",
       "      <td>Both</td>\n",
       "    </tr>\n",
       "    <tr>\n",
       "      <td>S002</td>\n",
       "      <td>Mutation</td>\n",
       "      <td>Wildtype</td>\n",
       "      <td>CTCF_Only</td>\n",
       "    </tr>\n",
       "    <tr>\n",
       "      <td>S003</td>\n",
       "      <td>Mutation</td>\n",
       "      <td>Wildtype</td>\n",
       "      <td>CTCF_Only</td>\n",
       "    </tr>\n",
       "    <tr>\n",
       "      <td>S005</td>\n",
       "      <td>Wildtype</td>\n",
       "      <td>Wildtype</td>\n",
       "      <td>Neither</td>\n",
       "    </tr>\n",
       "    <tr>\n",
       "      <td>S006</td>\n",
       "      <td>Wildtype</td>\n",
       "      <td>Mutation</td>\n",
       "      <td>TP53_Only</td>\n",
       "    </tr>\n",
       "    <tr>\n",
       "      <td>...</td>\n",
       "      <td>...</td>\n",
       "      <td>...</td>\n",
       "      <td>...</td>\n",
       "    </tr>\n",
       "    <tr>\n",
       "      <td>S099</td>\n",
       "      <td>Mutation</td>\n",
       "      <td>Wildtype</td>\n",
       "      <td>CTCF_Only</td>\n",
       "    </tr>\n",
       "    <tr>\n",
       "      <td>S100</td>\n",
       "      <td>Wildtype</td>\n",
       "      <td>Mutation</td>\n",
       "      <td>TP53_Only</td>\n",
       "    </tr>\n",
       "    <tr>\n",
       "      <td>S101</td>\n",
       "      <td>Wildtype</td>\n",
       "      <td>Wildtype</td>\n",
       "      <td>Neither</td>\n",
       "    </tr>\n",
       "    <tr>\n",
       "      <td>S102</td>\n",
       "      <td>Wildtype</td>\n",
       "      <td>Mutation</td>\n",
       "      <td>TP53_Only</td>\n",
       "    </tr>\n",
       "    <tr>\n",
       "      <td>S103</td>\n",
       "      <td>Wildtype</td>\n",
       "      <td>Mutation</td>\n",
       "      <td>TP53_Only</td>\n",
       "    </tr>\n",
       "  </tbody>\n",
       "</table>\n",
       "<p>95 rows × 3 columns</p>\n",
       "</div>"
      ],
      "text/plain": [
       "Name      CTCF_Mutation_Status TP53_Mutation_Status Mutation_Exclusivity\n",
       "Sample_ID                                                               \n",
       "S001                  Mutation             Mutation                 Both\n",
       "S002                  Mutation             Wildtype            CTCF_Only\n",
       "S003                  Mutation             Wildtype            CTCF_Only\n",
       "S005                  Wildtype             Wildtype              Neither\n",
       "S006                  Wildtype             Mutation            TP53_Only\n",
       "...                        ...                  ...                  ...\n",
       "S099                  Mutation             Wildtype            CTCF_Only\n",
       "S100                  Wildtype             Mutation            TP53_Only\n",
       "S101                  Wildtype             Wildtype              Neither\n",
       "S102                  Wildtype             Mutation            TP53_Only\n",
       "S103                  Wildtype             Mutation            TP53_Only\n",
       "\n",
       "[95 rows x 3 columns]"
      ]
     },
     "execution_count": 8,
     "metadata": {},
     "output_type": "execute_result"
    }
   ],
   "source": [
    "TP53_and_other_Mutations"
   ]
  },
  {
   "cell_type": "code",
   "execution_count": 7,
   "metadata": {},
   "outputs": [
    {
     "data": {
      "text/plain": [
       "<matplotlib.axes._subplots.AxesSubplot at 0x1970132bb00>"
      ]
     },
     "execution_count": 7,
     "metadata": {},
     "output_type": "execute_result"
    },
    {
     "data": {
      "image/png": "[encoded data removed]",
      "text/plain": [
       "<Figure size 432x288 with 1 Axes>"
      ]
     },
     "metadata": {
      "needs_background": "light"
     },
     "output_type": "display_data"
    }
   ],
   "source": [
    "sns.countplot(data=TP53_and_other_Mutations, x='Mutation_Exclusivity')\n"
   ]
  },
  {
   "cell_type": "code",
   "execution_count": null,
   "metadata": {},
   "outputs": [],
   "source": [
    "TP53_only = TP53_and_other_Mutations.loc[TP53_and_other_Mutations['Mutation_Exclusivity'] == 'TP53_Only']\n",
    "other_only = TP53_and_other_Mutations.loc[TP53_and_other_Mutations['Mutation_Exclusivity'] == other_exclusive]\n",
    "Neither = TP53_and_other_Mutations.loc[TP53_and_other_Mutations['Mutation_Exclusivity'] == 'Neither']\n",
    "Both = TP53_and_other_Mutations.loc[TP53_and_other_Mutations['Mutation_Exclusivity'] == 'Both']\n",
    "print(\"TP53 Only: \", len(TP53_only))\n",
    "print(\"%s Only: \"%other_gene, len(other_only))\n",
    "print(\"Neither: \", len(Neither))\n",
    "print(\"Both: \", len(Both))\n",
    "oddsratio, pval = scipy.stats.fisher_exact([[len(Both), len(other_only)],[len(TP53_only), len(Neither)]], alternative='less')\n",
    "pval"
   ]
  }
 ],
 "metadata": {
  "kernelspec": {
   "display_name": "Python 3",
   "language": "python",
   "name": "python3"
  },
  "language_info": {
   "codemirror_mode": {
    "name": "ipython",
    "version": 3
   },
   "file_extension": ".py",
   "mimetype": "text/x-python",
   "name": "python",
   "nbconvert_exporter": "python",
   "pygments_lexer": "ipython3",
   "version": "3.7.3"
  }
 },
 "nbformat": 4,
 "nbformat_minor": 2
}
