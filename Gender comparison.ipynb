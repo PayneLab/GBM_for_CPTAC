{
 "cells": [
  {
   "cell_type": "code",
   "execution_count": 1,
   "metadata": {},
   "outputs": [],
   "source": [
    "import pandas as pd\n",
    "import numpy as np\n",
    "import seaborn as sns\n",
    "import matplotlib.pyplot as plt\n",
    "import scipy.stats\n",
    "import re\n",
    "\n",
    "import cptac\n",
    "import cptac.utils as u\n"
   ]
  },
  {
   "cell_type": "code",
   "execution_count": 2,
   "metadata": {},
   "outputs": [
    {
     "name": "stdout",
     "output_type": "stream",
     "text": [
      "                                    \r"
     ]
    }
   ],
   "source": [
    "b = cptac.Gbm()"
   ]
  },
  {
   "cell_type": "code",
   "execution_count": 8,
   "metadata": {},
   "outputs": [
    {
     "name": "stdout",
     "output_type": "stream",
     "text": [
      "Below are the dataframes contained in this dataset:\n",
      "\tacetylproteomics\n",
      "\t\tDimensions: (110, 18767)\n",
      "\tcircular_RNA\n",
      "\t\tDimensions: (100, 3670)\n",
      "\tclinical\n",
      "\t\tDimensions: (115, 21)\n",
      "\tCNV\n",
      "\t\tDimensions: (99, 19907)\n",
      "\texperimental_design\n",
      "\t\tDimensions: (115, 8)\n",
      "\tgene_fusion\n",
      "\t\tDimensions: (2118, 8)\n",
      "\tlipidomics\n",
      "\t\tDimensions: (88, 582)\n",
      "\tmetabolomics\n",
      "\t\tDimensions: (87, 134)\n",
      "\tmiRNA\n",
      "\t\tDimensions: (88, 2883)\n",
      "\tphosphoproteomics\n",
      "\t\tDimensions: (110, 101347)\n",
      "\tproteomics\n",
      "\t\tDimensions: (110, 11141)\n",
      "\tsomatic_mutation\n",
      "\t\tDimensions: (5807, 3)\n",
      "\ttranscriptomics\n",
      "\t\tDimensions: (109, 60483)\n"
     ]
    }
   ],
   "source": [
    "c = b.get_clinical()\n",
    "b.list_data()\n"
   ]
  },
  {
   "cell_type": "code",
   "execution_count": 3,
   "metadata": {},
   "outputs": [
    {
     "name": "stderr",
     "output_type": "stream",
     "text": [
      "Warning: In joining the somatic_mutation table, no mutations were found for the following samples, so they were filled with Wildtype_Tumor or Wildtype_Normal: 78 samples for the TP53 gene (C:\\Users\\brittany henderson\\Anaconda3\\envs\\Research\\lib\\site-packages\\cptac\\utils\\__init__.py, line 342)\n"
     ]
    },
    {
     "data": {
      "text/plain": [
       "['ARHGAP5',\n",
       " 'ATRX',\n",
       " 'BRAF',\n",
       " 'DOCK6',\n",
       " 'EGFR',\n",
       " 'FLG',\n",
       " 'HCN1',\n",
       " 'HMCN1',\n",
       " 'IDH1',\n",
       " 'MUC16',\n",
       " 'MUC17',\n",
       " 'NF1',\n",
       " 'PIK3CA',\n",
       " 'PIK3R1',\n",
       " 'PTEN',\n",
       " 'RB1',\n",
       " 'RYR2',\n",
       " 'RYR3',\n",
       " 'TP53',\n",
       " 'TTC6']"
      ]
     },
     "execution_count": 3,
     "metadata": {},
     "output_type": "execute_result"
    }
   ],
   "source": [
    "# get freq mutated gene list\n",
    "freq_mut_df = u.get_frequently_mutated(b, .05)\n",
    "freq_mut_gene_list = list(freq_mut_df['Gene'])\n",
    "freq_mut_gene_list"
   ]
  },
  {
   "cell_type": "markdown",
   "metadata": {},
   "source": [
    "Transcriptomics"
   ]
  },
  {
   "cell_type": "code",
   "execution_count": 12,
   "metadata": {},
   "outputs": [
    {
     "name": "stderr",
     "output_type": "stream",
     "text": [
      "Warning: In joining the somatic_mutation table, no mutations were found for the following samples, so they were filled with Wildtype_Tumor or Wildtype_Normal: 82 samples for the PTEN gene (C:\\Users\\brittany henderson\\Anaconda3\\envs\\Research\\lib\\site-packages\\ipykernel_launcher.py, line 7)\n",
      "Warning: You tried to flatten an index that didn't have multiple levels, so we didn't actually change anything. (C:\\Users\\brittany henderson\\Anaconda3\\envs\\Research\\lib\\site-packages\\ipykernel_launcher.py, line 9)\n",
      "Warning: transcriptomics data was not found for the following samples, so transcriptomics data columns were filled with NaN for these samples: S021, S064, S073, S075, S103, S108 (C:\\Users\\brittany henderson\\Anaconda3\\envs\\Research\\lib\\site-packages\\ipykernel_launcher.py, line 18)\n"
     ]
    },
    {
     "name": "stdout",
     "output_type": "stream",
     "text": [
      "No significant comparisons.\n"
     ]
    }
   ],
   "source": [
    "# Prepare to drop Normal Samples\n",
    "# get tumor sample ids\n",
    "omics_name = 'transcriptomics'\n",
    "omics_and_mut = b.join_omics_to_mutations( \n",
    "    omics_df_name=omics_name, \n",
    "    mutations_genes='PTEN',\n",
    "    omics_genes='PTEN')\n",
    "\n",
    "omics_and_mut = b.reduce_multiindex(omics_and_mut, levels_to_drop = 1,flatten=True)\n",
    "tumors = omics_and_mut.loc[omics_and_mut['Sample_Status'] == 'Tumor'] \n",
    "tumor_sample_id_list = list(tumors.index)\n",
    "\n",
    "\n",
    "# Start forming dataframe for comparisons\n",
    "# Get clinical and omics\n",
    "clin_and_omics = b.join_metadata_to_omics( \n",
    "    omics_df_name=omics_name, \n",
    "    metadata_df_name=\"clinical\",\n",
    "    metadata_cols = [\"gender\"],\n",
    "    omics_genes = freq_mut_gene_list) #get omics for all freq_mutated genes\n",
    "\n",
    "clin_and_omics = b.reduce_multiindex(clin_and_omics,flatten=True)\n",
    "tumors_bool = clin_and_omics.index.isin(tumor_sample_id_list) # drop Normal samples\n",
    "tumor_clin_and_omics = clin_and_omics[tumors_bool]\n",
    "tumor_clin_and_omics = tumor_clin_and_omics.fillna(0) #????\n",
    "\n",
    "omics_col = tumor_clin_and_omics.columns\n",
    "omics_col_list = list(omics_col[1:])\n",
    "\n",
    "# T-tests\n",
    "all_genes_comparison = u.wrap_ttest(tumor_clin_and_omics, 'gender', omics_col_list)\n",
    "all_genes_comparison"
   ]
  },
  {
   "cell_type": "markdown",
   "metadata": {},
   "source": [
    "Proteomics"
   ]
  },
  {
   "cell_type": "code",
   "execution_count": 15,
   "metadata": {},
   "outputs": [
    {
     "name": "stdout",
     "output_type": "stream",
     "text": [
      "No significant comparisons.\n"
     ]
    },
    {
     "name": "stderr",
     "output_type": "stream",
     "text": [
      "Warning: In joining the somatic_mutation table, no mutations were found for the following samples, so they were filled with Wildtype_Tumor or Wildtype_Normal: 83 samples for the PTEN gene (C:\\Users\\brittany henderson\\Anaconda3\\envs\\Research\\lib\\site-packages\\ipykernel_launcher.py, line 7)\n",
      "Warning: The following columns were not found in the proteomics dataframe, so they were inserted into joined table, but filled with NaN: FLG, HMCN1, MUC16, MUC17, RYR3, TTC6 (C:\\Users\\brittany henderson\\Anaconda3\\envs\\Research\\lib\\site-packages\\ipykernel_launcher.py, line 18)\n",
      "Warning: proteomics data was not found for the following samples, so proteomics data columns were filled with NaN for these samples: S021, S064, S073, S075, S103 (C:\\Users\\brittany henderson\\Anaconda3\\envs\\Research\\lib\\site-packages\\ipykernel_launcher.py, line 18)\n"
     ]
    }
   ],
   "source": [
    "# Prepare to drop Normal Samples\n",
    "# get tumor sample ids\n",
    "omics_name = 'proteomics'\n",
    "omics_and_mut = b.join_omics_to_mutations( \n",
    "    omics_df_name=omics_name, \n",
    "    mutations_genes='PTEN',\n",
    "    omics_genes='PTEN')\n",
    "\n",
    "#omics_and_mut = b.reduce_multiindex(omics_and_mut, levels_to_drop = 1,flatten=True)\n",
    "tumors = omics_and_mut.loc[omics_and_mut['Sample_Status'] == 'Tumor'] \n",
    "tumor_sample_id_list = list(tumors.index)\n",
    "\n",
    "# Get clinical and omics\n",
    "clin_and_omics = b.join_metadata_to_omics( \n",
    "    omics_df_name=omics_name, \n",
    "    metadata_df_name=\"clinical\",\n",
    "    metadata_cols = [\"gender\"],\n",
    "    omics_genes = freq_mut_gene_list)\n",
    "\n",
    "#clin_and_omics = b.reduce_multiindex(clin_and_omics,flatten=True)\n",
    "tumors_bool = clin_and_omics.index.isin(tumor_sample_id_list) # drop Normal samples\n",
    "tumor_clin_and_omics = clin_and_omics[tumors_bool]\n",
    "tumor_clin_and_omics = tumor_clin_and_omics.fillna(0)\n",
    "\n",
    "omics_col = tumor_clin_and_omics.columns\n",
    "omics_col_list = list(omics_col[1:])\n",
    "\n",
    "# T-tests\n",
    "all_genes_comparison = u.wrap_ttest(tumor_clin_and_omics, 'gender', omics_col_list)\n",
    "all_genes_comparison"
   ]
  },
  {
   "cell_type": "markdown",
   "metadata": {},
   "source": [
    "Phosphoproteomics"
   ]
  },
  {
   "cell_type": "code",
   "execution_count": 18,
   "metadata": {},
   "outputs": [
    {
     "name": "stderr",
     "output_type": "stream",
     "text": [
      "Warning: In joining the somatic_mutation table, no mutations were found for the following samples, so they were filled with Wildtype_Tumor or Wildtype_Normal: 83 samples for the PTEN gene (C:\\Users\\brittany henderson\\Anaconda3\\envs\\Research\\lib\\site-packages\\ipykernel_launcher.py, line 7)\n",
      "Warning: The following columns were not found in the phosphoproteomics dataframe, so they were inserted into joined table, but filled with NaN: HMCN1, MUC16, MUC17, RYR3, TTC6 (C:\\Users\\brittany henderson\\Anaconda3\\envs\\Research\\lib\\site-packages\\ipykernel_launcher.py, line 18)\n",
      "Warning: phosphoproteomics data was not found for the following samples, so phosphoproteomics data columns were filled with NaN for these samples: S021, S064, S073, S075, S103 (C:\\Users\\brittany henderson\\Anaconda3\\envs\\Research\\lib\\site-packages\\ipykernel_launcher.py, line 18)\n"
     ]
    },
    {
     "name": "stdout",
     "output_type": "stream",
     "text": [
      "No significant comparisons.\n"
     ]
    }
   ],
   "source": [
    "# Prepare to drop Normal Samples\n",
    "# get tumor sample ids\n",
    "omics_name = 'phosphoproteomics'\n",
    "omics_and_mut = b.join_omics_to_mutations( \n",
    "    omics_df_name=omics_name, \n",
    "    mutations_genes='PTEN',\n",
    "    omics_genes='PTEN')\n",
    "\n",
    "omics_and_mut = b.reduce_multiindex(omics_and_mut, levels_to_drop = 1,flatten=True)\n",
    "tumors = omics_and_mut.loc[omics_and_mut['Sample_Status'] == 'Tumor'] \n",
    "tumor_sample_id_list = list(tumors.index)\n",
    "\n",
    "# Get clinical and omics\n",
    "clin_and_omics = b.join_metadata_to_omics( \n",
    "    omics_df_name=omics_name, \n",
    "    metadata_df_name=\"clinical\",\n",
    "    metadata_cols = [\"gender\"],\n",
    "    omics_genes = freq_mut_gene_list)\n",
    "\n",
    "clin_and_omics = b.reduce_multiindex(clin_and_omics,flatten=True)\n",
    "tumors_bool = clin_and_omics.index.isin(tumor_sample_id_list) # drop Normal samples\n",
    "tumor_clin_and_omics = clin_and_omics[tumors_bool]\n",
    "tumor_clin_and_omics = tumor_clin_and_omics.fillna(0)\n",
    "\n",
    "omics_col = tumor_clin_and_omics.columns\n",
    "omics_col_list = list(omics_col[1:])\n",
    "\n",
    "# T-tests\n",
    "all_genes_comparison = u.wrap_ttest(tumor_clin_and_omics, 'gender', omics_col_list)\n",
    "all_genes_comparison"
   ]
  },
  {
   "cell_type": "code",
   "execution_count": null,
   "metadata": {},
   "outputs": [],
   "source": []
  }
 ],
 "metadata": {
  "kernelspec": {
   "display_name": "Python 3",
   "language": "python",
   "name": "python3"
  },
  "language_info": {
   "codemirror_mode": {
    "name": "ipython",
    "version": 3
   },
   "file_extension": ".py",
   "mimetype": "text/x-python",
   "name": "python",
   "nbconvert_exporter": "python",
   "pygments_lexer": "ipython3",
   "version": "3.7.3"
  }
 },
 "nbformat": 4,
 "nbformat_minor": 2
}
