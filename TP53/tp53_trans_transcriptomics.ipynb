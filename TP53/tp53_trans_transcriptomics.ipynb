{
 "cells": [
  {
   "cell_type": "markdown",
   "metadata": {},
   "source": [
    "# ATRX Mutation Trans Effect on Transcriptomics"
   ]
  },
  {
   "cell_type": "markdown",
   "metadata": {},
   "source": [
    "### Library Imports"
   ]
  },
  {
   "cell_type": "code",
   "execution_count": 1,
   "metadata": {},
   "outputs": [
    {
     "name": "stdout",
     "output_type": "stream",
     "text": [
      "                                    \r"
     ]
    }
   ],
   "source": [
    "import pandas as pd\n",
    "import numpy as np\n",
    "import scipy.stats\n",
    "\n",
    "import warnings\n",
    "warnings.filterwarnings(\"ignore\")\n",
    "\n",
    "import cptac\n",
    "import cptac.utils as al\n",
    "\n",
    "brain = cptac.Gbm()"
   ]
  },
  {
   "cell_type": "markdown",
   "metadata": {},
   "source": [
    "### Select Gene"
   ]
  },
  {
   "cell_type": "code",
   "execution_count": 2,
   "metadata": {},
   "outputs": [],
   "source": [
    "gene = \"TP53\""
   ]
  },
  {
   "cell_type": "markdown",
   "metadata": {},
   "source": [
    "### Investigate Proteomics, Phosphoproteomics, Acetylproteomics, or Transcriptomics"
   ]
  },
  {
   "cell_type": "code",
   "execution_count": 3,
   "metadata": {},
   "outputs": [],
   "source": [
    "#omics = \"proteomics\"\n",
    "omics = \"transcriptomics\"\n",
    "#omics = \"phosphoproteomics\"\n",
    "#omics = \"acetylproteomics\""
   ]
  },
  {
   "cell_type": "markdown",
   "metadata": {},
   "source": [
    "### Track all significant comparisons in Dataframe"
   ]
  },
  {
   "cell_type": "code",
   "execution_count": 4,
   "metadata": {},
   "outputs": [],
   "source": [
    "all_significant_comparisons = pd.DataFrame(columns=['Cancer_Type', 'Gene', 'Comparison','Interacting_Protein','P_Value'])"
   ]
  },
  {
   "cell_type": "code",
   "execution_count": 5,
   "metadata": {},
   "outputs": [],
   "source": [
    "def add_to_all_significant_comparisons(df, cancer, interacting, all_sig_comp):\n",
    "    expanded = df\n",
    "    expanded['Gene'] = gene\n",
    "    expanded['Cancer_Type'] = cancer\n",
    "    expanded['Interacting_Protein'] = interacting\n",
    "    \n",
    "    updated_all_comparisons = pd.concat([all_sig_comp, expanded], sort=False)\n",
    "    \n",
    "    return updated_all_comparisons"
   ]
  },
  {
   "cell_type": "markdown",
   "metadata": {},
   "source": [
    "# Interacting Proteins: Transcriptomics"
   ]
  },
  {
   "cell_type": "markdown",
   "metadata": {},
   "source": [
    "### Generate interacting protein list"
   ]
  },
  {
   "cell_type": "markdown",
   "metadata": {},
   "source": [
    "Make a call to cptac.utils to get the interacting proteins method, which interacts with the uniprot and string databases to generate a list of known interacting partners with the given gene."
   ]
  },
  {
   "cell_type": "code",
   "execution_count": 6,
   "metadata": {},
   "outputs": [
    {
     "name": "stdout",
     "output_type": "stream",
     "text": [
      "Interacting Proteins:\n",
      "RPA1\n",
      "AURKA\n",
      "MDM2\n",
      "SIRT1\n",
      "CREBBP\n",
      "EP300\n",
      "CDK2\n",
      "TP53\n",
      "ATM\n",
      "BCL2L1\n",
      "TP53BP2\n",
      "CCNG1\n",
      "MDM4\n",
      "PTEN\n",
      "TP53BP1\n",
      "CHEK2\n",
      "FZR1\n",
      "MAPK8\n",
      "KDM1A\n",
      "BCL6\n",
      "CDKN1A\n",
      "HIPK2\n",
      "CHEK1\n",
      "CDKN2A\n",
      "BRCA1\n",
      "AKT1\n",
      "DVL2\n",
      "BLM\n",
      "ATR\n",
      "TFAP2A\n",
      "EPHA3\n"
     ]
    }
   ],
   "source": [
    "# Use get interacting proteins method to generate list of interacting proteins\n",
    "interacting_proteins = al.get_interacting_proteins(gene)\n",
    "\n",
    "# Show interacting protein list\n",
    "print(\"Interacting Proteins:\")\n",
    "for interacting_protein in interacting_proteins:\n",
    "    print(interacting_protein)"
   ]
  },
  {
   "cell_type": "markdown",
   "metadata": {},
   "source": [
    "### Test for significant comparisons in any of interacting proteins"
   ]
  },
  {
   "cell_type": "code",
   "execution_count": 7,
   "metadata": {},
   "outputs": [
    {
     "name": "stdout",
     "output_type": "stream",
     "text": [
      "Doing t-test comparisons\n",
      "\n",
      "                                  Comparison       P_Value\n",
      "0  CDKN2A_transcriptomics_ENSG00000147889.15  1.127793e-07\n",
      "\n",
      "\n",
      "\n"
     ]
    },
    {
     "name": "stderr",
     "output_type": "stream",
     "text": [
      "Warning: In joining the somatic_mutation table, no mutations were found for the following samples, so they were filled with Wildtype_Tumor or Wildtype_Normal: 77 samples for the TP53 gene (/Users/Lindsey/anaconda3/lib/python3.7/site-packages/ipykernel_launcher.py, line 2)\n"
     ]
    }
   ],
   "source": [
    "# Create dataframe in order to do comparisons with wrap_ttest\n",
    "protdf = brain.join_omics_to_mutations(mutations_genes=[gene], omics_df_name=omics, omics_genes=interacting_proteins)\n",
    "protdf = brain.reduce_multiindex(protdf, flatten=True)\n",
    "protdf = protdf[protdf.Sample_Status == 'Tumor'] # drop Normal samples\n",
    "\n",
    "# Create the binary valued column needed to do the comparison\n",
    "for ind, row in protdf.iterrows():\n",
    "    if row[gene+\"_Mutation_Status\"] != 'Wildtype_Tumor':\n",
    "        protdf.at[ind,'Label'] = 'Mutated'\n",
    "    else:\n",
    "        protdf.at[ind,'Label'] = 'Wildtype'\n",
    "\n",
    "# Format the dataframe correctly\n",
    "protdf = protdf.drop(gene+\"_Mutation\",axis=1)\n",
    "protdf = protdf.drop(gene+\"_Location\",axis=1)\n",
    "protdf = protdf.drop(gene+\"_Mutation_Status\", axis=1)\n",
    "protdf = protdf.drop(\"Sample_Status\",axis=1)\n",
    "\n",
    "\n",
    "# Make list of columns to be compared using t-tests\n",
    "col_list = list(protdf.columns)\n",
    "col_list.remove('Label')\n",
    "\n",
    "print(\"Doing t-test comparisons\\n\")\n",
    "\n",
    "# Call wrap_ttest, pass in formatted dataframe\n",
    "wrap_results = al.wrap_ttest(protdf, 'Label', col_list)\n",
    "\n",
    "# Print results, if anything significant was found\n",
    "if wrap_results is not None:\n",
    "        print(wrap_results)\n",
    "        print(\"\\n\\n\")\n",
    "        \n",
    "        all_significant_comparisons = add_to_all_significant_comparisons(wrap_results, \"Gbm\", True, all_significant_comparisons)\n",
    "        "
   ]
  },
  {
   "cell_type": "markdown",
   "metadata": {},
   "source": [
    "# All Proteins: Transcriptomics "
   ]
  },
  {
   "cell_type": "code",
   "execution_count": 8,
   "metadata": {},
   "outputs": [
    {
     "name": "stdout",
     "output_type": "stream",
     "text": [
      "\n",
      "Gene:  TP53\n"
     ]
    },
    {
     "name": "stderr",
     "output_type": "stream",
     "text": [
      "Warning: In joining the somatic_mutation table, no mutations were found for the following samples, so they were filled with Wildtype_Tumor or Wildtype_Normal: 77 samples for the TP53 gene (/Users/Lindsey/anaconda3/lib/python3.7/site-packages/ipykernel_launcher.py, line 7)\n"
     ]
    },
    {
     "name": "stdout",
     "output_type": "stream",
     "text": [
      "Doing t-test comparisons\n",
      "\n",
      "                                       Comparison       P_Value\n",
      "0          AEN_transcriptomics_ENSG00000181026.14  8.562056e-10\n",
      "1        EDA2R_transcriptomics_ENSG00000131080.13  8.800930e-10\n",
      "2         DDB2_transcriptomics_ENSG00000134574.10  1.176977e-08\n",
      "3        PHLDA3_transcriptomics_ENSG00000174307.6  3.052271e-08\n",
      "4          DRG2_transcriptomics_ENSG00000108591.8  8.233337e-08\n",
      "5   RP11-37C7.2_transcriptomics_ENSG00000259432.1  1.002485e-07\n",
      "6       CDKN2A_transcriptomics_ENSG00000147889.15  1.127793e-07\n",
      "7       DCAF12_transcriptomics_ENSG00000198876.11  1.445258e-07\n",
      "8         ZFAT_transcriptomics_ENSG00000066827.14  1.489154e-07\n",
      "9        GPR176_transcriptomics_ENSG00000166073.7  1.589371e-07\n",
      "10     PIP5KL1_transcriptomics_ENSG00000167103.10  7.240112e-07\n",
      "\n",
      "\n",
      "\n"
     ]
    }
   ],
   "source": [
    "try:\n",
    "    print(\"\\nGene: \", gene)\n",
    "\n",
    "    # Use all proteins\n",
    "\n",
    "    # Create dataframe in order to do comparisons with wrap_ttest\n",
    "    protdf = brain.join_omics_to_mutations(mutations_genes=[gene], omics_df_name=omics)\n",
    "    protdf = brain.reduce_multiindex(protdf, flatten=True) # flatten for specific column names\n",
    "    protdf = protdf.loc[protdf['Sample_Status'] == 'Tumor']\n",
    "    \n",
    "    # Create binary column \n",
    "    protdf['Label'] = np.where(\n",
    "                protdf[gene+'_Mutation_Status'] == 'Wildtype_Tumor', 'Wildtype', 'Mutated')\n",
    "\n",
    "    # Format the dataframe correctly'''\n",
    "    protdf = protdf.drop(gene+\"_Mutation\",axis=1)\n",
    "    protdf = protdf.drop(gene+\"_Location\",axis=1)\n",
    "    protdf = protdf.drop(gene+\"_Mutation_Status\", axis=1)\n",
    "    protdf = protdf.drop(\"Sample_Status\",axis=1)\n",
    "\n",
    "    # Make list of columns to be compared using t-tests\n",
    "    col_list = list(protdf.columns)\n",
    "    col_list.remove('Label')\n",
    "\n",
    "    print(\"Doing t-test comparisons\\n\")\n",
    "    \n",
    "    # Call wrap_ttest, pass in formatted dataframe\n",
    "    wrap_results = al.wrap_ttest(protdf, 'Label', col_list)\n",
    "\n",
    "    # Print results, if anything significant was found\n",
    "    if wrap_results is not None:\n",
    "            print(wrap_results)\n",
    "            print(\"\\n\\n\")\n",
    "            \n",
    "            all_significant_comparisons = add_to_all_significant_comparisons(wrap_results, \"Gbm\", False, all_significant_comparisons)\n",
    "\n",
    "\n",
    "except Exception as e:\n",
    "    print(\"Error in Comparison\")\n",
    "    print(e)"
   ]
  },
  {
   "cell_type": "markdown",
   "metadata": {},
   "source": [
    "# Print all significant comparisons"
   ]
  },
  {
   "cell_type": "code",
   "execution_count": 9,
   "metadata": {},
   "outputs": [
    {
     "data": {
      "text/html": [
       "<div>\n",
       "<style scoped>\n",
       "    .dataframe tbody tr th:only-of-type {\n",
       "        vertical-align: middle;\n",
       "    }\n",
       "\n",
       "    .dataframe tbody tr th {\n",
       "        vertical-align: top;\n",
       "    }\n",
       "\n",
       "    .dataframe thead th {\n",
       "        text-align: right;\n",
       "    }\n",
       "</style>\n",
       "<table border=\"1\" class=\"dataframe\">\n",
       "  <thead>\n",
       "    <tr style=\"text-align: right;\">\n",
       "      <th></th>\n",
       "      <th>Cancer_Type</th>\n",
       "      <th>Gene</th>\n",
       "      <th>Comparison</th>\n",
       "      <th>Interacting_Protein</th>\n",
       "      <th>P_Value</th>\n",
       "    </tr>\n",
       "  </thead>\n",
       "  <tbody>\n",
       "    <tr>\n",
       "      <td>0</td>\n",
       "      <td>Gbm</td>\n",
       "      <td>TP53</td>\n",
       "      <td>CDKN2A_transcriptomics_ENSG00000147889.15</td>\n",
       "      <td>True</td>\n",
       "      <td>1.127793e-07</td>\n",
       "    </tr>\n",
       "    <tr>\n",
       "      <td>0</td>\n",
       "      <td>Gbm</td>\n",
       "      <td>TP53</td>\n",
       "      <td>AEN_transcriptomics_ENSG00000181026.14</td>\n",
       "      <td>False</td>\n",
       "      <td>8.562056e-10</td>\n",
       "    </tr>\n",
       "    <tr>\n",
       "      <td>1</td>\n",
       "      <td>Gbm</td>\n",
       "      <td>TP53</td>\n",
       "      <td>EDA2R_transcriptomics_ENSG00000131080.13</td>\n",
       "      <td>False</td>\n",
       "      <td>8.800930e-10</td>\n",
       "    </tr>\n",
       "    <tr>\n",
       "      <td>2</td>\n",
       "      <td>Gbm</td>\n",
       "      <td>TP53</td>\n",
       "      <td>DDB2_transcriptomics_ENSG00000134574.10</td>\n",
       "      <td>False</td>\n",
       "      <td>1.176977e-08</td>\n",
       "    </tr>\n",
       "    <tr>\n",
       "      <td>3</td>\n",
       "      <td>Gbm</td>\n",
       "      <td>TP53</td>\n",
       "      <td>PHLDA3_transcriptomics_ENSG00000174307.6</td>\n",
       "      <td>False</td>\n",
       "      <td>3.052271e-08</td>\n",
       "    </tr>\n",
       "    <tr>\n",
       "      <td>4</td>\n",
       "      <td>Gbm</td>\n",
       "      <td>TP53</td>\n",
       "      <td>DRG2_transcriptomics_ENSG00000108591.8</td>\n",
       "      <td>False</td>\n",
       "      <td>8.233337e-08</td>\n",
       "    </tr>\n",
       "    <tr>\n",
       "      <td>5</td>\n",
       "      <td>Gbm</td>\n",
       "      <td>TP53</td>\n",
       "      <td>RP11-37C7.2_transcriptomics_ENSG00000259432.1</td>\n",
       "      <td>False</td>\n",
       "      <td>1.002485e-07</td>\n",
       "    </tr>\n",
       "    <tr>\n",
       "      <td>6</td>\n",
       "      <td>Gbm</td>\n",
       "      <td>TP53</td>\n",
       "      <td>CDKN2A_transcriptomics_ENSG00000147889.15</td>\n",
       "      <td>False</td>\n",
       "      <td>1.127793e-07</td>\n",
       "    </tr>\n",
       "    <tr>\n",
       "      <td>7</td>\n",
       "      <td>Gbm</td>\n",
       "      <td>TP53</td>\n",
       "      <td>DCAF12_transcriptomics_ENSG00000198876.11</td>\n",
       "      <td>False</td>\n",
       "      <td>1.445258e-07</td>\n",
       "    </tr>\n",
       "    <tr>\n",
       "      <td>8</td>\n",
       "      <td>Gbm</td>\n",
       "      <td>TP53</td>\n",
       "      <td>ZFAT_transcriptomics_ENSG00000066827.14</td>\n",
       "      <td>False</td>\n",
       "      <td>1.489154e-07</td>\n",
       "    </tr>\n",
       "    <tr>\n",
       "      <td>9</td>\n",
       "      <td>Gbm</td>\n",
       "      <td>TP53</td>\n",
       "      <td>GPR176_transcriptomics_ENSG00000166073.7</td>\n",
       "      <td>False</td>\n",
       "      <td>1.589371e-07</td>\n",
       "    </tr>\n",
       "    <tr>\n",
       "      <td>10</td>\n",
       "      <td>Gbm</td>\n",
       "      <td>TP53</td>\n",
       "      <td>PIP5KL1_transcriptomics_ENSG00000167103.10</td>\n",
       "      <td>False</td>\n",
       "      <td>7.240112e-07</td>\n",
       "    </tr>\n",
       "  </tbody>\n",
       "</table>\n",
       "</div>"
      ],
      "text/plain": [
       "   Cancer_Type  Gene                                     Comparison  \\\n",
       "0          Gbm  TP53      CDKN2A_transcriptomics_ENSG00000147889.15   \n",
       "0          Gbm  TP53         AEN_transcriptomics_ENSG00000181026.14   \n",
       "1          Gbm  TP53       EDA2R_transcriptomics_ENSG00000131080.13   \n",
       "2          Gbm  TP53        DDB2_transcriptomics_ENSG00000134574.10   \n",
       "3          Gbm  TP53       PHLDA3_transcriptomics_ENSG00000174307.6   \n",
       "4          Gbm  TP53         DRG2_transcriptomics_ENSG00000108591.8   \n",
       "5          Gbm  TP53  RP11-37C7.2_transcriptomics_ENSG00000259432.1   \n",
       "6          Gbm  TP53      CDKN2A_transcriptomics_ENSG00000147889.15   \n",
       "7          Gbm  TP53      DCAF12_transcriptomics_ENSG00000198876.11   \n",
       "8          Gbm  TP53        ZFAT_transcriptomics_ENSG00000066827.14   \n",
       "9          Gbm  TP53       GPR176_transcriptomics_ENSG00000166073.7   \n",
       "10         Gbm  TP53     PIP5KL1_transcriptomics_ENSG00000167103.10   \n",
       "\n",
       "   Interacting_Protein       P_Value  \n",
       "0                 True  1.127793e-07  \n",
       "0                False  8.562056e-10  \n",
       "1                False  8.800930e-10  \n",
       "2                False  1.176977e-08  \n",
       "3                False  3.052271e-08  \n",
       "4                False  8.233337e-08  \n",
       "5                False  1.002485e-07  \n",
       "6                False  1.127793e-07  \n",
       "7                False  1.445258e-07  \n",
       "8                False  1.489154e-07  \n",
       "9                False  1.589371e-07  \n",
       "10               False  7.240112e-07  "
      ]
     },
     "metadata": {},
     "output_type": "display_data"
    }
   ],
   "source": [
    "if len(all_significant_comparisons) > 0:\n",
    "    display(all_significant_comparisons)\n",
    "    \n",
    "else:\n",
    "    print('No Significant Comparisons!')"
   ]
  },
  {
   "cell_type": "markdown",
   "metadata": {},
   "source": [
    "### Write Significant Comparisons (if any) to Shared CSV file"
   ]
  },
  {
   "cell_type": "code",
   "execution_count": 10,
   "metadata": {},
   "outputs": [
    {
     "data": {
      "text/plain": [
       "\"\\nexisting_results = pd.read_csv(gene+'_Trans_Results.csv')\\n\\nupdated_results = pd.concat([existing_results, all_significant_comparisons], sort=False)\\n\\nupdated_results.to_csv(path_or_buf = gene + '_Trans_Results.csv', index=False)\""
      ]
     },
     "execution_count": 10,
     "metadata": {},
     "output_type": "execute_result"
    }
   ],
   "source": [
    "'''\n",
    "existing_results = pd.read_csv(gene+'_Trans_Results.csv')\n",
    "\n",
    "updated_results = pd.concat([existing_results, all_significant_comparisons], sort=False)\n",
    "\n",
    "updated_results.to_csv(path_or_buf = gene + '_Trans_Results.csv', index=False)'''"
   ]
  }
 ],
 "metadata": {
  "kernelspec": {
   "display_name": "Python 3",
   "language": "python",
   "name": "python3"
  },
  "language_info": {
   "codemirror_mode": {
    "name": "ipython",
    "version": 3
   },
   "file_extension": ".py",
   "mimetype": "text/x-python",
   "name": "python",
   "nbconvert_exporter": "python",
   "pygments_lexer": "ipython3",
   "version": "3.7.3"
  }
 },
 "nbformat": 4,
 "nbformat_minor": 2
}
