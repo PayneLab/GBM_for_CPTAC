{
 "cells": [
  {
   "cell_type": "markdown",
   "metadata": {},
   "source": [
    "# TP53 trans effect histograms for all proteins\n"
   ]
  },
  {
   "cell_type": "markdown",
   "metadata": {},
   "source": [
    "This notebook analyzes the trans effect of TP53 mutation for all proteins."
   ]
  },
  {
   "cell_type": "markdown",
   "metadata": {},
   "source": [
    "### Library Imports"
   ]
  },
  {
   "cell_type": "code",
   "execution_count": 1,
   "metadata": {},
   "outputs": [],
   "source": [
    "import pandas as pd\n",
    "import numpy as np\n",
    "import scipy.stats\n",
    "import seaborn as sns\n",
    "import matplotlib.pyplot as plt\n",
    "import gseapy as gp\n",
    "from gseapy.plot import barplot, dotplot\n",
    "\n",
    "import warnings\n",
    "warnings.filterwarnings(\"ignore\")\n",
    "\n",
    "import cptac\n",
    "import cptac.utils as al"
   ]
  },
  {
   "cell_type": "code",
   "execution_count": 2,
   "metadata": {},
   "outputs": [
    {
     "name": "stdout",
     "output_type": "stream",
     "text": [
      "                                    \r"
     ]
    }
   ],
   "source": [
    "brain = cptac.Gbm()"
   ]
  },
  {
   "cell_type": "markdown",
   "metadata": {},
   "source": [
    "### Specify Gene"
   ]
  },
  {
   "cell_type": "code",
   "execution_count": 3,
   "metadata": {},
   "outputs": [],
   "source": [
    "gene = \"TP53\""
   ]
  },
  {
   "cell_type": "markdown",
   "metadata": {},
   "source": [
    "# Transcriptomics: All Proteins"
   ]
  },
  {
   "cell_type": "code",
   "execution_count": 4,
   "metadata": {},
   "outputs": [
    {
     "name": "stdout",
     "output_type": "stream",
     "text": [
      "\n",
      "Gene:  TP53\n"
     ]
    },
    {
     "name": "stderr",
     "output_type": "stream",
     "text": [
      "Warning: In joining the somatic_mutation table, no mutations were found for the following samples, so they were filled with Wildtype_Tumor or Wildtype_Normal: 77 samples for the TP53 gene (C:\\Users\\brittany henderson\\Anaconda3\\envs\\Research\\lib\\site-packages\\ipykernel_launcher.py, line 9)\n"
     ]
    },
    {
     "name": "stdout",
     "output_type": "stream",
     "text": [
      "Doing t-test comparisons\n",
      "\n",
      "11 significant comparisons!\n",
      "Number of comparisons: 60482\n",
      "Bonferroni cutoff =  8.266922390132602e-07\n",
      "Logged Bonferroni cutoff =  -6.0826561395096865\n"
     ]
    }
   ],
   "source": [
    "transcrpt = \"transcriptomics\"\n",
    "\n",
    "try:\n",
    "    print(\"\\nGene: \", gene)\n",
    "\n",
    "    #Use all proteins\n",
    "\n",
    "    #Create dataframe in order to do comparisons with wrap_ttest\n",
    "    transcrpt_df = brain.join_omics_to_mutations(mutations_genes=[gene], omics_df_name=transcrpt)\n",
    "    transcrpt_df = brain.reduce_multiindex(transcrpt_df, flatten=True)\n",
    "    transcrpt_df = transcrpt_df[transcrpt_df.Sample_Status == 'Tumor'] # drop Normal samples\n",
    "    #Remove Cis interactions \n",
    "    transcrpt_df = transcrpt_df.loc[:,~transcrpt_df.columns.str.contains(gene+'_transcriptomics')] # change for each gene \n",
    "    transcrpt_df = transcrpt_df.dropna(axis=1, how='all') # drop columns with all NaN data\n",
    "    \n",
    "    #Create the binary valued column needed to do the comparison\n",
    "    for ind, row in transcrpt_df.iterrows():\n",
    "        if row[gene+\"_Mutation_Status\"] != 'Wildtype_Tumor':\n",
    "            transcrpt_df.at[ind,'Label'] = 'Mutated'\n",
    "        else:\n",
    "            transcrpt_df.at[ind,'Label'] = 'Wildtype'\n",
    "\n",
    "    #Format the datafram correctly\n",
    "    transcrpt_df = transcrpt_df.drop(gene+\"_Mutation\",axis=1)\n",
    "    transcrpt_df = transcrpt_df.drop(gene+\"_Location\",axis=1)\n",
    "    transcrpt_df = transcrpt_df.drop(gene+\"_Mutation_Status\", axis=1)\n",
    "    transcrpt_df = transcrpt_df.drop(\"Sample_Status\",axis=1)\n",
    "\n",
    "    #Make list of columns to be compared using t-tests\n",
    "    t_col_list = list(transcrpt_df.columns)\n",
    "    t_col_list.remove('Label')\n",
    "\n",
    "    print(\"Doing t-test comparisons\\n\")\n",
    "    \n",
    "    #Call wrap_ttest, pass in formatted dataframe\n",
    "    transcrpt_all_comparisons = al.wrap_ttest(transcrpt_df, 'Label', t_col_list, return_all=True)\n",
    "\n",
    "    t_num_comparisons = len(t_col_list)\n",
    "    print(\"Number of comparisons:\", t_num_comparisons)\n",
    "    t_bonferroni_cutoff = .05 / t_num_comparisons\n",
    "    print(\"Bonferroni cutoff = \", t_bonferroni_cutoff)\n",
    "    print(\"Logged Bonferroni cutoff = \", np.log10(t_bonferroni_cutoff))\n",
    "\n",
    "except Exception as e:\n",
    "    print(\"Error in Comparison\")\n",
    "    print(e)"
   ]
  },
  {
   "cell_type": "markdown",
   "metadata": {},
   "source": [
    "Transcriptomics: Print Significant Comparisons"
   ]
  },
  {
   "cell_type": "code",
   "execution_count": 5,
   "metadata": {},
   "outputs": [
    {
     "name": "stdout",
     "output_type": "stream",
     "text": [
      "Number of significant comparisons for Transcriptomics:  11\n"
     ]
    },
    {
     "data": {
      "text/html": [
       "<div>\n",
       "<style scoped>\n",
       "    .dataframe tbody tr th:only-of-type {\n",
       "        vertical-align: middle;\n",
       "    }\n",
       "\n",
       "    .dataframe tbody tr th {\n",
       "        vertical-align: top;\n",
       "    }\n",
       "\n",
       "    .dataframe thead th {\n",
       "        text-align: right;\n",
       "    }\n",
       "</style>\n",
       "<table border=\"1\" class=\"dataframe\">\n",
       "  <thead>\n",
       "    <tr style=\"text-align: right;\">\n",
       "      <th></th>\n",
       "      <th>Comparison</th>\n",
       "      <th>P_Value</th>\n",
       "    </tr>\n",
       "  </thead>\n",
       "  <tbody>\n",
       "    <tr>\n",
       "      <td>0</td>\n",
       "      <td>AEN_transcriptomics_ENSG00000181026.14</td>\n",
       "      <td>8.562056e-10</td>\n",
       "    </tr>\n",
       "    <tr>\n",
       "      <td>1</td>\n",
       "      <td>EDA2R_transcriptomics_ENSG00000131080.13</td>\n",
       "      <td>8.800930e-10</td>\n",
       "    </tr>\n",
       "    <tr>\n",
       "      <td>2</td>\n",
       "      <td>DDB2_transcriptomics_ENSG00000134574.10</td>\n",
       "      <td>1.176977e-08</td>\n",
       "    </tr>\n",
       "    <tr>\n",
       "      <td>3</td>\n",
       "      <td>PHLDA3_transcriptomics_ENSG00000174307.6</td>\n",
       "      <td>3.052271e-08</td>\n",
       "    </tr>\n",
       "    <tr>\n",
       "      <td>4</td>\n",
       "      <td>DRG2_transcriptomics_ENSG00000108591.8</td>\n",
       "      <td>8.233337e-08</td>\n",
       "    </tr>\n",
       "    <tr>\n",
       "      <td>5</td>\n",
       "      <td>RP11-37C7.2_transcriptomics_ENSG00000259432.1</td>\n",
       "      <td>1.002485e-07</td>\n",
       "    </tr>\n",
       "    <tr>\n",
       "      <td>6</td>\n",
       "      <td>CDKN2A_transcriptomics_ENSG00000147889.15</td>\n",
       "      <td>1.127793e-07</td>\n",
       "    </tr>\n",
       "    <tr>\n",
       "      <td>7</td>\n",
       "      <td>DCAF12_transcriptomics_ENSG00000198876.11</td>\n",
       "      <td>1.445258e-07</td>\n",
       "    </tr>\n",
       "    <tr>\n",
       "      <td>8</td>\n",
       "      <td>ZFAT_transcriptomics_ENSG00000066827.14</td>\n",
       "      <td>1.489154e-07</td>\n",
       "    </tr>\n",
       "    <tr>\n",
       "      <td>9</td>\n",
       "      <td>GPR176_transcriptomics_ENSG00000166073.7</td>\n",
       "      <td>1.589371e-07</td>\n",
       "    </tr>\n",
       "    <tr>\n",
       "      <td>10</td>\n",
       "      <td>PIP5KL1_transcriptomics_ENSG00000167103.10</td>\n",
       "      <td>7.240112e-07</td>\n",
       "    </tr>\n",
       "  </tbody>\n",
       "</table>\n",
       "</div>"
      ],
      "text/plain": [
       "                                       Comparison       P_Value\n",
       "0          AEN_transcriptomics_ENSG00000181026.14  8.562056e-10\n",
       "1        EDA2R_transcriptomics_ENSG00000131080.13  8.800930e-10\n",
       "2         DDB2_transcriptomics_ENSG00000134574.10  1.176977e-08\n",
       "3        PHLDA3_transcriptomics_ENSG00000174307.6  3.052271e-08\n",
       "4          DRG2_transcriptomics_ENSG00000108591.8  8.233337e-08\n",
       "5   RP11-37C7.2_transcriptomics_ENSG00000259432.1  1.002485e-07\n",
       "6       CDKN2A_transcriptomics_ENSG00000147889.15  1.127793e-07\n",
       "7       DCAF12_transcriptomics_ENSG00000198876.11  1.445258e-07\n",
       "8         ZFAT_transcriptomics_ENSG00000066827.14  1.489154e-07\n",
       "9        GPR176_transcriptomics_ENSG00000166073.7  1.589371e-07\n",
       "10     PIP5KL1_transcriptomics_ENSG00000167103.10  7.240112e-07"
      ]
     },
     "execution_count": 5,
     "metadata": {},
     "output_type": "execute_result"
    }
   ],
   "source": [
    "transcrpt_all_comparisons = transcrpt_all_comparisons.dropna(axis=0)\n",
    "transcrpt_sig_comparisons = transcrpt_all_comparisons.loc[transcrpt_all_comparisons['P_Value'] <= t_bonferroni_cutoff]\n",
    "print(\"Number of significant comparisons for Transcriptomics: \", len(transcrpt_sig_comparisons))\n",
    "transcrpt_sig_comparisons"
   ]
  },
  {
   "cell_type": "markdown",
   "metadata": {},
   "source": [
    "Transcriptomics: Histogram for all proteins"
   ]
  },
  {
   "cell_type": "code",
   "execution_count": 6,
   "metadata": {},
   "outputs": [
    {
     "data": {
      "image/png": "[encoded data removed]",
      "text/plain": [
       "<Figure size 720x576 with 1 Axes>"
      ]
     },
     "metadata": {},
     "output_type": "display_data"
    }
   ],
   "source": [
    "# Create series of p-values for Histogram\n",
    "transcrpt_pval_series = transcrpt_all_comparisons['P_Value']\n",
    "\n",
    "# Format figure size and font\n",
    "plt.rcParams['figure.figsize']=(10,8)\n",
    "sns.set(font_scale = 1.3)\n",
    "\n",
    "# Create log scale for the x-axis\n",
    "plt.xscale('log')\n",
    "t_log_min, t_log_max = np.log10(transcrpt_pval_series.min()), np.log10(transcrpt_pval_series.max())\n",
    "t_bins = np.logspace(t_log_min - 1, t_log_max, 300) # change bin number here\n",
    "histogram = sns.distplot(transcrpt_pval_series, bins = t_bins, kde=False, color='navy') \n",
    "\n",
    "# Format title and axis\n",
    "histogram.set_title(\"P_Value Distribution for \"+gene+\" trans Transcriptomics\")\n",
    "histogram.set(ylabel = 'Number of Proteins')\n",
    "#plt.xlim([10e-9,10e-1])\n",
    "#plt.ylim([0, 3500]) # change y-axis range\n",
    "\n",
    "# Graph cutoffs: alpha = green, bonferroni = red\n",
    "plt.axvline(t_bonferroni_cutoff, 0, 0.95, linewidth=2, color='r')\n",
    "plt.axvline(0.05, 0, 0.95, linewidth=2, color='g')\n",
    "\n",
    "plt.show()\n",
    "plt.clf()\n",
    "plt.close()"
   ]
  },
  {
   "cell_type": "markdown",
   "metadata": {},
   "source": [
    "Transcriptomics zoomed in"
   ]
  },
  {
   "cell_type": "code",
   "execution_count": 26,
   "metadata": {},
   "outputs": [
    {
     "data": {
      "image/png": "[encoded data removed]",
      "text/plain": [
       "<Figure size 720x576 with 1 Axes>"
      ]
     },
     "metadata": {},
     "output_type": "display_data"
    }
   ],
   "source": [
    "# Select p-values within range 0 - end_value \n",
    "t_end_value = 0.01\n",
    "transcrpt_zoomed = transcrpt_pval_series.loc[transcrpt_pval_series <= t_end_value]\n",
    "\n",
    "# Format size of figure and font\n",
    "plt.rcParams['figure.figsize']=(10,8)\n",
    "sns.set(font_scale = 1.3)\n",
    "\n",
    "# Create log scale for the x-axis\n",
    "plt.xscale('log')\n",
    "t_zoomed_log_min, t_zoomed_log_max = np.log10(transcrpt_zoomed.min()),np.log10(transcrpt_zoomed.max())\n",
    "t_zoomed_bins = np.logspace(t_zoomed_log_min - 1, t_zoomed_log_max, 200) # change this number for more or less bins\n",
    "histogram = sns.distplot(transcrpt_zoomed, bins=t_zoomed_bins, kde=False, color='teal')\n",
    "\n",
    "# Format title and axis\n",
    "histogram.set_title(\"P_Value Distribution for \"+gene+\" trans Transcriptomics (P_Value < \" + str(t_end_value) + \")\")\n",
    "histogram.set(ylabel = 'Number of Proteins')\n",
    "plt.xlim([10e-9,10e-3])\n",
    "#plt.ylim([0.0,400]) # change y axis intervals\n",
    "\n",
    "# Create bonferroni cutoff line \n",
    "plt.axvline(t_bonferroni_cutoff, 0, .95, linewidth=2, color='r') # cutoff line parameters: (cutoff, 0, height)\n",
    "\n",
    "plt.show()\n",
    "plt.clf()\n",
    "plt.close()"
   ]
  },
  {
   "cell_type": "code",
   "execution_count": null,
   "metadata": {},
   "outputs": [],
   "source": [
    "# Gene set enrichment analysis\n",
    "t_extended_cutoff = t_bonferroni_cutoff\n",
    "t_gsea = transcrpt_all_comparisons.loc[transcrpt_all_comparisons['P_Value'] <= t_extended_cutoff]\n",
    "print(\"Number of Transcriptomics comparisons for gsea: \", len(t_gsea))\n",
    "\n",
    "# create gene list\n",
    "t_genes = t_gsea['Comparison']\n",
    "t_genes.replace(to_replace = '_transcriptomics.*$', value = '', \n",
    "                        inplace = True, regex = True) # shorten column names\n",
    "t_genes.replace(to_replace = '-.*$', value = '', \n",
    "                        inplace = True, regex = True) # shorten column names\n",
    "t_genes_list = list(t_genes)\n",
    "\n",
    "t_enr = gp.enrichr(gene_list = t_genes_list, description='Transcriptomics_Comparisons', gene_sets='KEGG_2016', \n",
    "                       outdir='Enrichment Analysis')\n",
    "\n",
    "t_enr.res2d.head()"
   ]
  },
  {
   "cell_type": "markdown",
   "metadata": {},
   "source": [
    "# Proteomics: All Proteins"
   ]
  },
  {
   "cell_type": "code",
   "execution_count": 8,
   "metadata": {},
   "outputs": [
    {
     "name": "stdout",
     "output_type": "stream",
     "text": [
      "\n",
      "Gene:  TP53\n"
     ]
    },
    {
     "name": "stderr",
     "output_type": "stream",
     "text": [
      "Warning: In joining the somatic_mutation table, no mutations were found for the following samples, so they were filled with Wildtype_Tumor or Wildtype_Normal: 78 samples for the TP53 gene (C:\\Users\\brittany henderson\\Anaconda3\\envs\\Research\\lib\\site-packages\\ipykernel_launcher.py, line 9)\n",
      "Warning: You tried to flatten an index that didn't have multiple levels, so we didn't actually change anything. (C:\\Users\\brittany henderson\\Anaconda3\\envs\\Research\\lib\\site-packages\\ipykernel_launcher.py, line 10)\n"
     ]
    },
    {
     "name": "stdout",
     "output_type": "stream",
     "text": [
      "Doing t-test comparisons\n",
      "\n",
      "6 significant comparisons!\n",
      "Number of comparisons: 11140\n",
      "Bonferroni cutoff =  4.4883303411131066e-06\n",
      "Logged Bonferroni cutoff =  -5.347915186501691\n"
     ]
    }
   ],
   "source": [
    "prot = \"proteomics\"\n",
    "\n",
    "try:\n",
    "    print(\"\\nGene: \", gene)\n",
    "\n",
    "    #Use all proteins\n",
    "\n",
    "    #Create dataframe in order to do comparisons with wrap_ttest\n",
    "    protdf = brain.join_omics_to_mutations(mutations_genes=[gene], omics_df_name=prot)\n",
    "    protdf = brain.reduce_multiindex(protdf, flatten=True)\n",
    "    protdf = protdf[protdf.Sample_Status == 'Tumor'] # drop Normal samples\n",
    "    \n",
    "    #Remove Cis interactions \n",
    "    protdf = protdf.drop(columns = gene+\"_proteomics\") # change for each gene \n",
    "    protdf = protdf.dropna(axis=1, how='all') # drop columns with all NaN data\n",
    "    \n",
    "    #Create the binary valued column needed to do the comparison\n",
    "    for ind, row in protdf.iterrows():\n",
    "        if row[gene+\"_Mutation_Status\"] != 'Wildtype_Tumor':\n",
    "            protdf.at[ind,'Label'] = 'Mutated'\n",
    "        else:\n",
    "            protdf.at[ind,'Label'] = 'Wildtype'\n",
    "\n",
    "    #Format the datafram correctly\n",
    "    protdf = protdf.drop(gene+\"_Mutation\",axis=1)\n",
    "    protdf = protdf.drop(gene+\"_Location\",axis=1)\n",
    "    protdf = protdf.drop(gene+\"_Mutation_Status\", axis=1)\n",
    "    protdf = protdf.drop(\"Sample_Status\",axis=1)\n",
    "\n",
    "    #Make list of columns to be compared using t-tests\n",
    "    prot_col_list = list(protdf.columns)\n",
    "    prot_col_list.remove('Label')\n",
    "\n",
    "    print(\"Doing t-test comparisons\\n\")\n",
    "    \n",
    "    #Call wrap_ttest, pass in formatted dataframe\n",
    "    prot_all_comparisons = al.wrap_ttest(protdf, 'Label', prot_col_list, return_all=True)\n",
    "\n",
    "    prot_num_comparisons = len(prot_col_list)\n",
    "    print(\"Number of comparisons:\", prot_num_comparisons)\n",
    "    prot_bonferroni_cutoff = .05 / prot_num_comparisons\n",
    "    print(\"Bonferroni cutoff = \", prot_bonferroni_cutoff)\n",
    "    print(\"Logged Bonferroni cutoff = \", np.log10(prot_bonferroni_cutoff))\n",
    "\n",
    "\n",
    "except Exception as e:\n",
    "    print(\"Error in Comparison\")\n",
    "    print(e)"
   ]
  },
  {
   "cell_type": "markdown",
   "metadata": {},
   "source": [
    "Print Significant Comparisons"
   ]
  },
  {
   "cell_type": "code",
   "execution_count": 9,
   "metadata": {},
   "outputs": [
    {
     "name": "stdout",
     "output_type": "stream",
     "text": [
      "Number of significant Proteomics comparisons:  6\n"
     ]
    },
    {
     "data": {
      "text/html": [
       "<div>\n",
       "<style scoped>\n",
       "    .dataframe tbody tr th:only-of-type {\n",
       "        vertical-align: middle;\n",
       "    }\n",
       "\n",
       "    .dataframe tbody tr th {\n",
       "        vertical-align: top;\n",
       "    }\n",
       "\n",
       "    .dataframe thead th {\n",
       "        text-align: right;\n",
       "    }\n",
       "</style>\n",
       "<table border=\"1\" class=\"dataframe\">\n",
       "  <thead>\n",
       "    <tr style=\"text-align: right;\">\n",
       "      <th></th>\n",
       "      <th>Comparison</th>\n",
       "      <th>P_Value</th>\n",
       "    </tr>\n",
       "  </thead>\n",
       "  <tbody>\n",
       "    <tr>\n",
       "      <td>0</td>\n",
       "      <td>HMGN5_proteomics</td>\n",
       "      <td>4.264835e-07</td>\n",
       "    </tr>\n",
       "    <tr>\n",
       "      <td>1</td>\n",
       "      <td>RRM2B_proteomics</td>\n",
       "      <td>4.860001e-07</td>\n",
       "    </tr>\n",
       "    <tr>\n",
       "      <td>2</td>\n",
       "      <td>RPS27L_proteomics</td>\n",
       "      <td>8.001839e-07</td>\n",
       "    </tr>\n",
       "    <tr>\n",
       "      <td>3</td>\n",
       "      <td>TNFRSF10B_proteomics</td>\n",
       "      <td>1.093063e-06</td>\n",
       "    </tr>\n",
       "    <tr>\n",
       "      <td>4</td>\n",
       "      <td>PHLDA3_proteomics</td>\n",
       "      <td>1.389006e-06</td>\n",
       "    </tr>\n",
       "    <tr>\n",
       "      <td>5</td>\n",
       "      <td>RPL22L1_proteomics</td>\n",
       "      <td>2.975317e-06</td>\n",
       "    </tr>\n",
       "  </tbody>\n",
       "</table>\n",
       "</div>"
      ],
      "text/plain": [
       "             Comparison       P_Value\n",
       "0      HMGN5_proteomics  4.264835e-07\n",
       "1      RRM2B_proteomics  4.860001e-07\n",
       "2     RPS27L_proteomics  8.001839e-07\n",
       "3  TNFRSF10B_proteomics  1.093063e-06\n",
       "4     PHLDA3_proteomics  1.389006e-06\n",
       "5    RPL22L1_proteomics  2.975317e-06"
      ]
     },
     "execution_count": 9,
     "metadata": {},
     "output_type": "execute_result"
    }
   ],
   "source": [
    "prot_all_comparisons = prot_all_comparisons.dropna(axis=0)\n",
    "prot_sig_comparisons = prot_all_comparisons.loc[prot_all_comparisons['P_Value'] <= prot_bonferroni_cutoff]\n",
    "print(\"Number of significant Proteomics comparisons: \", len(prot_sig_comparisons))\n",
    "prot_sig_comparisons"
   ]
  },
  {
   "cell_type": "markdown",
   "metadata": {},
   "source": [
    "Proteomics Histograms "
   ]
  },
  {
   "cell_type": "code",
   "execution_count": 24,
   "metadata": {},
   "outputs": [
    {
     "data": {
      "image/png": "[encoded data removed]",
      "text/plain": [
       "<Figure size 720x576 with 1 Axes>"
      ]
     },
     "metadata": {},
     "output_type": "display_data"
    }
   ],
   "source": [
    "# Create series of p-values for Histogram\n",
    "prot_pval_series = prot_all_comparisons['P_Value']\n",
    "\n",
    "# Format figure size and font\n",
    "plt.rcParams['figure.figsize']=(10,8)\n",
    "sns.set(font_scale = 1.3)\n",
    "\n",
    "# Create log scale for the x-axis\n",
    "plt.xscale('log')\n",
    "prot_log_min, prot_log_max = np.log10(prot_pval_series.min()), np.log10(prot_pval_series.max())\n",
    "prot_bins = np.logspace(prot_log_min - 1, prot_log_max, 100) # change bin number here\n",
    "histogram = sns.distplot(prot_pval_series, bins = prot_bins, kde=False, color='navy') # bins 100 \n",
    "\n",
    "# Format title and axis\n",
    "histogram.set_title(\"P_Value Distribution for \"+gene+\" trans Proteomics for All Proteins\")\n",
    "histogram.set(ylabel = 'Number of Proteins')\n",
    "#plt.xlim([10e-8,10e-1]) # change x-axis range\n",
    "#plt.ylim([0, 3500]) # change y-axis range\n",
    "\n",
    "# Graph cutoffs: alpha = green, bonferroni = red\n",
    "plt.axvline(prot_bonferroni_cutoff, 0, 0.95, linewidth=2, color='r')\n",
    "plt.axvline(0.05, 0, 0.95, linewidth=2, color='g')\n",
    "\n",
    "plt.show()\n",
    "plt.clf()\n",
    "plt.close()"
   ]
  },
  {
   "cell_type": "markdown",
   "metadata": {},
   "source": [
    "Proteomics zoomed in "
   ]
  },
  {
   "cell_type": "code",
   "execution_count": 23,
   "metadata": {},
   "outputs": [
    {
     "data": {
      "image/png": "[encoded data removed]",
      "text/plain": [
       "<Figure size 720x576 with 1 Axes>"
      ]
     },
     "metadata": {},
     "output_type": "display_data"
    }
   ],
   "source": [
    "# Select p-values within range 0 - end_value \n",
    "prot_end_value = 0.01\n",
    "prot_zoomed = prot_pval_series.loc[prot_pval_series <= prot_end_value]\n",
    "\n",
    "# Format size of figure and font\n",
    "plt.rcParams['figure.figsize']=(10,8)\n",
    "sns.set(font_scale = 1.3)\n",
    "\n",
    "# Create log scale for the x-axis\n",
    "plt.xscale('log')\n",
    "zoomed_log_min, zoomed_log_max = np.log10(prot_zoomed.min()),np.log10(prot_zoomed.max())\n",
    "prot_bins_zoomed = np.logspace(zoomed_log_min - 1, zoomed_log_max, 100) # change this number for more or less bins\n",
    "histogram = sns.distplot(prot_zoomed, bins = prot_bins_zoomed, kde=False, color='teal')\n",
    "\n",
    "# Format title and axis\n",
    "histogram.set_title(\"P_Value Distribution for \"+gene+\" trans Proteomics (P_Value < \" + str(prot_end_value) + \")\")\n",
    "histogram.set(ylabel = 'Number of Proteins')\n",
    "plt.xlim([10e-8,10e-3]) # change x-axis range\n",
    "#plt.ylim([0.0,20]) # change y axis intervals\n",
    "\n",
    "# Create bonferroni cutoff line \n",
    "plt.axvline(prot_bonferroni_cutoff, 0, .95, linewidth=2, color='r') # cutoff line parameters: (cutoff, 0, height)\n",
    "\n",
    "# cutoff for gsea\n",
    "plt.axvline(prot_bonferroni_cutoff + .000015, 0, .95, linewidth=2, color='b') # cutoff line parameters: (cutoff, 0, height)\n",
    "\n",
    "plt.show()\n",
    "plt.clf()\n",
    "plt.close()"
   ]
  },
  {
   "cell_type": "code",
   "execution_count": null,
   "metadata": {},
   "outputs": [],
   "source": [
    "# Gene set enrichment analysis\n",
    "prot_extended_cutoff = prot_bonferroni_cutoff + .000015\n",
    "\n",
    "prot_gsea = prot_all_comparisons.loc[prot_all_comparisons['P_Value'] <= prot_extended_cutoff]\n",
    "print(\"Number of Proteomics comparisons for gsea: \", len(prot_gsea))\n",
    "\n",
    "# create gene list\n",
    "prot_genes = prot_gsea['Comparison']\n",
    "prot_genes.replace(to_replace = '_proteomics', value = '', \n",
    "                        inplace = True, regex = True) # shorten column names\n",
    "prot_genes_list = list(prot_genes)\n",
    "\n",
    "prot_enr = gp.enrichr(gene_list = prot_genes_list, description='Proteomics_Comparisons', gene_sets='KEGG_2016', \n",
    "                       outdir='Enrichment Analysis')\n",
    "\n",
    "prot_enr.res2d.head()"
   ]
  },
  {
   "cell_type": "markdown",
   "metadata": {},
   "source": [
    "# Phosphoproteomics: All Proteins"
   ]
  },
  {
   "cell_type": "code",
   "execution_count": 12,
   "metadata": {},
   "outputs": [
    {
     "name": "stdout",
     "output_type": "stream",
     "text": [
      "\n",
      "Gene:  TP53\n"
     ]
    },
    {
     "name": "stderr",
     "output_type": "stream",
     "text": [
      "Warning: In joining the somatic_mutation table, no mutations were found for the following samples, so they were filled with Wildtype_Tumor or Wildtype_Normal: 78 samples for the TP53 gene (C:\\Users\\brittany henderson\\Anaconda3\\envs\\Research\\lib\\site-packages\\ipykernel_launcher.py, line 7)\n"
     ]
    },
    {
     "name": "stdout",
     "output_type": "stream",
     "text": [
      "Doing t-test comparisons\n",
      "\n",
      "2 significant comparisons!\n",
      "Number of comparisons: 101346\n",
      "Bonferroni cutoff =  4.933593827087404e-07\n",
      "Logged Bonferroni cutoff =  4.933593827087404e-07\n"
     ]
    }
   ],
   "source": [
    "phos = 'phosphoproteomics'\n",
    "\n",
    "try:\n",
    "    print(\"\\nGene: \", gene)\n",
    "\n",
    "    # Create dataframe in order to do comparisons with wrap_ttest\n",
    "    phosdf = brain.join_omics_to_mutations(mutations_genes=[gene], omics_df_name=phos)\n",
    "    phosdf = brain.reduce_multiindex(phosdf, flatten = True)\n",
    "    phosdf = phosdf.loc[phosdf['Sample_Status'] == 'Tumor']\n",
    "    \n",
    "    #Remove Cis interactions\n",
    "    phosdf = phosdf.loc[:,~phosdf.columns.str.contains(gene+'_phosphoproteomics')]\n",
    "    phosdf = phosdf.dropna(axis=1, how='all') # drop columns with all NaN data\n",
    "    \n",
    "    \n",
    "    # Create the binary valued column needed to do the comparison\n",
    "    for ind, row in phosdf.iterrows():\n",
    "        if row[gene+\"_Mutation_Status\"] != 'Wildtype_Tumor':\n",
    "            phosdf.at[ind,'Label'] = 'Mutated'\n",
    "        else:\n",
    "            phosdf.at[ind,'Label'] = 'Wildtype'\n",
    "\n",
    "    # Format the datafram correctly'''\n",
    "    phosdf = phosdf.drop(gene+\"_Mutation\",axis=1)\n",
    "    phosdf = phosdf.drop(gene+\"_Location\",axis=1)\n",
    "    phosdf = phosdf.drop(gene+\"_Mutation_Status\", axis=1)\n",
    "    phosdf = phosdf.drop(\"Sample_Status\",axis=1)\n",
    "\n",
    "    # Make list of columns to be compared using t-tests\n",
    "    phos_col_list = list(phosdf.columns)\n",
    "    phos_col_list.remove('Label')\n",
    "    \n",
    "    print(\"Doing t-test comparisons\\n\")\n",
    "    \n",
    "    #Call wrap_ttest, pass in formatted dataframe\n",
    "    phos_all_comparisons = al.wrap_ttest(phosdf, 'Label', phos_col_list, return_all=True)\n",
    "    \n",
    "    phos_num_comparisons = len(phos_col_list)\n",
    "    print(\"Number of comparisons:\", phos_num_comparisons)\n",
    "    phos_bonferroni_cutoff = .05 / phos_num_comparisons\n",
    "    print(\"Bonferroni cutoff = \", phos_bonferroni_cutoff)\n",
    "    print(\"Logged Bonferroni cutoff = \", phos_bonferroni_cutoff)\n",
    "            \n",
    "        \n",
    "except Exception as e:\n",
    "    print(\"Error in Comparison\")\n",
    "    print(e)"
   ]
  },
  {
   "cell_type": "markdown",
   "metadata": {},
   "source": [
    "Print Significant Comparisons"
   ]
  },
  {
   "cell_type": "code",
   "execution_count": 13,
   "metadata": {},
   "outputs": [
    {
     "name": "stdout",
     "output_type": "stream",
     "text": [
      "Number of significant Phosphoproteomics comparisons:  2\n"
     ]
    },
    {
     "data": {
      "text/html": [
       "<div>\n",
       "<style scoped>\n",
       "    .dataframe tbody tr th:only-of-type {\n",
       "        vertical-align: middle;\n",
       "    }\n",
       "\n",
       "    .dataframe tbody tr th {\n",
       "        vertical-align: top;\n",
       "    }\n",
       "\n",
       "    .dataframe thead th {\n",
       "        text-align: right;\n",
       "    }\n",
       "</style>\n",
       "<table border=\"1\" class=\"dataframe\">\n",
       "  <thead>\n",
       "    <tr style=\"text-align: right;\">\n",
       "      <th></th>\n",
       "      <th>Comparison</th>\n",
       "      <th>P_Value</th>\n",
       "    </tr>\n",
       "  </thead>\n",
       "  <tbody>\n",
       "    <tr>\n",
       "      <td>0</td>\n",
       "      <td>TCEAL3_phosphoproteomics_S65_REDEGEPGDEGQLEDEG...</td>\n",
       "      <td>1.559019e-09</td>\n",
       "    </tr>\n",
       "    <tr>\n",
       "      <td>1</td>\n",
       "      <td>TCEAL3_phosphoproteomics_S72_QGRS*EGEGKPQGEGK_...</td>\n",
       "      <td>3.528867e-08</td>\n",
       "    </tr>\n",
       "  </tbody>\n",
       "</table>\n",
       "</div>"
      ],
      "text/plain": [
       "                                          Comparison       P_Value\n",
       "0  TCEAL3_phosphoproteomics_S65_REDEGEPGDEGQLEDEG...  1.559019e-09\n",
       "1  TCEAL3_phosphoproteomics_S72_QGRS*EGEGKPQGEGK_...  3.528867e-08"
      ]
     },
     "execution_count": 13,
     "metadata": {},
     "output_type": "execute_result"
    }
   ],
   "source": [
    "phos_all_comparisons = phos_all_comparisons.dropna(axis=0)\n",
    "phos_sig_comparisons = phos_all_comparisons.loc[phos_all_comparisons['P_Value'] <= phos_bonferroni_cutoff]\n",
    "print(\"Number of significant Phosphoproteomics comparisons: \", len(phos_sig_comparisons))\n",
    "phos_sig_comparisons.head()"
   ]
  },
  {
   "cell_type": "markdown",
   "metadata": {},
   "source": [
    "Phosphoproteomics Histograms"
   ]
  },
  {
   "cell_type": "code",
   "execution_count": 17,
   "metadata": {},
   "outputs": [
    {
     "data": {
      "image/png": "[encoded data removed]",
      "text/plain": [
       "<Figure size 720x576 with 1 Axes>"
      ]
     },
     "metadata": {},
     "output_type": "display_data"
    }
   ],
   "source": [
    "# Create series of p-values for Histogram\n",
    "phos_pval_series = phos_all_comparisons['P_Value']\n",
    "\n",
    "# Format figure size and font\n",
    "plt.rcParams['figure.figsize']=(10,8)\n",
    "sns.set(font_scale = 1.3)\n",
    "\n",
    "# Create log scale for the x-axis\n",
    "plt.xscale('log')\n",
    "phos_log_min, phos_log_max = np.log10(phos_pval_series.min()), np.log10(phos_pval_series.max())\n",
    "phos_bins = np.logspace(phos_log_min - 1, phos_log_max, 100) # change bin number here\n",
    "histogram = sns.distplot(phos_pval_series, bins = phos_bins, kde=False, color='navy') \n",
    "\n",
    "# Format title and axis\n",
    "histogram.set_title(\"P_Value Distribution for \"+gene+\" trans Phosphoproteomics for All Proteins\")\n",
    "histogram.set(ylabel = 'Number of Proteins')\n",
    "#plt.xlim([10e-10,10e-1]) # change x-axis range\n",
    "#plt.ylim([0, 3500]) # change y-axis range\n",
    "\n",
    "# Graph cutoffs: alpha = green, bonferroni = red\n",
    "plt.axvline(phos_bonferroni_cutoff, 0, 0.95, linewidth=2, color='r')\n",
    "plt.axvline(0.05, 0, 0.95, linewidth=2, color='g')\n",
    "\n",
    "plt.show()\n",
    "plt.clf()\n",
    "plt.close()"
   ]
  },
  {
   "cell_type": "markdown",
   "metadata": {},
   "source": [
    "Phosphoproteomics zoomed in"
   ]
  },
  {
   "cell_type": "code",
   "execution_count": 22,
   "metadata": {},
   "outputs": [
    {
     "data": {
      "image/png": "[encoded data removed]",
      "text/plain": [
       "<Figure size 720x576 with 1 Axes>"
      ]
     },
     "metadata": {},
     "output_type": "display_data"
    }
   ],
   "source": [
    "# Select p-values within range 0 - end_value \n",
    "phos_end_value = 0.01\n",
    "phos_zoomed = phos_pval_series.loc[phos_pval_series <= phos_end_value]\n",
    "\n",
    "# Format size of figure and font\n",
    "plt.rcParams['figure.figsize']=(10,8)\n",
    "sns.set(font_scale = 1.3)\n",
    "\n",
    "# Create log scale for the x-axis\n",
    "plt.xscale('log')\n",
    "phos_zoomed_log_min, phos_zoomed_log_max = np.log10(phos_zoomed.min()),np.log10(phos_zoomed.max())\n",
    "phos_bins_zoomed = np.logspace(phos_zoomed_log_min - 1, phos_zoomed_log_max, 200) # change this number for more or less bins\n",
    "histogram = sns.distplot(phos_zoomed, bins = phos_bins_zoomed, kde=False, color='teal')\n",
    "\n",
    "# Format title and axis\n",
    "histogram.set_title(\"P_Value Distribution for \"+gene+\" trans Phosphoproteomics (P_Value < \" + str(phos_end_value) + \")\")\n",
    "histogram.set(ylabel = 'Number of Proteins')\n",
    "plt.xlim([10e-10,10e-3]) # change x-axis range\n",
    "#plt.ylim([0.0,20]) # change y axis intervals\n",
    "\n",
    "# Create bonferroni cutoff line \n",
    "plt.axvline(phos_bonferroni_cutoff, 0, .95, linewidth=2, color='r') # cutoff line parameters: (cutoff, 0, height)\n",
    "\n",
    "plt.show()\n",
    "plt.clf()\n",
    "plt.close()"
   ]
  },
  {
   "cell_type": "code",
   "execution_count": null,
   "metadata": {},
   "outputs": [],
   "source": []
  }
 ],
 "metadata": {
  "kernelspec": {
   "display_name": "Python 3",
   "language": "python",
   "name": "python3"
  },
  "language_info": {
   "codemirror_mode": {
    "name": "ipython",
    "version": 3
   },
   "file_extension": ".py",
   "mimetype": "text/x-python",
   "name": "python",
   "nbconvert_exporter": "python",
   "pygments_lexer": "ipython3",
   "version": "3.7.3"
  }
 },
 "nbformat": 4,
 "nbformat_minor": 2
}
