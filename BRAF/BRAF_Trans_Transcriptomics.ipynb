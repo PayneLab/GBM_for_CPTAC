{
 "cells": [
  {
   "cell_type": "markdown",
   "metadata": {},
   "source": [
    "# BRAF Mutation Trans Effect on Transcriptomics"
   ]
  },
  {
   "cell_type": "markdown",
   "metadata": {},
   "source": [
    "### Library Imports"
   ]
  },
  {
   "cell_type": "code",
   "execution_count": 1,
   "metadata": {},
   "outputs": [
    {
     "name": "stdout",
     "output_type": "stream",
     "text": [
      "                                    \r"
     ]
    }
   ],
   "source": [
    "import pandas as pd\n",
    "import numpy as np\n",
    "import scipy.stats\n",
    "\n",
    "import warnings\n",
    "warnings.filterwarnings(\"ignore\")\n",
    "\n",
    "import cptac\n",
    "import cptac.utils as al\n",
    "\n",
    "brain = cptac.Gbm()"
   ]
  },
  {
   "cell_type": "markdown",
   "metadata": {},
   "source": [
    "### Select Gene"
   ]
  },
  {
   "cell_type": "code",
   "execution_count": 2,
   "metadata": {},
   "outputs": [],
   "source": [
    "gene = \"BRAF\""
   ]
  },
  {
   "cell_type": "markdown",
   "metadata": {},
   "source": [
    "### Investigate Proteomics, Phosphoproteomics, Acetylproteomics, or Transcriptomics"
   ]
  },
  {
   "cell_type": "code",
   "execution_count": 3,
   "metadata": {},
   "outputs": [],
   "source": [
    "#omics = \"proteomics\"\n",
    "omics = \"transcriptomics\"\n",
    "#omics = \"phosphoproteomics\"\n",
    "#omics = \"acetylproteomics\""
   ]
  },
  {
   "cell_type": "markdown",
   "metadata": {},
   "source": [
    "### Track all significant comparisons in Dataframe"
   ]
  },
  {
   "cell_type": "code",
   "execution_count": 4,
   "metadata": {},
   "outputs": [],
   "source": [
    "all_significant_comparisons = pd.DataFrame(columns=['Cancer_Type', 'Gene', 'Comparison','Interacting_Protein','P_Value'])"
   ]
  },
  {
   "cell_type": "code",
   "execution_count": 5,
   "metadata": {},
   "outputs": [],
   "source": [
    "def add_to_all_significant_comparisons(df, cancer, interacting, all_sig_comp):\n",
    "    expanded = df\n",
    "    expanded['Gene'] = gene\n",
    "    expanded['Cancer_Type'] = cancer\n",
    "    expanded['Interacting_Protein'] = interacting\n",
    "    \n",
    "    updated_all_comparisons = pd.concat([all_sig_comp, expanded], sort=False)\n",
    "    \n",
    "    return updated_all_comparisons"
   ]
  },
  {
   "cell_type": "markdown",
   "metadata": {},
   "source": [
    "# Interacting Proteins: Transcriptomics"
   ]
  },
  {
   "cell_type": "markdown",
   "metadata": {},
   "source": [
    "### Generate interacting protein list"
   ]
  },
  {
   "cell_type": "markdown",
   "metadata": {},
   "source": [
    "Make a call to cptac.utils to get the interacting proteins method, which interacts with the uniprot and string databases to generate a list of known interacting partners with the given gene."
   ]
  },
  {
   "cell_type": "code",
   "execution_count": 6,
   "metadata": {},
   "outputs": [
    {
     "name": "stdout",
     "output_type": "stream",
     "text": [
      "Interacting Proteins:\n",
      "YWHAH\n",
      "MAPK1\n",
      "RAP1B\n",
      "KRAS\n",
      "MAP2K2\n",
      "MAPK3\n",
      "YWHAE\n",
      "IQGAP1\n",
      "BRAF\n",
      "MAP2K1\n",
      "YWHAG\n",
      "PRKACA\n",
      "SFN\n",
      "NRAS\n",
      "RAP1A\n",
      "YWHAB\n",
      "CNKSR1\n",
      "SPRY2\n",
      "YWHAQ\n",
      "YWHAZ\n",
      "KSR1\n",
      "KSR2\n",
      "HRAS\n",
      "PRKCA\n",
      "KIAA1549\n",
      "LAMTOR3\n",
      "AKT1\n",
      "RAF1\n",
      "MRAS\n",
      "NEDD4L\n",
      "Nedd4\n"
     ]
    }
   ],
   "source": [
    "# Use get interacting proteins method to generate list of interacting proteins\n",
    "interacting_proteins = al.get_interacting_proteins(gene)\n",
    "\n",
    "# Show interacting protein list\n",
    "print(\"Interacting Proteins:\")\n",
    "for interacting_protein in interacting_proteins:\n",
    "    print(interacting_protein)"
   ]
  },
  {
   "cell_type": "markdown",
   "metadata": {},
   "source": [
    "### Test for significant comparisons in any of interacting proteins"
   ]
  },
  {
   "cell_type": "code",
   "execution_count": 7,
   "metadata": {},
   "outputs": [
    {
     "name": "stderr",
     "output_type": "stream",
     "text": [
      "Warning: The following columns were not found in the transcriptomics dataframe, so they were inserted into joined table, but filled with NaN: Nedd4 (C:\\Users\\brittany henderson\\Anaconda3\\envs\\Research\\lib\\site-packages\\ipykernel_launcher.py, line 2)\n",
      "Warning: In joining the somatic_mutation table, no mutations were found for the following samples, so they were filled with Wildtype_Tumor or Wildtype_Normal: 103 samples for the BRAF gene (C:\\Users\\brittany henderson\\Anaconda3\\envs\\Research\\lib\\site-packages\\ipykernel_launcher.py, line 2)\n"
     ]
    },
    {
     "name": "stdout",
     "output_type": "stream",
     "text": [
      "Doing t-test comparisons\n",
      "\n",
      "No significant comparisons.\n"
     ]
    }
   ],
   "source": [
    "# Create dataframe in order to do comparisons with wrap_ttest\n",
    "protdf = brain.join_omics_to_mutations(mutations_genes=[gene], omics_df_name=omics, omics_genes=interacting_proteins)\n",
    "protdf = brain.reduce_multiindex(protdf, flatten=True)\n",
    "protdf = protdf[protdf.Sample_Status == 'Tumor'] # drop Normal samples\n",
    "\n",
    "# Create the binary valued column needed to do the comparison\n",
    "for ind, row in protdf.iterrows():\n",
    "    if row[gene+\"_Mutation_Status\"] != 'Wildtype_Tumor':\n",
    "        protdf.at[ind,'Label'] = 'Mutated'\n",
    "    else:\n",
    "        protdf.at[ind,'Label'] = 'Wildtype'\n",
    "\n",
    "# Format the dataframe correctly\n",
    "protdf = protdf.drop(gene+\"_Mutation\",axis=1)\n",
    "protdf = protdf.drop(gene+\"_Location\",axis=1)\n",
    "protdf = protdf.drop(gene+\"_Mutation_Status\", axis=1)\n",
    "protdf = protdf.drop(\"Sample_Status\",axis=1)\n",
    "\n",
    "\n",
    "# Make list of columns to be compared using t-tests\n",
    "col_list = list(protdf.columns)\n",
    "col_list.remove('Label')\n",
    "\n",
    "print(\"Doing t-test comparisons\\n\")\n",
    "\n",
    "# Call wrap_ttest, pass in formatted dataframe\n",
    "wrap_results = al.wrap_ttest(protdf, 'Label', col_list)\n",
    "\n",
    "# Print results, if anything significant was found\n",
    "if wrap_results is not None:\n",
    "        print(wrap_results)\n",
    "        print(\"\\n\\n\")\n",
    "        \n",
    "        all_significant_comparisons = add_to_all_significant_comparisons(wrap_results, \"Gbm\", True, all_significant_comparisons)\n",
    "        "
   ]
  },
  {
   "cell_type": "markdown",
   "metadata": {},
   "source": [
    "# All Proteins: Transcriptomics "
   ]
  },
  {
   "cell_type": "code",
   "execution_count": 8,
   "metadata": {},
   "outputs": [
    {
     "name": "stdout",
     "output_type": "stream",
     "text": [
      "\n",
      "Gene:  BRAF\n"
     ]
    },
    {
     "name": "stderr",
     "output_type": "stream",
     "text": [
      "Warning: In joining the somatic_mutation table, no mutations were found for the following samples, so they were filled with Wildtype_Tumor or Wildtype_Normal: 103 samples for the BRAF gene (C:\\Users\\brittany henderson\\Anaconda3\\envs\\Research\\lib\\site-packages\\ipykernel_launcher.py, line 7)\n"
     ]
    },
    {
     "name": "stdout",
     "output_type": "stream",
     "text": [
      "Doing t-test comparisons\n",
      "\n",
      "                                      Comparison       P_Value\n",
      "0        ESR2_transcriptomics_ENSG00000140009.17  1.106272e-19\n",
      "1        GNA14_transcriptomics_ENSG00000156049.6  2.265766e-16\n",
      "2          SHH_transcriptomics_ENSG00000164690.6  6.291187e-16\n",
      "3   AC110056.1_transcriptomics_ENSG00000211499.1  4.712997e-14\n",
      "4        MRPS6_transcriptomics_ENSG00000243927.4  2.407117e-13\n",
      "..                                           ...           ...\n",
      "83      TSHZ2_transcriptomics_ENSG00000182463.14  7.277464e-07\n",
      "84     RASSF8_transcriptomics_ENSG00000123094.14  7.341287e-07\n",
      "85      COPS2_transcriptomics_ENSG00000166200.13  7.515065e-07\n",
      "86       PAPPA_transcriptomics_ENSG00000182752.9  7.834591e-07\n",
      "87       MREG_transcriptomics_ENSG00000118242.14  8.072223e-07\n",
      "\n",
      "[88 rows x 2 columns]\n",
      "\n",
      "\n",
      "\n"
     ]
    }
   ],
   "source": [
    "try:\n",
    "    print(\"\\nGene: \", gene)\n",
    "\n",
    "    # Use all proteins\n",
    "\n",
    "    # Create dataframe in order to do comparisons with wrap_ttest\n",
    "    protdf = brain.join_omics_to_mutations(mutations_genes=[gene], omics_df_name=omics)\n",
    "    protdf = brain.reduce_multiindex(protdf, flatten=True) # flatten for specific column names\n",
    "    protdf = protdf.loc[protdf['Sample_Status'] == 'Tumor']\n",
    "    \n",
    "    # Create binary column \n",
    "    protdf['Label'] = np.where(\n",
    "                protdf[gene+'_Mutation_Status'] == 'Wildtype_Tumor', 'Wildtype', 'Mutated')\n",
    "\n",
    "    # Format the dataframe correctly'''\n",
    "    protdf = protdf.drop(gene+\"_Mutation\",axis=1)\n",
    "    protdf = protdf.drop(gene+\"_Location\",axis=1)\n",
    "    protdf = protdf.drop(gene+\"_Mutation_Status\", axis=1)\n",
    "    protdf = protdf.drop(\"Sample_Status\",axis=1)\n",
    "\n",
    "    # Make list of columns to be compared using t-tests\n",
    "    col_list = list(protdf.columns)\n",
    "    col_list.remove('Label')\n",
    "\n",
    "    print(\"Doing t-test comparisons\\n\")\n",
    "    \n",
    "    # Call wrap_ttest, pass in formatted dataframe\n",
    "    wrap_results = al.wrap_ttest(protdf, 'Label', col_list)\n",
    "\n",
    "    # Print results, if anything significant was found\n",
    "    if wrap_results is not None:\n",
    "            print(wrap_results)\n",
    "            print(\"\\n\\n\")\n",
    "            \n",
    "            all_significant_comparisons = add_to_all_significant_comparisons(wrap_results, \"Gbm\", False, all_significant_comparisons)\n",
    "\n",
    "\n",
    "except Exception as e:\n",
    "    print(\"Error in Comparison\")\n",
    "    print(e)"
   ]
  },
  {
   "cell_type": "markdown",
   "metadata": {},
   "source": [
    "# Print all significant comparisons"
   ]
  },
  {
   "cell_type": "code",
   "execution_count": 9,
   "metadata": {},
   "outputs": [
    {
     "data": {
      "text/html": [
       "<div>\n",
       "<style scoped>\n",
       "    .dataframe tbody tr th:only-of-type {\n",
       "        vertical-align: middle;\n",
       "    }\n",
       "\n",
       "    .dataframe tbody tr th {\n",
       "        vertical-align: top;\n",
       "    }\n",
       "\n",
       "    .dataframe thead th {\n",
       "        text-align: right;\n",
       "    }\n",
       "</style>\n",
       "<table border=\"1\" class=\"dataframe\">\n",
       "  <thead>\n",
       "    <tr style=\"text-align: right;\">\n",
       "      <th></th>\n",
       "      <th>Cancer_Type</th>\n",
       "      <th>Gene</th>\n",
       "      <th>Comparison</th>\n",
       "      <th>Interacting_Protein</th>\n",
       "      <th>P_Value</th>\n",
       "    </tr>\n",
       "  </thead>\n",
       "  <tbody>\n",
       "    <tr>\n",
       "      <td>0</td>\n",
       "      <td>Gbm</td>\n",
       "      <td>BRAF</td>\n",
       "      <td>ESR2_transcriptomics_ENSG00000140009.17</td>\n",
       "      <td>False</td>\n",
       "      <td>1.106272e-19</td>\n",
       "    </tr>\n",
       "    <tr>\n",
       "      <td>1</td>\n",
       "      <td>Gbm</td>\n",
       "      <td>BRAF</td>\n",
       "      <td>GNA14_transcriptomics_ENSG00000156049.6</td>\n",
       "      <td>False</td>\n",
       "      <td>2.265766e-16</td>\n",
       "    </tr>\n",
       "    <tr>\n",
       "      <td>2</td>\n",
       "      <td>Gbm</td>\n",
       "      <td>BRAF</td>\n",
       "      <td>SHH_transcriptomics_ENSG00000164690.6</td>\n",
       "      <td>False</td>\n",
       "      <td>6.291187e-16</td>\n",
       "    </tr>\n",
       "    <tr>\n",
       "      <td>3</td>\n",
       "      <td>Gbm</td>\n",
       "      <td>BRAF</td>\n",
       "      <td>AC110056.1_transcriptomics_ENSG00000211499.1</td>\n",
       "      <td>False</td>\n",
       "      <td>4.712997e-14</td>\n",
       "    </tr>\n",
       "    <tr>\n",
       "      <td>4</td>\n",
       "      <td>Gbm</td>\n",
       "      <td>BRAF</td>\n",
       "      <td>MRPS6_transcriptomics_ENSG00000243927.4</td>\n",
       "      <td>False</td>\n",
       "      <td>2.407117e-13</td>\n",
       "    </tr>\n",
       "    <tr>\n",
       "      <td>...</td>\n",
       "      <td>...</td>\n",
       "      <td>...</td>\n",
       "      <td>...</td>\n",
       "      <td>...</td>\n",
       "      <td>...</td>\n",
       "    </tr>\n",
       "    <tr>\n",
       "      <td>83</td>\n",
       "      <td>Gbm</td>\n",
       "      <td>BRAF</td>\n",
       "      <td>TSHZ2_transcriptomics_ENSG00000182463.14</td>\n",
       "      <td>False</td>\n",
       "      <td>7.277464e-07</td>\n",
       "    </tr>\n",
       "    <tr>\n",
       "      <td>84</td>\n",
       "      <td>Gbm</td>\n",
       "      <td>BRAF</td>\n",
       "      <td>RASSF8_transcriptomics_ENSG00000123094.14</td>\n",
       "      <td>False</td>\n",
       "      <td>7.341287e-07</td>\n",
       "    </tr>\n",
       "    <tr>\n",
       "      <td>85</td>\n",
       "      <td>Gbm</td>\n",
       "      <td>BRAF</td>\n",
       "      <td>COPS2_transcriptomics_ENSG00000166200.13</td>\n",
       "      <td>False</td>\n",
       "      <td>7.515065e-07</td>\n",
       "    </tr>\n",
       "    <tr>\n",
       "      <td>86</td>\n",
       "      <td>Gbm</td>\n",
       "      <td>BRAF</td>\n",
       "      <td>PAPPA_transcriptomics_ENSG00000182752.9</td>\n",
       "      <td>False</td>\n",
       "      <td>7.834591e-07</td>\n",
       "    </tr>\n",
       "    <tr>\n",
       "      <td>87</td>\n",
       "      <td>Gbm</td>\n",
       "      <td>BRAF</td>\n",
       "      <td>MREG_transcriptomics_ENSG00000118242.14</td>\n",
       "      <td>False</td>\n",
       "      <td>8.072223e-07</td>\n",
       "    </tr>\n",
       "  </tbody>\n",
       "</table>\n",
       "<p>88 rows × 5 columns</p>\n",
       "</div>"
      ],
      "text/plain": [
       "   Cancer_Type  Gene                                    Comparison  \\\n",
       "0          Gbm  BRAF       ESR2_transcriptomics_ENSG00000140009.17   \n",
       "1          Gbm  BRAF       GNA14_transcriptomics_ENSG00000156049.6   \n",
       "2          Gbm  BRAF         SHH_transcriptomics_ENSG00000164690.6   \n",
       "3          Gbm  BRAF  AC110056.1_transcriptomics_ENSG00000211499.1   \n",
       "4          Gbm  BRAF       MRPS6_transcriptomics_ENSG00000243927.4   \n",
       "..         ...   ...                                           ...   \n",
       "83         Gbm  BRAF      TSHZ2_transcriptomics_ENSG00000182463.14   \n",
       "84         Gbm  BRAF     RASSF8_transcriptomics_ENSG00000123094.14   \n",
       "85         Gbm  BRAF      COPS2_transcriptomics_ENSG00000166200.13   \n",
       "86         Gbm  BRAF       PAPPA_transcriptomics_ENSG00000182752.9   \n",
       "87         Gbm  BRAF       MREG_transcriptomics_ENSG00000118242.14   \n",
       "\n",
       "   Interacting_Protein       P_Value  \n",
       "0                False  1.106272e-19  \n",
       "1                False  2.265766e-16  \n",
       "2                False  6.291187e-16  \n",
       "3                False  4.712997e-14  \n",
       "4                False  2.407117e-13  \n",
       "..                 ...           ...  \n",
       "83               False  7.277464e-07  \n",
       "84               False  7.341287e-07  \n",
       "85               False  7.515065e-07  \n",
       "86               False  7.834591e-07  \n",
       "87               False  8.072223e-07  \n",
       "\n",
       "[88 rows x 5 columns]"
      ]
     },
     "metadata": {},
     "output_type": "display_data"
    }
   ],
   "source": [
    "if len(all_significant_comparisons) > 0:\n",
    "    display(all_significant_comparisons)\n",
    "    \n",
    "else:\n",
    "    print('No Significant Comparisons!')"
   ]
  },
  {
   "cell_type": "code",
   "execution_count": 19,
   "metadata": {
    "scrolled": true
   },
   "outputs": [
    {
     "data": {
      "text/plain": [
       "array(['ESR2', 'GNA14', 'SHH', 'AC110056.1', 'MRPS6', 'RNU6-1303P',\n",
       "       'CNTNAP3', 'SCG2', 'PLAG1', 'WWP1', 'DCBLD2', 'RP11-203I2.1',\n",
       "       'COL13A1', 'PVRL3', 'SLC5A3', 'NPAS2', 'TXNDC15', 'RP11-203M5.6',\n",
       "       'AC027238.1', 'AP1S3', 'RP11-35O15.1', 'IDS', 'COL8A1', 'NHSL2',\n",
       "       'BMS1P17', 'PROS1', 'RP11-365H8.2', 'CAMK2D', 'RP11-1081M5.2',\n",
       "       'IGKV1OR-3', 'KCNK15', 'ADH1C', 'APLP2', 'STEAP2', 'RP11-587D21.4',\n",
       "       'IL6ST', 'AC092168.2', 'RP3-512B11.3', 'AC022819.2', 'AC004969.1',\n",
       "       'RP11-262D11.2', 'RP11-140I16.3', 'GRIA1', 'HORMAD2-AS1', 'CLASP1',\n",
       "       'APOA1', 'KLRF2', 'TRH', 'SEMA3A', 'SLC20A1', 'JPH1', 'DPEP3',\n",
       "       'RP5-1077H22.1', 'PBX2P1', 'ENDOD1', 'DIRAS3', 'POSTN', 'CHCHD2P7',\n",
       "       'B3GALT1', 'ITFG1', 'ARSI', 'SVIP', 'PTPRH', 'RN7SKP258', 'CGB7',\n",
       "       'CPNE3', 'RNU6-26P', 'CNTNAP3B', 'RRM2B', 'RP11-80H8.4', 'ANO1',\n",
       "       'RGS17', 'KIAA1024', 'RP11-460B17.2', 'ITGA2', 'ADAMTSL1',\n",
       "       'HOMER1', 'LINC00284', 'AC108057.1', 'CTB-161J7.1', 'TMEM108-AS1',\n",
       "       'CCNG1', 'SAPCD1-AS1', 'TSHZ2', 'RASSF8', 'COPS2', 'PAPPA', 'MREG'],\n",
       "      dtype=object)"
      ]
     },
     "execution_count": 19,
     "metadata": {},
     "output_type": "execute_result"
    }
   ],
   "source": [
    "all_significant_comparisons['Comparison'].replace(to_replace = '_transcriptomics.*$', value = '', \n",
    "                        inplace = True, regex = True) # shorten column names\n",
    "all_significant_comparisons['Comparison'].unique()"
   ]
  },
  {
   "cell_type": "markdown",
   "metadata": {},
   "source": [
    "### Write Significant Comparisons (if any) to Shared CSV file"
   ]
  },
  {
   "cell_type": "code",
   "execution_count": 11,
   "metadata": {},
   "outputs": [],
   "source": [
    "\n",
    "existing_results = pd.read_csv(gene+'_Trans_Results.csv')\n",
    "\n",
    "updated_results = pd.concat([existing_results, all_significant_comparisons], sort=False)\n",
    "\n",
    "updated_results.to_csv(path_or_buf = gene + '_Trans_Results.csv', index=False)"
   ]
  },
  {
   "cell_type": "code",
   "execution_count": null,
   "metadata": {},
   "outputs": [],
   "source": []
  }
 ],
 "metadata": {
  "kernelspec": {
   "display_name": "Python 3",
   "language": "python",
   "name": "python3"
  },
  "language_info": {
   "codemirror_mode": {
    "name": "ipython",
    "version": 3
   },
   "file_extension": ".py",
   "mimetype": "text/x-python",
   "name": "python",
   "nbconvert_exporter": "python",
   "pygments_lexer": "ipython3",
   "version": "3.7.3"
  }
 },
 "nbformat": 4,
 "nbformat_minor": 2
}
