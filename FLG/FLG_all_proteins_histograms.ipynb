{
 "cells": [
  {
   "cell_type": "markdown",
   "metadata": {},
   "source": [
    "# FLG trans effect histograms for all proteins\n"
   ]
  },
  {
   "cell_type": "markdown",
   "metadata": {},
   "source": [
    "### Library Imports"
   ]
  },
  {
   "cell_type": "code",
   "execution_count": 1,
   "metadata": {},
   "outputs": [],
   "source": [
    "import pandas as pd\n",
    "import numpy as np\n",
    "import scipy.stats\n",
    "import seaborn as sns\n",
    "import matplotlib.pyplot as plt\n",
    "import gseapy as gp\n",
    "from gseapy.plot import barplot, dotplot\n",
    "\n",
    "import warnings\n",
    "warnings.filterwarnings(\"ignore\")\n",
    "\n",
    "import cptac\n",
    "import cptac.utils as al"
   ]
  },
  {
   "cell_type": "code",
   "execution_count": 2,
   "metadata": {},
   "outputs": [
    {
     "name": "stdout",
     "output_type": "stream",
     "text": [
      "                                    \r"
     ]
    }
   ],
   "source": [
    "brain = cptac.Gbm()"
   ]
  },
  {
   "cell_type": "markdown",
   "metadata": {},
   "source": [
    "### Specify Gene"
   ]
  },
  {
   "cell_type": "code",
   "execution_count": 3,
   "metadata": {},
   "outputs": [],
   "source": [
    "gene = \"FLG\""
   ]
  },
  {
   "cell_type": "markdown",
   "metadata": {},
   "source": [
    "# Transcriptomics: All Proteins"
   ]
  },
  {
   "cell_type": "code",
   "execution_count": 4,
   "metadata": {},
   "outputs": [
    {
     "name": "stdout",
     "output_type": "stream",
     "text": [
      "\n",
      "Gene:  FLG\n"
     ]
    },
    {
     "name": "stderr",
     "output_type": "stream",
     "text": [
      "Warning: In joining the somatic_mutation table, no mutations were found for the following samples, so they were filled with Wildtype_Tumor or Wildtype_Normal: 100 samples for the FLG gene (C:\\Users\\brittany henderson\\Anaconda3\\envs\\Research\\lib\\site-packages\\ipykernel_launcher.py, line 9)\n"
     ]
    },
    {
     "name": "stdout",
     "output_type": "stream",
     "text": [
      "Doing t-test comparisons\n",
      "\n",
      "14 significant comparisons!\n",
      "Number of comparisons: 60482\n",
      "Bonferroni cutoff =  8.266922390132602e-07\n",
      "Logged Bonferroni cutoff =  -6.0826561395096865\n"
     ]
    }
   ],
   "source": [
    "transcrpt = \"transcriptomics\"\n",
    "\n",
    "try:\n",
    "    print(\"\\nGene: \", gene)\n",
    "\n",
    "    #Use all proteins\n",
    "\n",
    "    #Create dataframe in order to do comparisons with wrap_ttest\n",
    "    transcrpt_df = brain.join_omics_to_mutations(mutations_genes=[gene], omics_df_name=transcrpt)\n",
    "    transcrpt_df = brain.reduce_multiindex(transcrpt_df, flatten=True)\n",
    "    transcrpt_df = transcrpt_df[transcrpt_df.Sample_Status == 'Tumor'] # drop Normal samples\n",
    "    #Remove Cis interactions \n",
    "    transcrpt_df = transcrpt_df.loc[:,~transcrpt_df.columns.str.contains(gene+'_transcriptomics')] # change for each gene \n",
    "    transcrpt_df = transcrpt_df.dropna(axis=1, how='all') # drop columns with all NaN data\n",
    "    \n",
    "    #Create the binary valued column needed to do the comparison\n",
    "    for ind, row in transcrpt_df.iterrows():\n",
    "        if row[gene+\"_Mutation_Status\"] != 'Wildtype_Tumor':\n",
    "            transcrpt_df.at[ind,'Label'] = 'Mutated'\n",
    "        else:\n",
    "            transcrpt_df.at[ind,'Label'] = 'Wildtype'\n",
    "\n",
    "    #Format the datafram correctly\n",
    "    transcrpt_df = transcrpt_df.drop(gene+\"_Mutation\",axis=1)\n",
    "    transcrpt_df = transcrpt_df.drop(gene+\"_Location\",axis=1)\n",
    "    transcrpt_df = transcrpt_df.drop(gene+\"_Mutation_Status\", axis=1)\n",
    "    transcrpt_df = transcrpt_df.drop(\"Sample_Status\",axis=1)\n",
    "\n",
    "    #Make list of columns to be compared using t-tests\n",
    "    t_col_list = list(transcrpt_df.columns)\n",
    "    t_col_list.remove('Label')\n",
    "\n",
    "    print(\"Doing t-test comparisons\\n\")\n",
    "    \n",
    "    #Call wrap_ttest, pass in formatted dataframe\n",
    "    transcrpt_all_comparisons = al.wrap_ttest(transcrpt_df, 'Label', t_col_list, return_all=True)\n",
    "\n",
    "    t_num_comparisons = len(t_col_list)\n",
    "    print(\"Number of comparisons:\", t_num_comparisons)\n",
    "    t_bonferroni_cutoff = .05 / t_num_comparisons\n",
    "    print(\"Bonferroni cutoff = \", t_bonferroni_cutoff)\n",
    "    print(\"Logged Bonferroni cutoff = \", np.log10(t_bonferroni_cutoff))\n",
    "\n",
    "except Exception as e:\n",
    "    print(\"Error in Comparison\")\n",
    "    print(e)"
   ]
  },
  {
   "cell_type": "markdown",
   "metadata": {},
   "source": [
    "Transcriptomics: Print Significant Comparisons"
   ]
  },
  {
   "cell_type": "code",
   "execution_count": 5,
   "metadata": {},
   "outputs": [
    {
     "name": "stdout",
     "output_type": "stream",
     "text": [
      "Number of significant comparisons for Transcriptomics:  14\n"
     ]
    },
    {
     "data": {
      "text/html": [
       "<div>\n",
       "<style scoped>\n",
       "    .dataframe tbody tr th:only-of-type {\n",
       "        vertical-align: middle;\n",
       "    }\n",
       "\n",
       "    .dataframe tbody tr th {\n",
       "        vertical-align: top;\n",
       "    }\n",
       "\n",
       "    .dataframe thead th {\n",
       "        text-align: right;\n",
       "    }\n",
       "</style>\n",
       "<table border=\"1\" class=\"dataframe\">\n",
       "  <thead>\n",
       "    <tr style=\"text-align: right;\">\n",
       "      <th></th>\n",
       "      <th>Comparison</th>\n",
       "      <th>P_Value</th>\n",
       "    </tr>\n",
       "  </thead>\n",
       "  <tbody>\n",
       "    <tr>\n",
       "      <td>0</td>\n",
       "      <td>RP11-249L21.2_transcriptomics_ENSG00000218872.1</td>\n",
       "      <td>2.271232e-10</td>\n",
       "    </tr>\n",
       "    <tr>\n",
       "      <td>1</td>\n",
       "      <td>CTC-369M3.1_transcriptomics_ENSG00000253638.1</td>\n",
       "      <td>7.060054e-10</td>\n",
       "    </tr>\n",
       "    <tr>\n",
       "      <td>2</td>\n",
       "      <td>RP11-1028N23.2_transcriptomics_ENSG00000258280.1</td>\n",
       "      <td>9.720099e-10</td>\n",
       "    </tr>\n",
       "    <tr>\n",
       "      <td>3</td>\n",
       "      <td>CTD-2537I9.15_transcriptomics_ENSG00000279063.1</td>\n",
       "      <td>2.396067e-08</td>\n",
       "    </tr>\n",
       "    <tr>\n",
       "      <td>4</td>\n",
       "      <td>RN7SL42P_transcriptomics_ENSG00000263999.2</td>\n",
       "      <td>1.019173e-07</td>\n",
       "    </tr>\n",
       "    <tr>\n",
       "      <td>5</td>\n",
       "      <td>AC006380.3_transcriptomics_ENSG00000231418.1</td>\n",
       "      <td>1.529066e-07</td>\n",
       "    </tr>\n",
       "    <tr>\n",
       "      <td>6</td>\n",
       "      <td>PPEF1-AS1_transcriptomics_ENSG00000237221.1</td>\n",
       "      <td>1.575400e-07</td>\n",
       "    </tr>\n",
       "    <tr>\n",
       "      <td>7</td>\n",
       "      <td>Y_RNA_transcriptomics_ENSG00000199912.1</td>\n",
       "      <td>3.847551e-07</td>\n",
       "    </tr>\n",
       "    <tr>\n",
       "      <td>8</td>\n",
       "      <td>RP11-497J7.2_transcriptomics_ENSG00000233880.1</td>\n",
       "      <td>3.867684e-07</td>\n",
       "    </tr>\n",
       "    <tr>\n",
       "      <td>9</td>\n",
       "      <td>RP11-321L2.3_transcriptomics_ENSG00000277608.1</td>\n",
       "      <td>3.867684e-07</td>\n",
       "    </tr>\n",
       "    <tr>\n",
       "      <td>10</td>\n",
       "      <td>DEFB131_transcriptomics_ENSG00000186146.1</td>\n",
       "      <td>3.933789e-07</td>\n",
       "    </tr>\n",
       "    <tr>\n",
       "      <td>11</td>\n",
       "      <td>RP11-109P11.1_transcriptomics_ENSG00000260183.1</td>\n",
       "      <td>5.072344e-07</td>\n",
       "    </tr>\n",
       "    <tr>\n",
       "      <td>12</td>\n",
       "      <td>RP11-552O4.2_transcriptomics_ENSG00000266184.1</td>\n",
       "      <td>5.890536e-07</td>\n",
       "    </tr>\n",
       "    <tr>\n",
       "      <td>13</td>\n",
       "      <td>Y_RNA_transcriptomics_ENSG00000275006.1</td>\n",
       "      <td>6.943825e-07</td>\n",
       "    </tr>\n",
       "  </tbody>\n",
       "</table>\n",
       "</div>"
      ],
      "text/plain": [
       "                                          Comparison       P_Value\n",
       "0    RP11-249L21.2_transcriptomics_ENSG00000218872.1  2.271232e-10\n",
       "1      CTC-369M3.1_transcriptomics_ENSG00000253638.1  7.060054e-10\n",
       "2   RP11-1028N23.2_transcriptomics_ENSG00000258280.1  9.720099e-10\n",
       "3    CTD-2537I9.15_transcriptomics_ENSG00000279063.1  2.396067e-08\n",
       "4         RN7SL42P_transcriptomics_ENSG00000263999.2  1.019173e-07\n",
       "5       AC006380.3_transcriptomics_ENSG00000231418.1  1.529066e-07\n",
       "6        PPEF1-AS1_transcriptomics_ENSG00000237221.1  1.575400e-07\n",
       "7            Y_RNA_transcriptomics_ENSG00000199912.1  3.847551e-07\n",
       "8     RP11-497J7.2_transcriptomics_ENSG00000233880.1  3.867684e-07\n",
       "9     RP11-321L2.3_transcriptomics_ENSG00000277608.1  3.867684e-07\n",
       "10         DEFB131_transcriptomics_ENSG00000186146.1  3.933789e-07\n",
       "11   RP11-109P11.1_transcriptomics_ENSG00000260183.1  5.072344e-07\n",
       "12    RP11-552O4.2_transcriptomics_ENSG00000266184.1  5.890536e-07\n",
       "13           Y_RNA_transcriptomics_ENSG00000275006.1  6.943825e-07"
      ]
     },
     "execution_count": 5,
     "metadata": {},
     "output_type": "execute_result"
    }
   ],
   "source": [
    "transcrpt_all_comparisons = transcrpt_all_comparisons.dropna(axis=0)\n",
    "transcrpt_sig_comparisons = transcrpt_all_comparisons.loc[transcrpt_all_comparisons['P_Value'] <= t_bonferroni_cutoff]\n",
    "print(\"Number of significant comparisons for Transcriptomics: \", len(transcrpt_sig_comparisons))\n",
    "transcrpt_sig_comparisons"
   ]
  },
  {
   "cell_type": "markdown",
   "metadata": {},
   "source": [
    "Transcriptomics: Histogram for all proteins"
   ]
  },
  {
   "cell_type": "code",
   "execution_count": 6,
   "metadata": {},
   "outputs": [
    {
     "data": {
      "image/png": "[encoded data removed]",
      "text/plain": [
       "<Figure size 720x576 with 1 Axes>"
      ]
     },
     "metadata": {},
     "output_type": "display_data"
    }
   ],
   "source": [
    "# Create series of p-values for Histogram\n",
    "transcrpt_pval_series = transcrpt_all_comparisons['P_Value']\n",
    "\n",
    "# Format figure size and font\n",
    "plt.rcParams['figure.figsize']=(10,8)\n",
    "sns.set(font_scale = 1.3)\n",
    "\n",
    "# Create log scale for the x-axis\n",
    "plt.xscale('log')\n",
    "t_log_min, t_log_max = np.log10(transcrpt_pval_series.min()), np.log10(transcrpt_pval_series.max())\n",
    "t_bins = np.logspace(t_log_min - 1, t_log_max, 300) # change bin number here\n",
    "histogram = sns.distplot(transcrpt_pval_series, bins = t_bins, kde=False, color='navy') \n",
    "\n",
    "# Format title and axis\n",
    "histogram.set_title(\"P_Value Distribution for \"+gene+\" trans Transcriptomics\")\n",
    "histogram.set(ylabel = 'Number of Proteins')\n",
    "#plt.xlim([10e-9,10e-1])\n",
    "#plt.ylim([0, 3500]) # change y-axis range\n",
    "\n",
    "# Graph cutoffs: alpha = green, bonferroni = red\n",
    "plt.axvline(t_bonferroni_cutoff, 0, 0.95, linewidth=2, color='r')\n",
    "plt.axvline(0.05, 0, 0.95, linewidth=2, color='g')\n",
    "\n",
    "plt.show()\n",
    "plt.clf()\n",
    "plt.close()"
   ]
  },
  {
   "cell_type": "markdown",
   "metadata": {},
   "source": [
    "Transcriptomics zoomed in"
   ]
  },
  {
   "cell_type": "code",
   "execution_count": 19,
   "metadata": {},
   "outputs": [
    {
     "data": {
      "image/png": "[encoded data removed]",
      "text/plain": [
       "<Figure size 720x576 with 1 Axes>"
      ]
     },
     "metadata": {},
     "output_type": "display_data"
    }
   ],
   "source": [
    "# Select p-values within range 0 - end_value \n",
    "t_end_value = 0.01\n",
    "transcrpt_zoomed = transcrpt_pval_series.loc[transcrpt_pval_series <= t_end_value]\n",
    "\n",
    "# Format size of figure and font\n",
    "plt.rcParams['figure.figsize']=(10,8)\n",
    "sns.set(font_scale = 1.3)\n",
    "\n",
    "# Create log scale for the x-axis\n",
    "plt.xscale('log')\n",
    "t_zoomed_log_min, t_zoomed_log_max = np.log10(transcrpt_zoomed.min()),np.log10(transcrpt_zoomed.max())\n",
    "t_zoomed_bins = np.logspace(t_zoomed_log_min - 1, t_zoomed_log_max, 100) # change this number for more or less bins\n",
    "histogram = sns.distplot(transcrpt_zoomed, bins=t_zoomed_bins, kde=False, color='teal')\n",
    "\n",
    "# Format title and axis\n",
    "histogram.set_title(\"P_Value Distribution for \"+gene+\" trans Transcriptomics (P_Value < \" + str(t_end_value) + \")\")\n",
    "histogram.set(ylabel = 'Number of Proteins')\n",
    "plt.xlim([10e-9,10e-3])\n",
    "#plt.ylim([0.0,400]) # change y axis intervals\n",
    "\n",
    "# Create bonferroni cutoff line \n",
    "plt.axvline(t_bonferroni_cutoff, 0, .95, linewidth=2, color='r') # cutoff line parameters: (cutoff, 0, height)\n",
    "\n",
    "# Create extended cutoff line \n",
    "#plt.axvline(t_bonferroni_cutoff + .00001, 0, .95, linewidth=2, color='b') # cutoff line parameters: (cutoff, 0, height)\n",
    "\n",
    "plt.show()\n",
    "plt.clf()\n",
    "plt.close()"
   ]
  },
  {
   "cell_type": "code",
   "execution_count": 8,
   "metadata": {},
   "outputs": [
    {
     "name": "stdout",
     "output_type": "stream",
     "text": [
      "Number of Transcriptomics comparisons for gsea:  100\n"
     ]
    },
    {
     "name": "stderr",
     "output_type": "stream",
     "text": [
      "2019-11-02 16:31:26,947 Warning: No enrich terms using library KEGG_2016 when cutoff = 0.05\n"
     ]
    },
    {
     "data": {
      "text/html": [
       "<div>\n",
       "<style scoped>\n",
       "    .dataframe tbody tr th:only-of-type {\n",
       "        vertical-align: middle;\n",
       "    }\n",
       "\n",
       "    .dataframe tbody tr th {\n",
       "        vertical-align: top;\n",
       "    }\n",
       "\n",
       "    .dataframe thead th {\n",
       "        text-align: right;\n",
       "    }\n",
       "</style>\n",
       "<table border=\"1\" class=\"dataframe\">\n",
       "  <thead>\n",
       "    <tr style=\"text-align: right;\">\n",
       "      <th></th>\n",
       "      <th>Term</th>\n",
       "      <th>Overlap</th>\n",
       "      <th>P-value</th>\n",
       "      <th>Adjusted P-value</th>\n",
       "      <th>Old P-value</th>\n",
       "      <th>Old Adjusted P-value</th>\n",
       "      <th>Odds Ratio</th>\n",
       "      <th>Combined Score</th>\n",
       "      <th>Genes</th>\n",
       "      <th>Gene_set</th>\n",
       "    </tr>\n",
       "  </thead>\n",
       "  <tbody>\n",
       "    <tr>\n",
       "      <td>0</td>\n",
       "      <td>Steroid biosynthesis_Homo sapiens_hsa00100</td>\n",
       "      <td>1/20</td>\n",
       "      <td>0.056455</td>\n",
       "      <td>1.0</td>\n",
       "      <td>0</td>\n",
       "      <td>0</td>\n",
       "      <td>17.241379</td>\n",
       "      <td>49.556971</td>\n",
       "      <td>CYP27B1</td>\n",
       "      <td>KEGG_2016</td>\n",
       "    </tr>\n",
       "    <tr>\n",
       "      <td>1</td>\n",
       "      <td>Salivary secretion_Homo sapiens_hsa04970</td>\n",
       "      <td>1/89</td>\n",
       "      <td>0.228212</td>\n",
       "      <td>1.0</td>\n",
       "      <td>0</td>\n",
       "      <td>0</td>\n",
       "      <td>3.874467</td>\n",
       "      <td>5.724447</td>\n",
       "      <td>HTN3</td>\n",
       "      <td>KEGG_2016</td>\n",
       "    </tr>\n",
       "    <tr>\n",
       "      <td>2</td>\n",
       "      <td>Tuberculosis_Homo sapiens_hsa05152</td>\n",
       "      <td>1/178</td>\n",
       "      <td>0.405035</td>\n",
       "      <td>1.0</td>\n",
       "      <td>0</td>\n",
       "      <td>0</td>\n",
       "      <td>1.937234</td>\n",
       "      <td>1.750834</td>\n",
       "      <td>CYP27B1</td>\n",
       "      <td>KEGG_2016</td>\n",
       "    </tr>\n",
       "    <tr>\n",
       "      <td>3</td>\n",
       "      <td>Metabolic pathways_Homo sapiens_hsa01100</td>\n",
       "      <td>1/1239</td>\n",
       "      <td>0.975635</td>\n",
       "      <td>1.0</td>\n",
       "      <td>0</td>\n",
       "      <td>0</td>\n",
       "      <td>0.278311</td>\n",
       "      <td>0.006865</td>\n",
       "      <td>CYP27B1</td>\n",
       "      <td>KEGG_2016</td>\n",
       "    </tr>\n",
       "  </tbody>\n",
       "</table>\n",
       "</div>"
      ],
      "text/plain": [
       "                                         Term Overlap   P-value  \\\n",
       "0  Steroid biosynthesis_Homo sapiens_hsa00100    1/20  0.056455   \n",
       "1    Salivary secretion_Homo sapiens_hsa04970    1/89  0.228212   \n",
       "2          Tuberculosis_Homo sapiens_hsa05152   1/178  0.405035   \n",
       "3    Metabolic pathways_Homo sapiens_hsa01100  1/1239  0.975635   \n",
       "\n",
       "   Adjusted P-value  Old P-value  Old Adjusted P-value  Odds Ratio  \\\n",
       "0               1.0            0                     0   17.241379   \n",
       "1               1.0            0                     0    3.874467   \n",
       "2               1.0            0                     0    1.937234   \n",
       "3               1.0            0                     0    0.278311   \n",
       "\n",
       "   Combined Score    Genes   Gene_set  \n",
       "0       49.556971  CYP27B1  KEGG_2016  \n",
       "1        5.724447     HTN3  KEGG_2016  \n",
       "2        1.750834  CYP27B1  KEGG_2016  \n",
       "3        0.006865  CYP27B1  KEGG_2016  "
      ]
     },
     "execution_count": 8,
     "metadata": {},
     "output_type": "execute_result"
    }
   ],
   "source": [
    "# 100 genes\n",
    "t_gsea = transcrpt_all_comparisons.sort_values(by = 'P_Value')\n",
    "t_first_fifty = t_gsea.iloc[:100]\n",
    "\n",
    "# create gene list\n",
    "t_genes = t_first_fifty['Comparison']\n",
    "t_genes.replace(to_replace = '_transcriptomics.*$', value = '', \n",
    "                        inplace = True, regex = True) # shorten column names\n",
    "t_genes.replace(to_replace = '-.*$', value = '', \n",
    "                        inplace = True, regex = True) # shorten column names\n",
    "t_genes_list = list(t_genes)\n",
    "print(\"Number of Transcriptomics comparisons for gsea: \", len(t_genes_list))\n",
    "\n",
    "t_enr = gp.enrichr(gene_list = t_genes_list, description='Transcriptomics_Comparisons', gene_sets='KEGG_2016', \n",
    "                       outdir='Enrichment Analysis')\n",
    "\n",
    "t_enr.res2d.head()"
   ]
  },
  {
   "cell_type": "markdown",
   "metadata": {},
   "source": [
    "# Proteomics: All Proteins"
   ]
  },
  {
   "cell_type": "markdown",
   "metadata": {},
   "source": [
    "No data for FLG."
   ]
  },
  {
   "cell_type": "code",
   "execution_count": 9,
   "metadata": {},
   "outputs": [
    {
     "name": "stderr",
     "output_type": "stream",
     "text": [
      "Warning: In joining the somatic_mutation table, no mutations were found for the following samples, so they were filled with Wildtype_Tumor or Wildtype_Normal: 101 samples for the FLG gene (C:\\Users\\brittany henderson\\Anaconda3\\envs\\Research\\lib\\site-packages\\ipykernel_launcher.py, line 9)\n",
      "Warning: You tried to flatten an index that didn't have multiple levels, so we didn't actually change anything. (C:\\Users\\brittany henderson\\Anaconda3\\envs\\Research\\lib\\site-packages\\ipykernel_launcher.py, line 10)\n"
     ]
    },
    {
     "name": "stdout",
     "output_type": "stream",
     "text": [
      "\n",
      "Gene:  FLG\n",
      "Error in Comparison\n",
      "\"['FLG_proteomics'] not found in axis\"\n"
     ]
    }
   ],
   "source": [
    "prot = \"proteomics\"\n",
    "\n",
    "try:\n",
    "    print(\"\\nGene: \", gene)\n",
    "\n",
    "    #Use all proteins\n",
    "\n",
    "    #Create dataframe in order to do comparisons with wrap_ttest\n",
    "    protdf = brain.join_omics_to_mutations(mutations_genes=[gene], omics_df_name=prot)\n",
    "    protdf = brain.reduce_multiindex(protdf, flatten=True)\n",
    "    protdf = protdf[protdf.Sample_Status == 'Tumor'] # drop Normal samples\n",
    "    \n",
    "    #Remove Cis interactions \n",
    "    protdf = protdf.drop(columns = gene+\"_proteomics\") # change for each gene \n",
    "    protdf = protdf.dropna(axis=1, how='all') # drop columns with all NaN data\n",
    "    \n",
    "    #Create the binary valued column needed to do the comparison\n",
    "    for ind, row in protdf.iterrows():\n",
    "        if row[gene+\"_Mutation_Status\"] != 'Wildtype_Tumor':\n",
    "            protdf.at[ind,'Label'] = 'Mutated'\n",
    "        else:\n",
    "            protdf.at[ind,'Label'] = 'Wildtype'\n",
    "\n",
    "    #Format the datafram correctly\n",
    "    protdf = protdf.drop(gene+\"_Mutation\",axis=1)\n",
    "    protdf = protdf.drop(gene+\"_Location\",axis=1)\n",
    "    protdf = protdf.drop(gene+\"_Mutation_Status\", axis=1)\n",
    "    protdf = protdf.drop(\"Sample_Status\",axis=1)\n",
    "\n",
    "    #Make list of columns to be compared using t-tests\n",
    "    prot_col_list = list(protdf.columns)\n",
    "    prot_col_list.remove('Label')\n",
    "\n",
    "    print(\"Doing t-test comparisons\\n\")\n",
    "    \n",
    "    #Call wrap_ttest, pass in formatted dataframe\n",
    "    prot_all_comparisons = al.wrap_ttest(protdf, 'Label', prot_col_list, return_all=True)\n",
    "\n",
    "    prot_num_comparisons = len(prot_col_list)\n",
    "    print(\"Number of comparisons:\", prot_num_comparisons)\n",
    "    prot_bonferroni_cutoff = .05 / prot_num_comparisons\n",
    "    print(\"Bonferroni cutoff = \", prot_bonferroni_cutoff)\n",
    "    print(\"Logged Bonferroni cutoff = \", np.log10(prot_bonferroni_cutoff))\n",
    "\n",
    "\n",
    "except Exception as e:\n",
    "    print(\"Error in Comparison\")\n",
    "    print(e)"
   ]
  },
  {
   "cell_type": "markdown",
   "metadata": {},
   "source": [
    "# Phosphoproteomics: All Proteins"
   ]
  },
  {
   "cell_type": "code",
   "execution_count": 11,
   "metadata": {},
   "outputs": [
    {
     "name": "stdout",
     "output_type": "stream",
     "text": [
      "\n",
      "Gene:  FLG\n"
     ]
    },
    {
     "name": "stderr",
     "output_type": "stream",
     "text": [
      "Warning: In joining the somatic_mutation table, no mutations were found for the following samples, so they were filled with Wildtype_Tumor or Wildtype_Normal: 101 samples for the FLG gene (C:\\Users\\brittany henderson\\Anaconda3\\envs\\Research\\lib\\site-packages\\ipykernel_launcher.py, line 7)\n"
     ]
    },
    {
     "name": "stdout",
     "output_type": "stream",
     "text": [
      "Doing t-test comparisons\n",
      "\n",
      "No significant comparisons.\n",
      "Number of comparisons: 101263\n",
      "Bonferroni cutoff =  4.937637636649122e-07\n",
      "Logged Bonferroni cutoff =  4.937637636649122e-07\n"
     ]
    }
   ],
   "source": [
    "phos = 'phosphoproteomics'\n",
    "\n",
    "try:\n",
    "    print(\"\\nGene: \", gene)\n",
    "\n",
    "    # Create dataframe in order to do comparisons with wrap_ttest\n",
    "    phosdf = brain.join_omics_to_mutations(mutations_genes=[gene], omics_df_name=phos)\n",
    "    phosdf = brain.reduce_multiindex(phosdf, flatten = True)\n",
    "    phosdf = phosdf.loc[phosdf['Sample_Status'] == 'Tumor']\n",
    "    \n",
    "    #Remove Cis interactions\n",
    "    phosdf = phosdf.loc[:,~phosdf.columns.str.contains(gene+'_phosphoproteomics')]\n",
    "    phosdf = phosdf.dropna(axis=1, how='all') # drop columns with all NaN data\n",
    "    \n",
    "    \n",
    "    # Create the binary valued column needed to do the comparison\n",
    "    for ind, row in phosdf.iterrows():\n",
    "        if row[gene+\"_Mutation_Status\"] != 'Wildtype_Tumor':\n",
    "            phosdf.at[ind,'Label'] = 'Mutated'\n",
    "        else:\n",
    "            phosdf.at[ind,'Label'] = 'Wildtype'\n",
    "\n",
    "    # Format the datafram correctly'''\n",
    "    phosdf = phosdf.drop(gene+\"_Mutation\",axis=1)\n",
    "    phosdf = phosdf.drop(gene+\"_Location\",axis=1)\n",
    "    phosdf = phosdf.drop(gene+\"_Mutation_Status\", axis=1)\n",
    "    phosdf = phosdf.drop(\"Sample_Status\",axis=1)\n",
    "\n",
    "    # Make list of columns to be compared using t-tests\n",
    "    phos_col_list = list(phosdf.columns)\n",
    "    phos_col_list.remove('Label')\n",
    "    \n",
    "    print(\"Doing t-test comparisons\\n\")\n",
    "    \n",
    "    #Call wrap_ttest, pass in formatted dataframe\n",
    "    phos_all_comparisons = al.wrap_ttest(phosdf, 'Label', phos_col_list, return_all=True)\n",
    "    \n",
    "    phos_num_comparisons = len(phos_col_list)\n",
    "    print(\"Number of comparisons:\", phos_num_comparisons)\n",
    "    phos_bonferroni_cutoff = .05 / phos_num_comparisons\n",
    "    print(\"Bonferroni cutoff = \", phos_bonferroni_cutoff)\n",
    "    print(\"Logged Bonferroni cutoff = \", phos_bonferroni_cutoff)\n",
    "            \n",
    "        \n",
    "except Exception as e:\n",
    "    print(\"Error in Comparison\")\n",
    "    print(e)"
   ]
  },
  {
   "cell_type": "markdown",
   "metadata": {},
   "source": [
    "Print Significant Comparisons"
   ]
  },
  {
   "cell_type": "code",
   "execution_count": 12,
   "metadata": {},
   "outputs": [
    {
     "name": "stdout",
     "output_type": "stream",
     "text": [
      "Number of significant Phosphoproteomics comparisons:  0\n"
     ]
    },
    {
     "data": {
      "text/html": [
       "<div>\n",
       "<style scoped>\n",
       "    .dataframe tbody tr th:only-of-type {\n",
       "        vertical-align: middle;\n",
       "    }\n",
       "\n",
       "    .dataframe tbody tr th {\n",
       "        vertical-align: top;\n",
       "    }\n",
       "\n",
       "    .dataframe thead th {\n",
       "        text-align: right;\n",
       "    }\n",
       "</style>\n",
       "<table border=\"1\" class=\"dataframe\">\n",
       "  <thead>\n",
       "    <tr style=\"text-align: right;\">\n",
       "      <th></th>\n",
       "      <th>Comparison</th>\n",
       "      <th>P_Value</th>\n",
       "    </tr>\n",
       "  </thead>\n",
       "  <tbody>\n",
       "  </tbody>\n",
       "</table>\n",
       "</div>"
      ],
      "text/plain": [
       "Empty DataFrame\n",
       "Columns: [Comparison, P_Value]\n",
       "Index: []"
      ]
     },
     "execution_count": 12,
     "metadata": {},
     "output_type": "execute_result"
    }
   ],
   "source": [
    "phos_all_comparisons = phos_all_comparisons.dropna(axis=0)\n",
    "phos_sig_comparisons = phos_all_comparisons.loc[phos_all_comparisons['P_Value'] <= phos_bonferroni_cutoff]\n",
    "print(\"Number of significant Phosphoproteomics comparisons: \", len(phos_sig_comparisons))\n",
    "phos_sig_comparisons.head()"
   ]
  },
  {
   "cell_type": "markdown",
   "metadata": {},
   "source": [
    "Phosphoproteomics Histograms"
   ]
  },
  {
   "cell_type": "code",
   "execution_count": 13,
   "metadata": {},
   "outputs": [
    {
     "data": {
      "image/png": "[encoded data removed]",
      "text/plain": [
       "<Figure size 720x576 with 1 Axes>"
      ]
     },
     "metadata": {},
     "output_type": "display_data"
    }
   ],
   "source": [
    "# Create series of p-values for Histogram\n",
    "phos_pval_series = phos_all_comparisons['P_Value']\n",
    "\n",
    "# Format figure size and font\n",
    "plt.rcParams['figure.figsize']=(10,8)\n",
    "sns.set(font_scale = 1.3)\n",
    "\n",
    "# Create log scale for the x-axis\n",
    "plt.xscale('log')\n",
    "phos_log_min, phos_log_max = np.log10(phos_pval_series.min()), np.log10(phos_pval_series.max())\n",
    "phos_bins = np.logspace(phos_log_min - 1, phos_log_max, 100) # change bin number here\n",
    "histogram = sns.distplot(phos_pval_series, bins = phos_bins, kde=False, color='navy') \n",
    "\n",
    "# Format title and axis\n",
    "histogram.set_title(\"P_Value Distribution for \"+gene+\" trans Phosphoproteomics for All Proteins\")\n",
    "histogram.set(ylabel = 'Number of Proteins')\n",
    "#plt.xlim([10e-10,10e-1]) # change x-axis range\n",
    "#plt.ylim([0, 3500]) # change y-axis range\n",
    "\n",
    "# Graph cutoffs: alpha = green, bonferroni = red\n",
    "plt.axvline(phos_bonferroni_cutoff, 0, 0.95, linewidth=2, color='r')\n",
    "plt.axvline(0.05, 0, 0.95, linewidth=2, color='g')\n",
    "\n",
    "plt.show()\n",
    "plt.clf()\n",
    "plt.close()"
   ]
  },
  {
   "cell_type": "markdown",
   "metadata": {},
   "source": [
    "Phosphoproteomics zoomed in"
   ]
  },
  {
   "cell_type": "code",
   "execution_count": 18,
   "metadata": {},
   "outputs": [
    {
     "data": {
      "image/png": "[encoded data removed]",
      "text/plain": [
       "<Figure size 720x576 with 1 Axes>"
      ]
     },
     "metadata": {},
     "output_type": "display_data"
    }
   ],
   "source": [
    "phos_pval_series = phos_all_comparisons['P_Value']\n",
    "# Select p-values within range 0 - end_value \n",
    "phos_end_value = 0.01\n",
    "phos_zoomed = phos_pval_series.loc[phos_pval_series <= phos_end_value]\n",
    "\n",
    "# Format size of figure and font\n",
    "plt.rcParams['figure.figsize']=(10,8)\n",
    "sns.set(font_scale = 1.3)\n",
    "\n",
    "# Create log scale for the x-axis\n",
    "plt.xscale('log')\n",
    "phos_zoomed_log_min, phos_zoomed_log_max = np.log10(phos_zoomed.min()),np.log10(phos_zoomed.max())\n",
    "phos_bins_zoomed = np.logspace(phos_zoomed_log_min - 1, phos_zoomed_log_max, 60) # change this number for more or less bins\n",
    "histogram = sns.distplot(phos_zoomed, bins = phos_bins_zoomed, kde=False, color='teal')\n",
    "\n",
    "# Format title and axis\n",
    "histogram.set_title(\"P_Value Distribution for \"+gene+\" trans Phosphoproteomics (P_Value < \" + str(phos_end_value) + \")\")\n",
    "histogram.set(ylabel = 'Number of Proteins')\n",
    "plt.xlim([10e-10,10e-3]) # change x-axis range\n",
    "#plt.ylim([0.0,20]) # change y axis intervals\n",
    "\n",
    "# Create bonferroni cutoff line \n",
    "plt.axvline(phos_bonferroni_cutoff, 0, .95, linewidth=2, color='r') # cutoff line parameters: (cutoff, 0, height)\n",
    "\n",
    "# Create bonferroni cutoff line \n",
    "#plt.axvline(phos_bonferroni_cutoff + .00003, 0, .95, linewidth=2, color='b') # cutoff line parameters: (cutoff, 0, height)\n",
    "\n",
    "plt.show()\n",
    "plt.clf()\n",
    "plt.close()"
   ]
  },
  {
   "cell_type": "code",
   "execution_count": 16,
   "metadata": {},
   "outputs": [
    {
     "name": "stdout",
     "output_type": "stream",
     "text": [
      "Number of Phosphoproteomics comparisons for gsea:  150\n"
     ]
    },
    {
     "name": "stderr",
     "output_type": "stream",
     "text": [
      "2019-11-02 16:35:44,448 Warning: No enrich terms using library KEGG_2016 when cutoff = 0.05\n"
     ]
    },
    {
     "data": {
      "text/html": [
       "<div>\n",
       "<style scoped>\n",
       "    .dataframe tbody tr th:only-of-type {\n",
       "        vertical-align: middle;\n",
       "    }\n",
       "\n",
       "    .dataframe tbody tr th {\n",
       "        vertical-align: top;\n",
       "    }\n",
       "\n",
       "    .dataframe thead th {\n",
       "        text-align: right;\n",
       "    }\n",
       "</style>\n",
       "<table border=\"1\" class=\"dataframe\">\n",
       "  <thead>\n",
       "    <tr style=\"text-align: right;\">\n",
       "      <th></th>\n",
       "      <th>Term</th>\n",
       "      <th>Overlap</th>\n",
       "      <th>P-value</th>\n",
       "      <th>Adjusted P-value</th>\n",
       "      <th>Old P-value</th>\n",
       "      <th>Old Adjusted P-value</th>\n",
       "      <th>Odds Ratio</th>\n",
       "      <th>Combined Score</th>\n",
       "      <th>Genes</th>\n",
       "      <th>Gene_set</th>\n",
       "    </tr>\n",
       "  </thead>\n",
       "  <tbody>\n",
       "    <tr>\n",
       "      <td>0</td>\n",
       "      <td>Tight junction_Homo sapiens_hsa04530</td>\n",
       "      <td>5/139</td>\n",
       "      <td>0.002304</td>\n",
       "      <td>0.675155</td>\n",
       "      <td>0</td>\n",
       "      <td>0</td>\n",
       "      <td>5.450185</td>\n",
       "      <td>33.098900</td>\n",
       "      <td>TJP1;YES1;EPB41L1;LLGL1;TJP2</td>\n",
       "      <td>KEGG_2016</td>\n",
       "    </tr>\n",
       "    <tr>\n",
       "      <td>1</td>\n",
       "      <td>Adherens junction_Homo sapiens_hsa04520</td>\n",
       "      <td>3/74</td>\n",
       "      <td>0.012956</td>\n",
       "      <td>1.000000</td>\n",
       "      <td>0</td>\n",
       "      <td>0</td>\n",
       "      <td>6.142506</td>\n",
       "      <td>26.696306</td>\n",
       "      <td>TJP1;YES1;EGFR</td>\n",
       "      <td>KEGG_2016</td>\n",
       "    </tr>\n",
       "    <tr>\n",
       "      <td>2</td>\n",
       "      <td>Aldosterone-regulated sodium reabsorption_Homo...</td>\n",
       "      <td>2/39</td>\n",
       "      <td>0.027320</td>\n",
       "      <td>1.000000</td>\n",
       "      <td>0</td>\n",
       "      <td>0</td>\n",
       "      <td>7.770008</td>\n",
       "      <td>27.973139</td>\n",
       "      <td>SLC9A3R2;NR3C2</td>\n",
       "      <td>KEGG_2016</td>\n",
       "    </tr>\n",
       "    <tr>\n",
       "      <td>3</td>\n",
       "      <td>Endocytosis_Homo sapiens_hsa04144</td>\n",
       "      <td>5/259</td>\n",
       "      <td>0.028779</td>\n",
       "      <td>1.000000</td>\n",
       "      <td>0</td>\n",
       "      <td>0</td>\n",
       "      <td>2.925003</td>\n",
       "      <td>10.378273</td>\n",
       "      <td>SNX2;GBF1;AGAP2;CBLB;EGFR</td>\n",
       "      <td>KEGG_2016</td>\n",
       "    </tr>\n",
       "    <tr>\n",
       "      <td>4</td>\n",
       "      <td>Retrograde endocannabinoid signaling_Homo sapi...</td>\n",
       "      <td>3/101</td>\n",
       "      <td>0.029318</td>\n",
       "      <td>1.000000</td>\n",
       "      <td>0</td>\n",
       "      <td>0</td>\n",
       "      <td>4.500450</td>\n",
       "      <td>15.884610</td>\n",
       "      <td>RIMS1;DAGLA;DAGLB</td>\n",
       "      <td>KEGG_2016</td>\n",
       "    </tr>\n",
       "  </tbody>\n",
       "</table>\n",
       "</div>"
      ],
      "text/plain": [
       "                                                Term Overlap   P-value  \\\n",
       "0               Tight junction_Homo sapiens_hsa04530   5/139  0.002304   \n",
       "1            Adherens junction_Homo sapiens_hsa04520    3/74  0.012956   \n",
       "2  Aldosterone-regulated sodium reabsorption_Homo...    2/39  0.027320   \n",
       "3                  Endocytosis_Homo sapiens_hsa04144   5/259  0.028779   \n",
       "4  Retrograde endocannabinoid signaling_Homo sapi...   3/101  0.029318   \n",
       "\n",
       "   Adjusted P-value  Old P-value  Old Adjusted P-value  Odds Ratio  \\\n",
       "0          0.675155            0                     0    5.450185   \n",
       "1          1.000000            0                     0    6.142506   \n",
       "2          1.000000            0                     0    7.770008   \n",
       "3          1.000000            0                     0    2.925003   \n",
       "4          1.000000            0                     0    4.500450   \n",
       "\n",
       "   Combined Score                         Genes   Gene_set  \n",
       "0       33.098900  TJP1;YES1;EPB41L1;LLGL1;TJP2  KEGG_2016  \n",
       "1       26.696306                TJP1;YES1;EGFR  KEGG_2016  \n",
       "2       27.973139                SLC9A3R2;NR3C2  KEGG_2016  \n",
       "3       10.378273     SNX2;GBF1;AGAP2;CBLB;EGFR  KEGG_2016  \n",
       "4       15.884610             RIMS1;DAGLA;DAGLB  KEGG_2016  "
      ]
     },
     "execution_count": 16,
     "metadata": {},
     "output_type": "execute_result"
    }
   ],
   "source": [
    "# Gene set enrichment analysis for 100 genes\n",
    "phos_gsea = phos_all_comparisons.sort_values(by = 'P_Value')\n",
    "phos_first_fifty = phos_gsea.iloc[:150]\n",
    "\n",
    "# create gene list\n",
    "phos_genes = phos_first_fifty['Comparison']\n",
    "phos_genes.replace(to_replace = '_phosphoproteomics.*$', value = '', \n",
    "                        inplace = True, regex = True) # shorten column names\n",
    "phos_genes_list = list(phos_genes)\n",
    "print(\"Number of Phosphoproteomics comparisons for gsea: \", len(phos_genes_list))\n",
    "\n",
    "phos_enr = gp.enrichr(gene_list = phos_genes_list, description='Phosphoproteomics_Comparisons', gene_sets='KEGG_2016', \n",
    "                       outdir='Enrichment Analysis')\n",
    "\n",
    "phos_enr.res2d.head()"
   ]
  }
 ],
 "metadata": {
  "kernelspec": {
   "display_name": "Python 3",
   "language": "python",
   "name": "python3"
  },
  "language_info": {
   "codemirror_mode": {
    "name": "ipython",
    "version": 3
   },
   "file_extension": ".py",
   "mimetype": "text/x-python",
   "name": "python",
   "nbconvert_exporter": "python",
   "pygments_lexer": "ipython3",
   "version": "3.7.3"
  }
 },
 "nbformat": 4,
 "nbformat_minor": 2
}
