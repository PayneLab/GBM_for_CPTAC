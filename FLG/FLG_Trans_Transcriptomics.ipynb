{
 "cells": [
  {
   "cell_type": "markdown",
   "metadata": {},
   "source": [
    "# FLG Mutation Trans Effect on Transcriptomics"
   ]
  },
  {
   "cell_type": "markdown",
   "metadata": {},
   "source": [
    "### Library Imports"
   ]
  },
  {
   "cell_type": "code",
   "execution_count": 1,
   "metadata": {},
   "outputs": [
    {
     "name": "stdout",
     "output_type": "stream",
     "text": [
      "                                    \r"
     ]
    }
   ],
   "source": [
    "import pandas as pd\n",
    "import numpy as np\n",
    "import scipy.stats\n",
    "\n",
    "import warnings\n",
    "warnings.filterwarnings(\"ignore\")\n",
    "\n",
    "import cptac\n",
    "import cptac.utils as al\n",
    "\n",
    "brain = cptac.Gbm()"
   ]
  },
  {
   "cell_type": "markdown",
   "metadata": {},
   "source": [
    "### Select Gene"
   ]
  },
  {
   "cell_type": "code",
   "execution_count": 2,
   "metadata": {},
   "outputs": [],
   "source": [
    "gene = \"FLG\""
   ]
  },
  {
   "cell_type": "markdown",
   "metadata": {},
   "source": [
    "### Investigate Proteomics, Phosphoproteomics, Acetylproteomics, or Transcriptomics"
   ]
  },
  {
   "cell_type": "code",
   "execution_count": 3,
   "metadata": {},
   "outputs": [],
   "source": [
    "#omics = \"proteomics\"\n",
    "omics = \"transcriptomics\"\n",
    "#omics = \"phosphoproteomics\"\n",
    "#omics = \"acetylproteomics\""
   ]
  },
  {
   "cell_type": "markdown",
   "metadata": {},
   "source": [
    "### Track all significant comparisons in Dataframe"
   ]
  },
  {
   "cell_type": "code",
   "execution_count": 4,
   "metadata": {},
   "outputs": [],
   "source": [
    "all_significant_comparisons = pd.DataFrame(columns=['Cancer_Type', 'Gene', 'Comparison','Interacting_Protein','P_Value'])"
   ]
  },
  {
   "cell_type": "code",
   "execution_count": 5,
   "metadata": {},
   "outputs": [],
   "source": [
    "def add_to_all_significant_comparisons(df, cancer, interacting, all_sig_comp):\n",
    "    expanded = df\n",
    "    expanded['Gene'] = gene\n",
    "    expanded['Cancer_Type'] = cancer\n",
    "    expanded['Interacting_Protein'] = interacting\n",
    "    \n",
    "    updated_all_comparisons = pd.concat([all_sig_comp, expanded], sort=False)\n",
    "    \n",
    "    return updated_all_comparisons"
   ]
  },
  {
   "cell_type": "markdown",
   "metadata": {},
   "source": [
    "# Interacting Proteins: Transcriptomics"
   ]
  },
  {
   "cell_type": "markdown",
   "metadata": {},
   "source": [
    "### Generate interacting protein list"
   ]
  },
  {
   "cell_type": "markdown",
   "metadata": {},
   "source": [
    "Make a call to cptac.utils to get the interacting proteins method, which interacts with the uniprot and string databases to generate a list of known interacting partners with the given gene."
   ]
  },
  {
   "cell_type": "code",
   "execution_count": 6,
   "metadata": {},
   "outputs": [
    {
     "name": "stdout",
     "output_type": "stream",
     "text": [
      "Interacting Proteins:\n",
      "DSG3\n",
      "TGM1\n",
      "DSG1\n",
      "DSC1\n",
      "PKP1\n",
      "CSTA\n",
      "ST14\n",
      "EVPL\n",
      "SPRR1B\n",
      "SPRR3\n",
      "KLK5\n",
      "PPL\n",
      "DSC3\n",
      "LOR\n",
      "SPRR2E\n",
      "SPRR2B\n",
      "SPRR2D\n",
      "SPRR1A\n",
      "IVL\n",
      "FLG\n",
      "PRSS8\n",
      "DSP\n",
      "SPRR2A\n",
      "CASP14\n",
      "TCHH\n",
      "PCSK6\n",
      "USP1\n",
      "UCHL5\n",
      "CUL2\n",
      "MPG\n",
      "TUBG1\n",
      "EZH2\n",
      "C21orf59\n",
      "UCP2\n",
      "GPR18\n",
      "KIR3DS1\n",
      "MCL1\n",
      "GMCL1\n",
      "HNRNPA1\n",
      "TNFRSF19\n",
      "FCF1\n",
      "PI4KA\n",
      "FTH1\n",
      "STK16\n",
      "ZSCAN12\n",
      "MAK\n",
      "CYLD\n",
      "HTN3\n"
     ]
    }
   ],
   "source": [
    "# Use get interacting proteins method to generate list of interacting proteins\n",
    "interacting_proteins = al.get_interacting_proteins(gene)\n",
    "\n",
    "# Show interacting protein list\n",
    "print(\"Interacting Proteins:\")\n",
    "for interacting_protein in interacting_proteins:\n",
    "    print(interacting_protein)"
   ]
  },
  {
   "cell_type": "markdown",
   "metadata": {},
   "source": [
    "### Test for significant comparisons in any of interacting proteins"
   ]
  },
  {
   "cell_type": "code",
   "execution_count": 7,
   "metadata": {},
   "outputs": [
    {
     "name": "stdout",
     "output_type": "stream",
     "text": [
      "Doing t-test comparisons\n",
      "\n",
      "                               Comparison   P_Value\n",
      "0  HTN3_transcriptomics_ENSG00000205649.6  0.000061\n",
      "\n",
      "\n",
      "\n"
     ]
    },
    {
     "name": "stderr",
     "output_type": "stream",
     "text": [
      "Warning: The following columns were not found in the transcriptomics dataframe, so they were inserted into joined table, but filled with NaN: KIR3DS1 (C:\\Users\\brittany henderson\\Anaconda3\\envs\\Research\\lib\\site-packages\\ipykernel_launcher.py, line 2)\n",
      "Warning: In joining the somatic_mutation table, no mutations were found for the following samples, so they were filled with Wildtype_Tumor or Wildtype_Normal: 101 samples for the FLG gene (C:\\Users\\brittany henderson\\Anaconda3\\envs\\Research\\lib\\site-packages\\ipykernel_launcher.py, line 2)\n"
     ]
    }
   ],
   "source": [
    "# Create dataframe in order to do comparisons with wrap_ttest\n",
    "protdf = brain.join_omics_to_mutations(mutations_genes=[gene], omics_df_name=omics, omics_genes=interacting_proteins)\n",
    "protdf = brain.reduce_multiindex(protdf, flatten=True)\n",
    "protdf = protdf[protdf.Sample_Status == 'Tumor'] # drop Normal samples\n",
    "\n",
    "# Create the binary valued column needed to do the comparison\n",
    "for ind, row in protdf.iterrows():\n",
    "    if row[gene+\"_Mutation_Status\"] != 'Wildtype_Tumor':\n",
    "        protdf.at[ind,'Label'] = 'Mutated'\n",
    "    else:\n",
    "        protdf.at[ind,'Label'] = 'Wildtype'\n",
    "\n",
    "# Format the dataframe correctly\n",
    "protdf = protdf.drop(gene+\"_Mutation\",axis=1)\n",
    "protdf = protdf.drop(gene+\"_Location\",axis=1)\n",
    "protdf = protdf.drop(gene+\"_Mutation_Status\", axis=1)\n",
    "protdf = protdf.drop(\"Sample_Status\",axis=1)\n",
    "\n",
    "\n",
    "# Make list of columns to be compared using t-tests\n",
    "col_list = list(protdf.columns)\n",
    "col_list.remove('Label')\n",
    "\n",
    "print(\"Doing t-test comparisons\\n\")\n",
    "\n",
    "# Call wrap_ttest, pass in formatted dataframe\n",
    "wrap_results = al.wrap_ttest(protdf, 'Label', col_list)\n",
    "\n",
    "# Print results, if anything significant was found\n",
    "if wrap_results is not None:\n",
    "        print(wrap_results)\n",
    "        print(\"\\n\\n\")\n",
    "        \n",
    "        all_significant_comparisons = add_to_all_significant_comparisons(wrap_results, \"Gbm\", True, all_significant_comparisons)\n",
    "        "
   ]
  },
  {
   "cell_type": "markdown",
   "metadata": {},
   "source": [
    "# All Proteins: Transcriptomics "
   ]
  },
  {
   "cell_type": "code",
   "execution_count": 8,
   "metadata": {},
   "outputs": [
    {
     "name": "stdout",
     "output_type": "stream",
     "text": [
      "\n",
      "Gene:  FLG\n"
     ]
    },
    {
     "name": "stderr",
     "output_type": "stream",
     "text": [
      "Warning: In joining the somatic_mutation table, no mutations were found for the following samples, so they were filled with Wildtype_Tumor or Wildtype_Normal: 101 samples for the FLG gene (C:\\Users\\brittany henderson\\Anaconda3\\envs\\Research\\lib\\site-packages\\ipykernel_launcher.py, line 7)\n"
     ]
    },
    {
     "name": "stdout",
     "output_type": "stream",
     "text": [
      "Doing t-test comparisons\n",
      "\n",
      "                                          Comparison       P_Value\n",
      "0    RP11-249L21.2_transcriptomics_ENSG00000218872.1  1.807788e-10\n",
      "1      CTC-369M3.1_transcriptomics_ENSG00000253638.1  5.642627e-10\n",
      "2   RP11-1028N23.2_transcriptomics_ENSG00000258280.1  7.857995e-10\n",
      "3         RN7SL42P_transcriptomics_ENSG00000263999.2  8.538047e-08\n",
      "4    CTD-2537I9.15_transcriptomics_ENSG00000279063.1  9.486508e-08\n",
      "5       AC006380.3_transcriptomics_ENSG00000231418.1  1.290821e-07\n",
      "6        PPEF1-AS1_transcriptomics_ENSG00000237221.1  1.338733e-07\n",
      "7            Y_RNA_transcriptomics_ENSG00000199912.1  3.315852e-07\n",
      "8     RP11-321L2.3_transcriptomics_ENSG00000277608.1  3.333389e-07\n",
      "9     RP11-497J7.2_transcriptomics_ENSG00000233880.1  3.333389e-07\n",
      "10         DEFB131_transcriptomics_ENSG00000186146.1  3.390976e-07\n",
      "11    RP11-552O4.2_transcriptomics_ENSG00000266184.1  5.084511e-07\n",
      "12   RP11-109P11.1_transcriptomics_ENSG00000260183.1  5.746480e-07\n",
      "13           Y_RNA_transcriptomics_ENSG00000275006.1  6.022068e-07\n",
      "14    CTD-2329C7.2_transcriptomics_ENSG00000266985.1  8.165595e-07\n",
      "\n",
      "\n",
      "\n"
     ]
    }
   ],
   "source": [
    "try:\n",
    "    print(\"\\nGene: \", gene)\n",
    "\n",
    "    # Use all proteins\n",
    "\n",
    "    # Create dataframe in order to do comparisons with wrap_ttest\n",
    "    protdf = brain.join_omics_to_mutations(mutations_genes=[gene], omics_df_name=omics)\n",
    "    protdf = brain.reduce_multiindex(protdf, flatten=True) # flatten for specific column names\n",
    "    protdf = protdf.loc[protdf['Sample_Status'] == 'Tumor']\n",
    "    \n",
    "    # Create binary column \n",
    "    protdf['Label'] = np.where(\n",
    "                protdf[gene+'_Mutation_Status'] == 'Wildtype_Tumor', 'Wildtype', 'Mutated')\n",
    "\n",
    "    # Format the dataframe correctly'''\n",
    "    protdf = protdf.drop(gene+\"_Mutation\",axis=1)\n",
    "    protdf = protdf.drop(gene+\"_Location\",axis=1)\n",
    "    protdf = protdf.drop(gene+\"_Mutation_Status\", axis=1)\n",
    "    protdf = protdf.drop(\"Sample_Status\",axis=1)\n",
    "\n",
    "    # Make list of columns to be compared using t-tests\n",
    "    col_list = list(protdf.columns)\n",
    "    col_list.remove('Label')\n",
    "\n",
    "    print(\"Doing t-test comparisons\\n\")\n",
    "    \n",
    "    # Call wrap_ttest, pass in formatted dataframe\n",
    "    wrap_results = al.wrap_ttest(protdf, 'Label', col_list)\n",
    "\n",
    "    # Print results, if anything significant was found\n",
    "    if wrap_results is not None:\n",
    "            print(wrap_results)\n",
    "            print(\"\\n\\n\")\n",
    "            \n",
    "            all_significant_comparisons = add_to_all_significant_comparisons(wrap_results, \"Gbm\", False, all_significant_comparisons)\n",
    "\n",
    "\n",
    "except Exception as e:\n",
    "    print(\"Error in Comparison\")\n",
    "    print(e)"
   ]
  },
  {
   "cell_type": "markdown",
   "metadata": {},
   "source": [
    "# Print all significant comparisons"
   ]
  },
  {
   "cell_type": "code",
   "execution_count": 9,
   "metadata": {},
   "outputs": [
    {
     "data": {
      "text/html": [
       "<div>\n",
       "<style scoped>\n",
       "    .dataframe tbody tr th:only-of-type {\n",
       "        vertical-align: middle;\n",
       "    }\n",
       "\n",
       "    .dataframe tbody tr th {\n",
       "        vertical-align: top;\n",
       "    }\n",
       "\n",
       "    .dataframe thead th {\n",
       "        text-align: right;\n",
       "    }\n",
       "</style>\n",
       "<table border=\"1\" class=\"dataframe\">\n",
       "  <thead>\n",
       "    <tr style=\"text-align: right;\">\n",
       "      <th></th>\n",
       "      <th>Cancer_Type</th>\n",
       "      <th>Gene</th>\n",
       "      <th>Comparison</th>\n",
       "      <th>Interacting_Protein</th>\n",
       "      <th>P_Value</th>\n",
       "    </tr>\n",
       "  </thead>\n",
       "  <tbody>\n",
       "    <tr>\n",
       "      <td>0</td>\n",
       "      <td>Gbm</td>\n",
       "      <td>FLG</td>\n",
       "      <td>HTN3_transcriptomics_ENSG00000205649.6</td>\n",
       "      <td>True</td>\n",
       "      <td>6.119048e-05</td>\n",
       "    </tr>\n",
       "    <tr>\n",
       "      <td>0</td>\n",
       "      <td>Gbm</td>\n",
       "      <td>FLG</td>\n",
       "      <td>RP11-249L21.2_transcriptomics_ENSG00000218872.1</td>\n",
       "      <td>False</td>\n",
       "      <td>1.807788e-10</td>\n",
       "    </tr>\n",
       "    <tr>\n",
       "      <td>1</td>\n",
       "      <td>Gbm</td>\n",
       "      <td>FLG</td>\n",
       "      <td>CTC-369M3.1_transcriptomics_ENSG00000253638.1</td>\n",
       "      <td>False</td>\n",
       "      <td>5.642627e-10</td>\n",
       "    </tr>\n",
       "    <tr>\n",
       "      <td>2</td>\n",
       "      <td>Gbm</td>\n",
       "      <td>FLG</td>\n",
       "      <td>RP11-1028N23.2_transcriptomics_ENSG00000258280.1</td>\n",
       "      <td>False</td>\n",
       "      <td>7.857995e-10</td>\n",
       "    </tr>\n",
       "    <tr>\n",
       "      <td>3</td>\n",
       "      <td>Gbm</td>\n",
       "      <td>FLG</td>\n",
       "      <td>RN7SL42P_transcriptomics_ENSG00000263999.2</td>\n",
       "      <td>False</td>\n",
       "      <td>8.538047e-08</td>\n",
       "    </tr>\n",
       "    <tr>\n",
       "      <td>4</td>\n",
       "      <td>Gbm</td>\n",
       "      <td>FLG</td>\n",
       "      <td>CTD-2537I9.15_transcriptomics_ENSG00000279063.1</td>\n",
       "      <td>False</td>\n",
       "      <td>9.486508e-08</td>\n",
       "    </tr>\n",
       "    <tr>\n",
       "      <td>5</td>\n",
       "      <td>Gbm</td>\n",
       "      <td>FLG</td>\n",
       "      <td>AC006380.3_transcriptomics_ENSG00000231418.1</td>\n",
       "      <td>False</td>\n",
       "      <td>1.290821e-07</td>\n",
       "    </tr>\n",
       "    <tr>\n",
       "      <td>6</td>\n",
       "      <td>Gbm</td>\n",
       "      <td>FLG</td>\n",
       "      <td>PPEF1-AS1_transcriptomics_ENSG00000237221.1</td>\n",
       "      <td>False</td>\n",
       "      <td>1.338733e-07</td>\n",
       "    </tr>\n",
       "    <tr>\n",
       "      <td>7</td>\n",
       "      <td>Gbm</td>\n",
       "      <td>FLG</td>\n",
       "      <td>Y_RNA_transcriptomics_ENSG00000199912.1</td>\n",
       "      <td>False</td>\n",
       "      <td>3.315852e-07</td>\n",
       "    </tr>\n",
       "    <tr>\n",
       "      <td>8</td>\n",
       "      <td>Gbm</td>\n",
       "      <td>FLG</td>\n",
       "      <td>RP11-321L2.3_transcriptomics_ENSG00000277608.1</td>\n",
       "      <td>False</td>\n",
       "      <td>3.333389e-07</td>\n",
       "    </tr>\n",
       "    <tr>\n",
       "      <td>9</td>\n",
       "      <td>Gbm</td>\n",
       "      <td>FLG</td>\n",
       "      <td>RP11-497J7.2_transcriptomics_ENSG00000233880.1</td>\n",
       "      <td>False</td>\n",
       "      <td>3.333389e-07</td>\n",
       "    </tr>\n",
       "    <tr>\n",
       "      <td>10</td>\n",
       "      <td>Gbm</td>\n",
       "      <td>FLG</td>\n",
       "      <td>DEFB131_transcriptomics_ENSG00000186146.1</td>\n",
       "      <td>False</td>\n",
       "      <td>3.390976e-07</td>\n",
       "    </tr>\n",
       "    <tr>\n",
       "      <td>11</td>\n",
       "      <td>Gbm</td>\n",
       "      <td>FLG</td>\n",
       "      <td>RP11-552O4.2_transcriptomics_ENSG00000266184.1</td>\n",
       "      <td>False</td>\n",
       "      <td>5.084511e-07</td>\n",
       "    </tr>\n",
       "    <tr>\n",
       "      <td>12</td>\n",
       "      <td>Gbm</td>\n",
       "      <td>FLG</td>\n",
       "      <td>RP11-109P11.1_transcriptomics_ENSG00000260183.1</td>\n",
       "      <td>False</td>\n",
       "      <td>5.746480e-07</td>\n",
       "    </tr>\n",
       "    <tr>\n",
       "      <td>13</td>\n",
       "      <td>Gbm</td>\n",
       "      <td>FLG</td>\n",
       "      <td>Y_RNA_transcriptomics_ENSG00000275006.1</td>\n",
       "      <td>False</td>\n",
       "      <td>6.022068e-07</td>\n",
       "    </tr>\n",
       "    <tr>\n",
       "      <td>14</td>\n",
       "      <td>Gbm</td>\n",
       "      <td>FLG</td>\n",
       "      <td>CTD-2329C7.2_transcriptomics_ENSG00000266985.1</td>\n",
       "      <td>False</td>\n",
       "      <td>8.165595e-07</td>\n",
       "    </tr>\n",
       "  </tbody>\n",
       "</table>\n",
       "</div>"
      ],
      "text/plain": [
       "   Cancer_Type Gene                                        Comparison  \\\n",
       "0          Gbm  FLG            HTN3_transcriptomics_ENSG00000205649.6   \n",
       "0          Gbm  FLG   RP11-249L21.2_transcriptomics_ENSG00000218872.1   \n",
       "1          Gbm  FLG     CTC-369M3.1_transcriptomics_ENSG00000253638.1   \n",
       "2          Gbm  FLG  RP11-1028N23.2_transcriptomics_ENSG00000258280.1   \n",
       "3          Gbm  FLG        RN7SL42P_transcriptomics_ENSG00000263999.2   \n",
       "4          Gbm  FLG   CTD-2537I9.15_transcriptomics_ENSG00000279063.1   \n",
       "5          Gbm  FLG      AC006380.3_transcriptomics_ENSG00000231418.1   \n",
       "6          Gbm  FLG       PPEF1-AS1_transcriptomics_ENSG00000237221.1   \n",
       "7          Gbm  FLG           Y_RNA_transcriptomics_ENSG00000199912.1   \n",
       "8          Gbm  FLG    RP11-321L2.3_transcriptomics_ENSG00000277608.1   \n",
       "9          Gbm  FLG    RP11-497J7.2_transcriptomics_ENSG00000233880.1   \n",
       "10         Gbm  FLG         DEFB131_transcriptomics_ENSG00000186146.1   \n",
       "11         Gbm  FLG    RP11-552O4.2_transcriptomics_ENSG00000266184.1   \n",
       "12         Gbm  FLG   RP11-109P11.1_transcriptomics_ENSG00000260183.1   \n",
       "13         Gbm  FLG           Y_RNA_transcriptomics_ENSG00000275006.1   \n",
       "14         Gbm  FLG    CTD-2329C7.2_transcriptomics_ENSG00000266985.1   \n",
       "\n",
       "   Interacting_Protein       P_Value  \n",
       "0                 True  6.119048e-05  \n",
       "0                False  1.807788e-10  \n",
       "1                False  5.642627e-10  \n",
       "2                False  7.857995e-10  \n",
       "3                False  8.538047e-08  \n",
       "4                False  9.486508e-08  \n",
       "5                False  1.290821e-07  \n",
       "6                False  1.338733e-07  \n",
       "7                False  3.315852e-07  \n",
       "8                False  3.333389e-07  \n",
       "9                False  3.333389e-07  \n",
       "10               False  3.390976e-07  \n",
       "11               False  5.084511e-07  \n",
       "12               False  5.746480e-07  \n",
       "13               False  6.022068e-07  \n",
       "14               False  8.165595e-07  "
      ]
     },
     "metadata": {},
     "output_type": "display_data"
    }
   ],
   "source": [
    "if len(all_significant_comparisons) > 0:\n",
    "    display(all_significant_comparisons)\n",
    "    \n",
    "else:\n",
    "    print('No Significant Comparisons!')"
   ]
  },
  {
   "cell_type": "markdown",
   "metadata": {},
   "source": [
    "### Write Significant Comparisons (if any) to Shared CSV file"
   ]
  },
  {
   "cell_type": "code",
   "execution_count": 10,
   "metadata": {},
   "outputs": [
    {
     "data": {
      "text/plain": [
       "\"\\nexisting_results = pd.read_csv(gene+'_Trans_Results.csv')\\n\\nupdated_results = pd.concat([existing_results, all_significant_comparisons], sort=False)\\n\\nupdated_results.to_csv(path_or_buf = gene + '_Trans_Results.csv', index=False)\""
      ]
     },
     "execution_count": 10,
     "metadata": {},
     "output_type": "execute_result"
    }
   ],
   "source": [
    "'''\n",
    "existing_results = pd.read_csv(gene+'_Trans_Results.csv')\n",
    "\n",
    "updated_results = pd.concat([existing_results, all_significant_comparisons], sort=False)\n",
    "\n",
    "updated_results.to_csv(path_or_buf = gene + '_Trans_Results.csv', index=False)'''"
   ]
  }
 ],
 "metadata": {
  "kernelspec": {
   "display_name": "Python 3",
   "language": "python",
   "name": "python3"
  },
  "language_info": {
   "codemirror_mode": {
    "name": "ipython",
    "version": 3
   },
   "file_extension": ".py",
   "mimetype": "text/x-python",
   "name": "python",
   "nbconvert_exporter": "python",
   "pygments_lexer": "ipython3",
   "version": "3.7.3"
  }
 },
 "nbformat": 4,
 "nbformat_minor": 2
}
