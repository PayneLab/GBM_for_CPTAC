{
 "cells": [
  {
   "cell_type": "markdown",
   "metadata": {},
   "source": [
    "# EGFR Mutation Trans Effect on Phosphoproteomics"
   ]
  },
  {
   "cell_type": "markdown",
   "metadata": {},
   "source": [
    "### Library Imports"
   ]
  },
  {
   "cell_type": "code",
   "execution_count": 1,
   "metadata": {},
   "outputs": [
    {
     "name": "stdout",
     "output_type": "stream",
     "text": [
      "                                    \r"
     ]
    }
   ],
   "source": [
    "import pandas as pd\n",
    "import numpy as np\n",
    "import scipy.stats\n",
    "\n",
    "import warnings\n",
    "warnings.filterwarnings(\"ignore\")\n",
    "\n",
    "import cptac\n",
    "import cptac.utils as al\n",
    "\n",
    "brain = cptac.Gbm()"
   ]
  },
  {
   "cell_type": "markdown",
   "metadata": {},
   "source": [
    "### Select Gene"
   ]
  },
  {
   "cell_type": "code",
   "execution_count": 2,
   "metadata": {},
   "outputs": [],
   "source": [
    "gene = \"EGFR\""
   ]
  },
  {
   "cell_type": "markdown",
   "metadata": {},
   "source": [
    "### Investigate Proteomics, Phosphoproteomics, Acetylproteomics, or Transcriptomics"
   ]
  },
  {
   "cell_type": "code",
   "execution_count": 3,
   "metadata": {},
   "outputs": [],
   "source": [
    "#omics = \"proteomics\"\n",
    "#omics = \"transcriptomics\"\n",
    "omics = \"phosphoproteomics\"\n",
    "#omics = \"acetylproteomics\""
   ]
  },
  {
   "cell_type": "markdown",
   "metadata": {},
   "source": [
    "### Track all significant comparisons in Dataframe"
   ]
  },
  {
   "cell_type": "code",
   "execution_count": 4,
   "metadata": {},
   "outputs": [],
   "source": [
    "all_significant_comparisons = pd.DataFrame(columns=['Cancer_Type', 'Gene', 'Comparison','Interacting_Protein','P_Value'])"
   ]
  },
  {
   "cell_type": "code",
   "execution_count": 5,
   "metadata": {},
   "outputs": [],
   "source": [
    "def add_to_all_significant_comparisons(df, cancer, interacting, all_sig_comp):\n",
    "    expanded = df\n",
    "    expanded['Gene'] = gene\n",
    "    expanded['Cancer_Type'] = cancer\n",
    "    expanded['Interacting_Protein'] = interacting\n",
    "    \n",
    "    updated_all_comparisons = pd.concat([all_sig_comp, expanded], sort=False)\n",
    "    \n",
    "    return updated_all_comparisons"
   ]
  },
  {
   "cell_type": "markdown",
   "metadata": {},
   "source": [
    "# Interacting Proteins: Phosphoproteomics"
   ]
  },
  {
   "cell_type": "markdown",
   "metadata": {},
   "source": [
    "### Generate interacting protein list"
   ]
  },
  {
   "cell_type": "markdown",
   "metadata": {},
   "source": [
    "Make a call to cptac.utils to get the interacting proteins method, which interacts with the uniprot and string databases to generate a list of known interacting partners with the given gene."
   ]
  },
  {
   "cell_type": "code",
   "execution_count": 6,
   "metadata": {},
   "outputs": [
    {
     "name": "stdout",
     "output_type": "stream",
     "text": [
      "Interacting Proteins:\n",
      "NKTR\n",
      "PNN\n",
      "TP53\n",
      "STAG2\n",
      "H3F3B\n",
      "SETDB1\n",
      "NIPBL\n",
      "PHIP\n",
      "BPTF\n",
      "RSF1\n",
      "PRKDC\n",
      "MUS81\n",
      "ARID4A\n",
      "RAD52\n",
      "BDP1\n",
      "XRCC6\n",
      "SMC5\n",
      "H3F3A\n",
      "TPR\n",
      "SCAF11\n",
      "ATRX\n",
      "DAXX\n",
      "RAD51\n",
      "MECP2\n",
      "XRCC3\n",
      "HIST2H3PS2\n",
      "EIF4A2\n",
      "EZH2\n",
      "Mecp2\n",
      "CBX5\n"
     ]
    }
   ],
   "source": [
    "# Use get interacting proteins method to generate list of interacting proteins\n",
    "interacting_proteins = al.get_interacting_proteins(gene)\n",
    "\n",
    "print(\"Interacting Proteins:\")\n",
    "for interacting_protein in interacting_proteins:\n",
    "    print(interacting_protein)"
   ]
  },
  {
   "cell_type": "markdown",
   "metadata": {},
   "source": [
    "### Test for significant comparisons in any of interacting proteins"
   ]
  },
  {
   "cell_type": "code",
   "execution_count": 7,
   "metadata": {},
   "outputs": [
    {
     "name": "stderr",
     "output_type": "stream",
     "text": [
      "Warning: The following columns were not found in the phosphoproteomics dataframe, so they were inserted into joined table, but filled with NaN: EIF4A2, H3F3B, HIST2H3PS2, Mecp2, RAD51, XRCC3 (C:\\Users\\brittany henderson\\Anaconda3\\envs\\Research\\lib\\site-packages\\ipykernel_launcher.py, line 2)\n",
      "Warning: In joining the somatic_mutation table, no mutations were found for the following samples, so they were filled with Wildtype_Tumor or Wildtype_Normal: 101 samples for the ATRX gene (C:\\Users\\brittany henderson\\Anaconda3\\envs\\Research\\lib\\site-packages\\ipykernel_launcher.py, line 2)\n"
     ]
    },
    {
     "name": "stdout",
     "output_type": "stream",
     "text": [
      "Doing t-test comparisons\n",
      "\n",
      "                                           Comparison       P_Value\n",
      "0   ATRX_phosphoproteomics_LTVS*DGES*GEEK_NP_000480.3  5.515398e-10\n",
      "1   ATRX_phosphoproteomics_ATSSS*NPSS*PAPDWYK_NP_0...  8.003286e-08\n",
      "2   ATRX_phosphoproteomics_RPTETNPVTS*NS*DEECNETVK...  1.297310e-07\n",
      "3     ATRX_phosphoproteomics_KKDELS*DYAEK_NP_000480.3  5.809567e-07\n",
      "4   ATRX_phosphoproteomics_YVES*DDEKPLDDETVNEDASNE...  8.009581e-07\n",
      "5   ATRX_phosphoproteomics_ATSSSNPSS*PAPDWYK_NP_00...  2.049500e-06\n",
      "6    ATRX_phosphoproteomics_LTVS*DGESGEEK_NP_000480.3  2.208274e-06\n",
      "7      ATRX_phosphoproteomics_DFDS*S*EDEK_NP_000480.3  2.250502e-06\n",
      "8   ATRX_phosphoproteomics_YVES*DDEKPLDDETVNEDASNE...  2.512040e-06\n",
      "9     ATRX_phosphoproteomics_VYEHTSRFS*PK_NP_000480.3  1.074143e-05\n",
      "10  ATRX_phosphoproteomics_LTVS*DGES*GEEKK_NP_0004...  1.247822e-05\n",
      "11  NIPBL_phosphoproteomics_DEESSEGT*HHAK_NP_597677.2  3.293932e-05\n",
      "\n",
      "\n",
      "\n"
     ]
    }
   ],
   "source": [
    "# Create dataframe in order to do comparisons with wrap_ttest\n",
    "protdf = brain.join_omics_to_mutations(mutations_genes=[gene], omics_df_name=omics, omics_genes=interacting_proteins)\n",
    "protdf = brain.reduce_multiindex(protdf, levels_to_drop=1, flatten = True)\n",
    "protdf = protdf.loc[protdf['Sample_Status'] == 'Tumor']\n",
    "\n",
    "# Create the binary valued column needed to do the comparison\n",
    "for ind, row in protdf.iterrows():\n",
    "    if row[gene+\"_Mutation_Status\"] != 'Wildtype_Tumor':\n",
    "        protdf.at[ind,'Label'] = 'Mutated'\n",
    "    else:\n",
    "        protdf.at[ind,'Label'] = 'Wildtype'\n",
    "\n",
    "# Format the dataframe correctly'''\n",
    "protdf = protdf.drop(gene+\"_Mutation\",axis=1)\n",
    "protdf = protdf.drop(gene+\"_Location\",axis=1)\n",
    "protdf = protdf.drop(gene+\"_Mutation_Status\", axis=1)\n",
    "protdf = protdf.drop(\"Sample_Status\",axis=1)\n",
    "\n",
    "\n",
    "# Make list of columns to be compared using t-tests\n",
    "col_list = list(protdf.columns)\n",
    "col_list.remove('Label')\n",
    "\n",
    "print(\"Doing t-test comparisons\\n\")\n",
    "\n",
    "# Call wrap_ttest, pass in formatted dataframe\n",
    "wrap_results = al.wrap_ttest(protdf, 'Label', col_list)\n",
    "\n",
    "# Print results, if anything significant was found\n",
    "if wrap_results is not None:\n",
    "        print(wrap_results)\n",
    "        print(\"\\n\\n\")\n",
    "        \n",
    "        all_significant_comparisons = add_to_all_significant_comparisons(wrap_results, \"Gbm\", True, all_significant_comparisons)\n"
   ]
  },
  {
   "cell_type": "markdown",
   "metadata": {},
   "source": [
    "## All Proteins: Phosphoproteomics"
   ]
  },
  {
   "cell_type": "code",
   "execution_count": 8,
   "metadata": {},
   "outputs": [
    {
     "name": "stdout",
     "output_type": "stream",
     "text": [
      "\n",
      "Gene:  ATRX\n"
     ]
    },
    {
     "name": "stderr",
     "output_type": "stream",
     "text": [
      "Warning: In joining the somatic_mutation table, no mutations were found for the following samples, so they were filled with Wildtype_Tumor or Wildtype_Normal: 101 samples for the ATRX gene (C:\\Users\\brittany henderson\\Anaconda3\\envs\\Research\\lib\\site-packages\\ipykernel_launcher.py, line 10)\n"
     ]
    },
    {
     "name": "stdout",
     "output_type": "stream",
     "text": [
      "Doing t-test comparisons\n",
      "\n",
      "                                          Comparison       P_Value\n",
      "0  ATRX_phosphoproteomics_S1348S1352_LTVS*DGES*GE...  5.515398e-10\n",
      "1  ATRX_phosphoproteomics_S1992S1996_ATSSS*NPSS*P...  8.003286e-08\n",
      "2  MAP2_phosphoproteomics_S1564_RGVSGDRDENSFS*LNS...  9.091350e-08\n",
      "3  ATRX_phosphoproteomics_S675S677_RPTETNPVTS*NS*...  1.297310e-07\n",
      "4  TERF2_phosphoproteomics_S431_LVLEEDSQSTEPSAGLN...  1.707428e-07\n",
      "5  TCEAL3_phosphoproteomics_S65_REDEGEPGDEGQLEDEG...  3.212614e-07\n",
      "\n",
      "\n",
      "\n"
     ]
    }
   ],
   "source": [
    "try:\n",
    "    print(\"\\nGene: \", gene)\n",
    "\n",
    "    # Use all proteins\n",
    "    proteomics = brain.get_proteomics()\n",
    "    all_proteins = proteomics.columns\n",
    "    #all_proteins = all_proteins[:100]\n",
    "\n",
    "    # Create dataframe in order to do comparisons with wrap_ttest\n",
    "    protdf = brain.join_omics_to_mutations(mutations_genes=[gene], omics_df_name=omics)\n",
    "    protdf = brain.reduce_multiindex(protdf, flatten = True)\n",
    "    protdf = protdf.loc[protdf['Sample_Status'] == 'Tumor']\n",
    "    \n",
    "    # Create the binary valued column needed to do the comparison\n",
    "    for ind, row in protdf.iterrows():\n",
    "        if row[gene+\"_Mutation_Status\"] != 'Wildtype_Tumor':\n",
    "            protdf.at[ind,'Label'] = 'Mutated'\n",
    "        else:\n",
    "            protdf.at[ind,'Label'] = 'Wildtype'\n",
    "\n",
    "    # Format the datafram correctly'''\n",
    "    protdf = protdf.drop(gene+\"_Mutation\",axis=1)\n",
    "    protdf = protdf.drop(gene+\"_Location\",axis=1)\n",
    "    protdf = protdf.drop(gene+\"_Mutation_Status\", axis=1)\n",
    "    protdf = protdf.drop(\"Sample_Status\",axis=1)\n",
    "\n",
    "    # Make list of columns to be compared using t-tests\n",
    "    col_list = list(protdf.columns)\n",
    "    col_list.remove('Label')\n",
    "\n",
    "    print(\"Doing t-test comparisons\\n\")\n",
    "    \n",
    "    # Call wrap_ttest, pass in formatted dataframe\n",
    "    wrap_results = al.wrap_ttest(protdf, 'Label', col_list)\n",
    "\n",
    "    # Print results, if anything significant was found\n",
    "    if wrap_results is not None:\n",
    "            print(wrap_results)\n",
    "            print(\"\\n\\n\")\n",
    "            \n",
    "            all_significant_comparisons = add_to_all_significant_comparisons(wrap_results, \"Gbm\", False, all_significant_comparisons)\n",
    "\n",
    "\n",
    "except Exception as e:\n",
    "    print(\"Error in Comparison\")\n",
    "    print(e)"
   ]
  },
  {
   "cell_type": "markdown",
   "metadata": {},
   "source": [
    "### Print all significant comparisons"
   ]
  },
  {
   "cell_type": "code",
   "execution_count": 9,
   "metadata": {},
   "outputs": [
    {
     "data": {
      "text/html": [
       "<div>\n",
       "<style scoped>\n",
       "    .dataframe tbody tr th:only-of-type {\n",
       "        vertical-align: middle;\n",
       "    }\n",
       "\n",
       "    .dataframe tbody tr th {\n",
       "        vertical-align: top;\n",
       "    }\n",
       "\n",
       "    .dataframe thead th {\n",
       "        text-align: right;\n",
       "    }\n",
       "</style>\n",
       "<table border=\"1\" class=\"dataframe\">\n",
       "  <thead>\n",
       "    <tr style=\"text-align: right;\">\n",
       "      <th></th>\n",
       "      <th>Cancer_Type</th>\n",
       "      <th>Gene</th>\n",
       "      <th>Comparison</th>\n",
       "      <th>Interacting_Protein</th>\n",
       "      <th>P_Value</th>\n",
       "    </tr>\n",
       "  </thead>\n",
       "  <tbody>\n",
       "    <tr>\n",
       "      <td>0</td>\n",
       "      <td>Gbm</td>\n",
       "      <td>ATRX</td>\n",
       "      <td>ATRX_phosphoproteomics_LTVS*DGES*GEEK_NP_000480.3</td>\n",
       "      <td>True</td>\n",
       "      <td>5.515398e-10</td>\n",
       "    </tr>\n",
       "    <tr>\n",
       "      <td>1</td>\n",
       "      <td>Gbm</td>\n",
       "      <td>ATRX</td>\n",
       "      <td>ATRX_phosphoproteomics_ATSSS*NPSS*PAPDWYK_NP_0...</td>\n",
       "      <td>True</td>\n",
       "      <td>8.003286e-08</td>\n",
       "    </tr>\n",
       "    <tr>\n",
       "      <td>2</td>\n",
       "      <td>Gbm</td>\n",
       "      <td>ATRX</td>\n",
       "      <td>ATRX_phosphoproteomics_RPTETNPVTS*NS*DEECNETVK...</td>\n",
       "      <td>True</td>\n",
       "      <td>1.297310e-07</td>\n",
       "    </tr>\n",
       "    <tr>\n",
       "      <td>3</td>\n",
       "      <td>Gbm</td>\n",
       "      <td>ATRX</td>\n",
       "      <td>ATRX_phosphoproteomics_KKDELS*DYAEK_NP_000480.3</td>\n",
       "      <td>True</td>\n",
       "      <td>5.809567e-07</td>\n",
       "    </tr>\n",
       "    <tr>\n",
       "      <td>4</td>\n",
       "      <td>Gbm</td>\n",
       "      <td>ATRX</td>\n",
       "      <td>ATRX_phosphoproteomics_YVES*DDEKPLDDETVNEDASNE...</td>\n",
       "      <td>True</td>\n",
       "      <td>8.009581e-07</td>\n",
       "    </tr>\n",
       "    <tr>\n",
       "      <td>5</td>\n",
       "      <td>Gbm</td>\n",
       "      <td>ATRX</td>\n",
       "      <td>ATRX_phosphoproteomics_ATSSSNPSS*PAPDWYK_NP_00...</td>\n",
       "      <td>True</td>\n",
       "      <td>2.049500e-06</td>\n",
       "    </tr>\n",
       "    <tr>\n",
       "      <td>6</td>\n",
       "      <td>Gbm</td>\n",
       "      <td>ATRX</td>\n",
       "      <td>ATRX_phosphoproteomics_LTVS*DGESGEEK_NP_000480.3</td>\n",
       "      <td>True</td>\n",
       "      <td>2.208274e-06</td>\n",
       "    </tr>\n",
       "    <tr>\n",
       "      <td>7</td>\n",
       "      <td>Gbm</td>\n",
       "      <td>ATRX</td>\n",
       "      <td>ATRX_phosphoproteomics_DFDS*S*EDEK_NP_000480.3</td>\n",
       "      <td>True</td>\n",
       "      <td>2.250502e-06</td>\n",
       "    </tr>\n",
       "    <tr>\n",
       "      <td>8</td>\n",
       "      <td>Gbm</td>\n",
       "      <td>ATRX</td>\n",
       "      <td>ATRX_phosphoproteomics_YVES*DDEKPLDDETVNEDASNE...</td>\n",
       "      <td>True</td>\n",
       "      <td>2.512040e-06</td>\n",
       "    </tr>\n",
       "    <tr>\n",
       "      <td>9</td>\n",
       "      <td>Gbm</td>\n",
       "      <td>ATRX</td>\n",
       "      <td>ATRX_phosphoproteomics_VYEHTSRFS*PK_NP_000480.3</td>\n",
       "      <td>True</td>\n",
       "      <td>1.074143e-05</td>\n",
       "    </tr>\n",
       "    <tr>\n",
       "      <td>10</td>\n",
       "      <td>Gbm</td>\n",
       "      <td>ATRX</td>\n",
       "      <td>ATRX_phosphoproteomics_LTVS*DGES*GEEKK_NP_0004...</td>\n",
       "      <td>True</td>\n",
       "      <td>1.247822e-05</td>\n",
       "    </tr>\n",
       "    <tr>\n",
       "      <td>11</td>\n",
       "      <td>Gbm</td>\n",
       "      <td>ATRX</td>\n",
       "      <td>NIPBL_phosphoproteomics_DEESSEGT*HHAK_NP_597677.2</td>\n",
       "      <td>True</td>\n",
       "      <td>3.293932e-05</td>\n",
       "    </tr>\n",
       "    <tr>\n",
       "      <td>0</td>\n",
       "      <td>Gbm</td>\n",
       "      <td>ATRX</td>\n",
       "      <td>ATRX_phosphoproteomics_S1348S1352_LTVS*DGES*GE...</td>\n",
       "      <td>False</td>\n",
       "      <td>5.515398e-10</td>\n",
       "    </tr>\n",
       "    <tr>\n",
       "      <td>1</td>\n",
       "      <td>Gbm</td>\n",
       "      <td>ATRX</td>\n",
       "      <td>ATRX_phosphoproteomics_S1992S1996_ATSSS*NPSS*P...</td>\n",
       "      <td>False</td>\n",
       "      <td>8.003286e-08</td>\n",
       "    </tr>\n",
       "    <tr>\n",
       "      <td>2</td>\n",
       "      <td>Gbm</td>\n",
       "      <td>ATRX</td>\n",
       "      <td>MAP2_phosphoproteomics_S1564_RGVSGDRDENSFS*LNS...</td>\n",
       "      <td>False</td>\n",
       "      <td>9.091350e-08</td>\n",
       "    </tr>\n",
       "    <tr>\n",
       "      <td>3</td>\n",
       "      <td>Gbm</td>\n",
       "      <td>ATRX</td>\n",
       "      <td>ATRX_phosphoproteomics_S675S677_RPTETNPVTS*NS*...</td>\n",
       "      <td>False</td>\n",
       "      <td>1.297310e-07</td>\n",
       "    </tr>\n",
       "    <tr>\n",
       "      <td>4</td>\n",
       "      <td>Gbm</td>\n",
       "      <td>ATRX</td>\n",
       "      <td>TERF2_phosphoproteomics_S431_LVLEEDSQSTEPSAGLN...</td>\n",
       "      <td>False</td>\n",
       "      <td>1.707428e-07</td>\n",
       "    </tr>\n",
       "    <tr>\n",
       "      <td>5</td>\n",
       "      <td>Gbm</td>\n",
       "      <td>ATRX</td>\n",
       "      <td>TCEAL3_phosphoproteomics_S65_REDEGEPGDEGQLEDEG...</td>\n",
       "      <td>False</td>\n",
       "      <td>3.212614e-07</td>\n",
       "    </tr>\n",
       "  </tbody>\n",
       "</table>\n",
       "</div>"
      ],
      "text/plain": [
       "   Cancer_Type  Gene                                         Comparison  \\\n",
       "0          Gbm  ATRX  ATRX_phosphoproteomics_LTVS*DGES*GEEK_NP_000480.3   \n",
       "1          Gbm  ATRX  ATRX_phosphoproteomics_ATSSS*NPSS*PAPDWYK_NP_0...   \n",
       "2          Gbm  ATRX  ATRX_phosphoproteomics_RPTETNPVTS*NS*DEECNETVK...   \n",
       "3          Gbm  ATRX    ATRX_phosphoproteomics_KKDELS*DYAEK_NP_000480.3   \n",
       "4          Gbm  ATRX  ATRX_phosphoproteomics_YVES*DDEKPLDDETVNEDASNE...   \n",
       "5          Gbm  ATRX  ATRX_phosphoproteomics_ATSSSNPSS*PAPDWYK_NP_00...   \n",
       "6          Gbm  ATRX   ATRX_phosphoproteomics_LTVS*DGESGEEK_NP_000480.3   \n",
       "7          Gbm  ATRX     ATRX_phosphoproteomics_DFDS*S*EDEK_NP_000480.3   \n",
       "8          Gbm  ATRX  ATRX_phosphoproteomics_YVES*DDEKPLDDETVNEDASNE...   \n",
       "9          Gbm  ATRX    ATRX_phosphoproteomics_VYEHTSRFS*PK_NP_000480.3   \n",
       "10         Gbm  ATRX  ATRX_phosphoproteomics_LTVS*DGES*GEEKK_NP_0004...   \n",
       "11         Gbm  ATRX  NIPBL_phosphoproteomics_DEESSEGT*HHAK_NP_597677.2   \n",
       "0          Gbm  ATRX  ATRX_phosphoproteomics_S1348S1352_LTVS*DGES*GE...   \n",
       "1          Gbm  ATRX  ATRX_phosphoproteomics_S1992S1996_ATSSS*NPSS*P...   \n",
       "2          Gbm  ATRX  MAP2_phosphoproteomics_S1564_RGVSGDRDENSFS*LNS...   \n",
       "3          Gbm  ATRX  ATRX_phosphoproteomics_S675S677_RPTETNPVTS*NS*...   \n",
       "4          Gbm  ATRX  TERF2_phosphoproteomics_S431_LVLEEDSQSTEPSAGLN...   \n",
       "5          Gbm  ATRX  TCEAL3_phosphoproteomics_S65_REDEGEPGDEGQLEDEG...   \n",
       "\n",
       "   Interacting_Protein       P_Value  \n",
       "0                 True  5.515398e-10  \n",
       "1                 True  8.003286e-08  \n",
       "2                 True  1.297310e-07  \n",
       "3                 True  5.809567e-07  \n",
       "4                 True  8.009581e-07  \n",
       "5                 True  2.049500e-06  \n",
       "6                 True  2.208274e-06  \n",
       "7                 True  2.250502e-06  \n",
       "8                 True  2.512040e-06  \n",
       "9                 True  1.074143e-05  \n",
       "10                True  1.247822e-05  \n",
       "11                True  3.293932e-05  \n",
       "0                False  5.515398e-10  \n",
       "1                False  8.003286e-08  \n",
       "2                False  9.091350e-08  \n",
       "3                False  1.297310e-07  \n",
       "4                False  1.707428e-07  \n",
       "5                False  3.212614e-07  "
      ]
     },
     "metadata": {},
     "output_type": "display_data"
    }
   ],
   "source": [
    "if len(all_significant_comparisons) > 0:\n",
    "    display(all_significant_comparisons)\n",
    "    \n",
    "else:\n",
    "    print('No Significant Comparisons!')"
   ]
  },
  {
   "cell_type": "markdown",
   "metadata": {},
   "source": [
    "### Write significant comparisons (if any) to shared CSV file"
   ]
  },
  {
   "cell_type": "code",
   "execution_count": 10,
   "metadata": {},
   "outputs": [
    {
     "data": {
      "text/plain": [
       "\"existing_results = pd.read_csv(gene+'_Trans_Results.csv')\\n\\nupdated_results = pd.concat([existing_results, all_significant_comparisons], sort=False)\\n\\nupdated_results.to_csv(path_or_buf = gene + '_Trans_Results.csv', index=False)\""
      ]
     },
     "execution_count": 10,
     "metadata": {},
     "output_type": "execute_result"
    }
   ],
   "source": [
    "'''existing_results = pd.read_csv(gene+'_Trans_Results.csv')\n",
    "\n",
    "updated_results = pd.concat([existing_results, all_significant_comparisons], sort=False)\n",
    "\n",
    "updated_results.to_csv(path_or_buf = gene + '_Trans_Results.csv', index=False)'''"
   ]
  }
 ],
 "metadata": {
  "kernelspec": {
   "display_name": "Python 3",
   "language": "python",
   "name": "python3"
  },
  "language_info": {
   "codemirror_mode": {
    "name": "ipython",
    "version": 3
   },
   "file_extension": ".py",
   "mimetype": "text/x-python",
   "name": "python",
   "nbconvert_exporter": "python",
   "pygments_lexer": "ipython3",
   "version": "3.7.3"
  }
 },
 "nbformat": 4,
 "nbformat_minor": 2
}
