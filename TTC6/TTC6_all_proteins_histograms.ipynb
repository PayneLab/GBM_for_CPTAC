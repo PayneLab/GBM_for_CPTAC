{
 "cells": [
  {
   "cell_type": "markdown",
   "metadata": {},
   "source": [
    "# TTC6 trans effect histograms for all proteins\n"
   ]
  },
  {
   "cell_type": "markdown",
   "metadata": {},
   "source": [
    "### Library Imports"
   ]
  },
  {
   "cell_type": "code",
   "execution_count": 1,
   "metadata": {},
   "outputs": [],
   "source": [
    "import pandas as pd\n",
    "import numpy as np\n",
    "import scipy.stats\n",
    "import seaborn as sns\n",
    "import matplotlib.pyplot as plt\n",
    "import gseapy as gp\n",
    "from gseapy.plot import barplot, dotplot\n",
    "\n",
    "import warnings\n",
    "warnings.filterwarnings(\"ignore\")\n",
    "\n",
    "import cptac\n",
    "import cptac.utils as al"
   ]
  },
  {
   "cell_type": "code",
   "execution_count": 2,
   "metadata": {},
   "outputs": [
    {
     "name": "stdout",
     "output_type": "stream",
     "text": [
      "                                    \r"
     ]
    }
   ],
   "source": [
    "brain = cptac.Gbm()"
   ]
  },
  {
   "cell_type": "markdown",
   "metadata": {},
   "source": [
    "### Specify Gene"
   ]
  },
  {
   "cell_type": "code",
   "execution_count": 3,
   "metadata": {},
   "outputs": [],
   "source": [
    "gene = \"TTC6\""
   ]
  },
  {
   "cell_type": "markdown",
   "metadata": {},
   "source": [
    "# Transcriptomics: All Proteins"
   ]
  },
  {
   "cell_type": "code",
   "execution_count": 4,
   "metadata": {},
   "outputs": [
    {
     "name": "stdout",
     "output_type": "stream",
     "text": [
      "\n",
      "Gene:  TTC6\n"
     ]
    },
    {
     "name": "stderr",
     "output_type": "stream",
     "text": [
      "Warning: In joining the somatic_mutation table, no mutations were found for the following samples, so they were filled with Wildtype_Tumor or Wildtype_Normal: 102 samples for the TTC6 gene (C:\\Users\\brittany henderson\\Anaconda3\\envs\\Research\\lib\\site-packages\\ipykernel_launcher.py, line 9)\n"
     ]
    },
    {
     "name": "stdout",
     "output_type": "stream",
     "text": [
      "Doing t-test comparisons\n",
      "\n",
      "24 significant comparisons!\n",
      "Number of comparisons: 60482\n",
      "Bonferroni cutoff =  8.266922390132602e-07\n",
      "Logged Bonferroni cutoff =  -6.0826561395096865\n"
     ]
    }
   ],
   "source": [
    "transcrpt = \"transcriptomics\"\n",
    "\n",
    "try:\n",
    "    print(\"\\nGene: \", gene)\n",
    "\n",
    "    #Use all proteins\n",
    "\n",
    "    #Create dataframe in order to do comparisons with wrap_ttest\n",
    "    transcrpt_df = brain.join_omics_to_mutations(mutations_genes=[gene], omics_df_name=transcrpt)\n",
    "    transcrpt_df = brain.reduce_multiindex(transcrpt_df, flatten=True)\n",
    "    transcrpt_df = transcrpt_df[transcrpt_df.Sample_Status == 'Tumor'] # drop Normal samples\n",
    "    #Remove Cis interactions \n",
    "    transcrpt_df = transcrpt_df.loc[:,~transcrpt_df.columns.str.contains(gene+'_transcriptomics')] # change for each gene \n",
    "    transcrpt_df = transcrpt_df.dropna(axis=1, how='all') # drop columns with all NaN data\n",
    "    \n",
    "    #Create the binary valued column needed to do the comparison\n",
    "    for ind, row in transcrpt_df.iterrows():\n",
    "        if row[gene+\"_Mutation_Status\"] != 'Wildtype_Tumor':\n",
    "            transcrpt_df.at[ind,'Label'] = 'Mutated'\n",
    "        else:\n",
    "            transcrpt_df.at[ind,'Label'] = 'Wildtype'\n",
    "\n",
    "    #Format the datafram correctly\n",
    "    transcrpt_df = transcrpt_df.drop(gene+\"_Mutation\",axis=1)\n",
    "    transcrpt_df = transcrpt_df.drop(gene+\"_Location\",axis=1)\n",
    "    transcrpt_df = transcrpt_df.drop(gene+\"_Mutation_Status\", axis=1)\n",
    "    transcrpt_df = transcrpt_df.drop(\"Sample_Status\",axis=1)\n",
    "\n",
    "    #Make list of columns to be compared using t-tests\n",
    "    t_col_list = list(transcrpt_df.columns)\n",
    "    t_col_list.remove('Label')\n",
    "\n",
    "    print(\"Doing t-test comparisons\\n\")\n",
    "    \n",
    "    #Call wrap_ttest, pass in formatted dataframe\n",
    "    transcrpt_all_comparisons = al.wrap_ttest(transcrpt_df, 'Label', t_col_list, return_all=True)\n",
    "\n",
    "    t_num_comparisons = len(t_col_list)\n",
    "    print(\"Number of comparisons:\", t_num_comparisons)\n",
    "    t_bonferroni_cutoff = .05 / t_num_comparisons\n",
    "    print(\"Bonferroni cutoff = \", t_bonferroni_cutoff)\n",
    "    print(\"Logged Bonferroni cutoff = \", np.log10(t_bonferroni_cutoff))\n",
    "\n",
    "except Exception as e:\n",
    "    print(\"Error in Comparison\")\n",
    "    print(e)"
   ]
  },
  {
   "cell_type": "markdown",
   "metadata": {},
   "source": [
    "Transcriptomics: Print Significant Comparisons"
   ]
  },
  {
   "cell_type": "code",
   "execution_count": 5,
   "metadata": {},
   "outputs": [
    {
     "name": "stdout",
     "output_type": "stream",
     "text": [
      "Number of significant comparisons for Transcriptomics:  24\n"
     ]
    },
    {
     "data": {
      "text/html": [
       "<div>\n",
       "<style scoped>\n",
       "    .dataframe tbody tr th:only-of-type {\n",
       "        vertical-align: middle;\n",
       "    }\n",
       "\n",
       "    .dataframe tbody tr th {\n",
       "        vertical-align: top;\n",
       "    }\n",
       "\n",
       "    .dataframe thead th {\n",
       "        text-align: right;\n",
       "    }\n",
       "</style>\n",
       "<table border=\"1\" class=\"dataframe\">\n",
       "  <thead>\n",
       "    <tr style=\"text-align: right;\">\n",
       "      <th></th>\n",
       "      <th>Comparison</th>\n",
       "      <th>P_Value</th>\n",
       "    </tr>\n",
       "  </thead>\n",
       "  <tbody>\n",
       "    <tr>\n",
       "      <td>0</td>\n",
       "      <td>RP1-92C8.3_transcriptomics_ENSG00000226181.1</td>\n",
       "      <td>1.152580e-09</td>\n",
       "    </tr>\n",
       "    <tr>\n",
       "      <td>1</td>\n",
       "      <td>AC073869.7_transcriptomics_ENSG00000237910.1</td>\n",
       "      <td>1.452186e-09</td>\n",
       "    </tr>\n",
       "    <tr>\n",
       "      <td>2</td>\n",
       "      <td>LINC00692_transcriptomics_ENSG00000230891.5</td>\n",
       "      <td>1.452186e-09</td>\n",
       "    </tr>\n",
       "    <tr>\n",
       "      <td>3</td>\n",
       "      <td>Metazoa_SRP_transcriptomics_ENSG00000277591.1</td>\n",
       "      <td>1.903432e-09</td>\n",
       "    </tr>\n",
       "    <tr>\n",
       "      <td>4</td>\n",
       "      <td>RNU6-1059P_transcriptomics_ENSG00000200622.1</td>\n",
       "      <td>2.083968e-09</td>\n",
       "    </tr>\n",
       "    <tr>\n",
       "      <td>5</td>\n",
       "      <td>RPL23AP22_transcriptomics_ENSG00000237213.2</td>\n",
       "      <td>3.125024e-09</td>\n",
       "    </tr>\n",
       "    <tr>\n",
       "      <td>6</td>\n",
       "      <td>AC007251.2_transcriptomics_ENSG00000277527.1</td>\n",
       "      <td>8.827874e-09</td>\n",
       "    </tr>\n",
       "    <tr>\n",
       "      <td>7</td>\n",
       "      <td>RP11-363E6.1_transcriptomics_ENSG00000254014.1</td>\n",
       "      <td>2.341144e-08</td>\n",
       "    </tr>\n",
       "    <tr>\n",
       "      <td>8</td>\n",
       "      <td>LINC00383_transcriptomics_ENSG00000237534.1</td>\n",
       "      <td>2.917178e-08</td>\n",
       "    </tr>\n",
       "    <tr>\n",
       "      <td>9</td>\n",
       "      <td>CTD-2231E14.4_transcriptomics_ENSG00000267517.1</td>\n",
       "      <td>3.082526e-08</td>\n",
       "    </tr>\n",
       "    <tr>\n",
       "      <td>10</td>\n",
       "      <td>RN7SL42P_transcriptomics_ENSG00000263999.2</td>\n",
       "      <td>4.787624e-08</td>\n",
       "    </tr>\n",
       "    <tr>\n",
       "      <td>11</td>\n",
       "      <td>RP11-676B18.1_transcriptomics_ENSG00000279511.1</td>\n",
       "      <td>6.043465e-08</td>\n",
       "    </tr>\n",
       "    <tr>\n",
       "      <td>12</td>\n",
       "      <td>MAGEC2_transcriptomics_ENSG00000046774.9</td>\n",
       "      <td>8.734474e-08</td>\n",
       "    </tr>\n",
       "    <tr>\n",
       "      <td>13</td>\n",
       "      <td>KRT18P39_transcriptomics_ENSG00000224791.1</td>\n",
       "      <td>9.649564e-08</td>\n",
       "    </tr>\n",
       "    <tr>\n",
       "      <td>14</td>\n",
       "      <td>MAGEA6_transcriptomics_ENSG00000197172.9</td>\n",
       "      <td>1.911828e-07</td>\n",
       "    </tr>\n",
       "    <tr>\n",
       "      <td>15</td>\n",
       "      <td>RNA5-8S5_transcriptomics_ENSG00000278189.1</td>\n",
       "      <td>2.453578e-07</td>\n",
       "    </tr>\n",
       "    <tr>\n",
       "      <td>16</td>\n",
       "      <td>OR5H7P_transcriptomics_ENSG00000187900.4</td>\n",
       "      <td>3.254533e-07</td>\n",
       "    </tr>\n",
       "    <tr>\n",
       "      <td>17</td>\n",
       "      <td>Y_RNA_transcriptomics_ENSG00000199245.1</td>\n",
       "      <td>3.915721e-07</td>\n",
       "    </tr>\n",
       "    <tr>\n",
       "      <td>18</td>\n",
       "      <td>HIGD1AP17_transcriptomics_ENSG00000258886.2</td>\n",
       "      <td>4.106846e-07</td>\n",
       "    </tr>\n",
       "    <tr>\n",
       "      <td>19</td>\n",
       "      <td>RPL7AP56_transcriptomics_ENSG00000242834.1</td>\n",
       "      <td>5.067418e-07</td>\n",
       "    </tr>\n",
       "    <tr>\n",
       "      <td>20</td>\n",
       "      <td>IGF2BP2-AS1_transcriptomics_ENSG00000163915.6</td>\n",
       "      <td>5.566488e-07</td>\n",
       "    </tr>\n",
       "    <tr>\n",
       "      <td>21</td>\n",
       "      <td>RP11-470B22.1_transcriptomics_ENSG00000270390.1</td>\n",
       "      <td>6.163251e-07</td>\n",
       "    </tr>\n",
       "    <tr>\n",
       "      <td>22</td>\n",
       "      <td>RP11-1223D19.1_transcriptomics_ENSG00000261760.5</td>\n",
       "      <td>6.415329e-07</td>\n",
       "    </tr>\n",
       "    <tr>\n",
       "      <td>23</td>\n",
       "      <td>SNORA18_transcriptomics_ENSG00000200288.1</td>\n",
       "      <td>7.553080e-07</td>\n",
       "    </tr>\n",
       "  </tbody>\n",
       "</table>\n",
       "</div>"
      ],
      "text/plain": [
       "                                          Comparison       P_Value\n",
       "0       RP1-92C8.3_transcriptomics_ENSG00000226181.1  1.152580e-09\n",
       "1       AC073869.7_transcriptomics_ENSG00000237910.1  1.452186e-09\n",
       "2        LINC00692_transcriptomics_ENSG00000230891.5  1.452186e-09\n",
       "3      Metazoa_SRP_transcriptomics_ENSG00000277591.1  1.903432e-09\n",
       "4       RNU6-1059P_transcriptomics_ENSG00000200622.1  2.083968e-09\n",
       "5        RPL23AP22_transcriptomics_ENSG00000237213.2  3.125024e-09\n",
       "6       AC007251.2_transcriptomics_ENSG00000277527.1  8.827874e-09\n",
       "7     RP11-363E6.1_transcriptomics_ENSG00000254014.1  2.341144e-08\n",
       "8        LINC00383_transcriptomics_ENSG00000237534.1  2.917178e-08\n",
       "9    CTD-2231E14.4_transcriptomics_ENSG00000267517.1  3.082526e-08\n",
       "10        RN7SL42P_transcriptomics_ENSG00000263999.2  4.787624e-08\n",
       "11   RP11-676B18.1_transcriptomics_ENSG00000279511.1  6.043465e-08\n",
       "12          MAGEC2_transcriptomics_ENSG00000046774.9  8.734474e-08\n",
       "13        KRT18P39_transcriptomics_ENSG00000224791.1  9.649564e-08\n",
       "14          MAGEA6_transcriptomics_ENSG00000197172.9  1.911828e-07\n",
       "15        RNA5-8S5_transcriptomics_ENSG00000278189.1  2.453578e-07\n",
       "16          OR5H7P_transcriptomics_ENSG00000187900.4  3.254533e-07\n",
       "17           Y_RNA_transcriptomics_ENSG00000199245.1  3.915721e-07\n",
       "18       HIGD1AP17_transcriptomics_ENSG00000258886.2  4.106846e-07\n",
       "19        RPL7AP56_transcriptomics_ENSG00000242834.1  5.067418e-07\n",
       "20     IGF2BP2-AS1_transcriptomics_ENSG00000163915.6  5.566488e-07\n",
       "21   RP11-470B22.1_transcriptomics_ENSG00000270390.1  6.163251e-07\n",
       "22  RP11-1223D19.1_transcriptomics_ENSG00000261760.5  6.415329e-07\n",
       "23         SNORA18_transcriptomics_ENSG00000200288.1  7.553080e-07"
      ]
     },
     "execution_count": 5,
     "metadata": {},
     "output_type": "execute_result"
    }
   ],
   "source": [
    "transcrpt_all_comparisons = transcrpt_all_comparisons.dropna(axis=0)\n",
    "transcrpt_sig_comparisons = transcrpt_all_comparisons.loc[transcrpt_all_comparisons['P_Value'] <= t_bonferroni_cutoff]\n",
    "print(\"Number of significant comparisons for Transcriptomics: \", len(transcrpt_sig_comparisons))\n",
    "transcrpt_sig_comparisons"
   ]
  },
  {
   "cell_type": "markdown",
   "metadata": {},
   "source": [
    "Transcriptomics: Histogram for all proteins"
   ]
  },
  {
   "cell_type": "code",
   "execution_count": 6,
   "metadata": {},
   "outputs": [
    {
     "data": {
      "image/png": "[encoded data removed]",
      "text/plain": [
       "<Figure size 720x576 with 1 Axes>"
      ]
     },
     "metadata": {},
     "output_type": "display_data"
    }
   ],
   "source": [
    "# Create series of p-values for Histogram\n",
    "transcrpt_pval_series = transcrpt_all_comparisons['P_Value']\n",
    "\n",
    "# Format figure size and font\n",
    "plt.rcParams['figure.figsize']=(10,8)\n",
    "sns.set(font_scale = 1.3)\n",
    "\n",
    "# Create log scale for the x-axis\n",
    "plt.xscale('log')\n",
    "t_log_min, t_log_max = np.log10(transcrpt_pval_series.min()), np.log10(transcrpt_pval_series.max())\n",
    "t_bins = np.logspace(t_log_min - 1, t_log_max, 300) # change bin number here\n",
    "histogram = sns.distplot(transcrpt_pval_series, bins = t_bins, kde=False, color='navy') \n",
    "\n",
    "# Format title and axis\n",
    "histogram.set_title(\"P_Value Distribution for \"+gene+\" trans Transcriptomics\")\n",
    "histogram.set(ylabel = 'Number of Proteins')\n",
    "#plt.xlim([10e-9,10e-1])\n",
    "#plt.ylim([0, 3500]) # change y-axis range\n",
    "\n",
    "# Graph cutoffs: alpha = green, bonferroni = red\n",
    "plt.axvline(t_bonferroni_cutoff, 0, 0.95, linewidth=2, color='r')\n",
    "plt.axvline(0.05, 0, 0.95, linewidth=2, color='g')\n",
    "\n",
    "plt.show()\n",
    "plt.clf()\n",
    "plt.close()"
   ]
  },
  {
   "cell_type": "markdown",
   "metadata": {},
   "source": [
    "Transcriptomics zoomed in"
   ]
  },
  {
   "cell_type": "code",
   "execution_count": 22,
   "metadata": {},
   "outputs": [
    {
     "data": {
      "image/png": "[encoded data removed]",
      "text/plain": [
       "<Figure size 720x576 with 1 Axes>"
      ]
     },
     "metadata": {},
     "output_type": "display_data"
    }
   ],
   "source": [
    "# Select p-values within range 0 - end_value \n",
    "t_end_value = 0.01\n",
    "transcrpt_zoomed = transcrpt_pval_series.loc[transcrpt_pval_series <= t_end_value]\n",
    "\n",
    "# Format size of figure and font\n",
    "plt.rcParams['figure.figsize']=(10,8)\n",
    "sns.set(font_scale = 1.3)\n",
    "\n",
    "# Create log scale for the x-axis\n",
    "plt.xscale('log')\n",
    "t_zoomed_log_min, t_zoomed_log_max = np.log10(transcrpt_zoomed.min()),np.log10(transcrpt_zoomed.max())\n",
    "t_zoomed_bins = np.logspace(t_zoomed_log_min - 1, t_zoomed_log_max, 200) # change this number for more or less bins\n",
    "histogram = sns.distplot(transcrpt_zoomed, bins=t_zoomed_bins, kde=False, color='teal')\n",
    "\n",
    "# Format title and axis\n",
    "histogram.set_title(\"P_Value Distribution for \"+gene+\" trans Transcriptomics (P_Value < \" + str(t_end_value) + \")\")\n",
    "histogram.set(ylabel = 'Number of Proteins')\n",
    "plt.xlim([10e-9,10e-3])\n",
    "#plt.ylim([0.0,400]) # change y axis intervals\n",
    "\n",
    "# Create bonferroni cutoff line \n",
    "plt.axvline(t_bonferroni_cutoff, 0, .95, linewidth=2, color='r') # cutoff line parameters: (cutoff, 0, height)\n",
    "\n",
    "plt.show()\n",
    "plt.clf()\n",
    "plt.close()"
   ]
  },
  {
   "cell_type": "code",
   "execution_count": 8,
   "metadata": {},
   "outputs": [
    {
     "name": "stdout",
     "output_type": "stream",
     "text": [
      "Number of Transcriptomics comparisons for gsea:  100\n"
     ]
    },
    {
     "name": "stderr",
     "output_type": "stream",
     "text": [
      "2019-11-02 17:05:27,151 Warning: No enrich terms using library KEGG_2016 when cutoff = 0.05\n"
     ]
    },
    {
     "data": {
      "text/html": [
       "<div>\n",
       "<style scoped>\n",
       "    .dataframe tbody tr th:only-of-type {\n",
       "        vertical-align: middle;\n",
       "    }\n",
       "\n",
       "    .dataframe tbody tr th {\n",
       "        vertical-align: top;\n",
       "    }\n",
       "\n",
       "    .dataframe thead th {\n",
       "        text-align: right;\n",
       "    }\n",
       "</style>\n",
       "<table border=\"1\" class=\"dataframe\">\n",
       "  <thead>\n",
       "    <tr style=\"text-align: right;\">\n",
       "      <th></th>\n",
       "      <th>Term</th>\n",
       "      <th>Overlap</th>\n",
       "      <th>P-value</th>\n",
       "      <th>Adjusted P-value</th>\n",
       "      <th>Old P-value</th>\n",
       "      <th>Old Adjusted P-value</th>\n",
       "      <th>Odds Ratio</th>\n",
       "      <th>Combined Score</th>\n",
       "      <th>Genes</th>\n",
       "      <th>Gene_set</th>\n",
       "    </tr>\n",
       "  </thead>\n",
       "  <tbody>\n",
       "    <tr>\n",
       "      <td>0</td>\n",
       "      <td>Small cell lung cancer_Homo sapiens_hsa05222</td>\n",
       "      <td>1/86</td>\n",
       "      <td>0.234773</td>\n",
       "      <td>1.0</td>\n",
       "      <td>0</td>\n",
       "      <td>0</td>\n",
       "      <td>3.750938</td>\n",
       "      <td>5.435612</td>\n",
       "      <td>BIRC8</td>\n",
       "      <td>KEGG_2016</td>\n",
       "    </tr>\n",
       "    <tr>\n",
       "      <td>1</td>\n",
       "      <td>Salivary secretion_Homo sapiens_hsa04970</td>\n",
       "      <td>1/89</td>\n",
       "      <td>0.241899</td>\n",
       "      <td>1.0</td>\n",
       "      <td>0</td>\n",
       "      <td>0</td>\n",
       "      <td>3.624502</td>\n",
       "      <td>5.144020</td>\n",
       "      <td>HTN3</td>\n",
       "      <td>KEGG_2016</td>\n",
       "    </tr>\n",
       "    <tr>\n",
       "      <td>2</td>\n",
       "      <td>Toxoplasmosis_Homo sapiens_hsa05145</td>\n",
       "      <td>1/118</td>\n",
       "      <td>0.307499</td>\n",
       "      <td>1.0</td>\n",
       "      <td>0</td>\n",
       "      <td>0</td>\n",
       "      <td>2.733734</td>\n",
       "      <td>3.223852</td>\n",
       "      <td>BIRC8</td>\n",
       "      <td>KEGG_2016</td>\n",
       "    </tr>\n",
       "    <tr>\n",
       "      <td>3</td>\n",
       "      <td>Ubiquitin mediated proteolysis_Homo sapiens_hs...</td>\n",
       "      <td>1/137</td>\n",
       "      <td>0.347415</td>\n",
       "      <td>1.0</td>\n",
       "      <td>0</td>\n",
       "      <td>0</td>\n",
       "      <td>2.354603</td>\n",
       "      <td>2.489369</td>\n",
       "      <td>BIRC8</td>\n",
       "      <td>KEGG_2016</td>\n",
       "    </tr>\n",
       "    <tr>\n",
       "      <td>4</td>\n",
       "      <td>Pathways in cancer_Homo sapiens_hsa05200</td>\n",
       "      <td>1/397</td>\n",
       "      <td>0.712057</td>\n",
       "      <td>1.0</td>\n",
       "      <td>0</td>\n",
       "      <td>0</td>\n",
       "      <td>0.812546</td>\n",
       "      <td>0.275938</td>\n",
       "      <td>BIRC8</td>\n",
       "      <td>KEGG_2016</td>\n",
       "    </tr>\n",
       "  </tbody>\n",
       "</table>\n",
       "</div>"
      ],
      "text/plain": [
       "                                                Term Overlap   P-value  \\\n",
       "0       Small cell lung cancer_Homo sapiens_hsa05222    1/86  0.234773   \n",
       "1           Salivary secretion_Homo sapiens_hsa04970    1/89  0.241899   \n",
       "2                Toxoplasmosis_Homo sapiens_hsa05145   1/118  0.307499   \n",
       "3  Ubiquitin mediated proteolysis_Homo sapiens_hs...   1/137  0.347415   \n",
       "4           Pathways in cancer_Homo sapiens_hsa05200   1/397  0.712057   \n",
       "\n",
       "   Adjusted P-value  Old P-value  Old Adjusted P-value  Odds Ratio  \\\n",
       "0               1.0            0                     0    3.750938   \n",
       "1               1.0            0                     0    3.624502   \n",
       "2               1.0            0                     0    2.733734   \n",
       "3               1.0            0                     0    2.354603   \n",
       "4               1.0            0                     0    0.812546   \n",
       "\n",
       "   Combined Score  Genes   Gene_set  \n",
       "0        5.435612  BIRC8  KEGG_2016  \n",
       "1        5.144020   HTN3  KEGG_2016  \n",
       "2        3.223852  BIRC8  KEGG_2016  \n",
       "3        2.489369  BIRC8  KEGG_2016  \n",
       "4        0.275938  BIRC8  KEGG_2016  "
      ]
     },
     "execution_count": 8,
     "metadata": {},
     "output_type": "execute_result"
    }
   ],
   "source": [
    "# 100 genes\n",
    "t_gsea = transcrpt_all_comparisons.sort_values(by = 'P_Value')\n",
    "t_first_fifty = t_gsea.iloc[:100]\n",
    "\n",
    "# create gene list\n",
    "t_genes = t_first_fifty['Comparison']\n",
    "t_genes.replace(to_replace = '_transcriptomics.*$', value = '', \n",
    "                        inplace = True, regex = True) # shorten column names\n",
    "t_genes.replace(to_replace = '-.*$', value = '', \n",
    "                        inplace = True, regex = True) # shorten column names\n",
    "t_genes_list = list(t_genes)\n",
    "print(\"Number of Transcriptomics comparisons for gsea: \", len(t_genes_list))\n",
    "\n",
    "t_enr = gp.enrichr(gene_list = t_genes_list, description='Transcriptomics_Comparisons', gene_sets='KEGG_2016', \n",
    "                       outdir='Enrichment Analysis')\n",
    "\n",
    "t_enr.res2d.head()"
   ]
  },
  {
   "cell_type": "markdown",
   "metadata": {},
   "source": [
    "# Proteomics: All Proteins"
   ]
  },
  {
   "cell_type": "markdown",
   "metadata": {},
   "source": [
    "No data for TTC6."
   ]
  },
  {
   "cell_type": "code",
   "execution_count": 9,
   "metadata": {},
   "outputs": [
    {
     "name": "stderr",
     "output_type": "stream",
     "text": [
      "Warning: In joining the somatic_mutation table, no mutations were found for the following samples, so they were filled with Wildtype_Tumor or Wildtype_Normal: 103 samples for the TTC6 gene (C:\\Users\\brittany henderson\\Anaconda3\\envs\\Research\\lib\\site-packages\\ipykernel_launcher.py, line 9)\n",
      "Warning: You tried to flatten an index that didn't have multiple levels, so we didn't actually change anything. (C:\\Users\\brittany henderson\\Anaconda3\\envs\\Research\\lib\\site-packages\\ipykernel_launcher.py, line 10)\n"
     ]
    },
    {
     "name": "stdout",
     "output_type": "stream",
     "text": [
      "\n",
      "Gene:  TTC6\n",
      "Error in Comparison\n",
      "\"['TTC6_proteomics'] not found in axis\"\n"
     ]
    }
   ],
   "source": [
    "prot = \"proteomics\"\n",
    "\n",
    "try:\n",
    "    print(\"\\nGene: \", gene)\n",
    "\n",
    "    #Use all proteins\n",
    "\n",
    "    #Create dataframe in order to do comparisons with wrap_ttest\n",
    "    protdf = brain.join_omics_to_mutations(mutations_genes=[gene], omics_df_name=prot)\n",
    "    protdf = brain.reduce_multiindex(protdf, flatten=True)\n",
    "    protdf = protdf[protdf.Sample_Status == 'Tumor'] # drop Normal samples\n",
    "    \n",
    "    #Remove Cis interactions \n",
    "    protdf = protdf.drop(columns = gene+\"_proteomics\") # change for each gene \n",
    "    protdf = protdf.dropna(axis=1, how='all') # drop columns with all NaN data\n",
    "    \n",
    "    #Create the binary valued column needed to do the comparison\n",
    "    for ind, row in protdf.iterrows():\n",
    "        if row[gene+\"_Mutation_Status\"] != 'Wildtype_Tumor':\n",
    "            protdf.at[ind,'Label'] = 'Mutated'\n",
    "        else:\n",
    "            protdf.at[ind,'Label'] = 'Wildtype'\n",
    "\n",
    "    #Format the datafram correctly\n",
    "    protdf = protdf.drop(gene+\"_Mutation\",axis=1)\n",
    "    protdf = protdf.drop(gene+\"_Location\",axis=1)\n",
    "    protdf = protdf.drop(gene+\"_Mutation_Status\", axis=1)\n",
    "    protdf = protdf.drop(\"Sample_Status\",axis=1)\n",
    "\n",
    "    #Make list of columns to be compared using t-tests\n",
    "    prot_col_list = list(protdf.columns)\n",
    "    prot_col_list.remove('Label')\n",
    "\n",
    "    print(\"Doing t-test comparisons\\n\")\n",
    "    \n",
    "    #Call wrap_ttest, pass in formatted dataframe\n",
    "    prot_all_comparisons = al.wrap_ttest(protdf, 'Label', prot_col_list, return_all=True)\n",
    "\n",
    "    prot_num_comparisons = len(prot_col_list)\n",
    "    print(\"Number of comparisons:\", prot_num_comparisons)\n",
    "    prot_bonferroni_cutoff = .05 / prot_num_comparisons\n",
    "    print(\"Bonferroni cutoff = \", prot_bonferroni_cutoff)\n",
    "    print(\"Logged Bonferroni cutoff = \", np.log10(prot_bonferroni_cutoff))\n",
    "\n",
    "\n",
    "except Exception as e:\n",
    "    print(\"Error in Comparison\")\n",
    "    print(e)"
   ]
  },
  {
   "cell_type": "markdown",
   "metadata": {},
   "source": [
    "# Phosphoproteomics: All Proteins"
   ]
  },
  {
   "cell_type": "code",
   "execution_count": 11,
   "metadata": {},
   "outputs": [
    {
     "name": "stdout",
     "output_type": "stream",
     "text": [
      "\n",
      "Gene:  TTC6\n"
     ]
    },
    {
     "name": "stderr",
     "output_type": "stream",
     "text": [
      "Warning: In joining the somatic_mutation table, no mutations were found for the following samples, so they were filled with Wildtype_Tumor or Wildtype_Normal: 103 samples for the TTC6 gene (C:\\Users\\brittany henderson\\Anaconda3\\envs\\Research\\lib\\site-packages\\ipykernel_launcher.py, line 7)\n"
     ]
    },
    {
     "name": "stdout",
     "output_type": "stream",
     "text": [
      "Doing t-test comparisons\n",
      "\n",
      "No significant comparisons.\n",
      "Number of comparisons: 101264\n",
      "Bonferroni cutoff =  4.937588876599779e-07\n",
      "Logged Bonferroni cutoff =  4.937588876599779e-07\n"
     ]
    }
   ],
   "source": [
    "phos = 'phosphoproteomics'\n",
    "\n",
    "try:\n",
    "    print(\"\\nGene: \", gene)\n",
    "\n",
    "    # Create dataframe in order to do comparisons with wrap_ttest\n",
    "    phosdf = brain.join_omics_to_mutations(mutations_genes=[gene], omics_df_name=phos)\n",
    "    phosdf = brain.reduce_multiindex(phosdf, flatten = True)\n",
    "    phosdf = phosdf.loc[phosdf['Sample_Status'] == 'Tumor']\n",
    "    \n",
    "    #Remove Cis interactions\n",
    "    phosdf = phosdf.loc[:,~phosdf.columns.str.contains(gene+'_phosphoproteomics')]\n",
    "    phosdf = phosdf.dropna(axis=1, how='all') # drop columns with all NaN data\n",
    "    \n",
    "    \n",
    "    # Create the binary valued column needed to do the comparison\n",
    "    for ind, row in phosdf.iterrows():\n",
    "        if row[gene+\"_Mutation_Status\"] != 'Wildtype_Tumor':\n",
    "            phosdf.at[ind,'Label'] = 'Mutated'\n",
    "        else:\n",
    "            phosdf.at[ind,'Label'] = 'Wildtype'\n",
    "\n",
    "    # Format the datafram correctly'''\n",
    "    phosdf = phosdf.drop(gene+\"_Mutation\",axis=1)\n",
    "    phosdf = phosdf.drop(gene+\"_Location\",axis=1)\n",
    "    phosdf = phosdf.drop(gene+\"_Mutation_Status\", axis=1)\n",
    "    phosdf = phosdf.drop(\"Sample_Status\",axis=1)\n",
    "\n",
    "    # Make list of columns to be compared using t-tests\n",
    "    phos_col_list = list(phosdf.columns)\n",
    "    phos_col_list.remove('Label')\n",
    "    \n",
    "    print(\"Doing t-test comparisons\\n\")\n",
    "    \n",
    "    #Call wrap_ttest, pass in formatted dataframe\n",
    "    phos_all_comparisons = al.wrap_ttest(phosdf, 'Label', phos_col_list, return_all=True)\n",
    "    \n",
    "    phos_num_comparisons = len(phos_col_list)\n",
    "    print(\"Number of comparisons:\", phos_num_comparisons)\n",
    "    phos_bonferroni_cutoff = .05 / phos_num_comparisons\n",
    "    print(\"Bonferroni cutoff = \", phos_bonferroni_cutoff)\n",
    "    print(\"Logged Bonferroni cutoff = \", phos_bonferroni_cutoff)\n",
    "            \n",
    "        \n",
    "except Exception as e:\n",
    "    print(\"Error in Comparison\")\n",
    "    print(e)"
   ]
  },
  {
   "cell_type": "markdown",
   "metadata": {},
   "source": [
    "Print Significant Comparisons"
   ]
  },
  {
   "cell_type": "code",
   "execution_count": 12,
   "metadata": {},
   "outputs": [
    {
     "name": "stdout",
     "output_type": "stream",
     "text": [
      "Number of significant Phosphoproteomics comparisons:  0\n"
     ]
    },
    {
     "data": {
      "text/html": [
       "<div>\n",
       "<style scoped>\n",
       "    .dataframe tbody tr th:only-of-type {\n",
       "        vertical-align: middle;\n",
       "    }\n",
       "\n",
       "    .dataframe tbody tr th {\n",
       "        vertical-align: top;\n",
       "    }\n",
       "\n",
       "    .dataframe thead th {\n",
       "        text-align: right;\n",
       "    }\n",
       "</style>\n",
       "<table border=\"1\" class=\"dataframe\">\n",
       "  <thead>\n",
       "    <tr style=\"text-align: right;\">\n",
       "      <th></th>\n",
       "      <th>Comparison</th>\n",
       "      <th>P_Value</th>\n",
       "    </tr>\n",
       "  </thead>\n",
       "  <tbody>\n",
       "  </tbody>\n",
       "</table>\n",
       "</div>"
      ],
      "text/plain": [
       "Empty DataFrame\n",
       "Columns: [Comparison, P_Value]\n",
       "Index: []"
      ]
     },
     "execution_count": 12,
     "metadata": {},
     "output_type": "execute_result"
    }
   ],
   "source": [
    "phos_all_comparisons = phos_all_comparisons.dropna(axis=0)\n",
    "phos_sig_comparisons = phos_all_comparisons.loc[phos_all_comparisons['P_Value'] <= phos_bonferroni_cutoff]\n",
    "print(\"Number of significant Phosphoproteomics comparisons: \", len(phos_sig_comparisons))\n",
    "phos_sig_comparisons.head()"
   ]
  },
  {
   "cell_type": "markdown",
   "metadata": {},
   "source": [
    "Phosphoproteomics Histograms"
   ]
  },
  {
   "cell_type": "code",
   "execution_count": 13,
   "metadata": {},
   "outputs": [
    {
     "data": {
      "image/png": "[encoded data removed]",
      "text/plain": [
       "<Figure size 720x576 with 1 Axes>"
      ]
     },
     "metadata": {},
     "output_type": "display_data"
    }
   ],
   "source": [
    "# Create series of p-values for Histogram\n",
    "phos_pval_series = phos_all_comparisons['P_Value']\n",
    "\n",
    "# Format figure size and font\n",
    "plt.rcParams['figure.figsize']=(10,8)\n",
    "sns.set(font_scale = 1.3)\n",
    "\n",
    "# Create log scale for the x-axis\n",
    "plt.xscale('log')\n",
    "phos_log_min, phos_log_max = np.log10(phos_pval_series.min()), np.log10(phos_pval_series.max())\n",
    "phos_bins = np.logspace(phos_log_min - 1, phos_log_max, 100) # change bin number here\n",
    "histogram = sns.distplot(phos_pval_series, bins = phos_bins, kde=False, color='navy') \n",
    "\n",
    "# Format title and axis\n",
    "histogram.set_title(\"P_Value Distribution for \"+gene+\" trans Phosphoproteomics for All Proteins\")\n",
    "histogram.set(ylabel = 'Number of Proteins')\n",
    "#plt.xlim([10e-10,10e-1]) # change x-axis range\n",
    "#plt.ylim([0, 3500]) # change y-axis range\n",
    "\n",
    "# Graph cutoffs: alpha = green, bonferroni = red\n",
    "plt.axvline(phos_bonferroni_cutoff, 0, 0.95, linewidth=2, color='r')\n",
    "plt.axvline(0.05, 0, 0.95, linewidth=2, color='g')\n",
    "\n",
    "plt.show()\n",
    "plt.clf()\n",
    "plt.close()"
   ]
  },
  {
   "cell_type": "markdown",
   "metadata": {},
   "source": [
    "Phosphoproteomics zoomed in"
   ]
  },
  {
   "cell_type": "code",
   "execution_count": 19,
   "metadata": {},
   "outputs": [
    {
     "data": {
      "image/png": "[encoded data removed]",
      "text/plain": [
       "<Figure size 720x576 with 1 Axes>"
      ]
     },
     "metadata": {},
     "output_type": "display_data"
    }
   ],
   "source": [
    "phos_pval_series = phos_all_comparisons['P_Value']\n",
    "# Select p-values within range 0 - end_value \n",
    "phos_end_value = 0.01\n",
    "phos_zoomed = phos_pval_series.loc[phos_pval_series <= phos_end_value]\n",
    "\n",
    "# Format size of figure and font\n",
    "plt.rcParams['figure.figsize']=(10,8)\n",
    "sns.set(font_scale = 1.3)\n",
    "\n",
    "# Create log scale for the x-axis\n",
    "plt.xscale('log')\n",
    "phos_zoomed_log_min, phos_zoomed_log_max = np.log10(phos_zoomed.min()),np.log10(phos_zoomed.max())\n",
    "phos_bins_zoomed = np.logspace(phos_zoomed_log_min - 1, phos_zoomed_log_max, 50) # change this number for more or less bins\n",
    "histogram = sns.distplot(phos_zoomed, bins = phos_bins_zoomed, kde=False, color='teal')\n",
    "\n",
    "# Format title and axis\n",
    "histogram.set_title(\"P_Value Distribution for \"+gene+\" trans Phosphoproteomics (P_Value < \" + str(phos_end_value) + \")\")\n",
    "histogram.set(ylabel = 'Number of Proteins')\n",
    "plt.xlim([10e-10,10e-3]) # change x-axis range\n",
    "#plt.ylim([0.0,20]) # change y axis intervals\n",
    "\n",
    "# Create bonferroni cutoff line \n",
    "plt.axvline(phos_bonferroni_cutoff, 0, .95, linewidth=2, color='r') # cutoff line parameters: (cutoff, 0, height)\n",
    "\n",
    "plt.show()\n",
    "plt.clf()\n",
    "plt.close()"
   ]
  },
  {
   "cell_type": "code",
   "execution_count": 20,
   "metadata": {},
   "outputs": [
    {
     "name": "stdout",
     "output_type": "stream",
     "text": [
      "Number of Phosphoproteomics comparisons for gsea:  150\n"
     ]
    },
    {
     "name": "stderr",
     "output_type": "stream",
     "text": [
      "2019-11-02 17:12:55,420 Warning: No enrich terms using library KEGG_2016 when cutoff = 0.05\n"
     ]
    },
    {
     "data": {
      "text/html": [
       "<div>\n",
       "<style scoped>\n",
       "    .dataframe tbody tr th:only-of-type {\n",
       "        vertical-align: middle;\n",
       "    }\n",
       "\n",
       "    .dataframe tbody tr th {\n",
       "        vertical-align: top;\n",
       "    }\n",
       "\n",
       "    .dataframe thead th {\n",
       "        text-align: right;\n",
       "    }\n",
       "</style>\n",
       "<table border=\"1\" class=\"dataframe\">\n",
       "  <thead>\n",
       "    <tr style=\"text-align: right;\">\n",
       "      <th></th>\n",
       "      <th>Term</th>\n",
       "      <th>Overlap</th>\n",
       "      <th>P-value</th>\n",
       "      <th>Adjusted P-value</th>\n",
       "      <th>Old P-value</th>\n",
       "      <th>Old Adjusted P-value</th>\n",
       "      <th>Odds Ratio</th>\n",
       "      <th>Combined Score</th>\n",
       "      <th>Genes</th>\n",
       "      <th>Gene_set</th>\n",
       "    </tr>\n",
       "  </thead>\n",
       "  <tbody>\n",
       "    <tr>\n",
       "      <td>0</td>\n",
       "      <td>Malaria_Homo sapiens_hsa05144</td>\n",
       "      <td>3/49</td>\n",
       "      <td>0.002746</td>\n",
       "      <td>0.804516</td>\n",
       "      <td>0</td>\n",
       "      <td>0</td>\n",
       "      <td>10.741139</td>\n",
       "      <td>63.347873</td>\n",
       "      <td>GYPA;HBB;HBA2</td>\n",
       "      <td>KEGG_2016</td>\n",
       "    </tr>\n",
       "    <tr>\n",
       "      <td>1</td>\n",
       "      <td>Thyroid cancer_Homo sapiens_hsa05216</td>\n",
       "      <td>2/29</td>\n",
       "      <td>0.011826</td>\n",
       "      <td>1.000000</td>\n",
       "      <td>0</td>\n",
       "      <td>0</td>\n",
       "      <td>12.099214</td>\n",
       "      <td>53.689332</td>\n",
       "      <td>RXRA;MAP2K2</td>\n",
       "      <td>KEGG_2016</td>\n",
       "    </tr>\n",
       "    <tr>\n",
       "      <td>2</td>\n",
       "      <td>Gap junction_Homo sapiens_hsa04540</td>\n",
       "      <td>3/88</td>\n",
       "      <td>0.013935</td>\n",
       "      <td>1.000000</td>\n",
       "      <td>0</td>\n",
       "      <td>0</td>\n",
       "      <td>5.980861</td>\n",
       "      <td>25.558118</td>\n",
       "      <td>MAP3K2;TJP1;MAP2K2</td>\n",
       "      <td>KEGG_2016</td>\n",
       "    </tr>\n",
       "    <tr>\n",
       "      <td>3</td>\n",
       "      <td>African trypanosomiasis_Homo sapiens_hsa05143</td>\n",
       "      <td>2/35</td>\n",
       "      <td>0.016952</td>\n",
       "      <td>1.000000</td>\n",
       "      <td>0</td>\n",
       "      <td>0</td>\n",
       "      <td>10.025063</td>\n",
       "      <td>40.875868</td>\n",
       "      <td>HBB;HBA2</td>\n",
       "      <td>KEGG_2016</td>\n",
       "    </tr>\n",
       "    <tr>\n",
       "      <td>4</td>\n",
       "      <td>Transcriptional misregulation in cancer_Homo s...</td>\n",
       "      <td>4/180</td>\n",
       "      <td>0.019692</td>\n",
       "      <td>1.000000</td>\n",
       "      <td>0</td>\n",
       "      <td>0</td>\n",
       "      <td>3.898635</td>\n",
       "      <td>15.311991</td>\n",
       "      <td>RXRA;BCL6;JMJD1C;ETV6</td>\n",
       "      <td>KEGG_2016</td>\n",
       "    </tr>\n",
       "  </tbody>\n",
       "</table>\n",
       "</div>"
      ],
      "text/plain": [
       "                                                Term Overlap   P-value  \\\n",
       "0                      Malaria_Homo sapiens_hsa05144    3/49  0.002746   \n",
       "1               Thyroid cancer_Homo sapiens_hsa05216    2/29  0.011826   \n",
       "2                 Gap junction_Homo sapiens_hsa04540    3/88  0.013935   \n",
       "3      African trypanosomiasis_Homo sapiens_hsa05143    2/35  0.016952   \n",
       "4  Transcriptional misregulation in cancer_Homo s...   4/180  0.019692   \n",
       "\n",
       "   Adjusted P-value  Old P-value  Old Adjusted P-value  Odds Ratio  \\\n",
       "0          0.804516            0                     0   10.741139   \n",
       "1          1.000000            0                     0   12.099214   \n",
       "2          1.000000            0                     0    5.980861   \n",
       "3          1.000000            0                     0   10.025063   \n",
       "4          1.000000            0                     0    3.898635   \n",
       "\n",
       "   Combined Score                  Genes   Gene_set  \n",
       "0       63.347873          GYPA;HBB;HBA2  KEGG_2016  \n",
       "1       53.689332            RXRA;MAP2K2  KEGG_2016  \n",
       "2       25.558118     MAP3K2;TJP1;MAP2K2  KEGG_2016  \n",
       "3       40.875868               HBB;HBA2  KEGG_2016  \n",
       "4       15.311991  RXRA;BCL6;JMJD1C;ETV6  KEGG_2016  "
      ]
     },
     "execution_count": 20,
     "metadata": {},
     "output_type": "execute_result"
    }
   ],
   "source": [
    "# Gene set enrichment analysis for 100 genes\n",
    "phos_gsea = phos_all_comparisons.sort_values(by = 'P_Value')\n",
    "phos_first_fifty = phos_gsea.iloc[:150]\n",
    "\n",
    "# create gene list\n",
    "phos_genes = phos_first_fifty['Comparison']\n",
    "phos_genes.replace(to_replace = '_phosphoproteomics.*$', value = '', \n",
    "                        inplace = True, regex = True) # shorten column names\n",
    "phos_genes_list = list(phos_genes)\n",
    "print(\"Number of Phosphoproteomics comparisons for gsea: \", len(phos_genes_list))\n",
    "\n",
    "phos_enr = gp.enrichr(gene_list = phos_genes_list, description='Phosphoproteomics_Comparisons', gene_sets='KEGG_2016', \n",
    "                       outdir='Enrichment Analysis')\n",
    "\n",
    "phos_enr.res2d.head()"
   ]
  },
  {
   "cell_type": "code",
   "execution_count": null,
   "metadata": {},
   "outputs": [],
   "source": []
  }
 ],
 "metadata": {
  "kernelspec": {
   "display_name": "Python 3",
   "language": "python",
   "name": "python3"
  },
  "language_info": {
   "codemirror_mode": {
    "name": "ipython",
    "version": 3
   },
   "file_extension": ".py",
   "mimetype": "text/x-python",
   "name": "python",
   "nbconvert_exporter": "python",
   "pygments_lexer": "ipython3",
   "version": "3.7.3"
  }
 },
 "nbformat": 4,
 "nbformat_minor": 2
}
