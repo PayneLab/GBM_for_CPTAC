{
 "cells": [
  {
   "cell_type": "markdown",
   "metadata": {},
   "source": [
    "# TTC6 Mutation Trans Effect on Transcriptomics"
   ]
  },
  {
   "cell_type": "markdown",
   "metadata": {},
   "source": [
    "### Library Imports"
   ]
  },
  {
   "cell_type": "code",
   "execution_count": 1,
   "metadata": {},
   "outputs": [
    {
     "name": "stdout",
     "output_type": "stream",
     "text": [
      "                                    \r"
     ]
    }
   ],
   "source": [
    "import pandas as pd\n",
    "import numpy as np\n",
    "import scipy.stats\n",
    "\n",
    "import warnings\n",
    "warnings.filterwarnings(\"ignore\")\n",
    "\n",
    "import cptac\n",
    "import cptac.utils as al\n",
    "\n",
    "brain = cptac.Gbm()"
   ]
  },
  {
   "cell_type": "markdown",
   "metadata": {},
   "source": [
    "### Select Gene"
   ]
  },
  {
   "cell_type": "code",
   "execution_count": 2,
   "metadata": {},
   "outputs": [],
   "source": [
    "gene = \"TTC6\""
   ]
  },
  {
   "cell_type": "markdown",
   "metadata": {},
   "source": [
    "### Investigate Proteomics, Phosphoproteomics, Acetylproteomics, or Transcriptomics"
   ]
  },
  {
   "cell_type": "code",
   "execution_count": 3,
   "metadata": {},
   "outputs": [],
   "source": [
    "#omics = \"proteomics\"\n",
    "omics = \"transcriptomics\"\n",
    "#omics = \"phosphoproteomics\"\n",
    "#omics = \"acetylproteomics\""
   ]
  },
  {
   "cell_type": "markdown",
   "metadata": {},
   "source": [
    "### Track all significant comparisons in Dataframe"
   ]
  },
  {
   "cell_type": "code",
   "execution_count": 4,
   "metadata": {},
   "outputs": [],
   "source": [
    "all_significant_comparisons = pd.DataFrame(columns=['Cancer_Type', 'Gene', 'Comparison','Interacting_Protein','P_Value'])"
   ]
  },
  {
   "cell_type": "code",
   "execution_count": 5,
   "metadata": {},
   "outputs": [],
   "source": [
    "def add_to_all_significant_comparisons(df, cancer, interacting, all_sig_comp):\n",
    "    expanded = df\n",
    "    expanded['Gene'] = gene\n",
    "    expanded['Cancer_Type'] = cancer\n",
    "    expanded['Interacting_Protein'] = interacting\n",
    "    \n",
    "    updated_all_comparisons = pd.concat([all_sig_comp, expanded], sort=False)\n",
    "    \n",
    "    return updated_all_comparisons"
   ]
  },
  {
   "cell_type": "markdown",
   "metadata": {},
   "source": [
    "# Interacting Proteins: Transcriptomics"
   ]
  },
  {
   "cell_type": "markdown",
   "metadata": {},
   "source": [
    "### Generate interacting protein list"
   ]
  },
  {
   "cell_type": "markdown",
   "metadata": {},
   "source": [
    "Make a call to cptac.utils to get the interacting proteins method, which interacts with the uniprot and string databases to generate a list of known interacting partners with the given gene."
   ]
  },
  {
   "cell_type": "code",
   "execution_count": 6,
   "metadata": {},
   "outputs": [
    {
     "name": "stdout",
     "output_type": "stream",
     "text": [
      "\n",
      "Specified gene was not found in String database, double check that you have it correctly!\n"
     ]
    },
    {
     "ename": "TypeError",
     "evalue": "'NoneType' object is not iterable",
     "output_type": "error",
     "traceback": [
      "\u001b[0;31m---------------------------------------------------------------------------\u001b[0m",
      "\u001b[0;31mTypeError\u001b[0m                                 Traceback (most recent call last)",
      "\u001b[0;32m<ipython-input-6-90b093f8a23b>\u001b[0m in \u001b[0;36m<module>\u001b[0;34m\u001b[0m\n\u001b[1;32m      1\u001b[0m \u001b[0;31m# Use get interacting proteins method to generate list of interacting proteins\u001b[0m\u001b[0;34m\u001b[0m\u001b[0;34m\u001b[0m\u001b[0;34m\u001b[0m\u001b[0m\n\u001b[0;32m----> 2\u001b[0;31m \u001b[0minteracting_proteins\u001b[0m \u001b[0;34m=\u001b[0m \u001b[0mal\u001b[0m\u001b[0;34m.\u001b[0m\u001b[0mget_interacting_proteins\u001b[0m\u001b[0;34m(\u001b[0m\u001b[0mgene\u001b[0m\u001b[0;34m)\u001b[0m\u001b[0;34m\u001b[0m\u001b[0;34m\u001b[0m\u001b[0m\n\u001b[0m\u001b[1;32m      3\u001b[0m \u001b[0;34m\u001b[0m\u001b[0m\n\u001b[1;32m      4\u001b[0m \u001b[0;31m# Show interacting protein list\u001b[0m\u001b[0;34m\u001b[0m\u001b[0;34m\u001b[0m\u001b[0;34m\u001b[0m\u001b[0m\n\u001b[1;32m      5\u001b[0m \u001b[0mprint\u001b[0m\u001b[0;34m(\u001b[0m\u001b[0;34m\"Interacting Proteins:\"\u001b[0m\u001b[0;34m)\u001b[0m\u001b[0;34m\u001b[0m\u001b[0;34m\u001b[0m\u001b[0m\n",
      "\u001b[0;32m~/anaconda3/lib/python3.7/site-packages/cptac/utils/__init__.py\u001b[0m in \u001b[0;36mget_interacting_proteins\u001b[0;34m(protein, number)\u001b[0m\n\u001b[1;32m    259\u001b[0m     \u001b[0;32melse\u001b[0m\u001b[0;34m:\u001b[0m\u001b[0;34m\u001b[0m\u001b[0;34m\u001b[0m\u001b[0m\n\u001b[1;32m    260\u001b[0m         \u001b[0minteracting_proteins\u001b[0m \u001b[0;34m=\u001b[0m \u001b[0;34m[\u001b[0m\u001b[0;34m]\u001b[0m\u001b[0;34m\u001b[0m\u001b[0;34m\u001b[0m\u001b[0m\n\u001b[0;32m--> 261\u001b[0;31m         \u001b[0;32mfor\u001b[0m \u001b[0mprot\u001b[0m \u001b[0;32min\u001b[0m \u001b[0mstring_list\u001b[0m\u001b[0;34m:\u001b[0m\u001b[0;34m\u001b[0m\u001b[0;34m\u001b[0m\u001b[0m\n\u001b[0m\u001b[1;32m    262\u001b[0m             \u001b[0;32mif\u001b[0m \u001b[0mprot\u001b[0m \u001b[0;32mnot\u001b[0m \u001b[0;32min\u001b[0m \u001b[0minteracting_proteins\u001b[0m\u001b[0;34m:\u001b[0m\u001b[0;34m\u001b[0m\u001b[0;34m\u001b[0m\u001b[0m\n\u001b[1;32m    263\u001b[0m                 \u001b[0minteracting_proteins\u001b[0m\u001b[0;34m.\u001b[0m\u001b[0mappend\u001b[0m\u001b[0;34m(\u001b[0m\u001b[0mprot\u001b[0m\u001b[0;34m)\u001b[0m\u001b[0;34m\u001b[0m\u001b[0;34m\u001b[0m\u001b[0m\n",
      "\u001b[0;31mTypeError\u001b[0m: 'NoneType' object is not iterable"
     ]
    }
   ],
   "source": [
    "# Use get interacting proteins method to generate list of interacting proteins\n",
    "interacting_proteins = al.get_interacting_proteins(gene)\n",
    "\n",
    "# Show interacting protein list\n",
    "print(\"Interacting Proteins:\")\n",
    "for interacting_protein in interacting_proteins:\n",
    "    print(interacting_protein)"
   ]
  },
  {
   "cell_type": "markdown",
   "metadata": {},
   "source": [
    "### Test for significant comparisons in any of interacting proteins"
   ]
  },
  {
   "cell_type": "code",
   "execution_count": 7,
   "metadata": {},
   "outputs": [
    {
     "ename": "NameError",
     "evalue": "name 'interacting_proteins' is not defined",
     "output_type": "error",
     "traceback": [
      "\u001b[0;31m---------------------------------------------------------------------------\u001b[0m",
      "\u001b[0;31mNameError\u001b[0m                                 Traceback (most recent call last)",
      "\u001b[0;32m<ipython-input-7-9aefb6dbdb0f>\u001b[0m in \u001b[0;36m<module>\u001b[0;34m\u001b[0m\n\u001b[1;32m      1\u001b[0m \u001b[0;31m# Create dataframe in order to do comparisons with wrap_ttest\u001b[0m\u001b[0;34m\u001b[0m\u001b[0;34m\u001b[0m\u001b[0;34m\u001b[0m\u001b[0m\n\u001b[0;32m----> 2\u001b[0;31m \u001b[0mprotdf\u001b[0m \u001b[0;34m=\u001b[0m \u001b[0mbrain\u001b[0m\u001b[0;34m.\u001b[0m\u001b[0mjoin_omics_to_mutations\u001b[0m\u001b[0;34m(\u001b[0m\u001b[0mmutations_genes\u001b[0m\u001b[0;34m=\u001b[0m\u001b[0;34m[\u001b[0m\u001b[0mgene\u001b[0m\u001b[0;34m]\u001b[0m\u001b[0;34m,\u001b[0m \u001b[0momics_df_name\u001b[0m\u001b[0;34m=\u001b[0m\u001b[0momics\u001b[0m\u001b[0;34m,\u001b[0m \u001b[0momics_genes\u001b[0m\u001b[0;34m=\u001b[0m\u001b[0minteracting_proteins\u001b[0m\u001b[0;34m)\u001b[0m\u001b[0;34m\u001b[0m\u001b[0;34m\u001b[0m\u001b[0m\n\u001b[0m\u001b[1;32m      3\u001b[0m \u001b[0mprotdf\u001b[0m \u001b[0;34m=\u001b[0m \u001b[0mbrain\u001b[0m\u001b[0;34m.\u001b[0m\u001b[0mreduce_multiindex\u001b[0m\u001b[0;34m(\u001b[0m\u001b[0mprotdf\u001b[0m\u001b[0;34m,\u001b[0m \u001b[0mflatten\u001b[0m\u001b[0;34m=\u001b[0m\u001b[0;32mTrue\u001b[0m\u001b[0;34m)\u001b[0m\u001b[0;34m\u001b[0m\u001b[0;34m\u001b[0m\u001b[0m\n\u001b[1;32m      4\u001b[0m \u001b[0mprotdf\u001b[0m \u001b[0;34m=\u001b[0m \u001b[0mprotdf\u001b[0m\u001b[0;34m[\u001b[0m\u001b[0mprotdf\u001b[0m\u001b[0;34m.\u001b[0m\u001b[0mSample_Status\u001b[0m \u001b[0;34m==\u001b[0m \u001b[0;34m'Tumor'\u001b[0m\u001b[0;34m]\u001b[0m \u001b[0;31m# drop Normal samples\u001b[0m\u001b[0;34m\u001b[0m\u001b[0;34m\u001b[0m\u001b[0m\n\u001b[1;32m      5\u001b[0m \u001b[0;34m\u001b[0m\u001b[0m\n",
      "\u001b[0;31mNameError\u001b[0m: name 'interacting_proteins' is not defined"
     ]
    }
   ],
   "source": [
    "# Create dataframe in order to do comparisons with wrap_ttest\n",
    "protdf = brain.join_omics_to_mutations(mutations_genes=[gene], omics_df_name=omics, omics_genes=interacting_proteins)\n",
    "protdf = brain.reduce_multiindex(protdf, flatten=True)\n",
    "protdf = protdf[protdf.Sample_Status == 'Tumor'] # drop Normal samples\n",
    "\n",
    "# Create the binary valued column needed to do the comparison\n",
    "for ind, row in protdf.iterrows():\n",
    "    if row[gene+\"_Mutation_Status\"] != 'Wildtype_Tumor':\n",
    "        protdf.at[ind,'Label'] = 'Mutated'\n",
    "    else:\n",
    "        protdf.at[ind,'Label'] = 'Wildtype'\n",
    "\n",
    "# Format the dataframe correctly\n",
    "protdf = protdf.drop(gene+\"_Mutation\",axis=1)\n",
    "protdf = protdf.drop(gene+\"_Location\",axis=1)\n",
    "protdf = protdf.drop(gene+\"_Mutation_Status\", axis=1)\n",
    "protdf = protdf.drop(\"Sample_Status\",axis=1)\n",
    "\n",
    "\n",
    "# Make list of columns to be compared using t-tests\n",
    "col_list = list(protdf.columns)\n",
    "col_list.remove('Label')\n",
    "\n",
    "print(\"Doing t-test comparisons\\n\")\n",
    "\n",
    "# Call wrap_ttest, pass in formatted dataframe\n",
    "wrap_results = al.wrap_ttest(protdf, 'Label', col_list)\n",
    "\n",
    "# Print results, if anything significant was found\n",
    "if wrap_results is not None:\n",
    "        print(wrap_results)\n",
    "        print(\"\\n\\n\")\n",
    "        \n",
    "        all_significant_comparisons = add_to_all_significant_comparisons(wrap_results, \"Gbm\", True, all_significant_comparisons)\n",
    "        "
   ]
  },
  {
   "cell_type": "markdown",
   "metadata": {},
   "source": [
    "# All Proteins: Transcriptomics "
   ]
  },
  {
   "cell_type": "code",
   "execution_count": 8,
   "metadata": {},
   "outputs": [
    {
     "name": "stdout",
     "output_type": "stream",
     "text": [
      "\n",
      "Gene:  TTC6\n"
     ]
    },
    {
     "name": "stderr",
     "output_type": "stream",
     "text": [
      "Warning: In joining the somatic_mutation table, no mutations were found for the following samples, so they were filled with Wildtype_Tumor or Wildtype_Normal: 103 samples for the TTC6 gene (/Users/Lindsey/anaconda3/lib/python3.7/site-packages/ipykernel_launcher.py, line 7)\n"
     ]
    },
    {
     "name": "stdout",
     "output_type": "stream",
     "text": [
      "Doing t-test comparisons\n",
      "\n",
      "                                          Comparison       P_Value\n",
      "0       RP1-92C8.3_transcriptomics_ENSG00000226181.1  9.369644e-10\n",
      "1       AC073869.7_transcriptomics_ENSG00000237910.1  1.183402e-09\n",
      "2        LINC00692_transcriptomics_ENSG00000230891.5  1.183402e-09\n",
      "3      Metazoa_SRP_transcriptomics_ENSG00000277591.1  1.524282e-09\n",
      "4       RNU6-1059P_transcriptomics_ENSG00000200622.1  1.704726e-09\n",
      "5        RPL23AP22_transcriptomics_ENSG00000237213.2  2.567268e-09\n",
      "6       AC007251.2_transcriptomics_ENSG00000277527.1  7.332055e-09\n",
      "7     RP11-363E6.1_transcriptomics_ENSG00000254014.1  1.943077e-08\n",
      "8        LINC00383_transcriptomics_ENSG00000237534.1  2.437133e-08\n",
      "9    CTD-2231E14.4_transcriptomics_ENSG00000267517.1  2.566330e-08\n",
      "10        RN7SL42P_transcriptomics_ENSG00000263999.2  3.992894e-08\n",
      "11   RP11-676B18.1_transcriptomics_ENSG00000279511.1  5.035850e-08\n",
      "12          MAGEC2_transcriptomics_ENSG00000046774.9  7.374542e-08\n",
      "13        KRT18P39_transcriptomics_ENSG00000224791.1  8.039806e-08\n",
      "14          MAGEA6_transcriptomics_ENSG00000197172.9  1.633205e-07\n",
      "15        RNA5-8S5_transcriptomics_ENSG00000278189.1  2.098911e-07\n",
      "16          OR5H7P_transcriptomics_ENSG00000187900.4  2.790953e-07\n",
      "17           Y_RNA_transcriptomics_ENSG00000199245.1  3.358619e-07\n",
      "18       HIGD1AP17_transcriptomics_ENSG00000258886.2  3.538052e-07\n",
      "19        RPL7AP56_transcriptomics_ENSG00000242834.1  4.367607e-07\n",
      "20     IGF2BP2-AS1_transcriptomics_ENSG00000163915.6  4.804362e-07\n",
      "21   RP11-470B22.1_transcriptomics_ENSG00000270390.1  5.325975e-07\n",
      "22  RP11-1223D19.1_transcriptomics_ENSG00000261760.5  5.473516e-07\n",
      "23         SNORA18_transcriptomics_ENSG00000200288.1  6.573728e-07\n",
      "\n",
      "\n",
      "\n"
     ]
    }
   ],
   "source": [
    "try:\n",
    "    print(\"\\nGene: \", gene)\n",
    "\n",
    "    # Use all proteins\n",
    "\n",
    "    # Create dataframe in order to do comparisons with wrap_ttest\n",
    "    protdf = brain.join_omics_to_mutations(mutations_genes=[gene], omics_df_name=omics)\n",
    "    protdf = brain.reduce_multiindex(protdf, flatten=True) # flatten for specific column names\n",
    "    protdf = protdf.loc[protdf['Sample_Status'] == 'Tumor']\n",
    "    \n",
    "    # Create binary column \n",
    "    protdf['Label'] = np.where(\n",
    "                protdf[gene+'_Mutation_Status'] == 'Wildtype_Tumor', 'Wildtype', 'Mutated')\n",
    "\n",
    "    # Format the dataframe correctly'''\n",
    "    protdf = protdf.drop(gene+\"_Mutation\",axis=1)\n",
    "    protdf = protdf.drop(gene+\"_Location\",axis=1)\n",
    "    protdf = protdf.drop(gene+\"_Mutation_Status\", axis=1)\n",
    "    protdf = protdf.drop(\"Sample_Status\",axis=1)\n",
    "\n",
    "    # Make list of columns to be compared using t-tests\n",
    "    col_list = list(protdf.columns)\n",
    "    col_list.remove('Label')\n",
    "\n",
    "    print(\"Doing t-test comparisons\\n\")\n",
    "    \n",
    "    # Call wrap_ttest, pass in formatted dataframe\n",
    "    wrap_results = al.wrap_ttest(protdf, 'Label', col_list)\n",
    "\n",
    "    # Print results, if anything significant was found\n",
    "    if wrap_results is not None:\n",
    "            print(wrap_results)\n",
    "            print(\"\\n\\n\")\n",
    "            \n",
    "            all_significant_comparisons = add_to_all_significant_comparisons(wrap_results, \"Gbm\", False, all_significant_comparisons)\n",
    "\n",
    "\n",
    "except Exception as e:\n",
    "    print(\"Error in Comparison\")\n",
    "    print(e)"
   ]
  },
  {
   "cell_type": "markdown",
   "metadata": {},
   "source": [
    "# Print all significant comparisons"
   ]
  },
  {
   "cell_type": "code",
   "execution_count": 9,
   "metadata": {},
   "outputs": [
    {
     "data": {
      "text/html": [
       "<div>\n",
       "<style scoped>\n",
       "    .dataframe tbody tr th:only-of-type {\n",
       "        vertical-align: middle;\n",
       "    }\n",
       "\n",
       "    .dataframe tbody tr th {\n",
       "        vertical-align: top;\n",
       "    }\n",
       "\n",
       "    .dataframe thead th {\n",
       "        text-align: right;\n",
       "    }\n",
       "</style>\n",
       "<table border=\"1\" class=\"dataframe\">\n",
       "  <thead>\n",
       "    <tr style=\"text-align: right;\">\n",
       "      <th></th>\n",
       "      <th>Cancer_Type</th>\n",
       "      <th>Gene</th>\n",
       "      <th>Comparison</th>\n",
       "      <th>Interacting_Protein</th>\n",
       "      <th>P_Value</th>\n",
       "    </tr>\n",
       "  </thead>\n",
       "  <tbody>\n",
       "    <tr>\n",
       "      <td>0</td>\n",
       "      <td>Gbm</td>\n",
       "      <td>TTC6</td>\n",
       "      <td>RP1-92C8.3_transcriptomics_ENSG00000226181.1</td>\n",
       "      <td>False</td>\n",
       "      <td>9.369644e-10</td>\n",
       "    </tr>\n",
       "    <tr>\n",
       "      <td>1</td>\n",
       "      <td>Gbm</td>\n",
       "      <td>TTC6</td>\n",
       "      <td>AC073869.7_transcriptomics_ENSG00000237910.1</td>\n",
       "      <td>False</td>\n",
       "      <td>1.183402e-09</td>\n",
       "    </tr>\n",
       "    <tr>\n",
       "      <td>2</td>\n",
       "      <td>Gbm</td>\n",
       "      <td>TTC6</td>\n",
       "      <td>LINC00692_transcriptomics_ENSG00000230891.5</td>\n",
       "      <td>False</td>\n",
       "      <td>1.183402e-09</td>\n",
       "    </tr>\n",
       "    <tr>\n",
       "      <td>3</td>\n",
       "      <td>Gbm</td>\n",
       "      <td>TTC6</td>\n",
       "      <td>Metazoa_SRP_transcriptomics_ENSG00000277591.1</td>\n",
       "      <td>False</td>\n",
       "      <td>1.524282e-09</td>\n",
       "    </tr>\n",
       "    <tr>\n",
       "      <td>4</td>\n",
       "      <td>Gbm</td>\n",
       "      <td>TTC6</td>\n",
       "      <td>RNU6-1059P_transcriptomics_ENSG00000200622.1</td>\n",
       "      <td>False</td>\n",
       "      <td>1.704726e-09</td>\n",
       "    </tr>\n",
       "    <tr>\n",
       "      <td>5</td>\n",
       "      <td>Gbm</td>\n",
       "      <td>TTC6</td>\n",
       "      <td>RPL23AP22_transcriptomics_ENSG00000237213.2</td>\n",
       "      <td>False</td>\n",
       "      <td>2.567268e-09</td>\n",
       "    </tr>\n",
       "    <tr>\n",
       "      <td>6</td>\n",
       "      <td>Gbm</td>\n",
       "      <td>TTC6</td>\n",
       "      <td>AC007251.2_transcriptomics_ENSG00000277527.1</td>\n",
       "      <td>False</td>\n",
       "      <td>7.332055e-09</td>\n",
       "    </tr>\n",
       "    <tr>\n",
       "      <td>7</td>\n",
       "      <td>Gbm</td>\n",
       "      <td>TTC6</td>\n",
       "      <td>RP11-363E6.1_transcriptomics_ENSG00000254014.1</td>\n",
       "      <td>False</td>\n",
       "      <td>1.943077e-08</td>\n",
       "    </tr>\n",
       "    <tr>\n",
       "      <td>8</td>\n",
       "      <td>Gbm</td>\n",
       "      <td>TTC6</td>\n",
       "      <td>LINC00383_transcriptomics_ENSG00000237534.1</td>\n",
       "      <td>False</td>\n",
       "      <td>2.437133e-08</td>\n",
       "    </tr>\n",
       "    <tr>\n",
       "      <td>9</td>\n",
       "      <td>Gbm</td>\n",
       "      <td>TTC6</td>\n",
       "      <td>CTD-2231E14.4_transcriptomics_ENSG00000267517.1</td>\n",
       "      <td>False</td>\n",
       "      <td>2.566330e-08</td>\n",
       "    </tr>\n",
       "    <tr>\n",
       "      <td>10</td>\n",
       "      <td>Gbm</td>\n",
       "      <td>TTC6</td>\n",
       "      <td>RN7SL42P_transcriptomics_ENSG00000263999.2</td>\n",
       "      <td>False</td>\n",
       "      <td>3.992894e-08</td>\n",
       "    </tr>\n",
       "    <tr>\n",
       "      <td>11</td>\n",
       "      <td>Gbm</td>\n",
       "      <td>TTC6</td>\n",
       "      <td>RP11-676B18.1_transcriptomics_ENSG00000279511.1</td>\n",
       "      <td>False</td>\n",
       "      <td>5.035850e-08</td>\n",
       "    </tr>\n",
       "    <tr>\n",
       "      <td>12</td>\n",
       "      <td>Gbm</td>\n",
       "      <td>TTC6</td>\n",
       "      <td>MAGEC2_transcriptomics_ENSG00000046774.9</td>\n",
       "      <td>False</td>\n",
       "      <td>7.374542e-08</td>\n",
       "    </tr>\n",
       "    <tr>\n",
       "      <td>13</td>\n",
       "      <td>Gbm</td>\n",
       "      <td>TTC6</td>\n",
       "      <td>KRT18P39_transcriptomics_ENSG00000224791.1</td>\n",
       "      <td>False</td>\n",
       "      <td>8.039806e-08</td>\n",
       "    </tr>\n",
       "    <tr>\n",
       "      <td>14</td>\n",
       "      <td>Gbm</td>\n",
       "      <td>TTC6</td>\n",
       "      <td>MAGEA6_transcriptomics_ENSG00000197172.9</td>\n",
       "      <td>False</td>\n",
       "      <td>1.633205e-07</td>\n",
       "    </tr>\n",
       "    <tr>\n",
       "      <td>15</td>\n",
       "      <td>Gbm</td>\n",
       "      <td>TTC6</td>\n",
       "      <td>RNA5-8S5_transcriptomics_ENSG00000278189.1</td>\n",
       "      <td>False</td>\n",
       "      <td>2.098911e-07</td>\n",
       "    </tr>\n",
       "    <tr>\n",
       "      <td>16</td>\n",
       "      <td>Gbm</td>\n",
       "      <td>TTC6</td>\n",
       "      <td>OR5H7P_transcriptomics_ENSG00000187900.4</td>\n",
       "      <td>False</td>\n",
       "      <td>2.790953e-07</td>\n",
       "    </tr>\n",
       "    <tr>\n",
       "      <td>17</td>\n",
       "      <td>Gbm</td>\n",
       "      <td>TTC6</td>\n",
       "      <td>Y_RNA_transcriptomics_ENSG00000199245.1</td>\n",
       "      <td>False</td>\n",
       "      <td>3.358619e-07</td>\n",
       "    </tr>\n",
       "    <tr>\n",
       "      <td>18</td>\n",
       "      <td>Gbm</td>\n",
       "      <td>TTC6</td>\n",
       "      <td>HIGD1AP17_transcriptomics_ENSG00000258886.2</td>\n",
       "      <td>False</td>\n",
       "      <td>3.538052e-07</td>\n",
       "    </tr>\n",
       "    <tr>\n",
       "      <td>19</td>\n",
       "      <td>Gbm</td>\n",
       "      <td>TTC6</td>\n",
       "      <td>RPL7AP56_transcriptomics_ENSG00000242834.1</td>\n",
       "      <td>False</td>\n",
       "      <td>4.367607e-07</td>\n",
       "    </tr>\n",
       "    <tr>\n",
       "      <td>20</td>\n",
       "      <td>Gbm</td>\n",
       "      <td>TTC6</td>\n",
       "      <td>IGF2BP2-AS1_transcriptomics_ENSG00000163915.6</td>\n",
       "      <td>False</td>\n",
       "      <td>4.804362e-07</td>\n",
       "    </tr>\n",
       "    <tr>\n",
       "      <td>21</td>\n",
       "      <td>Gbm</td>\n",
       "      <td>TTC6</td>\n",
       "      <td>RP11-470B22.1_transcriptomics_ENSG00000270390.1</td>\n",
       "      <td>False</td>\n",
       "      <td>5.325975e-07</td>\n",
       "    </tr>\n",
       "    <tr>\n",
       "      <td>22</td>\n",
       "      <td>Gbm</td>\n",
       "      <td>TTC6</td>\n",
       "      <td>RP11-1223D19.1_transcriptomics_ENSG00000261760.5</td>\n",
       "      <td>False</td>\n",
       "      <td>5.473516e-07</td>\n",
       "    </tr>\n",
       "    <tr>\n",
       "      <td>23</td>\n",
       "      <td>Gbm</td>\n",
       "      <td>TTC6</td>\n",
       "      <td>SNORA18_transcriptomics_ENSG00000200288.1</td>\n",
       "      <td>False</td>\n",
       "      <td>6.573728e-07</td>\n",
       "    </tr>\n",
       "  </tbody>\n",
       "</table>\n",
       "</div>"
      ],
      "text/plain": [
       "   Cancer_Type  Gene                                        Comparison  \\\n",
       "0          Gbm  TTC6      RP1-92C8.3_transcriptomics_ENSG00000226181.1   \n",
       "1          Gbm  TTC6      AC073869.7_transcriptomics_ENSG00000237910.1   \n",
       "2          Gbm  TTC6       LINC00692_transcriptomics_ENSG00000230891.5   \n",
       "3          Gbm  TTC6     Metazoa_SRP_transcriptomics_ENSG00000277591.1   \n",
       "4          Gbm  TTC6      RNU6-1059P_transcriptomics_ENSG00000200622.1   \n",
       "5          Gbm  TTC6       RPL23AP22_transcriptomics_ENSG00000237213.2   \n",
       "6          Gbm  TTC6      AC007251.2_transcriptomics_ENSG00000277527.1   \n",
       "7          Gbm  TTC6    RP11-363E6.1_transcriptomics_ENSG00000254014.1   \n",
       "8          Gbm  TTC6       LINC00383_transcriptomics_ENSG00000237534.1   \n",
       "9          Gbm  TTC6   CTD-2231E14.4_transcriptomics_ENSG00000267517.1   \n",
       "10         Gbm  TTC6        RN7SL42P_transcriptomics_ENSG00000263999.2   \n",
       "11         Gbm  TTC6   RP11-676B18.1_transcriptomics_ENSG00000279511.1   \n",
       "12         Gbm  TTC6          MAGEC2_transcriptomics_ENSG00000046774.9   \n",
       "13         Gbm  TTC6        KRT18P39_transcriptomics_ENSG00000224791.1   \n",
       "14         Gbm  TTC6          MAGEA6_transcriptomics_ENSG00000197172.9   \n",
       "15         Gbm  TTC6        RNA5-8S5_transcriptomics_ENSG00000278189.1   \n",
       "16         Gbm  TTC6          OR5H7P_transcriptomics_ENSG00000187900.4   \n",
       "17         Gbm  TTC6           Y_RNA_transcriptomics_ENSG00000199245.1   \n",
       "18         Gbm  TTC6       HIGD1AP17_transcriptomics_ENSG00000258886.2   \n",
       "19         Gbm  TTC6        RPL7AP56_transcriptomics_ENSG00000242834.1   \n",
       "20         Gbm  TTC6     IGF2BP2-AS1_transcriptomics_ENSG00000163915.6   \n",
       "21         Gbm  TTC6   RP11-470B22.1_transcriptomics_ENSG00000270390.1   \n",
       "22         Gbm  TTC6  RP11-1223D19.1_transcriptomics_ENSG00000261760.5   \n",
       "23         Gbm  TTC6         SNORA18_transcriptomics_ENSG00000200288.1   \n",
       "\n",
       "   Interacting_Protein       P_Value  \n",
       "0                False  9.369644e-10  \n",
       "1                False  1.183402e-09  \n",
       "2                False  1.183402e-09  \n",
       "3                False  1.524282e-09  \n",
       "4                False  1.704726e-09  \n",
       "5                False  2.567268e-09  \n",
       "6                False  7.332055e-09  \n",
       "7                False  1.943077e-08  \n",
       "8                False  2.437133e-08  \n",
       "9                False  2.566330e-08  \n",
       "10               False  3.992894e-08  \n",
       "11               False  5.035850e-08  \n",
       "12               False  7.374542e-08  \n",
       "13               False  8.039806e-08  \n",
       "14               False  1.633205e-07  \n",
       "15               False  2.098911e-07  \n",
       "16               False  2.790953e-07  \n",
       "17               False  3.358619e-07  \n",
       "18               False  3.538052e-07  \n",
       "19               False  4.367607e-07  \n",
       "20               False  4.804362e-07  \n",
       "21               False  5.325975e-07  \n",
       "22               False  5.473516e-07  \n",
       "23               False  6.573728e-07  "
      ]
     },
     "metadata": {},
     "output_type": "display_data"
    }
   ],
   "source": [
    "if len(all_significant_comparisons) > 0:\n",
    "    display(all_significant_comparisons)\n",
    "    \n",
    "else:\n",
    "    print('No Significant Comparisons!')"
   ]
  },
  {
   "cell_type": "markdown",
   "metadata": {},
   "source": [
    "### Write Significant Comparisons (if any) to Shared CSV file"
   ]
  },
  {
   "cell_type": "code",
   "execution_count": null,
   "metadata": {},
   "outputs": [],
   "source": [
    "'''\n",
    "existing_results = pd.read_csv(gene+'_Trans_Results.csv')\n",
    "\n",
    "updated_results = pd.concat([existing_results, all_significant_comparisons], sort=False)\n",
    "\n",
    "updated_results.to_csv(path_or_buf = gene + '_Trans_Results.csv', index=False)'''"
   ]
  }
 ],
 "metadata": {
  "kernelspec": {
   "display_name": "Python 3",
   "language": "python",
   "name": "python3"
  },
  "language_info": {
   "codemirror_mode": {
    "name": "ipython",
    "version": 3
   },
   "file_extension": ".py",
   "mimetype": "text/x-python",
   "name": "python",
   "nbconvert_exporter": "python",
   "pygments_lexer": "ipython3",
   "version": "3.7.3"
  }
 },
 "nbformat": 4,
 "nbformat_minor": 2
}
