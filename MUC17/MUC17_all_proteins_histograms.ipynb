{
 "cells": [
  {
   "cell_type": "markdown",
   "metadata": {},
   "source": [
    "# MUC17 trans effect histograms for all proteins\n"
   ]
  },
  {
   "cell_type": "markdown",
   "metadata": {},
   "source": [
    "This notebook analyzes the trans effect of TP53 mutation for all proteins."
   ]
  },
  {
   "cell_type": "markdown",
   "metadata": {},
   "source": [
    "### Library Imports"
   ]
  },
  {
   "cell_type": "code",
   "execution_count": 1,
   "metadata": {},
   "outputs": [],
   "source": [
    "import pandas as pd\n",
    "import numpy as np\n",
    "import scipy.stats\n",
    "import seaborn as sns\n",
    "import matplotlib.pyplot as plt\n",
    "import gseapy as gp\n",
    "from gseapy.plot import barplot, dotplot\n",
    "\n",
    "import warnings\n",
    "warnings.filterwarnings(\"ignore\")\n",
    "\n",
    "import cptac\n",
    "import cptac.utils as al"
   ]
  },
  {
   "cell_type": "code",
   "execution_count": 2,
   "metadata": {},
   "outputs": [
    {
     "name": "stdout",
     "output_type": "stream",
     "text": [
      "                                    \r"
     ]
    }
   ],
   "source": [
    "brain = cptac.Gbm()"
   ]
  },
  {
   "cell_type": "markdown",
   "metadata": {},
   "source": [
    "### Specify Gene"
   ]
  },
  {
   "cell_type": "code",
   "execution_count": 3,
   "metadata": {},
   "outputs": [],
   "source": [
    "gene = \"MUC17\""
   ]
  },
  {
   "cell_type": "markdown",
   "metadata": {},
   "source": [
    "# Transcriptomics: All Proteins"
   ]
  },
  {
   "cell_type": "code",
   "execution_count": 4,
   "metadata": {},
   "outputs": [
    {
     "name": "stdout",
     "output_type": "stream",
     "text": [
      "\n",
      "Gene:  MUC17\n"
     ]
    },
    {
     "name": "stderr",
     "output_type": "stream",
     "text": [
      "Warning: In joining the somatic_mutation table, no mutations were found for the following samples, so they were filled with Wildtype_Tumor or Wildtype_Normal: 100 samples for the MUC17 gene (C:\\Users\\brittany henderson\\Anaconda3\\envs\\Research\\lib\\site-packages\\ipykernel_launcher.py, line 9)\n"
     ]
    },
    {
     "name": "stdout",
     "output_type": "stream",
     "text": [
      "Doing t-test comparisons\n",
      "\n",
      "11 significant comparisons!\n",
      "Number of comparisons: 60482\n",
      "Bonferroni cutoff =  8.266922390132602e-07\n",
      "Logged Bonferroni cutoff =  -6.0826561395096865\n"
     ]
    }
   ],
   "source": [
    "transcrpt = \"transcriptomics\"\n",
    "\n",
    "try:\n",
    "    print(\"\\nGene: \", gene)\n",
    "\n",
    "    #Use all proteins\n",
    "\n",
    "    #Create dataframe in order to do comparisons with wrap_ttest\n",
    "    transcrpt_df = brain.join_omics_to_mutations(mutations_genes=[gene], omics_df_name=transcrpt)\n",
    "    transcrpt_df = brain.reduce_multiindex(transcrpt_df, flatten=True)\n",
    "    transcrpt_df = transcrpt_df[transcrpt_df.Sample_Status == 'Tumor'] # drop Normal samples\n",
    "    #Remove Cis interactions \n",
    "    transcrpt_df = transcrpt_df.loc[:,~transcrpt_df.columns.str.contains(gene+'_transcriptomics')] # change for each gene \n",
    "    transcrpt_df = transcrpt_df.dropna(axis=1, how='all') # drop columns with all NaN data\n",
    "    \n",
    "    #Create the binary valued column needed to do the comparison\n",
    "    for ind, row in transcrpt_df.iterrows():\n",
    "        if row[gene+\"_Mutation_Status\"] != 'Wildtype_Tumor':\n",
    "            transcrpt_df.at[ind,'Label'] = 'Mutated'\n",
    "        else:\n",
    "            transcrpt_df.at[ind,'Label'] = 'Wildtype'\n",
    "\n",
    "    #Format the datafram correctly\n",
    "    transcrpt_df = transcrpt_df.drop(gene+\"_Mutation\",axis=1)\n",
    "    transcrpt_df = transcrpt_df.drop(gene+\"_Location\",axis=1)\n",
    "    transcrpt_df = transcrpt_df.drop(gene+\"_Mutation_Status\", axis=1)\n",
    "    transcrpt_df = transcrpt_df.drop(\"Sample_Status\",axis=1)\n",
    "\n",
    "    #Make list of columns to be compared using t-tests\n",
    "    t_col_list = list(transcrpt_df.columns)\n",
    "    t_col_list.remove('Label')\n",
    "\n",
    "    print(\"Doing t-test comparisons\\n\")\n",
    "    \n",
    "    #Call wrap_ttest, pass in formatted dataframe\n",
    "    transcrpt_all_comparisons = al.wrap_ttest(transcrpt_df, 'Label', t_col_list, return_all=True)\n",
    "\n",
    "    t_num_comparisons = len(t_col_list)\n",
    "    print(\"Number of comparisons:\", t_num_comparisons)\n",
    "    t_bonferroni_cutoff = .05 / t_num_comparisons\n",
    "    print(\"Bonferroni cutoff = \", t_bonferroni_cutoff)\n",
    "    print(\"Logged Bonferroni cutoff = \", np.log10(t_bonferroni_cutoff))\n",
    "\n",
    "except Exception as e:\n",
    "    print(\"Error in Comparison\")\n",
    "    print(e)"
   ]
  },
  {
   "cell_type": "markdown",
   "metadata": {},
   "source": [
    "Transcriptomics: Print Significant Comparisons"
   ]
  },
  {
   "cell_type": "code",
   "execution_count": 5,
   "metadata": {},
   "outputs": [
    {
     "name": "stdout",
     "output_type": "stream",
     "text": [
      "Number of significant comparisons for Transcriptomics:  11\n"
     ]
    },
    {
     "data": {
      "text/html": [
       "<div>\n",
       "<style scoped>\n",
       "    .dataframe tbody tr th:only-of-type {\n",
       "        vertical-align: middle;\n",
       "    }\n",
       "\n",
       "    .dataframe tbody tr th {\n",
       "        vertical-align: top;\n",
       "    }\n",
       "\n",
       "    .dataframe thead th {\n",
       "        text-align: right;\n",
       "    }\n",
       "</style>\n",
       "<table border=\"1\" class=\"dataframe\">\n",
       "  <thead>\n",
       "    <tr style=\"text-align: right;\">\n",
       "      <th></th>\n",
       "      <th>Comparison</th>\n",
       "      <th>P_Value</th>\n",
       "    </tr>\n",
       "  </thead>\n",
       "  <tbody>\n",
       "    <tr>\n",
       "      <td>0</td>\n",
       "      <td>SNORA70_transcriptomics_ENSG00000207098.1</td>\n",
       "      <td>1.450738e-09</td>\n",
       "    </tr>\n",
       "    <tr>\n",
       "      <td>1</td>\n",
       "      <td>LINC00664_transcriptomics_ENSG00000268658.4</td>\n",
       "      <td>5.989915e-09</td>\n",
       "    </tr>\n",
       "    <tr>\n",
       "      <td>2</td>\n",
       "      <td>RP11-777B9.4_transcriptomics_ENSG00000248128.1</td>\n",
       "      <td>2.023597e-08</td>\n",
       "    </tr>\n",
       "    <tr>\n",
       "      <td>3</td>\n",
       "      <td>CALCA_transcriptomics_ENSG00000110680.11</td>\n",
       "      <td>3.233407e-08</td>\n",
       "    </tr>\n",
       "    <tr>\n",
       "      <td>4</td>\n",
       "      <td>CTD-2384A14.1_transcriptomics_ENSG00000258038.4</td>\n",
       "      <td>2.223245e-07</td>\n",
       "    </tr>\n",
       "    <tr>\n",
       "      <td>5</td>\n",
       "      <td>CD177_transcriptomics_ENSG00000204936.8</td>\n",
       "      <td>2.839858e-07</td>\n",
       "    </tr>\n",
       "    <tr>\n",
       "      <td>6</td>\n",
       "      <td>Y_RNA_transcriptomics_ENSG00000252266.1</td>\n",
       "      <td>3.925775e-07</td>\n",
       "    </tr>\n",
       "    <tr>\n",
       "      <td>7</td>\n",
       "      <td>MTND2P14_transcriptomics_ENSG00000240796.1</td>\n",
       "      <td>4.403884e-07</td>\n",
       "    </tr>\n",
       "    <tr>\n",
       "      <td>8</td>\n",
       "      <td>PRSS58_transcriptomics_ENSG00000258223.5</td>\n",
       "      <td>4.808673e-07</td>\n",
       "    </tr>\n",
       "    <tr>\n",
       "      <td>9</td>\n",
       "      <td>RP5-827O9.1_transcriptomics_ENSG00000229201.1</td>\n",
       "      <td>5.113412e-07</td>\n",
       "    </tr>\n",
       "    <tr>\n",
       "      <td>10</td>\n",
       "      <td>AC079163.1_transcriptomics_ENSG00000226218.1</td>\n",
       "      <td>6.750077e-07</td>\n",
       "    </tr>\n",
       "  </tbody>\n",
       "</table>\n",
       "</div>"
      ],
      "text/plain": [
       "                                         Comparison       P_Value\n",
       "0         SNORA70_transcriptomics_ENSG00000207098.1  1.450738e-09\n",
       "1       LINC00664_transcriptomics_ENSG00000268658.4  5.989915e-09\n",
       "2    RP11-777B9.4_transcriptomics_ENSG00000248128.1  2.023597e-08\n",
       "3          CALCA_transcriptomics_ENSG00000110680.11  3.233407e-08\n",
       "4   CTD-2384A14.1_transcriptomics_ENSG00000258038.4  2.223245e-07\n",
       "5           CD177_transcriptomics_ENSG00000204936.8  2.839858e-07\n",
       "6           Y_RNA_transcriptomics_ENSG00000252266.1  3.925775e-07\n",
       "7        MTND2P14_transcriptomics_ENSG00000240796.1  4.403884e-07\n",
       "8          PRSS58_transcriptomics_ENSG00000258223.5  4.808673e-07\n",
       "9     RP5-827O9.1_transcriptomics_ENSG00000229201.1  5.113412e-07\n",
       "10     AC079163.1_transcriptomics_ENSG00000226218.1  6.750077e-07"
      ]
     },
     "execution_count": 5,
     "metadata": {},
     "output_type": "execute_result"
    }
   ],
   "source": [
    "transcrpt_all_comparisons = transcrpt_all_comparisons.dropna(axis=0)\n",
    "transcrpt_sig_comparisons = transcrpt_all_comparisons.loc[transcrpt_all_comparisons['P_Value'] <= t_bonferroni_cutoff]\n",
    "print(\"Number of significant comparisons for Transcriptomics: \", len(transcrpt_sig_comparisons))\n",
    "transcrpt_sig_comparisons"
   ]
  },
  {
   "cell_type": "markdown",
   "metadata": {},
   "source": [
    "Transcriptomics: Histogram for all proteins"
   ]
  },
  {
   "cell_type": "code",
   "execution_count": 6,
   "metadata": {},
   "outputs": [
    {
     "data": {
      "image/png": "[encoded data removed]",
      "text/plain": [
       "<Figure size 720x576 with 1 Axes>"
      ]
     },
     "metadata": {},
     "output_type": "display_data"
    }
   ],
   "source": [
    "# Create series of p-values for Histogram\n",
    "transcrpt_pval_series = transcrpt_all_comparisons['P_Value']\n",
    "\n",
    "# Format figure size and font\n",
    "plt.rcParams['figure.figsize']=(10,8)\n",
    "sns.set(font_scale = 1.3)\n",
    "\n",
    "# Create log scale for the x-axis\n",
    "plt.xscale('log')\n",
    "t_log_min, t_log_max = np.log10(transcrpt_pval_series.min()), np.log10(transcrpt_pval_series.max())\n",
    "t_bins = np.logspace(t_log_min - 1, t_log_max, 100) # change bin number here\n",
    "histogram = sns.distplot(transcrpt_pval_series, bins = t_bins, kde=False, color='navy') \n",
    "\n",
    "# Format title and axis\n",
    "histogram.set_title(\"P_Value Distribution for \"+gene+\" trans Transcriptomics\")\n",
    "histogram.set(ylabel = 'Number of Proteins')\n",
    "#plt.xlim([10e-9,10e-1])\n",
    "#plt.ylim([0, 3500]) # change y-axis range\n",
    "\n",
    "# Graph cutoffs: alpha = green, bonferroni = red\n",
    "plt.axvline(t_bonferroni_cutoff, 0, 0.95, linewidth=2, color='r')\n",
    "plt.axvline(0.05, 0, 0.95, linewidth=2, color='g')\n",
    "\n",
    "plt.show()\n",
    "plt.clf()\n",
    "plt.close()"
   ]
  },
  {
   "cell_type": "markdown",
   "metadata": {},
   "source": [
    "Transcriptomics zoomed in"
   ]
  },
  {
   "cell_type": "code",
   "execution_count": 7,
   "metadata": {},
   "outputs": [
    {
     "data": {
      "image/png": "[encoded data removed]",
      "text/plain": [
       "<Figure size 720x576 with 1 Axes>"
      ]
     },
     "metadata": {},
     "output_type": "display_data"
    }
   ],
   "source": [
    "# Select p-values within range 0 - end_value \n",
    "t_end_value = 0.01\n",
    "transcrpt_zoomed = transcrpt_pval_series.loc[transcrpt_pval_series <= t_end_value]\n",
    "\n",
    "# Format size of figure and font\n",
    "plt.rcParams['figure.figsize']=(10,8)\n",
    "sns.set(font_scale = 1.3)\n",
    "\n",
    "# Create log scale for the x-axis\n",
    "plt.xscale('log')\n",
    "t_zoomed_log_min, t_zoomed_log_max = np.log10(transcrpt_zoomed.min()),np.log10(transcrpt_zoomed.max())\n",
    "t_zoomed_bins = np.logspace(t_zoomed_log_min - 1, t_zoomed_log_max, 100) # change this number for more or less bins\n",
    "histogram = sns.distplot(transcrpt_zoomed, bins=t_zoomed_bins, kde=False, color='teal')\n",
    "\n",
    "# Format title and axis\n",
    "histogram.set_title(\"P_Value Distribution for \"+gene+\" trans Transcriptomics (P_Value < \" + str(t_end_value) + \")\")\n",
    "histogram.set(ylabel = 'Number of Proteins')\n",
    "plt.xlim([10e-9,10e-3])\n",
    "#plt.ylim([0.0,400]) # change y axis intervals\n",
    "\n",
    "# Create bonferroni cutoff line \n",
    "plt.axvline(t_bonferroni_cutoff, 0, .95, linewidth=2, color='r') # cutoff line parameters: (cutoff, 0, height)\n",
    "\n",
    "plt.show()\n",
    "plt.clf()\n",
    "plt.close()"
   ]
  },
  {
   "cell_type": "code",
   "execution_count": 8,
   "metadata": {},
   "outputs": [
    {
     "name": "stdout",
     "output_type": "stream",
     "text": [
      "Number of Transcriptomics comparisons for gsea:  100\n"
     ]
    },
    {
     "name": "stderr",
     "output_type": "stream",
     "text": [
      "2019-11-02 16:23:46,933 Warning: No enrich terms using library KEGG_2016 when cutoff = 0.05\n"
     ]
    },
    {
     "data": {
      "text/html": [
       "<div>\n",
       "<style scoped>\n",
       "    .dataframe tbody tr th:only-of-type {\n",
       "        vertical-align: middle;\n",
       "    }\n",
       "\n",
       "    .dataframe tbody tr th {\n",
       "        vertical-align: top;\n",
       "    }\n",
       "\n",
       "    .dataframe thead th {\n",
       "        text-align: right;\n",
       "    }\n",
       "</style>\n",
       "<table border=\"1\" class=\"dataframe\">\n",
       "  <thead>\n",
       "    <tr style=\"text-align: right;\">\n",
       "      <th></th>\n",
       "      <th>Term</th>\n",
       "      <th>Overlap</th>\n",
       "      <th>P-value</th>\n",
       "      <th>Adjusted P-value</th>\n",
       "      <th>Old P-value</th>\n",
       "      <th>Old Adjusted P-value</th>\n",
       "      <th>Odds Ratio</th>\n",
       "      <th>Combined Score</th>\n",
       "      <th>Genes</th>\n",
       "      <th>Gene_set</th>\n",
       "    </tr>\n",
       "  </thead>\n",
       "  <tbody>\n",
       "    <tr>\n",
       "      <td>0</td>\n",
       "      <td>Protein digestion and absorption_Homo sapiens_...</td>\n",
       "      <td>3/90</td>\n",
       "      <td>0.005069</td>\n",
       "      <td>1.000000</td>\n",
       "      <td>0</td>\n",
       "      <td>0</td>\n",
       "      <td>8.658009</td>\n",
       "      <td>45.753374</td>\n",
       "      <td>PRSS1;CPA1;CTRB1</td>\n",
       "      <td>KEGG_2016</td>\n",
       "    </tr>\n",
       "    <tr>\n",
       "      <td>1</td>\n",
       "      <td>Pancreatic secretion_Homo sapiens_hsa04972</td>\n",
       "      <td>3/96</td>\n",
       "      <td>0.006065</td>\n",
       "      <td>0.888519</td>\n",
       "      <td>0</td>\n",
       "      <td>0</td>\n",
       "      <td>8.116883</td>\n",
       "      <td>41.438515</td>\n",
       "      <td>PRSS1;CPA1;CTRB1</td>\n",
       "      <td>KEGG_2016</td>\n",
       "    </tr>\n",
       "    <tr>\n",
       "      <td>2</td>\n",
       "      <td>Glycosphingolipid biosynthesis - lacto and neo...</td>\n",
       "      <td>1/26</td>\n",
       "      <td>0.095484</td>\n",
       "      <td>1.000000</td>\n",
       "      <td>0</td>\n",
       "      <td>0</td>\n",
       "      <td>9.990010</td>\n",
       "      <td>23.464462</td>\n",
       "      <td>FUT5</td>\n",
       "      <td>KEGG_2016</td>\n",
       "    </tr>\n",
       "    <tr>\n",
       "      <td>3</td>\n",
       "      <td>Phototransduction_Homo sapiens_hsa04744</td>\n",
       "      <td>1/27</td>\n",
       "      <td>0.098971</td>\n",
       "      <td>1.000000</td>\n",
       "      <td>0</td>\n",
       "      <td>0</td>\n",
       "      <td>9.620010</td>\n",
       "      <td>22.250366</td>\n",
       "      <td>GUCA1A</td>\n",
       "      <td>KEGG_2016</td>\n",
       "    </tr>\n",
       "    <tr>\n",
       "      <td>4</td>\n",
       "      <td>Fat digestion and absorption_Homo sapiens_hsa0...</td>\n",
       "      <td>1/41</td>\n",
       "      <td>0.146417</td>\n",
       "      <td>1.000000</td>\n",
       "      <td>0</td>\n",
       "      <td>0</td>\n",
       "      <td>6.335128</td>\n",
       "      <td>12.171646</td>\n",
       "      <td>CLPS</td>\n",
       "      <td>KEGG_2016</td>\n",
       "    </tr>\n",
       "  </tbody>\n",
       "</table>\n",
       "</div>"
      ],
      "text/plain": [
       "                                                Term Overlap   P-value  \\\n",
       "0  Protein digestion and absorption_Homo sapiens_...    3/90  0.005069   \n",
       "1         Pancreatic secretion_Homo sapiens_hsa04972    3/96  0.006065   \n",
       "2  Glycosphingolipid biosynthesis - lacto and neo...    1/26  0.095484   \n",
       "3            Phototransduction_Homo sapiens_hsa04744    1/27  0.098971   \n",
       "4  Fat digestion and absorption_Homo sapiens_hsa0...    1/41  0.146417   \n",
       "\n",
       "   Adjusted P-value  Old P-value  Old Adjusted P-value  Odds Ratio  \\\n",
       "0          1.000000            0                     0    8.658009   \n",
       "1          0.888519            0                     0    8.116883   \n",
       "2          1.000000            0                     0    9.990010   \n",
       "3          1.000000            0                     0    9.620010   \n",
       "4          1.000000            0                     0    6.335128   \n",
       "\n",
       "   Combined Score             Genes   Gene_set  \n",
       "0       45.753374  PRSS1;CPA1;CTRB1  KEGG_2016  \n",
       "1       41.438515  PRSS1;CPA1;CTRB1  KEGG_2016  \n",
       "2       23.464462              FUT5  KEGG_2016  \n",
       "3       22.250366            GUCA1A  KEGG_2016  \n",
       "4       12.171646              CLPS  KEGG_2016  "
      ]
     },
     "execution_count": 8,
     "metadata": {},
     "output_type": "execute_result"
    }
   ],
   "source": [
    "# 100 genes\n",
    "t_gsea = transcrpt_all_comparisons.sort_values(by = 'P_Value')\n",
    "t_first_fifty = t_gsea.iloc[:100]\n",
    "\n",
    "# create gene list\n",
    "t_genes = t_first_fifty['Comparison']\n",
    "t_genes.replace(to_replace = '_transcriptomics.*$', value = '', \n",
    "                        inplace = True, regex = True) # shorten column names\n",
    "t_genes.replace(to_replace = '-.*$', value = '', \n",
    "                        inplace = True, regex = True) # shorten column names\n",
    "t_genes_list = list(t_genes)\n",
    "print(\"Number of Transcriptomics comparisons for gsea: \", len(t_genes_list))\n",
    "\n",
    "t_enr = gp.enrichr(gene_list = t_genes_list, description='Transcriptomics_Comparisons', gene_sets='KEGG_2016', \n",
    "                       outdir='Enrichment Analysis')\n",
    "\n",
    "t_enr.res2d.head()"
   ]
  },
  {
   "cell_type": "markdown",
   "metadata": {},
   "source": [
    "# Proteomics: All Proteins"
   ]
  },
  {
   "cell_type": "markdown",
   "metadata": {},
   "source": [
    "No data for MUC17."
   ]
  },
  {
   "cell_type": "code",
   "execution_count": 9,
   "metadata": {},
   "outputs": [
    {
     "name": "stdout",
     "output_type": "stream",
     "text": [
      "\n",
      "Gene:  MUC17\n",
      "Error in Comparison\n",
      "\"['MUC17_proteomics'] not found in axis\"\n"
     ]
    },
    {
     "name": "stderr",
     "output_type": "stream",
     "text": [
      "Warning: In joining the somatic_mutation table, no mutations were found for the following samples, so they were filled with Wildtype_Tumor or Wildtype_Normal: 101 samples for the MUC17 gene (C:\\Users\\brittany henderson\\Anaconda3\\envs\\Research\\lib\\site-packages\\ipykernel_launcher.py, line 9)\n",
      "Warning: You tried to flatten an index that didn't have multiple levels, so we didn't actually change anything. (C:\\Users\\brittany henderson\\Anaconda3\\envs\\Research\\lib\\site-packages\\ipykernel_launcher.py, line 10)\n"
     ]
    }
   ],
   "source": [
    "prot = \"proteomics\"\n",
    "\n",
    "try:\n",
    "    print(\"\\nGene: \", gene)\n",
    "\n",
    "    #Use all proteins\n",
    "\n",
    "    #Create dataframe in order to do comparisons with wrap_ttest\n",
    "    protdf = brain.join_omics_to_mutations(mutations_genes=[gene], omics_df_name=prot)\n",
    "    protdf = brain.reduce_multiindex(protdf, flatten=True)\n",
    "    protdf = protdf[protdf.Sample_Status == 'Tumor'] # drop Normal samples\n",
    "    \n",
    "    #Remove Cis interactions \n",
    "    protdf = protdf.drop(columns = gene+\"_proteomics\") # change for each gene \n",
    "    protdf = protdf.dropna(axis=1, how='all') # drop columns with all NaN data\n",
    "    \n",
    "    #Create the binary valued column needed to do the comparison\n",
    "    for ind, row in protdf.iterrows():\n",
    "        if row[gene+\"_Mutation_Status\"] != 'Wildtype_Tumor':\n",
    "            protdf.at[ind,'Label'] = 'Mutated'\n",
    "        else:\n",
    "            protdf.at[ind,'Label'] = 'Wildtype'\n",
    "\n",
    "    #Format the datafram correctly\n",
    "    protdf = protdf.drop(gene+\"_Mutation\",axis=1)\n",
    "    protdf = protdf.drop(gene+\"_Location\",axis=1)\n",
    "    protdf = protdf.drop(gene+\"_Mutation_Status\", axis=1)\n",
    "    protdf = protdf.drop(\"Sample_Status\",axis=1)\n",
    "\n",
    "    #Make list of columns to be compared using t-tests\n",
    "    prot_col_list = list(protdf.columns)\n",
    "    prot_col_list.remove('Label')\n",
    "\n",
    "    print(\"Doing t-test comparisons\\n\")\n",
    "    \n",
    "    #Call wrap_ttest, pass in formatted dataframe\n",
    "    prot_all_comparisons = al.wrap_ttest(protdf, 'Label', prot_col_list, return_all=True)\n",
    "\n",
    "    prot_num_comparisons = len(prot_col_list)\n",
    "    print(\"Number of comparisons:\", prot_num_comparisons)\n",
    "    prot_bonferroni_cutoff = .05 / prot_num_comparisons\n",
    "    print(\"Bonferroni cutoff = \", prot_bonferroni_cutoff)\n",
    "    print(\"Logged Bonferroni cutoff = \", np.log10(prot_bonferroni_cutoff))\n",
    "\n",
    "\n",
    "except Exception as e:\n",
    "    print(\"Error in Comparison\")\n",
    "    print(e)"
   ]
  },
  {
   "cell_type": "markdown",
   "metadata": {},
   "source": [
    "# Phosphoproteomics: All Proteins"
   ]
  },
  {
   "cell_type": "code",
   "execution_count": 11,
   "metadata": {},
   "outputs": [
    {
     "name": "stdout",
     "output_type": "stream",
     "text": [
      "\n",
      "Gene:  MUC17\n"
     ]
    },
    {
     "name": "stderr",
     "output_type": "stream",
     "text": [
      "Warning: In joining the somatic_mutation table, no mutations were found for the following samples, so they were filled with Wildtype_Tumor or Wildtype_Normal: 101 samples for the MUC17 gene (C:\\Users\\brittany henderson\\Anaconda3\\envs\\Research\\lib\\site-packages\\ipykernel_launcher.py, line 7)\n"
     ]
    },
    {
     "name": "stdout",
     "output_type": "stream",
     "text": [
      "Doing t-test comparisons\n",
      "\n",
      "No significant comparisons.\n",
      "Number of comparisons: 101264\n",
      "Bonferroni cutoff =  4.937588876599779e-07\n",
      "Logged Bonferroni cutoff =  4.937588876599779e-07\n"
     ]
    }
   ],
   "source": [
    "phos = 'phosphoproteomics'\n",
    "\n",
    "try:\n",
    "    print(\"\\nGene: \", gene)\n",
    "\n",
    "    # Create dataframe in order to do comparisons with wrap_ttest\n",
    "    phosdf = brain.join_omics_to_mutations(mutations_genes=[gene], omics_df_name=phos)\n",
    "    phosdf = brain.reduce_multiindex(phosdf, flatten = True)\n",
    "    phosdf = phosdf.loc[phosdf['Sample_Status'] == 'Tumor']\n",
    "    \n",
    "    #Remove Cis interactions\n",
    "    phosdf = phosdf.loc[:,~phosdf.columns.str.contains(gene+'_phosphoproteomics')]\n",
    "    phosdf = phosdf.dropna(axis=1, how='all') # drop columns with all NaN data\n",
    "    \n",
    "    \n",
    "    # Create the binary valued column needed to do the comparison\n",
    "    for ind, row in phosdf.iterrows():\n",
    "        if row[gene+\"_Mutation_Status\"] != 'Wildtype_Tumor':\n",
    "            phosdf.at[ind,'Label'] = 'Mutated'\n",
    "        else:\n",
    "            phosdf.at[ind,'Label'] = 'Wildtype'\n",
    "\n",
    "    # Format the datafram correctly'''\n",
    "    phosdf = phosdf.drop(gene+\"_Mutation\",axis=1)\n",
    "    phosdf = phosdf.drop(gene+\"_Location\",axis=1)\n",
    "    phosdf = phosdf.drop(gene+\"_Mutation_Status\", axis=1)\n",
    "    phosdf = phosdf.drop(\"Sample_Status\",axis=1)\n",
    "\n",
    "    # Make list of columns to be compared using t-tests\n",
    "    phos_col_list = list(phosdf.columns)\n",
    "    phos_col_list.remove('Label')\n",
    "    \n",
    "    print(\"Doing t-test comparisons\\n\")\n",
    "    \n",
    "    #Call wrap_ttest, pass in formatted dataframe\n",
    "    phos_all_comparisons = al.wrap_ttest(phosdf, 'Label', phos_col_list, return_all=True)\n",
    "    \n",
    "    phos_num_comparisons = len(phos_col_list)\n",
    "    print(\"Number of comparisons:\", phos_num_comparisons)\n",
    "    phos_bonferroni_cutoff = .05 / phos_num_comparisons\n",
    "    print(\"Bonferroni cutoff = \", phos_bonferroni_cutoff)\n",
    "    print(\"Logged Bonferroni cutoff = \", phos_bonferroni_cutoff)\n",
    "            \n",
    "        \n",
    "except Exception as e:\n",
    "    print(\"Error in Comparison\")\n",
    "    print(e)"
   ]
  },
  {
   "cell_type": "markdown",
   "metadata": {},
   "source": [
    "Print Significant Comparisons"
   ]
  },
  {
   "cell_type": "code",
   "execution_count": 12,
   "metadata": {},
   "outputs": [
    {
     "name": "stdout",
     "output_type": "stream",
     "text": [
      "Number of significant Phosphoproteomics comparisons:  0\n"
     ]
    },
    {
     "data": {
      "text/html": [
       "<div>\n",
       "<style scoped>\n",
       "    .dataframe tbody tr th:only-of-type {\n",
       "        vertical-align: middle;\n",
       "    }\n",
       "\n",
       "    .dataframe tbody tr th {\n",
       "        vertical-align: top;\n",
       "    }\n",
       "\n",
       "    .dataframe thead th {\n",
       "        text-align: right;\n",
       "    }\n",
       "</style>\n",
       "<table border=\"1\" class=\"dataframe\">\n",
       "  <thead>\n",
       "    <tr style=\"text-align: right;\">\n",
       "      <th></th>\n",
       "      <th>Comparison</th>\n",
       "      <th>P_Value</th>\n",
       "    </tr>\n",
       "  </thead>\n",
       "  <tbody>\n",
       "  </tbody>\n",
       "</table>\n",
       "</div>"
      ],
      "text/plain": [
       "Empty DataFrame\n",
       "Columns: [Comparison, P_Value]\n",
       "Index: []"
      ]
     },
     "execution_count": 12,
     "metadata": {},
     "output_type": "execute_result"
    }
   ],
   "source": [
    "phos_all_comparisons = phos_all_comparisons.dropna(axis=0)\n",
    "phos_sig_comparisons = phos_all_comparisons.loc[phos_all_comparisons['P_Value'] <= phos_bonferroni_cutoff]\n",
    "print(\"Number of significant Phosphoproteomics comparisons: \", len(phos_sig_comparisons))\n",
    "phos_sig_comparisons.head()"
   ]
  },
  {
   "cell_type": "markdown",
   "metadata": {},
   "source": [
    "Phosphoproteomics Histograms"
   ]
  },
  {
   "cell_type": "code",
   "execution_count": 13,
   "metadata": {},
   "outputs": [
    {
     "data": {
      "image/png": "[encoded data removed]",
      "text/plain": [
       "<Figure size 720x576 with 1 Axes>"
      ]
     },
     "metadata": {},
     "output_type": "display_data"
    }
   ],
   "source": [
    "# Create series of p-values for Histogram\n",
    "phos_pval_series = phos_all_comparisons['P_Value']\n",
    "\n",
    "# Format figure size and font\n",
    "plt.rcParams['figure.figsize']=(10,8)\n",
    "sns.set(font_scale = 1.3)\n",
    "\n",
    "# Create log scale for the x-axis\n",
    "plt.xscale('log')\n",
    "phos_log_min, phos_log_max = np.log10(phos_pval_series.min()), np.log10(phos_pval_series.max())\n",
    "phos_bins = np.logspace(phos_log_min - 1, phos_log_max, 100) # change bin number here\n",
    "histogram = sns.distplot(phos_pval_series, bins = phos_bins, kde=False, color='navy') \n",
    "\n",
    "# Format title and axis\n",
    "histogram.set_title(\"P_Value Distribution for \"+gene+\" trans Phosphoproteomics for All Proteins\")\n",
    "histogram.set(ylabel = 'Number of Proteins')\n",
    "#plt.xlim([10e-10,10e-1]) # change x-axis range\n",
    "#plt.ylim([0, 3500]) # change y-axis range\n",
    "\n",
    "# Graph cutoffs: alpha = green, bonferroni = red\n",
    "plt.axvline(phos_bonferroni_cutoff, 0, 0.95, linewidth=2, color='r')\n",
    "plt.axvline(0.05, 0, 0.95, linewidth=2, color='g')\n",
    "\n",
    "plt.show()\n",
    "plt.clf()\n",
    "plt.close()"
   ]
  },
  {
   "cell_type": "markdown",
   "metadata": {},
   "source": [
    "Phosphoproteomics zoomed in"
   ]
  },
  {
   "cell_type": "code",
   "execution_count": 16,
   "metadata": {},
   "outputs": [
    {
     "data": {
      "image/png": "[encoded data removed]",
      "text/plain": [
       "<Figure size 720x576 with 1 Axes>"
      ]
     },
     "metadata": {},
     "output_type": "display_data"
    }
   ],
   "source": [
    "# Select p-values within range 0 - end_value \n",
    "phos_end_value = 0.01\n",
    "phos_zoomed = phos_pval_series.loc[phos_pval_series <= phos_end_value]\n",
    "\n",
    "# Format size of figure and font\n",
    "plt.rcParams['figure.figsize']=(10,8)\n",
    "sns.set(font_scale = 1.3)\n",
    "\n",
    "# Create log scale for the x-axis\n",
    "plt.xscale('log')\n",
    "phos_zoomed_log_min, phos_zoomed_log_max = np.log10(phos_zoomed.min()),np.log10(phos_zoomed.max())\n",
    "phos_bins_zoomed = np.logspace(phos_zoomed_log_min - 1, phos_zoomed_log_max, 50) # change this number for more or less bins\n",
    "histogram = sns.distplot(phos_zoomed, bins = phos_bins_zoomed, kde=False, color='teal')\n",
    "\n",
    "# Format title and axis\n",
    "histogram.set_title(\"P_Value Distribution for \"+gene+\" trans Phosphoproteomics (P_Value < \" + str(phos_end_value) + \")\")\n",
    "histogram.set(ylabel = 'Number of Proteins')\n",
    "plt.xlim([10e-10,10e-3]) # change x-axis range\n",
    "#plt.ylim([0.0,20]) # change y axis intervals\n",
    "\n",
    "# Create bonferroni cutoff line \n",
    "plt.axvline(phos_bonferroni_cutoff, 0, .95, linewidth=2, color='r') # cutoff line parameters: (cutoff, 0, height)\n",
    "\n",
    "plt.show()\n",
    "plt.clf()\n",
    "plt.close()"
   ]
  },
  {
   "cell_type": "code",
   "execution_count": 17,
   "metadata": {},
   "outputs": [
    {
     "name": "stdout",
     "output_type": "stream",
     "text": [
      "Number of Phosphoproteomics comparisons for gsea:  150\n"
     ]
    },
    {
     "data": {
      "text/html": [
       "<div>\n",
       "<style scoped>\n",
       "    .dataframe tbody tr th:only-of-type {\n",
       "        vertical-align: middle;\n",
       "    }\n",
       "\n",
       "    .dataframe tbody tr th {\n",
       "        vertical-align: top;\n",
       "    }\n",
       "\n",
       "    .dataframe thead th {\n",
       "        text-align: right;\n",
       "    }\n",
       "</style>\n",
       "<table border=\"1\" class=\"dataframe\">\n",
       "  <thead>\n",
       "    <tr style=\"text-align: right;\">\n",
       "      <th></th>\n",
       "      <th>Term</th>\n",
       "      <th>Overlap</th>\n",
       "      <th>P-value</th>\n",
       "      <th>Adjusted P-value</th>\n",
       "      <th>Old P-value</th>\n",
       "      <th>Old Adjusted P-value</th>\n",
       "      <th>Odds Ratio</th>\n",
       "      <th>Combined Score</th>\n",
       "      <th>Genes</th>\n",
       "      <th>Gene_set</th>\n",
       "    </tr>\n",
       "  </thead>\n",
       "  <tbody>\n",
       "    <tr>\n",
       "      <td>0</td>\n",
       "      <td>cGMP-PKG signaling pathway_Homo sapiens_hsa04022</td>\n",
       "      <td>8/167</td>\n",
       "      <td>0.000025</td>\n",
       "      <td>0.007227</td>\n",
       "      <td>0</td>\n",
       "      <td>0</td>\n",
       "      <td>6.794921</td>\n",
       "      <td>72.094476</td>\n",
       "      <td>PRKCE;NPR2;NFATC2;ATP1A2;IRS2;ATP2B2;VDAC1;ATP2B1</td>\n",
       "      <td>KEGG_2016</td>\n",
       "    </tr>\n",
       "    <tr>\n",
       "      <td>1</td>\n",
       "      <td>mTOR signaling pathway_Homo sapiens_hsa04150</td>\n",
       "      <td>5/60</td>\n",
       "      <td>0.000065</td>\n",
       "      <td>0.009503</td>\n",
       "      <td>0</td>\n",
       "      <td>0</td>\n",
       "      <td>11.820331</td>\n",
       "      <td>113.986047</td>\n",
       "      <td>PRKCG;EIF4EBP1;BRAF;EIF4B;MTOR</td>\n",
       "      <td>KEGG_2016</td>\n",
       "    </tr>\n",
       "    <tr>\n",
       "      <td>2</td>\n",
       "      <td>Endocrine and other factor-regulated calcium r...</td>\n",
       "      <td>4/47</td>\n",
       "      <td>0.000334</td>\n",
       "      <td>0.032589</td>\n",
       "      <td>0</td>\n",
       "      <td>0</td>\n",
       "      <td>12.071827</td>\n",
       "      <td>96.639126</td>\n",
       "      <td>PRKCG;CLTC;ATP1A2;ATP2B1</td>\n",
       "      <td>KEGG_2016</td>\n",
       "    </tr>\n",
       "    <tr>\n",
       "      <td>3</td>\n",
       "      <td>VEGF signaling pathway_Homo sapiens_hsa04370</td>\n",
       "      <td>4/61</td>\n",
       "      <td>0.000905</td>\n",
       "      <td>0.066265</td>\n",
       "      <td>0</td>\n",
       "      <td>0</td>\n",
       "      <td>9.301244</td>\n",
       "      <td>65.182907</td>\n",
       "      <td>CASP9;PRKCG;HSPB1;NFATC2</td>\n",
       "      <td>KEGG_2016</td>\n",
       "    </tr>\n",
       "    <tr>\n",
       "      <td>4</td>\n",
       "      <td>Thyroid hormone signaling pathway_Homo sapiens...</td>\n",
       "      <td>5/118</td>\n",
       "      <td>0.001500</td>\n",
       "      <td>0.087886</td>\n",
       "      <td>0</td>\n",
       "      <td>0</td>\n",
       "      <td>6.010338</td>\n",
       "      <td>39.081902</td>\n",
       "      <td>PRKCG;CASP9;ATP1A2;MTOR;MED17</td>\n",
       "      <td>KEGG_2016</td>\n",
       "    </tr>\n",
       "  </tbody>\n",
       "</table>\n",
       "</div>"
      ],
      "text/plain": [
       "                                                Term Overlap   P-value  \\\n",
       "0   cGMP-PKG signaling pathway_Homo sapiens_hsa04022   8/167  0.000025   \n",
       "1       mTOR signaling pathway_Homo sapiens_hsa04150    5/60  0.000065   \n",
       "2  Endocrine and other factor-regulated calcium r...    4/47  0.000334   \n",
       "3       VEGF signaling pathway_Homo sapiens_hsa04370    4/61  0.000905   \n",
       "4  Thyroid hormone signaling pathway_Homo sapiens...   5/118  0.001500   \n",
       "\n",
       "   Adjusted P-value  Old P-value  Old Adjusted P-value  Odds Ratio  \\\n",
       "0          0.007227            0                     0    6.794921   \n",
       "1          0.009503            0                     0   11.820331   \n",
       "2          0.032589            0                     0   12.071827   \n",
       "3          0.066265            0                     0    9.301244   \n",
       "4          0.087886            0                     0    6.010338   \n",
       "\n",
       "   Combined Score                                              Genes  \\\n",
       "0       72.094476  PRKCE;NPR2;NFATC2;ATP1A2;IRS2;ATP2B2;VDAC1;ATP2B1   \n",
       "1      113.986047                     PRKCG;EIF4EBP1;BRAF;EIF4B;MTOR   \n",
       "2       96.639126                           PRKCG;CLTC;ATP1A2;ATP2B1   \n",
       "3       65.182907                           CASP9;PRKCG;HSPB1;NFATC2   \n",
       "4       39.081902                      PRKCG;CASP9;ATP1A2;MTOR;MED17   \n",
       "\n",
       "    Gene_set  \n",
       "0  KEGG_2016  \n",
       "1  KEGG_2016  \n",
       "2  KEGG_2016  \n",
       "3  KEGG_2016  \n",
       "4  KEGG_2016  "
      ]
     },
     "execution_count": 17,
     "metadata": {},
     "output_type": "execute_result"
    }
   ],
   "source": [
    "# Gene set enrichment analysis for 100 genes\n",
    "phos_gsea = phos_all_comparisons.sort_values(by = 'P_Value')\n",
    "phos_first_fifty = phos_gsea.iloc[:150]\n",
    "\n",
    "# create gene list\n",
    "phos_genes = phos_first_fifty['Comparison']\n",
    "phos_genes.replace(to_replace = '_phosphoproteomics.*$', value = '', \n",
    "                        inplace = True, regex = True) # shorten column names\n",
    "phos_genes_list = list(phos_genes)\n",
    "print(\"Number of Phosphoproteomics comparisons for gsea: \", len(phos_genes_list))\n",
    "\n",
    "phos_enr = gp.enrichr(gene_list = phos_genes_list, description='Phosphoproteomics_Comparisons', gene_sets='KEGG_2016', \n",
    "                       outdir='Enrichment Analysis')\n",
    "\n",
    "phos_enr.res2d.head()"
   ]
  },
  {
   "cell_type": "code",
   "execution_count": null,
   "metadata": {},
   "outputs": [],
   "source": []
  }
 ],
 "metadata": {
  "kernelspec": {
   "display_name": "Python 3",
   "language": "python",
   "name": "python3"
  },
  "language_info": {
   "codemirror_mode": {
    "name": "ipython",
    "version": 3
   },
   "file_extension": ".py",
   "mimetype": "text/x-python",
   "name": "python",
   "nbconvert_exporter": "python",
   "pygments_lexer": "ipython3",
   "version": "3.7.3"
  }
 },
 "nbformat": 4,
 "nbformat_minor": 2
}
