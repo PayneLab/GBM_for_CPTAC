{
 "cells": [
  {
   "cell_type": "markdown",
   "metadata": {},
   "source": [
    "# MUC17 cis comparison\n"
   ]
  },
  {
   "cell_type": "markdown",
   "metadata": {},
   "source": []
  },
  {
   "cell_type": "markdown",
   "metadata": {},
   "source": [
    "## Step 1: Library Imports"
   ]
  },
  {
   "cell_type": "markdown",
   "metadata": {},
   "source": [
    "Run this cell to import the necessary libraries"
   ]
  },
  {
   "cell_type": "code",
   "execution_count": 1,
   "metadata": {},
   "outputs": [],
   "source": [
    "import pandas as pd\n",
    "import numpy as np\n",
    "import seaborn as sns\n",
    "import matplotlib.pyplot as plt\n",
    "import scipy.stats\n",
    "import re\n",
    "import sys \n",
    "#sys.path.append('C:\\\\Users\\\\brittany henderson\\\\GitHub\\\\GBM_for_CPTAC\\\\')\n",
    "#import cis_functions as f\n",
    "\n",
    "import cptac\n",
    "import cptac.utils as u"
   ]
  },
  {
   "cell_type": "code",
   "execution_count": 2,
   "metadata": {},
   "outputs": [],
   "source": [
    "def add_significance_col(results_df, num_comparisons):\n",
    "    \"bonferroni multiple hypothesis\"\"\"\n",
    "    alpha = .05\n",
    "    bonferroni_cutoff = alpha / num_comparisons\n",
    "    \n",
    "    pval = results_df['P_Value']\n",
    "    if float(pval[0]) <= bonferroni_cutoff:\n",
    "        results_df['Significant'] = True\n",
    "    else: \n",
    "        results_df['Significant'] = False\n",
    "    return results_df\n",
    "\n",
    "def wrap_ttest_return_all(df, label_column, comparison_columns, total_tests, alpha=.05):\n",
    "    try:\n",
    "        #Verify precondition that label column exists and has exactly 2 unique values\n",
    "        label_values = df[label_column].unique()\n",
    "        if len(label_values) != 2:\n",
    "            print(\"Incorrectly Formatted Dataframe! Label column must have exactly 2 unique values.\")\n",
    "            return None\n",
    "        \n",
    "        #Partition dataframe into two sets, one for each of the two unique values from the label column\n",
    "        partition1 = df.loc[df[label_column] == label_values[0]]\n",
    "        partition2 = df.loc[df[label_column] == label_values[1]]\n",
    "        \n",
    "        #Determine the number of real valued columns on which we will do t-tests\n",
    "        #sites = len(comparison_columns.columns)\n",
    "        number_of_comparisons = total_tests # ? phospho sites or num freq mut genes doing cis comp\n",
    "        \n",
    "        #Use a bonferroni correction to adjust for multiple testing by altering the p-value needed for acceptance\n",
    "        bonferroni_cutoff = alpha/number_of_comparisons\n",
    "        \n",
    "        #Store all comparisons with their p-values in a dictionary\n",
    "        all_comparisons = {}\n",
    "        \n",
    "        #Loop through each comparison column, perform the t-test, and determine whether it meets the significance cutoff'''\n",
    "        for column in comparison_columns:\n",
    "            stat, pval = scipy.stats.ttest_ind(partition1[column].dropna(axis=0), partition2[column].dropna(axis=0))\n",
    "            all_comparisons[column] = pval\n",
    "    \n",
    "        #Sort dictionary to list smallest p-values first\n",
    "        sorted_comparisons = sorted(all_comparisons.items(), key=lambda kv: kv[1])\n",
    "        #Format as a dataframe and return to caller\n",
    "        all_comparisons_df = pd.DataFrame.from_dict(sorted_comparisons)\n",
    "        all_comparisons_df.columns = ['Comparison', 'P_Value']\n",
    "        \n",
    "                                               \n",
    "        all_comparisons_sig_col = add_significance_col(all_comparisons_df, number_of_comparisons)\n",
    "        return all_comparisons_sig_col\n",
    "                                \n",
    "    except:\n",
    "        print(\"Incorrectly Formatted Dataframe!\")\n",
    "        return None\n"
   ]
  },
  {
   "cell_type": "code",
   "execution_count": 3,
   "metadata": {},
   "outputs": [],
   "source": [
    "# note: pass reduced omics # CHECK would include non coding, but none in fm genes\n",
    "\n",
    "def format_mutated_wt_comparison(reduced_omics_df):\n",
    "    # Step 2 - Create binary column \n",
    "    reduced_omics_df['binary_mutations'] = np.where(\n",
    "                reduced_omics_df[gene+'_Mutation_Status'] == 'Wildtype_Tumor', 'Wildtype', 'Mutated')\n",
    "\n",
    "    # Step 3 - Format the dataframe correctly for the T-test(just omics and binary columns for tumors)\n",
    "    tumors = reduced_omics_df[reduced_omics_df.Sample_Status == 'Tumor'] #drop Normal samples\n",
    "    columns_to_drop = [gene+\"_Mutation\", gene+\"_Location\", gene+\"_Mutation_Status\", \"Sample_Status\"]\n",
    "    mut_status = tumors.drop(columns_to_drop, axis = 1)\n",
    "\n",
    "    return mut_status"
   ]
  },
  {
   "cell_type": "code",
   "execution_count": 4,
   "metadata": {},
   "outputs": [],
   "source": [
    "def get_missense_truncation_comparison(cancer_object, reduced_omics_df):\n",
    "    #get omics data and tumors\n",
    "    tumors = reduced_omics_df.loc[reduced_omics_df['Sample_Status'] == 'Tumor'] #drop Normal samples\n",
    "\n",
    "\n",
    "    somatic_mutations = cancer_object.get_somatic_mutation().reset_index()\n",
    "\n",
    "    if cancer_object.get_cancer_type() == 'colon':\n",
    "        missence_truncation_groups = {'frameshift substitution': 'Truncation', \n",
    "            'frameshift deletion': 'Truncation', 'frameshift insertion': 'Truncation', \n",
    "            'stopgain': 'Truncation', 'stoploss': 'Truncation', 'nonsynonymous SNV': 'Missense',\n",
    "            'nonframeshift insertion': 'Missense','nonframeshift deletion': 'Missense', \n",
    "            'nonframeshift substitution': 'Missense'}\n",
    "    else: \n",
    "        missence_truncation_groups = {'In_Frame_Del': 'Missense', 'In_Frame_Ins': 'Missense',\n",
    "            'Missense_Mutation': 'Missense', 'Frame_Shift_Del': 'Truncation','Nonsense_Mutation': 'Truncation', \n",
    "            'Splice_Site': 'Truncation', 'Frame_Shift_Ins': 'Truncation','Nonstop_Mutation':'Truncation'}\n",
    "\n",
    "    mutations_replaced_M_T = somatic_mutations.replace(missence_truncation_groups)\n",
    "    mutations_replaced_M_T = mutations_replaced_M_T.loc[mutations_replaced_M_T['Gene'] == gene]\n",
    "\n",
    "    # group mutation categories\n",
    "    miss = mutations_replaced_M_T.loc[mutations_replaced_M_T['Mutation'] == 'Missense']\n",
    "    trunc = mutations_replaced_M_T.loc[mutations_replaced_M_T['Mutation'] == 'Truncation']\n",
    "\n",
    "    #get lists of unique samples for missence and trucation categories\n",
    "    miss_unique_samples = list(miss['Sample_ID'].unique())\n",
    "    trunc_unique_samples = list(trunc['Sample_ID'].unique())\n",
    "    \n",
    "    #check if there is only one type of mutation for the specific gene\n",
    "    if miss_unique_samples == []:\n",
    "        print('Only truncation type mutations found for', gene+'.', \n",
    "             'Not possible to compare missense with wildtype.')\n",
    "        truncation_omics = tumors.loc[tumors.index.isin(trunc_unique_samples)]\n",
    "        truncation_omics = truncation_omics.assign(binary_mutations = 'Truncation')\n",
    "        columns_to_drop = [gene+\"_Mutation\", gene+\"_Location\", gene+\"_Mutation_Status\", \"Sample_Status\"]\n",
    "        binary_mut_omics = truncation_omics.drop(columns_to_drop, axis = 1)\n",
    "        return binary_mut_omics\n",
    "    elif trunc_unique_samples == []:\n",
    "        print('Only missence type mutations found for', gene+'.', \n",
    "             'Not possible to compare truncation with wildtype.')\n",
    "        missence_omics = tumors.loc[tumors.index.isin(miss_unique_samples)]\n",
    "        missence_omics = missence_omics.assign(binary_mutations = 'Missense')\n",
    "        columns_to_drop = [gene+\"_Mutation\", gene+\"_Location\", gene+\"_Mutation_Status\", \"Sample_Status\"]\n",
    "        binary_mut_omics = missence_omics.drop(columns_to_drop, axis = 1)\n",
    "        return binary_mut_omics\n",
    "\n",
    "    ### Step 2 - Create the binary column needed to do the comparison\n",
    "    # Get mutation catagories with omics data\n",
    "    missence_omics = tumors.loc[tumors.index.isin(miss_unique_samples)]\n",
    "    missence_omics = missence_omics.assign(binary_mutations = 'Missense')\n",
    "    truncation_omics = tumors.loc[tumors.index.isin(trunc_unique_samples)]\n",
    "    truncation_omics = truncation_omics.assign(binary_mutations = 'Truncation')\n",
    "    binary_mut_omics = missence_omics.append(truncation_omics)\n",
    "\n",
    "    # Step 3 - Format the dataframe correctly for the T-test(just omics and binary columns for tumors)\n",
    "    columns_to_drop = [gene+\"_Mutation\", gene+\"_Location\", gene+\"_Mutation_Status\", \"Sample_Status\"]\n",
    "    binary_mut_omics = binary_mut_omics.drop(columns_to_drop, axis = 1)\n",
    "\n",
    "    return binary_mut_omics\n"
   ]
  },
  {
   "cell_type": "code",
   "execution_count": 5,
   "metadata": {},
   "outputs": [],
   "source": [
    "def format_pval_annotation(pval_symbol, x1, x2, line_start = .05, line_height=.05):\n",
    "    # for manual adjustment to pval annotations\n",
    "    \n",
    "    y, h = line_start, line_height\n",
    "    plt.plot([x1, x1, x2, x2], #draw horizontal line\n",
    "             [y, y+h, y+h, y], #vertical line\n",
    "             lw=1.5, color= '.3')\n",
    "    plt.text((x1+x2)*.5, # half between x coord\n",
    "             y+h, pval_symbol, horizontalalignment='center', verticalalignment='bottom', color = \"black\")\n",
    "\n",
    "# used in pval_annotation\n",
    "def get_pval_symbol(pval_df):\n",
    "    if pval_df.iloc[0:,2].bool() == True:\n",
    "        pval_symbol = '*'\n",
    "    else:\n",
    "        pval_symbol = 'ns'\n",
    "    return pval_symbol\n",
    "\n",
    "def pval_annotation(pval_df, plotted_df):\n",
    "    # pval symbol\n",
    "    num_pvals = len(pval_df)\n",
    "    omics_col = plotted_df.columns[0]\n",
    "    \n",
    "\n",
    "    # annotation for Mutated and Wiltype\n",
    "    if num_pvals == 1:\n",
    "        mut_pval = pval_df.loc[pval_df.index == \"Mutated/Wildtype\"]\n",
    "        mut_pval_symbol = get_pval_symbol(pval_df)\n",
    "        \n",
    "        x1, x2 = 0, 1   # columns (first column: 0, see plt.xticks())\n",
    "        y, h = plotted_df[omics_col].max() + .05, .05     \n",
    "        plt.plot([x1, x1, x2, x2], #draw horizontal line\n",
    "                 [y, y+h, y+h, y], #vertical line\n",
    "                 lw=1.5, color= '.3')\n",
    "        plt.text((x1+x2)*.5, # half between x coord\n",
    "                 y+h, mut_pval_symbol, horizontalalignment='center', verticalalignment='bottom', color = \"black\")\n",
    "    \n",
    "    # annotation for Missense, Truncation and Wildtype\n",
    "    elif num_pvals == 2:\n",
    "        # Missense\n",
    "        miss_pval = pval_df.loc[pval_df.index == \"Missense/Wildtype\"]\n",
    "        miss_pval_symbol = get_pval_symbol(miss_pval)\n",
    "    \n",
    "        x1, x2 = 0, 1   # columns (first column: 0, see plt.xticks())\n",
    "        y, h = plotted_df[omics_col].max() + .05, .05     \n",
    "        plt.plot([x1, x1, x2, x2], #draw horizontal line\n",
    "                 [y, y+h, y+h, y], #vertical line\n",
    "                 lw=1.5, color= '.3')\n",
    "        plt.text((x1+x2)*.5, # half between x coord\n",
    "                 y+h, miss_pval_symbol, horizontalalignment='center', verticalalignment='bottom', color = \"black\")\n",
    "        \n",
    "        # Truncation \n",
    "        trunc_pval = pval_df.loc[pval_df.index == \"Truncation/Wildtype\"]\n",
    "        trunc_pval_symbol = get_pval_symbol(trunc_pval)\n",
    "        \n",
    "        x3, x4 = 0, 2   # columns (first column: 0, see plt.xticks())\n",
    "        y2, h2 = plotted_df[omics_col].max() + .15, .05     \n",
    "        plt.plot([x3, x3, x4, x4], #draw horizontal line\n",
    "                 [y2, y2+h2, y2+h2, y2], #vertical line\n",
    "                 lw=1.5, color= '.3')\n",
    "        plt.text((x3+x4)*.5, # half between x coord\n",
    "                 y2+h2, trunc_pval_symbol, horizontalalignment='center', verticalalignment='bottom', color = \"black\")\n"
   ]
  },
  {
   "cell_type": "markdown",
   "metadata": {},
   "source": [
    "## Step 2: Find the mutation frequency of the gene of interest"
   ]
  },
  {
   "cell_type": "code",
   "execution_count": 6,
   "metadata": {},
   "outputs": [
    {
     "name": "stdout",
     "output_type": "stream",
     "text": [
      "                                    \r"
     ]
    }
   ],
   "source": [
    "#cptac.download(dataset='gbm', version='2.0')\n",
    "brain = cptac.Gbm()\n",
    "desired_cutoff = 0.05\n",
    "gene = 'MUC17'"
   ]
  },
  {
   "cell_type": "code",
   "execution_count": 7,
   "metadata": {},
   "outputs": [],
   "source": [
    "#FIX\n",
    "#freq_mut = u.get_frequently_mutated(brain, cutoff = desired_cutoff)\n",
    "#freq_mut.loc[freq_mut['Gene'] == gene]"
   ]
  },
  {
   "cell_type": "markdown",
   "metadata": {},
   "source": [
    "## Step 3: cis comparisons for omics "
   ]
  },
  {
   "cell_type": "markdown",
   "metadata": {},
   "source": [
    "Determine if the DNA mutation has an effect on the omics measurement. In order to do this, we have a few steps in code. These steps are found in the format_cis_comparison_data function.\n",
    "1. get a table with both the omics and mutation data for tumors\n",
    "2. get a binary column from the mutation data to separate our samples\n",
    "3. format data frame to be used in the T-test\n",
    "4. send data to the T-test.\n",
    "\n",
    "The format_cis_comparison_data does the first 3 steps (for dataframes with multi-indexes)."
   ]
  },
  {
   "cell_type": "markdown",
   "metadata": {},
   "source": [
    "# Transcriptomics cis comparison"
   ]
  },
  {
   "cell_type": "markdown",
   "metadata": {},
   "source": [
    "Transcriptomics: Mutated and Wildtype"
   ]
  },
  {
   "cell_type": "code",
   "execution_count": 8,
   "metadata": {},
   "outputs": [
    {
     "name": "stderr",
     "output_type": "stream",
     "text": [
      "Warning: In joining the somatic_mutation table, no mutations were found for the following samples, so they were filled with Wildtype_Tumor or Wildtype_Normal: 101 samples for the MUC17 gene (/Users/Lindsey/anaconda3/lib/python3.7/site-packages/ipykernel_launcher.py, line 5)\n"
     ]
    }
   ],
   "source": [
    "#num_freq_mut_genes = len(freq_mut)\n",
    "num_freq_mut_genes = 20\n",
    "# Step 1 - Create dataframe in order to do comparisons with wrap_ttest - drop \n",
    "transrcpt_mutations = brain.join_omics_to_mutations(\n",
    "    mutations_genes = gene, omics_df_name = 'transcriptomics', omics_genes = gene)\n",
    "reduced_transcript_mutations = brain.reduce_multiindex(transrcpt_mutations, levels_to_drop=1) #single col labels\n",
    "\n",
    "# Step 2 & 3 - Get binary column and format\n",
    "transcript_mut_wt = format_mutated_wt_comparison(reduced_transcript_mutations)"
   ]
  },
  {
   "cell_type": "code",
   "execution_count": 9,
   "metadata": {},
   "outputs": [
    {
     "name": "stdout",
     "output_type": "stream",
     "text": [
      "Doing t-test comparison for mutation status\n"
     ]
    },
    {
     "data": {
      "text/html": [
       "<div>\n",
       "<style scoped>\n",
       "    .dataframe tbody tr th:only-of-type {\n",
       "        vertical-align: middle;\n",
       "    }\n",
       "\n",
       "    .dataframe tbody tr th {\n",
       "        vertical-align: top;\n",
       "    }\n",
       "\n",
       "    .dataframe thead th {\n",
       "        text-align: right;\n",
       "    }\n",
       "</style>\n",
       "<table border=\"1\" class=\"dataframe\">\n",
       "  <thead>\n",
       "    <tr style=\"text-align: right;\">\n",
       "      <th></th>\n",
       "      <th>Comparison</th>\n",
       "      <th>P_Value</th>\n",
       "      <th>Significant</th>\n",
       "    </tr>\n",
       "  </thead>\n",
       "  <tbody>\n",
       "    <tr>\n",
       "      <td>Mutated/Wildtype</td>\n",
       "      <td>MUC17_transcriptomics</td>\n",
       "      <td>0.012301</td>\n",
       "      <td>False</td>\n",
       "    </tr>\n",
       "  </tbody>\n",
       "</table>\n",
       "</div>"
      ],
      "text/plain": [
       "                             Comparison   P_Value  Significant\n",
       "Mutated/Wildtype  MUC17_transcriptomics  0.012301        False"
      ]
     },
     "execution_count": 9,
     "metadata": {},
     "output_type": "execute_result"
    }
   ],
   "source": [
    "# Step 4 - T-test\n",
    "trans_col_list = [gene+'_transcriptomics']\n",
    "trans_col = gene+'_transcriptomics'\n",
    "\n",
    "print(\"Doing t-test comparison for mutation status\")\n",
    "transcript_results = wrap_ttest_return_all(transcript_mut_wt, 'binary_mutations', trans_col_list, num_freq_mut_genes)\n",
    "transcript_results = transcript_results.rename(index = {0: \"Mutated/Wildtype\"})\n",
    "transcript_results"
   ]
  },
  {
   "cell_type": "markdown",
   "metadata": {},
   "source": [
    "Multiple hypothesis testing is taken into account. Other notebooks test the rest of the frequently mutated genes. "
   ]
  },
  {
   "cell_type": "code",
   "execution_count": 10,
   "metadata": {},
   "outputs": [
    {
     "data": {
      "image/png": "[encoded data removed]",
      "text/plain": [
       "<Figure size 576x360 with 1 Axes>"
      ]
     },
     "metadata": {},
     "output_type": "display_data"
    }
   ],
   "source": [
    "#f.cis_plot(trans_mut_status, gene, 'transcriptomics', transcrpt_results)\n",
    "plt.rcParams['figure.figsize']=(8,5)\n",
    "sns.set(font_scale = 1.3)\n",
    "cis_boxplot = sns.boxplot(data = transcript_mut_wt, x = 'binary_mutations',\n",
    "                          y = trans_col, order = ['Wildtype', 'Mutated'], showfliers = False)  \n",
    "cis_boxplot.set_title(gene + \" Effect on \" + gene +\" Transcriptomics in Glioblastoma Tumors\\n\")\n",
    "cis_boxplot = sns.stripplot(data= transcript_mut_wt, x = 'binary_mutations',\n",
    "                            y = trans_col,jitter = True, color = \".3\", order = ['Wildtype', 'Mutated'])\n",
    "cis_boxplot.set(xlabel = \"\\n\"+gene + \" Mutation Status in Tumors\", ylabel = 'Transcriptomics')\n",
    "cis_boxplot.set_xticklabels(cis_boxplot.get_xticklabels())\n",
    "\n",
    "mut_pval_symbol = get_pval_symbol(transcript_results)\n",
    "format_pval_annotation(mut_pval_symbol, x1 = 0, x2 = 1, line_start = 500, line_height = 30)\n",
    "\n",
    "plt.show()\n",
    "plt.clf()\n",
    "plt.close()"
   ]
  },
  {
   "cell_type": "markdown",
   "metadata": {},
   "source": [
    "Transcriptomics: Missense and Truncation"
   ]
  },
  {
   "cell_type": "code",
   "execution_count": 11,
   "metadata": {},
   "outputs": [
    {
     "name": "stdout",
     "output_type": "stream",
     "text": [
      "Only missence type mutations found for MUC17. Not possible to compare truncation with wildtype.\n"
     ]
    },
    {
     "data": {
      "text/html": [
       "<div>\n",
       "<style scoped>\n",
       "    .dataframe tbody tr th:only-of-type {\n",
       "        vertical-align: middle;\n",
       "    }\n",
       "\n",
       "    .dataframe tbody tr th {\n",
       "        vertical-align: top;\n",
       "    }\n",
       "\n",
       "    .dataframe thead th {\n",
       "        text-align: right;\n",
       "    }\n",
       "</style>\n",
       "<table border=\"1\" class=\"dataframe\">\n",
       "  <thead>\n",
       "    <tr style=\"text-align: right;\">\n",
       "      <th>Name</th>\n",
       "      <th>MUC17_transcriptomics</th>\n",
       "      <th>binary_mutations</th>\n",
       "    </tr>\n",
       "    <tr>\n",
       "      <th>Sample_ID</th>\n",
       "      <th></th>\n",
       "      <th></th>\n",
       "    </tr>\n",
       "  </thead>\n",
       "  <tbody>\n",
       "    <tr>\n",
       "      <td>S004</td>\n",
       "      <td>264.250232</td>\n",
       "      <td>Missense</td>\n",
       "    </tr>\n",
       "    <tr>\n",
       "      <td>S019</td>\n",
       "      <td>0.000000</td>\n",
       "      <td>Missense</td>\n",
       "    </tr>\n",
       "    <tr>\n",
       "      <td>S057</td>\n",
       "      <td>472.454547</td>\n",
       "      <td>Missense</td>\n",
       "    </tr>\n",
       "    <tr>\n",
       "      <td>S061</td>\n",
       "      <td>124.260526</td>\n",
       "      <td>Missense</td>\n",
       "    </tr>\n",
       "    <tr>\n",
       "      <td>S080</td>\n",
       "      <td>0.000000</td>\n",
       "      <td>Missense</td>\n",
       "    </tr>\n",
       "  </tbody>\n",
       "</table>\n",
       "</div>"
      ],
      "text/plain": [
       "Name       MUC17_transcriptomics binary_mutations\n",
       "Sample_ID                                        \n",
       "S004                  264.250232         Missense\n",
       "S019                    0.000000         Missense\n",
       "S057                  472.454547         Missense\n",
       "S061                  124.260526         Missense\n",
       "S080                    0.000000         Missense"
      ]
     },
     "execution_count": 11,
     "metadata": {},
     "output_type": "execute_result"
    }
   ],
   "source": [
    "# select all wildtype from earlier -add to mut_type binary column\n",
    "trans_wildtype = transcript_mut_wt.loc[transcript_mut_wt['binary_mutations'] == 'Wildtype'] \n",
    "trans_miss_trunc = get_missense_truncation_comparison(brain, reduced_transcript_mutations)\n",
    "trans_miss_trunc_and_wt = trans_miss_trunc.append(trans_wildtype, sort=False) # use for graph\n",
    "trans_miss_trunc_and_wt.head() # 2 overlap : 102 total"
   ]
  },
  {
   "cell_type": "code",
   "execution_count": 12,
   "metadata": {},
   "outputs": [
    {
     "name": "stdout",
     "output_type": "stream",
     "text": [
      "Doing t-test comparison for missense and wildtype\n"
     ]
    },
    {
     "data": {
      "text/html": [
       "<div>\n",
       "<style scoped>\n",
       "    .dataframe tbody tr th:only-of-type {\n",
       "        vertical-align: middle;\n",
       "    }\n",
       "\n",
       "    .dataframe tbody tr th {\n",
       "        vertical-align: top;\n",
       "    }\n",
       "\n",
       "    .dataframe thead th {\n",
       "        text-align: right;\n",
       "    }\n",
       "</style>\n",
       "<table border=\"1\" class=\"dataframe\">\n",
       "  <thead>\n",
       "    <tr style=\"text-align: right;\">\n",
       "      <th></th>\n",
       "      <th>Comparison</th>\n",
       "      <th>P_Value</th>\n",
       "      <th>Significant</th>\n",
       "    </tr>\n",
       "  </thead>\n",
       "  <tbody>\n",
       "    <tr>\n",
       "      <td>Missense/Wildtype</td>\n",
       "      <td>MUC17_transcriptomics</td>\n",
       "      <td>0.009404</td>\n",
       "      <td>False</td>\n",
       "    </tr>\n",
       "  </tbody>\n",
       "</table>\n",
       "</div>"
      ],
      "text/plain": [
       "                              Comparison   P_Value  Significant\n",
       "Missense/Wildtype  MUC17_transcriptomics  0.009404        False"
      ]
     },
     "execution_count": 12,
     "metadata": {},
     "output_type": "execute_result"
    }
   ],
   "source": [
    "# compare missense and wildtype\n",
    "miss_wt = trans_miss_trunc_and_wt.loc[trans_miss_trunc_and_wt['binary_mutations'] != 'Truncation']\n",
    "print(\"Doing t-test comparison for missense and wildtype\")\n",
    "trans_results_miss = wrap_ttest_return_all(miss_wt, 'binary_mutations', trans_col_list, num_freq_mut_genes)\n",
    "trans_results_miss = trans_results_miss.rename(index = {0: \"Missense/Wildtype\"})\n",
    "\n",
    "# compare truncation and wildtype\n",
    "#trunc_wt = trans_miss_trunc_and_wt.loc[trans_miss_trunc_and_wt['binary_mutations'] != 'Missense']\n",
    "#print(\"Doing t-test comparison for truncation and wildtype\")\n",
    "#trans_results_trunc = wrap_ttest_return_all(trunc_wt, 'binary_mutations', trans_col_list, num_freq_mut_genes)\n",
    "#trans_results_trunc = trans_results_trunc.rename(index = {0: \"Truncation/Wildtype\"})\n",
    "\n",
    "trans_results_miss_trunc = trans_results_miss\n",
    "trans_results_miss_trunc"
   ]
  },
  {
   "cell_type": "code",
   "execution_count": 13,
   "metadata": {},
   "outputs": [
    {
     "data": {
      "image/png": "[encoded data removed]",
      "text/plain": [
       "<Figure size 576x360 with 1 Axes>"
      ]
     },
     "metadata": {},
     "output_type": "display_data"
    }
   ],
   "source": [
    "#f.cis_plot(trans_mut_and_wildtype, gene, 'transcriptomics', trans_results_miss_trunc)\n",
    "plt.rcParams['figure.figsize']=(8,5)\n",
    "sns.set(font_scale = 1.3)\n",
    "cis_boxplot = sns.boxplot(data = trans_miss_trunc_and_wt, x = 'binary_mutations',\n",
    "                          y = trans_col, order = ['Wildtype', 'Missense', 'Truncation'], showfliers = False)  \n",
    "cis_boxplot.set_title(gene + \" Effect on \" + gene +\" Transcriptomics in Glioblastoma Tumors\\n\")\n",
    "cis_boxplot = sns.stripplot(data= trans_miss_trunc_and_wt, x = 'binary_mutations',\n",
    "                            y = trans_col,jitter = True, color = \".3\", order = ['Wildtype', 'Missense', 'Truncation'])\n",
    "cis_boxplot.set(xlabel = \"\\n\"+gene + \" Mutation Status in Tumors\", ylabel = 'Transcriptomics')\n",
    "cis_boxplot.set_xticklabels(cis_boxplot.get_xticklabels())\n",
    "\n",
    "# Missense\n",
    "miss_pval = trans_results_miss_trunc.loc[trans_results_miss_trunc.index == \"Missense/Wildtype\"]\n",
    "miss_pval_symbol = get_pval_symbol(miss_pval)\n",
    "format_pval_annotation(miss_pval_symbol, x1 = 0, x2 = 1, line_start = 500, line_height = 20)\n",
    "\n",
    "# Truncation \n",
    "#trunc_pval = trans_results_miss_trunc.loc[trans_results_miss_trunc.index == \"Truncation/Wildtype\"]\n",
    "#trunc_pval_symbol = get_pval_symbol(trunc_pval)\n",
    "#format_pval_annotation(trunc_pval_symbol, x1 = 0, x2 = 2, line_start = 550000, line_height = 20000)\n",
    "\n",
    "plt.show()\n",
    "plt.clf()\n",
    "plt.close()"
   ]
  },
  {
   "cell_type": "code",
   "execution_count": null,
   "metadata": {},
   "outputs": [],
   "source": []
  },
  {
   "cell_type": "markdown",
   "metadata": {},
   "source": [
    "\n"
   ]
  },
  {
   "cell_type": "markdown",
   "metadata": {},
   "source": [
    "# Proteomics cis comparison"
   ]
  },
  {
   "cell_type": "markdown",
   "metadata": {},
   "source": [
    "Proteomics: Mutated and Wildtype"
   ]
  },
  {
   "cell_type": "code",
   "execution_count": 14,
   "metadata": {},
   "outputs": [
    {
     "name": "stderr",
     "output_type": "stream",
     "text": [
      "Warning: The following columns were not found in the proteomics dataframe, so they were inserted into joined table, but filled with NaN: MUC17 (/Users/Lindsey/anaconda3/lib/python3.7/site-packages/ipykernel_launcher.py, line 3)\n",
      "Warning: In joining the somatic_mutation table, no mutations were found for the following samples, so they were filled with Wildtype_Tumor or Wildtype_Normal: 102 samples for the MUC17 gene (/Users/Lindsey/anaconda3/lib/python3.7/site-packages/ipykernel_launcher.py, line 3)\n"
     ]
    }
   ],
   "source": [
    "# Step 1 - Create dataframe in order to do comparisons with wrap_ttest  \n",
    "prot_and_mutations = brain.join_omics_to_mutations(\n",
    "    mutations_genes = gene, omics_df_name = 'proteomics', omics_genes = gene) # single col level\n",
    "\n",
    "\n",
    "# Step 2 & 3 - Get binary column and format\n",
    "prot_mut_wt = format_mutated_wt_comparison(prot_and_mutations)"
   ]
  },
  {
   "cell_type": "code",
   "execution_count": 15,
   "metadata": {},
   "outputs": [
    {
     "name": "stdout",
     "output_type": "stream",
     "text": [
      "Doing t-test comparison for mutated and wildtype\n"
     ]
    },
    {
     "data": {
      "text/html": [
       "<div>\n",
       "<style scoped>\n",
       "    .dataframe tbody tr th:only-of-type {\n",
       "        vertical-align: middle;\n",
       "    }\n",
       "\n",
       "    .dataframe tbody tr th {\n",
       "        vertical-align: top;\n",
       "    }\n",
       "\n",
       "    .dataframe thead th {\n",
       "        text-align: right;\n",
       "    }\n",
       "</style>\n",
       "<table border=\"1\" class=\"dataframe\">\n",
       "  <thead>\n",
       "    <tr style=\"text-align: right;\">\n",
       "      <th></th>\n",
       "      <th>Comparison</th>\n",
       "      <th>P_Value</th>\n",
       "      <th>Significant</th>\n",
       "    </tr>\n",
       "  </thead>\n",
       "  <tbody>\n",
       "    <tr>\n",
       "      <td>Mutated/Wildtype</td>\n",
       "      <td>MUC17_proteomics</td>\n",
       "      <td>NaN</td>\n",
       "      <td>False</td>\n",
       "    </tr>\n",
       "  </tbody>\n",
       "</table>\n",
       "</div>"
      ],
      "text/plain": [
       "                        Comparison  P_Value  Significant\n",
       "Mutated/Wildtype  MUC17_proteomics      NaN        False"
      ]
     },
     "execution_count": 15,
     "metadata": {},
     "output_type": "execute_result"
    }
   ],
   "source": [
    "#num_freq_mut_genes = len(freq_mut) \n",
    "num_freq_mut_genes = 20\n",
    "prot_col_list = [gene+'_proteomics']\n",
    "prot_col = gene+\"_proteomics\"\n",
    "\n",
    "# Step 4 - T-test comparing means of mutated vs wildtype effect on cis omics\n",
    "print(\"Doing t-test comparison for mutated and wildtype\")\n",
    "prot_results = wrap_ttest_return_all(prot_mut_wt, 'binary_mutations', prot_col_list, num_freq_mut_genes)\n",
    "prot_results = prot_results.rename(index = {0: \"Mutated/Wildtype\"})\n",
    "prot_results"
   ]
  },
  {
   "cell_type": "code",
   "execution_count": 16,
   "metadata": {},
   "outputs": [
    {
     "data": {
      "image/png": "[encoded data removed]",
      "text/plain": [
       "<Figure size 576x360 with 1 Axes>"
      ]
     },
     "metadata": {},
     "output_type": "display_data"
    }
   ],
   "source": [
    "#f.cis_plot(prot_mut_status, gene, \"proteomics\", prot_results)\n",
    "\n",
    "plt.rcParams['figure.figsize']=(8,5)\n",
    "sns.set(font_scale = 1.3)\n",
    "cis_boxplot = sns.boxplot(data = prot_mut_wt, x = 'binary_mutations',\n",
    "                          y = prot_col, order = ['Wildtype', 'Mutated'], showfliers = False)  \n",
    "cis_boxplot.set_title(gene + \" Effect on \" + gene +\" Proteomics in Glioblastoma Tumors\\n\")\n",
    "cis_boxplot = sns.stripplot(data= prot_mut_wt, x = 'binary_mutations',\n",
    "                            y = prot_col,jitter = True, color = \".3\", order = ['Wildtype', 'Mutated'])\n",
    "cis_boxplot.set(xlabel = \"\\n\"+gene + \" Mutation Status in Tumors\", ylabel = 'Proteomics')\n",
    "cis_boxplot.set_xticklabels(cis_boxplot.get_xticklabels())\n",
    "\n",
    "mut_pval_symbol = get_pval_symbol(prot_results)\n",
    "format_pval_annotation(mut_pval_symbol, x1 = 0, x2 = 1, line_start = 1.65, line_height = .15)\n",
    "\n",
    "plt.show()\n",
    "plt.clf()\n",
    "plt.close()"
   ]
  },
  {
   "cell_type": "markdown",
   "metadata": {},
   "source": [
    "Proteomics: Missense and Truncation compared to wildtype"
   ]
  },
  {
   "cell_type": "code",
   "execution_count": 17,
   "metadata": {},
   "outputs": [
    {
     "name": "stdout",
     "output_type": "stream",
     "text": [
      "Only missence type mutations found for MUC17. Not possible to compare truncation with wildtype.\n",
      "Doing t-test comparison for missense and wildtype\n",
      "Doing t-test comparison for truncation and wildtype\n",
      "Incorrectly Formatted Dataframe! Label column must have exactly 2 unique values.\n"
     ]
    },
    {
     "ename": "AttributeError",
     "evalue": "'NoneType' object has no attribute 'rename'",
     "output_type": "error",
     "traceback": [
      "\u001b[0;31m---------------------------------------------------------------------------\u001b[0m",
      "\u001b[0;31mAttributeError\u001b[0m                            Traceback (most recent call last)",
      "\u001b[0;32m<ipython-input-17-1de46d792377>\u001b[0m in \u001b[0;36m<module>\u001b[0;34m\u001b[0m\n\u001b[1;32m     14\u001b[0m \u001b[0mprint\u001b[0m\u001b[0;34m(\u001b[0m\u001b[0;34m\"Doing t-test comparison for truncation and wildtype\"\u001b[0m\u001b[0;34m)\u001b[0m\u001b[0;34m\u001b[0m\u001b[0;34m\u001b[0m\u001b[0m\n\u001b[1;32m     15\u001b[0m \u001b[0mprot_results_trunc\u001b[0m \u001b[0;34m=\u001b[0m \u001b[0mwrap_ttest_return_all\u001b[0m\u001b[0;34m(\u001b[0m\u001b[0mprot_trunc_wt\u001b[0m\u001b[0;34m,\u001b[0m \u001b[0;34m'binary_mutations'\u001b[0m\u001b[0;34m,\u001b[0m \u001b[0mprot_col_list\u001b[0m\u001b[0;34m,\u001b[0m \u001b[0mnum_freq_mut_genes\u001b[0m\u001b[0;34m)\u001b[0m\u001b[0;34m\u001b[0m\u001b[0;34m\u001b[0m\u001b[0m\n\u001b[0;32m---> 16\u001b[0;31m \u001b[0mprot_results_trunc\u001b[0m \u001b[0;34m=\u001b[0m \u001b[0mprot_results_trunc\u001b[0m\u001b[0;34m.\u001b[0m\u001b[0mrename\u001b[0m\u001b[0;34m(\u001b[0m\u001b[0mindex\u001b[0m \u001b[0;34m=\u001b[0m \u001b[0;34m{\u001b[0m\u001b[0;36m0\u001b[0m\u001b[0;34m:\u001b[0m \u001b[0;34m\"Truncation/Wildtype\"\u001b[0m\u001b[0;34m}\u001b[0m\u001b[0;34m)\u001b[0m\u001b[0;34m\u001b[0m\u001b[0;34m\u001b[0m\u001b[0m\n\u001b[0m\u001b[1;32m     17\u001b[0m \u001b[0;34m\u001b[0m\u001b[0m\n\u001b[1;32m     18\u001b[0m \u001b[0mprot_results_miss_trunc\u001b[0m \u001b[0;34m=\u001b[0m \u001b[0mprot_results_miss\u001b[0m\u001b[0;34m.\u001b[0m\u001b[0mappend\u001b[0m\u001b[0;34m(\u001b[0m\u001b[0mprot_results_trunc\u001b[0m\u001b[0;34m)\u001b[0m\u001b[0;34m\u001b[0m\u001b[0;34m\u001b[0m\u001b[0m\n",
      "\u001b[0;31mAttributeError\u001b[0m: 'NoneType' object has no attribute 'rename'"
     ]
    }
   ],
   "source": [
    "# Repeat Step 2 & 3 - binary column \n",
    "prot_miss_trunc = get_missense_truncation_comparison(brain, prot_and_mutations)\n",
    "prot_wildtype = prot_mut_wt.loc[prot_mut_wt['binary_mutations'] == 'Wildtype'] # select all wildtype \n",
    "prot_miss_trunc_wildtype = prot_miss_trunc.append(prot_wildtype, sort=False) # use for graph\n",
    "\n",
    "# compare missense and wildtype\n",
    "prot_miss_wt = prot_miss_trunc_wildtype.loc[prot_miss_trunc_wildtype['binary_mutations'] != 'Truncation']\n",
    "print(\"Doing t-test comparison for missense and wildtype\")\n",
    "prot_results_miss = wrap_ttest_return_all(prot_miss_wt, 'binary_mutations', prot_col_list, num_freq_mut_genes)\n",
    "prot_results_miss = prot_results_miss.rename(index = {0: \"Missense/Wildtype\"})\n",
    "\n",
    "# compare truncation and wildtype\n",
    "prot_trunc_wt = prot_miss_trunc_wildtype.loc[prot_miss_trunc_wildtype['binary_mutations'] != 'Missense']\n",
    "print(\"Doing t-test comparison for truncation and wildtype\")\n",
    "prot_results_trunc = wrap_ttest_return_all(prot_trunc_wt, 'binary_mutations', prot_col_list, num_freq_mut_genes)\n",
    "prot_results_trunc = prot_results_trunc.rename(index = {0: \"Truncation/Wildtype\"})\n",
    "\n",
    "prot_results_miss_trunc = prot_results_miss.append(prot_results_trunc)\n",
    "prot_results_miss_trunc"
   ]
  },
  {
   "cell_type": "code",
   "execution_count": null,
   "metadata": {},
   "outputs": [],
   "source": [
    "plt.rcParams['figure.figsize']=(8,5)\n",
    "sns.set(font_scale = 1.3)\n",
    "cis_boxplot = sns.boxplot(data = prot_miss_trunc_wildtype, x = 'binary_mutations',\n",
    "                          y = prot_col, order = ['Wildtype', 'Missense', 'Truncation'], showfliers = False)  \n",
    "cis_boxplot.set_title(gene + \" Effect on \" + gene +\" Proteomics in Glioblastoma Tumors\\n\")\n",
    "cis_boxplot = sns.stripplot(data= prot_miss_trunc_wildtype, x = 'binary_mutations',\n",
    "                            y = prot_col,jitter = True, color = \".3\", order = ['Wildtype', 'Missense', 'Truncation'])\n",
    "cis_boxplot.set(xlabel = \"\\n\"+gene + \" Mutation Status in Tumors\", ylabel = 'Proteomics')\n",
    "cis_boxplot.set_xticklabels(cis_boxplot.get_xticklabels())\n",
    "\n",
    "# Missense\n",
    "miss_pval = prot_results_miss_trunc.loc[prot_results_miss_trunc.index == \"Missense/Wildtype\"]\n",
    "miss_pval_symbol = get_pval_symbol(miss_pval)\n",
    "format_pval_annotation(miss_pval_symbol, x1 = 0, x2 = 1, line_start = 1.65, line_height = 0.15)\n",
    "\n",
    "# Truncation \n",
    "trunc_pval = prot_results_miss_trunc.loc[prot_results_miss_trunc.index == \"Truncation/Wildtype\"]\n",
    "trunc_pval_symbol = get_pval_symbol(trunc_pval)\n",
    "format_pval_annotation(trunc_pval_symbol, x1 = 0, x2 = 2, line_start = 1.95, line_height = 0.15)\n",
    "\n",
    "plt.show()\n",
    "plt.clf()\n",
    "plt.close()"
   ]
  },
  {
   "cell_type": "markdown",
   "metadata": {},
   "source": [
    "# Phosphoproteomics cis comparison"
   ]
  },
  {
   "cell_type": "markdown",
   "metadata": {},
   "source": [
    "Phosphoproteomics: Mutated and Wildtype"
   ]
  },
  {
   "cell_type": "code",
   "execution_count": null,
   "metadata": {},
   "outputs": [],
   "source": [
    "# Step 1 - Create dataframe in order to do comparisons with wrap_ttest\n",
    "phospho_and_mut = brain.join_omics_to_mutations(\n",
    "    mutations_genes = gene, omics_df_name = 'phosphoproteomics', omics_genes = gene)\n",
    "flatten_phospho_and_mut = brain.reduce_multiindex(phospho_and_mut, levels_to_drop=1, flatten=True)#reduce multi columns\n",
    "\n",
    "# Step 2 - Create the binary column needed to do the comparison\n",
    "flatten_phospho_and_mut['binary_mutations'] = flatten_phospho_and_mut[gene+'_Mutation_Status'].apply(\n",
    "    lambda x: 'Wildtype' if x == 'Wildtype_Tumor' else 'Mutated')\n",
    "\n",
    "# Step 3 - Format\n",
    "phospho_tumors = flatten_phospho_and_mut.query('Sample_Status != \"Normal\"') # drop Normal samples (warning with .loc)\n",
    "columns_to_drop = [gene+\"_Mutation\", gene+\"_Location\", gene+\"_Mutation_Status\", \"Sample_Status\"]\n",
    "binary_phospho = phospho_tumors.drop(columns_to_drop, axis = 1)\n",
    "only_phospho = binary_phospho.drop('binary_mutations', axis = 1)"
   ]
  },
  {
   "cell_type": "code",
   "execution_count": null,
   "metadata": {},
   "outputs": [],
   "source": [
    "# Use al.wrap_ttest for many columns of phospho data (takes phospho sites into account with bonferroni cutoff)\n",
    "phos_col_list = list(only_phospho.columns)\n",
    "\n",
    "# Step 4 - T-test comparing means of mutated vs wildtype effect on cis omics\n",
    "print(\"Doing t-test comparison for mutation status\")\n",
    "phos_pval_results = u.wrap_ttest(binary_phospho, 'binary_mutations', phos_col_list)\n",
    "#phos_pval_results = phos_pval_results.rename(index = {0: \"Mutated/Wildtype\"})\n",
    "phos_pval_results"
   ]
  },
  {
   "cell_type": "markdown",
   "metadata": {},
   "source": [
    "Graph"
   ]
  },
  {
   "cell_type": "code",
   "execution_count": null,
   "metadata": {},
   "outputs": [],
   "source": [
    "# Create data frame with all significant phospho sites in order to graph\n",
    "#phospho_list = list(phos_pval_results['Comparison']) # comment when no sig phospho sites\n",
    "phospho_list = list(only_phospho.columns) # uncomment when no sig phospho sites\n",
    "phospho_df = pd.melt(binary_phospho, id_vars = 'binary_mutations', \n",
    "            value_vars = phospho_list, var_name = 'specific_phospho', value_name = 'phosphoproteomics')\n",
    "phospho_df.replace(to_replace = '_phosphoproteomics', value = '', \n",
    "                        inplace = True, regex = True) # shorten column names"
   ]
  },
  {
   "cell_type": "code",
   "execution_count": null,
   "metadata": {},
   "outputs": [],
   "source": [
    "plt.rcParams['figure.figsize']=(25,10) #size of plot\n",
    "sns.set(font_scale = 2)\n",
    "\n",
    "cis_boxplot = sns.boxplot(data = phospho_df, x = 'specific_phospho', y = 'phosphoproteomics', hue = 'binary_mutations',\n",
    "                             hue_order = [\"Wildtype\",\"Mutated\"], showfliers = False) \n",
    "cis_boxplot.set_title(gene + \" Effect on \" + gene + \" Phosphoproteomics in Glioblastoma  Tumors\")\n",
    "cis_boxplot = sns.stripplot(data = phospho_df, x = 'specific_phospho', y = 'phosphoproteomics', hue = 'binary_mutations',\n",
    "                               hue_order = [\"Wildtype\",\"Mutated\"], jitter = True, color = \".3\", dodge = True)\n",
    "cis_boxplot.set(xlabel = 'Phosphorylation Sites', ylabel = \"Phosphorylation Levels\")\n",
    "cis_boxplot.set_xticklabels(cis_boxplot.get_xticklabels(),rotation=80)\n",
    "\n",
    "# format legend\n",
    "handles, labels = cis_boxplot.get_legend_handles_labels()\n",
    "plt.legend(handles[0:2], labels[0:2])\n",
    "\n",
    "''' Uncomment for when any phospho site comparison is significant\n",
    "# pval annotations for \n",
    "format_pval_annotation('*', x1 = -.2, x2 = .25, line_start = .63, line_height = .03)\n",
    "# pval annotations for \n",
    "format_pval_annotation('*', x1 = .8, x2 = 1.2, line_start = .69, line_height = .03)\n",
    "# pval annotations for\n",
    "format_pval_annotation('*', x1 = 1.8, x2 = 2.2, line_start = .58, line_height = .03)\n",
    "'''\n",
    "\n",
    "plt.show()\n",
    "plt.clf()\n",
    "plt.close()\n"
   ]
  },
  {
   "cell_type": "markdown",
   "metadata": {},
   "source": [
    "Phosphoproteomics: Missense and Truncation"
   ]
  },
  {
   "cell_type": "code",
   "execution_count": 18,
   "metadata": {},
   "outputs": [
    {
     "ename": "NameError",
     "evalue": "name 'binary_phospho' is not defined",
     "output_type": "error",
     "traceback": [
      "\u001b[0;31m---------------------------------------------------------------------------\u001b[0m",
      "\u001b[0;31mNameError\u001b[0m                                 Traceback (most recent call last)",
      "\u001b[0;32m<ipython-input-18-7a70e0975be2>\u001b[0m in \u001b[0;36m<module>\u001b[0;34m\u001b[0m\n\u001b[1;32m      1\u001b[0m \u001b[0;31m# select all wildtype from earlier -add to mut_type binary column\u001b[0m\u001b[0;34m\u001b[0m\u001b[0;34m\u001b[0m\u001b[0;34m\u001b[0m\u001b[0m\n\u001b[0;32m----> 2\u001b[0;31m \u001b[0mphos_wildtype\u001b[0m \u001b[0;34m=\u001b[0m \u001b[0mbinary_phospho\u001b[0m\u001b[0;34m.\u001b[0m\u001b[0mloc\u001b[0m\u001b[0;34m[\u001b[0m\u001b[0mbinary_phospho\u001b[0m\u001b[0;34m[\u001b[0m\u001b[0;34m'binary_mutations'\u001b[0m\u001b[0;34m]\u001b[0m \u001b[0;34m==\u001b[0m \u001b[0;34m'Wildtype'\u001b[0m\u001b[0;34m]\u001b[0m\u001b[0;34m\u001b[0m\u001b[0;34m\u001b[0m\u001b[0m\n\u001b[0m\u001b[1;32m      3\u001b[0m \u001b[0;34m\u001b[0m\u001b[0m\n\u001b[1;32m      4\u001b[0m \u001b[0mphos_mut_type\u001b[0m \u001b[0;34m=\u001b[0m \u001b[0mget_missense_truncation_comparison\u001b[0m\u001b[0;34m(\u001b[0m\u001b[0mbrain\u001b[0m\u001b[0;34m,\u001b[0m \u001b[0mflatten_phospho_and_mut\u001b[0m\u001b[0;34m)\u001b[0m\u001b[0;34m\u001b[0m\u001b[0;34m\u001b[0m\u001b[0m\n\u001b[1;32m      5\u001b[0m \u001b[0mphos_mut_and_wildtype\u001b[0m \u001b[0;34m=\u001b[0m \u001b[0mphos_mut_type\u001b[0m\u001b[0;34m.\u001b[0m\u001b[0mappend\u001b[0m\u001b[0;34m(\u001b[0m\u001b[0mphos_wildtype\u001b[0m\u001b[0;34m,\u001b[0m \u001b[0msort\u001b[0m\u001b[0;34m=\u001b[0m\u001b[0;32mTrue\u001b[0m\u001b[0;34m)\u001b[0m\u001b[0;34m\u001b[0m\u001b[0;34m\u001b[0m\u001b[0m\n",
      "\u001b[0;31mNameError\u001b[0m: name 'binary_phospho' is not defined"
     ]
    }
   ],
   "source": [
    "# select all wildtype from earlier -add to mut_type binary column\n",
    "phos_wildtype = binary_phospho.loc[binary_phospho['binary_mutations'] == 'Wildtype'] \n",
    "\n",
    "phos_mut_type = get_missense_truncation_comparison(brain, flatten_phospho_and_mut)\n",
    "phos_mut_and_wildtype = phos_mut_type.append(phos_wildtype, sort=True) "
   ]
  },
  {
   "cell_type": "code",
   "execution_count": 19,
   "metadata": {},
   "outputs": [
    {
     "ename": "NameError",
     "evalue": "name 'only_phospho' is not defined",
     "output_type": "error",
     "traceback": [
      "\u001b[0;31m---------------------------------------------------------------------------\u001b[0m",
      "\u001b[0;31mNameError\u001b[0m                                 Traceback (most recent call last)",
      "\u001b[0;32m<ipython-input-19-16ad177be133>\u001b[0m in \u001b[0;36m<module>\u001b[0;34m\u001b[0m\n\u001b[0;32m----> 1\u001b[0;31m \u001b[0mphos_col_list\u001b[0m \u001b[0;34m=\u001b[0m \u001b[0mlist\u001b[0m\u001b[0;34m(\u001b[0m\u001b[0monly_phospho\u001b[0m\u001b[0;34m.\u001b[0m\u001b[0mcolumns\u001b[0m\u001b[0;34m)\u001b[0m\u001b[0;34m\u001b[0m\u001b[0;34m\u001b[0m\u001b[0m\n\u001b[0m\u001b[1;32m      2\u001b[0m \u001b[0;31m# compare missense and wildtype\u001b[0m\u001b[0;34m\u001b[0m\u001b[0;34m\u001b[0m\u001b[0;34m\u001b[0m\u001b[0m\n\u001b[1;32m      3\u001b[0m \u001b[0mmiss_wt\u001b[0m \u001b[0;34m=\u001b[0m \u001b[0mphos_mut_and_wildtype\u001b[0m\u001b[0;34m.\u001b[0m\u001b[0mloc\u001b[0m\u001b[0;34m[\u001b[0m\u001b[0mphos_mut_and_wildtype\u001b[0m\u001b[0;34m[\u001b[0m\u001b[0;34m'binary_mutations'\u001b[0m\u001b[0;34m]\u001b[0m \u001b[0;34m!=\u001b[0m \u001b[0;34m'Truncation'\u001b[0m\u001b[0;34m]\u001b[0m\u001b[0;34m\u001b[0m\u001b[0;34m\u001b[0m\u001b[0m\n\u001b[1;32m      4\u001b[0m \u001b[0mprint\u001b[0m\u001b[0;34m(\u001b[0m\u001b[0;34m\"Doing t-test comparison for missense and wildtype\\n\"\u001b[0m\u001b[0;34m)\u001b[0m\u001b[0;34m\u001b[0m\u001b[0;34m\u001b[0m\u001b[0m\n\u001b[1;32m      5\u001b[0m \u001b[0mphos_results_miss\u001b[0m \u001b[0;34m=\u001b[0m \u001b[0mu\u001b[0m\u001b[0;34m.\u001b[0m\u001b[0mwrap_ttest\u001b[0m\u001b[0;34m(\u001b[0m\u001b[0mmiss_wt\u001b[0m\u001b[0;34m,\u001b[0m \u001b[0;34m'binary_mutations'\u001b[0m\u001b[0;34m,\u001b[0m \u001b[0mphos_col_list\u001b[0m\u001b[0;34m)\u001b[0m\u001b[0;34m\u001b[0m\u001b[0;34m\u001b[0m\u001b[0m\n",
      "\u001b[0;31mNameError\u001b[0m: name 'only_phospho' is not defined"
     ]
    }
   ],
   "source": [
    "phos_col_list = list(only_phospho.columns)\n",
    "# compare missense and wildtype\n",
    "miss_wt = phos_mut_and_wildtype.loc[phos_mut_and_wildtype['binary_mutations'] != 'Truncation']\n",
    "print(\"Doing t-test comparison for missense and wildtype\\n\")\n",
    "phos_results_miss = u.wrap_ttest(miss_wt, 'binary_mutations', phos_col_list)\n",
    "print(phos_results_miss)\n",
    "\n",
    "# compare truncation and wildtype \n",
    "#trunc_wt = phos_mut_and_wildtype.loc[phos_mut_and_wildtype['binary_mutations'] != 'Missense']\n",
    "#print(\"\\n\\nDoing t-test comparison for truncation and wildtype\\n\")\n",
    "#phos_results_trunc = u.wrap_ttest(trunc_wt, 'binary_mutations', phos_col_list)\n",
    "#phos_results_trunc"
   ]
  },
  {
   "cell_type": "markdown",
   "metadata": {},
   "source": [
    "Graph Missense and Truncation"
   ]
  },
  {
   "cell_type": "code",
   "execution_count": 20,
   "metadata": {},
   "outputs": [
    {
     "ename": "NameError",
     "evalue": "name 'only_phospho' is not defined",
     "output_type": "error",
     "traceback": [
      "\u001b[0;31m---------------------------------------------------------------------------\u001b[0m",
      "\u001b[0;31mNameError\u001b[0m                                 Traceback (most recent call last)",
      "\u001b[0;32m<ipython-input-20-602a5e4346bb>\u001b[0m in \u001b[0;36m<module>\u001b[0;34m\u001b[0m\n\u001b[1;32m      1\u001b[0m \u001b[0;31m# Create data frame with all significant phospho sites in order to graph\u001b[0m\u001b[0;34m\u001b[0m\u001b[0;34m\u001b[0m\u001b[0;34m\u001b[0m\u001b[0m\n\u001b[1;32m      2\u001b[0m \u001b[0;31m#mut_type_phospho_list = list(phos_results_trunc['Comparison']) # comment when no sig phospho sites\u001b[0m\u001b[0;34m\u001b[0m\u001b[0;34m\u001b[0m\u001b[0;34m\u001b[0m\u001b[0m\n\u001b[0;32m----> 3\u001b[0;31m \u001b[0mmut_type_phospho_list\u001b[0m \u001b[0;34m=\u001b[0m \u001b[0mlist\u001b[0m\u001b[0;34m(\u001b[0m\u001b[0monly_phospho\u001b[0m\u001b[0;34m.\u001b[0m\u001b[0mcolumns\u001b[0m\u001b[0;34m)\u001b[0m \u001b[0;31m# uncomment when no sig phospho sites\u001b[0m\u001b[0;34m\u001b[0m\u001b[0;34m\u001b[0m\u001b[0m\n\u001b[0m\u001b[1;32m      4\u001b[0m phos_mut_type_df = pd.melt(phos_mut_and_wildtype, id_vars = 'binary_mutations', \n\u001b[1;32m      5\u001b[0m             value_vars = mut_type_phospho_list, var_name = 'specific_phospho', value_name = 'phosphoproteomics')\n",
      "\u001b[0;31mNameError\u001b[0m: name 'only_phospho' is not defined"
     ]
    }
   ],
   "source": [
    "# Create data frame with all significant phospho sites in order to graph\n",
    "#mut_type_phospho_list = list(phos_results_trunc['Comparison']) # comment when no sig phospho sites\n",
    "mut_type_phospho_list = list(only_phospho.columns) # uncomment when no sig phospho sites\n",
    "phos_mut_type_df = pd.melt(phos_mut_and_wildtype, id_vars = 'binary_mutations', \n",
    "            value_vars = mut_type_phospho_list, var_name = 'specific_phospho', value_name = 'phosphoproteomics')\n",
    "phos_mut_type_df.replace(to_replace = '_phosphoproteomics', value = '', \n",
    "                        inplace = True, regex = True) # shorten column names"
   ]
  },
  {
   "cell_type": "code",
   "execution_count": 21,
   "metadata": {},
   "outputs": [
    {
     "ename": "NameError",
     "evalue": "name 'phos_mut_type_df' is not defined",
     "output_type": "error",
     "traceback": [
      "\u001b[0;31m---------------------------------------------------------------------------\u001b[0m",
      "\u001b[0;31mNameError\u001b[0m                                 Traceback (most recent call last)",
      "\u001b[0;32m<ipython-input-21-f6ff7def0f3b>\u001b[0m in \u001b[0;36m<module>\u001b[0;34m\u001b[0m\n\u001b[1;32m      1\u001b[0m \u001b[0mplt\u001b[0m\u001b[0;34m.\u001b[0m\u001b[0mrcParams\u001b[0m\u001b[0;34m[\u001b[0m\u001b[0;34m'figure.figsize'\u001b[0m\u001b[0;34m]\u001b[0m\u001b[0;34m=\u001b[0m\u001b[0;34m(\u001b[0m\u001b[0;36m20\u001b[0m\u001b[0;34m,\u001b[0m\u001b[0;36m10\u001b[0m\u001b[0;34m)\u001b[0m \u001b[0;31m#size of plot\u001b[0m\u001b[0;34m\u001b[0m\u001b[0;34m\u001b[0m\u001b[0m\n\u001b[1;32m      2\u001b[0m \u001b[0msns\u001b[0m\u001b[0;34m.\u001b[0m\u001b[0mset\u001b[0m\u001b[0;34m(\u001b[0m\u001b[0mfont_scale\u001b[0m \u001b[0;34m=\u001b[0m \u001b[0;36m2\u001b[0m\u001b[0;34m)\u001b[0m\u001b[0;34m\u001b[0m\u001b[0;34m\u001b[0m\u001b[0m\n\u001b[0;32m----> 3\u001b[0;31m phos_cis_boxplot = sns.boxplot(data = phos_mut_type_df, x = 'specific_phospho', y = 'phosphoproteomics', hue = 'binary_mutations',\n\u001b[0m\u001b[1;32m      4\u001b[0m                              hue_order = [\"Wildtype\",\"Missense\",\"Truncation\"], showfliers = False)  \n\u001b[1;32m      5\u001b[0m \u001b[0mphos_cis_boxplot\u001b[0m\u001b[0;34m.\u001b[0m\u001b[0mset_title\u001b[0m\u001b[0;34m(\u001b[0m\u001b[0mgene\u001b[0m \u001b[0;34m+\u001b[0m \u001b[0;34m\" Effect on \"\u001b[0m \u001b[0;34m+\u001b[0m \u001b[0mgene\u001b[0m \u001b[0;34m+\u001b[0m \u001b[0;34m\" Phosphoproteomics in Glioblastoma Tumors\"\u001b[0m\u001b[0;34m)\u001b[0m\u001b[0;34m\u001b[0m\u001b[0;34m\u001b[0m\u001b[0m\n",
      "\u001b[0;31mNameError\u001b[0m: name 'phos_mut_type_df' is not defined"
     ]
    }
   ],
   "source": [
    "plt.rcParams['figure.figsize']=(20,10) #size of plot\n",
    "sns.set(font_scale = 2)\n",
    "phos_cis_boxplot = sns.boxplot(data = phos_mut_type_df, x = 'specific_phospho', y = 'phosphoproteomics', hue = 'binary_mutations',\n",
    "                             hue_order = [\"Wildtype\",\"Missense\",\"Truncation\"], showfliers = False)  \n",
    "phos_cis_boxplot.set_title(gene + \" Effect on \" + gene + \" Phosphoproteomics in Glioblastoma Tumors\")\n",
    "phos_cis_boxplot = sns.stripplot(data = phos_mut_type_df, x = 'specific_phospho', y = 'phosphoproteomics', hue = 'binary_mutations',\n",
    "                               hue_order = [\"Wildtype\",\"Missense\",\"Truncation\"], jitter = True, color = \".3\", dodge = True)\n",
    "phos_cis_boxplot.set(xlabel = 'Phosphorylation Sites', ylabel = \"Phosphorylation Levels\")\n",
    "phos_cis_boxplot.set_xticklabels(phos_cis_boxplot.get_xticklabels(),rotation = 80)\n",
    "\n",
    "# format legend\n",
    "handles, labels = phos_cis_boxplot.get_legend_handles_labels()\n",
    "plt.legend(handles[0:3], labels[0:3])\n",
    "\n",
    "\n",
    "plt.show()\n",
    "plt.clf()\n",
    "plt.close()"
   ]
  },
  {
   "cell_type": "markdown",
   "metadata": {},
   "source": [
    "# Results"
   ]
  },
  {
   "cell_type": "markdown",
   "metadata": {},
   "source": []
  },
  {
   "cell_type": "markdown",
   "metadata": {},
   "source": [
    "Acetylproteomics not included in the Gbm dataset."
   ]
  },
  {
   "cell_type": "code",
   "execution_count": null,
   "metadata": {},
   "outputs": [],
   "source": []
  },
  {
   "cell_type": "code",
   "execution_count": null,
   "metadata": {},
   "outputs": [],
   "source": []
  }
 ],
 "metadata": {
  "kernelspec": {
   "display_name": "Python 3",
   "language": "python",
   "name": "python3"
  },
  "language_info": {
   "codemirror_mode": {
    "name": "ipython",
    "version": 3
   },
   "file_extension": ".py",
   "mimetype": "text/x-python",
   "name": "python",
   "nbconvert_exporter": "python",
   "pygments_lexer": "ipython3",
   "version": "3.7.3"
  }
 },
 "nbformat": 4,
 "nbformat_minor": 2
}
