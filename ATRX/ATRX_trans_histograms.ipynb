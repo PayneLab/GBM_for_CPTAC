{
 "cells": [
  {
   "cell_type": "markdown",
   "metadata": {},
   "source": [
    "# ATRX Mutation Trans Effect on Proteomics"
   ]
  },
  {
   "cell_type": "markdown",
   "metadata": {},
   "source": [
    "This notebook analyzes the trans effect of ATRX mutation for all proteins."
   ]
  },
  {
   "cell_type": "markdown",
   "metadata": {},
   "source": [
    "### Library Imports"
   ]
  },
  {
   "cell_type": "code",
   "execution_count": 1,
   "metadata": {},
   "outputs": [],
   "source": [
    "import pandas as pd\n",
    "import numpy as np\n",
    "import scipy.stats\n",
    "import seaborn as sns\n",
    "import matplotlib.pyplot as plt\n",
    "\n",
    "import warnings\n",
    "warnings.filterwarnings(\"ignore\")\n",
    "\n",
    "import cptac\n",
    "import cptac.utils as al"
   ]
  },
  {
   "cell_type": "code",
   "execution_count": 2,
   "metadata": {},
   "outputs": [
    {
     "name": "stdout",
     "output_type": "stream",
     "text": [
      "                                    \r"
     ]
    }
   ],
   "source": [
    "brain = cptac.Gbm()"
   ]
  },
  {
   "cell_type": "code",
   "execution_count": 3,
   "metadata": {},
   "outputs": [],
   "source": [
    "def add_to_all_significant_comparisons(df, cancer, interacting, all_sig_comp):\n",
    "    expanded = df\n",
    "    expanded['Gene'] = gene\n",
    "    expanded['Cancer_Type'] = cancer\n",
    "    expanded['Interacting_Protein'] = interacting\n",
    "    \n",
    "    updated_all_comparisons = pd.concat([all_sig_comp, expanded], sort=False)\n",
    "    \n",
    "    return updated_all_comparisons"
   ]
  },
  {
   "cell_type": "code",
   "execution_count": 95,
   "metadata": {},
   "outputs": [],
   "source": [
    "def add_significance_col(results_df, num_comparisons):\n",
    "    #bonferroni multiple hypothesis\n",
    "    \n",
    "    #FIX! \n",
    "    alpha = .05\n",
    "    bonferroni_cutoff = alpha / num_comparisons\n",
    "    \n",
    "    for row_index, row in results_df.iterrows():\n",
    "        pval = row['P_Value']\n",
    "        if float(pval) <= bonferroni_cutoff:\n",
    "            results_df['Significant'] = True\n",
    "        else: \n",
    "            results_df['Significant'] = False\n",
    "    return results_df\n",
    "\n",
    "def wrap_ttest_return_all(df, label_column, comparison_columns, total_tests = None, alpha=.05):\n",
    "    try:\n",
    "        #Verify precondition that label column exists and has exactly 2 unique values\n",
    "        label_values = df[label_column].unique()\n",
    "        if len(label_values) != 2:\n",
    "            print(\"Incorrectly Formatted Dataframe! Label column must have exactly 2 unique values.\")\n",
    "            return None\n",
    "        \n",
    "        #Partition dataframe into two sets, one for each of the two unique values from the label column\n",
    "        partition1 = df.loc[df[label_column] == label_values[0]]\n",
    "        partition2 = df.loc[df[label_column] == label_values[1]]\n",
    "        \n",
    "        #Determine the number of real valued columns on which we will do t-tests\n",
    "        if total_tests == None:\n",
    "            number_of_comparisons = len(comparison_columns)\n",
    "            print(number_of_comparisons)\n",
    "        else:\n",
    "            number_of_comparisons = total_tests # ? phospho sites or num freq mut genes doing cis comp\n",
    "        \n",
    "        #Use a bonferroni correction to adjust for multiple testing by altering the p-value needed for acceptance\n",
    "        bonferroni_cutoff = alpha/number_of_comparisons\n",
    "        \n",
    "        #Store all comparisons with their p-values in a dictionary\n",
    "        all_comparisons = {}\n",
    "        \n",
    "        #Loop through each comparison column, perform the t-test, and determine whether it meets the significance cutoff'''\n",
    "        for column in comparison_columns:\n",
    "            stat, pval = scipy.stats.ttest_ind(partition1[column].dropna(axis=0), partition2[column].dropna(axis=0))\n",
    "            all_comparisons[column] = pval\n",
    "    \n",
    "        #Sort dictionary to list smallest p-values first\n",
    "        sorted_comparisons = sorted(all_comparisons.items(), key=lambda kv: kv[1])\n",
    "        #Format as a dataframe and return to caller\n",
    "        all_comparisons_df = pd.DataFrame.from_dict(sorted_comparisons)\n",
    "        all_comparisons_df.columns = ['Comparison', 'P_Value']\n",
    "        \n",
    "                                               \n",
    "        all_comparisons_sig_col = add_significance_col(all_comparisons_df, number_of_comparisons)\n",
    "        return all_comparisons_sig_col\n",
    "                                \n",
    "    except:\n",
    "        print(\"Incorrectly Formatted Dataframe!\")\n",
    "        return None\n"
   ]
  },
  {
   "cell_type": "markdown",
   "metadata": {},
   "source": [
    "### Specify Gene"
   ]
  },
  {
   "cell_type": "code",
   "execution_count": 5,
   "metadata": {},
   "outputs": [],
   "source": [
    "gene = \"ATRX\""
   ]
  },
  {
   "cell_type": "markdown",
   "metadata": {},
   "source": [
    "###  Transcriptomics"
   ]
  },
  {
   "cell_type": "code",
   "execution_count": 6,
   "metadata": {},
   "outputs": [],
   "source": [
    "#omics = \"proteomics\"\n",
    "omics = \"transcriptomics\"\n",
    "#omics = \"phosphoproteomics\""
   ]
  },
  {
   "cell_type": "markdown",
   "metadata": {},
   "source": [
    "### Track all significant comparisons in dataframe"
   ]
  },
  {
   "cell_type": "code",
   "execution_count": 7,
   "metadata": {},
   "outputs": [],
   "source": [
    "all_significant_comparisons = pd.DataFrame(columns=['Cancer_Type', 'Gene', 'Comparison','Interacting_Protein','P_Value'])"
   ]
  },
  {
   "cell_type": "markdown",
   "metadata": {},
   "source": [
    "# All Proteins: Transcriptomics"
   ]
  },
  {
   "cell_type": "code",
   "execution_count": 96,
   "metadata": {},
   "outputs": [
    {
     "name": "stdout",
     "output_type": "stream",
     "text": [
      "\n",
      "Gene:  ATRX\n"
     ]
    },
    {
     "name": "stderr",
     "output_type": "stream",
     "text": [
      "Warning: In joining the somatic_mutation table, no mutations were found for the following samples, so they were filled with Wildtype_Tumor or Wildtype_Normal: 100 samples for the ATRX gene (C:\\Users\\brittany henderson\\Anaconda3\\envs\\Research\\lib\\site-packages\\ipykernel_launcher.py, line 7)\n"
     ]
    },
    {
     "name": "stdout",
     "output_type": "stream",
     "text": [
      "Doing t-test comparisons\n",
      "\n",
      "60483\n",
      "done\n"
     ]
    }
   ],
   "source": [
    "try:\n",
    "    print(\"\\nGene: \", gene)\n",
    "\n",
    "    #Use all proteins\n",
    "\n",
    "    #Create dataframe in order to do comparisons with wrap_ttest\n",
    "    protdf = brain.join_omics_to_mutations(mutations_genes=[gene], omics_df_name=omics)\n",
    "    protdf = brain.reduce_multiindex(protdf, flatten=True)\n",
    "    protdf = protdf[protdf.Sample_Status == 'Tumor'] # drop Normal samples\n",
    "    \n",
    "    #Create the binary valued column needed to do the comparison\n",
    "    for ind, row in protdf.iterrows():\n",
    "        if row[gene+\"_Mutation_Status\"] != 'Wildtype_Tumor':\n",
    "            protdf.at[ind,'Label'] = 'Mutated'\n",
    "        else:\n",
    "            protdf.at[ind,'Label'] = 'Wildtype'\n",
    "\n",
    "    #Format the datafram correctly\n",
    "    protdf = protdf.drop(gene+\"_Mutation\",axis=1)\n",
    "    protdf = protdf.drop(gene+\"_Location\",axis=1)\n",
    "    protdf = protdf.drop(gene+\"_Mutation_Status\", axis=1)\n",
    "    protdf = protdf.drop(\"Sample_Status\",axis=1)\n",
    "\n",
    "    #Make list of columns to be compared using t-tests\n",
    "    col_list = list(protdf.columns)\n",
    "    col_list.remove('Label')\n",
    "\n",
    "    print(\"Doing t-test comparisons\\n\")\n",
    "    \n",
    "    #Call wrap_ttest, pass in formatted dataframe\n",
    "    wrap_results = wrap_ttest_return_all(protdf, 'Label', col_list)\n",
    "\n",
    "    all_significant_comparisons = add_to_all_significant_comparisons(wrap_results, \"Gbm\", False, all_significant_comparisons)\n",
    "    print(\"done\")\n",
    "\n",
    "except Exception as e:\n",
    "    print(\"Error in Comparison\")\n",
    "    print(e)"
   ]
  },
  {
   "cell_type": "markdown",
   "metadata": {},
   "source": [
    "### Print all significant comparisons"
   ]
  },
  {
   "cell_type": "code",
   "execution_count": 110,
   "metadata": {},
   "outputs": [
    {
     "name": "stdout",
     "output_type": "stream",
     "text": [
      "Empty DataFrame\n",
      "Columns: [Cancer_Type, Gene, Comparison, Interacting_Protein, P_Value, Significant]\n",
      "Index: []\n",
      "number of proteins:  120966\n"
     ]
    }
   ],
   "source": [
    "if len(all_significant_comparisons) > 0:\n",
    "    sig = all_significant_comparisons.loc[all_significant_comparisons['Significant'] == True]\n",
    "    print(sig)\n",
    "    number_of_proteins = len(all_significant_comparisons)\n",
    "    print(\"number of proteins: \", number_of_proteins)\n",
    "else:\n",
    "    print('No Significant Comparisons!')"
   ]
  },
  {
   "cell_type": "code",
   "execution_count": 91,
   "metadata": {},
   "outputs": [],
   "source": [
    "# Significant comparisons\n",
    "cutoff = 0.000000826 #(.05/60483)\n",
    "sig_df = all_significant_comparisons.loc[all_significant_comparisons['P_Value'] <= cutoff]\n"
   ]
  },
  {
   "cell_type": "code",
   "execution_count": 94,
   "metadata": {},
   "outputs": [
    {
     "ename": "TypeError",
     "evalue": "count() takes exactly one argument (0 given)",
     "output_type": "error",
     "traceback": [
      "\u001b[1;31m---------------------------------------------------------------------------\u001b[0m",
      "\u001b[1;31mTypeError\u001b[0m                                 Traceback (most recent call last)",
      "\u001b[1;32m<ipython-input-94-d2e232c9ce31>\u001b[0m in \u001b[0;36m<module>\u001b[1;34m\u001b[0m\n\u001b[0;32m     12\u001b[0m         \u001b[0msig\u001b[0m\u001b[1;33m.\u001b[0m\u001b[0mappend\u001b[0m\u001b[1;33m(\u001b[0m\u001b[1;32mFalse\u001b[0m\u001b[1;33m)\u001b[0m\u001b[1;33m\u001b[0m\u001b[1;33m\u001b[0m\u001b[0m\n\u001b[0;32m     13\u001b[0m \u001b[1;33m\u001b[0m\u001b[0m\n\u001b[1;32m---> 14\u001b[1;33m \u001b[0msig\u001b[0m\u001b[1;33m.\u001b[0m\u001b[0mcount\u001b[0m\u001b[1;33m(\u001b[0m\u001b[1;33m)\u001b[0m\u001b[1;33m\u001b[0m\u001b[1;33m\u001b[0m\u001b[0m\n\u001b[0m",
      "\u001b[1;31mTypeError\u001b[0m: count() takes exactly one argument (0 given)"
     ]
    }
   ],
   "source": [
    "alpha = .05\n",
    "num_comparisons = 60843\n",
    "bonferroni_cutoff = alpha / num_comparisons\n",
    "sig = []\n",
    "#pval = 7.035771e-07\n",
    "\n",
    "for row_index, row in sig_df.iterrows():\n",
    "    pval = row['P_Value']\n",
    "    if float(pval) <= bonferroni_cutoff:\n",
    "        sig.append(True)\n",
    "    else: \n",
    "        sig.append(False)"
   ]
  },
  {
   "cell_type": "code",
   "execution_count": 10,
   "metadata": {},
   "outputs": [],
   "source": [
    "pval_series = all_significant_comparisons['P_Value']\n",
    "pval_series = pval_series.dropna()"
   ]
  },
  {
   "cell_type": "code",
   "execution_count": 115,
   "metadata": {},
   "outputs": [
    {
     "data": {
      "image/png": "[encoded data removed]",
      "text/plain": [
       "<Figure size 720x576 with 1 Axes>"
      ]
     },
     "metadata": {},
     "output_type": "display_data"
    }
   ],
   "source": [
    "# Histogram\n",
    "\n",
    "bonferroni_cutoff = 0.05/number_of_proteins\n",
    "\n",
    "plt.rcParams['figure.figsize']=(10,8)\n",
    "sns.set(font_scale = 1.3)\n",
    "\n",
    "histogram = sns.distplot(pval_series, bins = 100, kde=False)\n",
    "#plt.xlim([1e-10, 1]) # change x axis intervals\n",
    "#plt.xscale('log')\n",
    "plt.ylim([0, 3500])\n",
    "histogram.set(ylabel = 'Number of Proteins')\n",
    "plt.axvline(bonferroni_cutoff, 0, 0.75)\n",
    "plt.axvline(0.05, 0, 0.75)\n",
    "plt.show()\n",
    "\n",
    "plt.clf()\n",
    "plt.close()"
   ]
  },
  {
   "cell_type": "code",
   "execution_count": 119,
   "metadata": {},
   "outputs": [
    {
     "data": {
      "image/png": "[encoded data removed]",
      "text/plain": [
       "<Figure size 720x576 with 1 Axes>"
      ]
     },
     "metadata": {},
     "output_type": "display_data"
    }
   ],
   "source": [
    "# Histogram\n",
    "bonferroni_cutoff = 0.05/number_of_proteins\n",
    "\n",
    "plt.rcParams['figure.figsize']=(10,8)\n",
    "sns.set(font_scale = 1.3)\n",
    "\n",
    "histogram = sns.distplot(pval_series, bins = 1000, kde=False)# higher bins if you don't log it\n",
    "plt.xlim([0,0.01])\n",
    "#plt.xlim([1e-10, 1e-1]) # change x axis intervals\n",
    "#plt.xscale('log')\n",
    "#plt.ylim([0.0,20]) # change y axis intervals\n",
    "histogram.set(ylabel = 'Number of Proteins')\n",
    "plt.axvline(bonferroni_cutoff, 0, 1) # cutoff line (cutoff, 0, height)\n",
    "plt.show()\n",
    "\n",
    "plt.clf()\n",
    "plt.close()"
   ]
  },
  {
   "cell_type": "code",
   "execution_count": null,
   "metadata": {},
   "outputs": [],
   "source": []
  }
 ],
 "metadata": {
  "kernelspec": {
   "display_name": "Python 3",
   "language": "python",
   "name": "python3"
  },
  "language_info": {
   "codemirror_mode": {
    "name": "ipython",
    "version": 3
   },
   "file_extension": ".py",
   "mimetype": "text/x-python",
   "name": "python",
   "nbconvert_exporter": "python",
   "pygments_lexer": "ipython3",
   "version": "3.7.3"
  }
 },
 "nbformat": 4,
 "nbformat_minor": 2
}
