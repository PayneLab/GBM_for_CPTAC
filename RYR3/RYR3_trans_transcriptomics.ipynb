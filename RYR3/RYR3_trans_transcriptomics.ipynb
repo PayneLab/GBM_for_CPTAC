{
 "cells": [
  {
   "cell_type": "markdown",
   "metadata": {},
   "source": [
    "# RYR3 Mutation Trans Effect on Transcriptomics"
   ]
  },
  {
   "cell_type": "markdown",
   "metadata": {},
   "source": [
    "### Library Imports"
   ]
  },
  {
   "cell_type": "code",
   "execution_count": 1,
   "metadata": {},
   "outputs": [
    {
     "name": "stdout",
     "output_type": "stream",
     "text": [
      "                                    \r"
     ]
    }
   ],
   "source": [
    "import pandas as pd\n",
    "import numpy as np\n",
    "import scipy.stats\n",
    "\n",
    "import warnings\n",
    "warnings.filterwarnings(\"ignore\")\n",
    "\n",
    "import cptac\n",
    "import cptac.utils as al\n",
    "\n",
    "brain = cptac.Gbm()"
   ]
  },
  {
   "cell_type": "markdown",
   "metadata": {},
   "source": [
    "### Select Gene"
   ]
  },
  {
   "cell_type": "code",
   "execution_count": 2,
   "metadata": {},
   "outputs": [],
   "source": [
    "gene = \"RYR3\""
   ]
  },
  {
   "cell_type": "markdown",
   "metadata": {},
   "source": [
    "### Investigate Proteomics, Phosphoproteomics, Acetylproteomics, or Transcriptomics"
   ]
  },
  {
   "cell_type": "code",
   "execution_count": 3,
   "metadata": {},
   "outputs": [],
   "source": [
    "#omics = \"proteomics\"\n",
    "omics = \"transcriptomics\"\n",
    "#omics = \"phosphoproteomics\"\n",
    "#omics = \"acetylproteomics\""
   ]
  },
  {
   "cell_type": "markdown",
   "metadata": {},
   "source": [
    "### Track all significant comparisons in Dataframe"
   ]
  },
  {
   "cell_type": "code",
   "execution_count": 4,
   "metadata": {},
   "outputs": [],
   "source": [
    "all_significant_comparisons = pd.DataFrame(columns=['Cancer_Type', 'Gene', 'Comparison','Interacting_Protein','P_Value'])"
   ]
  },
  {
   "cell_type": "code",
   "execution_count": 5,
   "metadata": {},
   "outputs": [],
   "source": [
    "def add_to_all_significant_comparisons(df, cancer, interacting, all_sig_comp):\n",
    "    expanded = df\n",
    "    expanded['Gene'] = gene\n",
    "    expanded['Cancer_Type'] = cancer\n",
    "    expanded['Interacting_Protein'] = interacting\n",
    "    \n",
    "    updated_all_comparisons = pd.concat([all_sig_comp, expanded], sort=False)\n",
    "    \n",
    "    return updated_all_comparisons"
   ]
  },
  {
   "cell_type": "markdown",
   "metadata": {},
   "source": [
    "# Interacting Proteins: Transcriptomics"
   ]
  },
  {
   "cell_type": "markdown",
   "metadata": {},
   "source": [
    "### Generate interacting protein list"
   ]
  },
  {
   "cell_type": "markdown",
   "metadata": {},
   "source": [
    "Make a call to cptac.utils to get the interacting proteins method, which interacts with the uniprot and string databases to generate a list of known interacting partners with the given gene."
   ]
  },
  {
   "cell_type": "code",
   "execution_count": 6,
   "metadata": {},
   "outputs": [
    {
     "name": "stdout",
     "output_type": "stream",
     "text": [
      "Interacting Proteins:\n",
      "CACNA1C\n",
      "SRI\n",
      "CALM2\n",
      "CALM3\n",
      "CALML6\n",
      "CALML3\n",
      "CALM1\n",
      "ATP2A1\n",
      "RYR1\n",
      "CD38\n",
      "ATP2A3\n",
      "SEPN1\n",
      "CACNA1S\n",
      "RYR2\n",
      "PRKG1\n",
      "ASPH\n",
      "CALML5\n",
      "FKBP1B\n",
      "RYR3\n",
      "WBSCR17\n",
      "ARHGAP11A\n",
      "FKBP1A\n",
      "CALML4\n",
      "TRDN\n",
      "ATP2A2\n",
      "NOS1\n",
      "CUL1\n",
      "CFTR\n",
      "HNF1A\n",
      "BMI1\n",
      "VCP\n"
     ]
    }
   ],
   "source": [
    "# Use get interacting proteins method to generate list of interacting proteins\n",
    "interacting_proteins = al.get_interacting_proteins(gene)\n",
    "\n",
    "# Show interacting protein list\n",
    "print(\"Interacting Proteins:\")\n",
    "for interacting_protein in interacting_proteins:\n",
    "    print(interacting_protein)"
   ]
  },
  {
   "cell_type": "markdown",
   "metadata": {},
   "source": [
    "### Test for significant comparisons in any of interacting proteins"
   ]
  },
  {
   "cell_type": "code",
   "execution_count": 7,
   "metadata": {},
   "outputs": [
    {
     "name": "stdout",
     "output_type": "stream",
     "text": [
      "Doing t-test comparisons\n",
      "\n",
      "No significant comparisons.\n"
     ]
    },
    {
     "name": "stderr",
     "output_type": "stream",
     "text": [
      "Warning: In joining the somatic_mutation table, no mutations were found for the following samples, so they were filled with Wildtype_Tumor or Wildtype_Normal: 101 samples for the RYR3 gene (/Users/Lindsey/anaconda3/lib/python3.7/site-packages/ipykernel_launcher.py, line 2)\n"
     ]
    }
   ],
   "source": [
    "# Create dataframe in order to do comparisons with wrap_ttest\n",
    "protdf = brain.join_omics_to_mutations(mutations_genes=[gene], omics_df_name=omics, omics_genes=interacting_proteins)\n",
    "protdf = brain.reduce_multiindex(protdf, flatten=True)\n",
    "protdf = protdf[protdf.Sample_Status == 'Tumor'] # drop Normal samples\n",
    "\n",
    "# Create the binary valued column needed to do the comparison\n",
    "for ind, row in protdf.iterrows():\n",
    "    if row[gene+\"_Mutation_Status\"] != 'Wildtype_Tumor':\n",
    "        protdf.at[ind,'Label'] = 'Mutated'\n",
    "    else:\n",
    "        protdf.at[ind,'Label'] = 'Wildtype'\n",
    "\n",
    "# Format the dataframe correctly\n",
    "protdf = protdf.drop(gene+\"_Mutation\",axis=1)\n",
    "protdf = protdf.drop(gene+\"_Location\",axis=1)\n",
    "protdf = protdf.drop(gene+\"_Mutation_Status\", axis=1)\n",
    "protdf = protdf.drop(\"Sample_Status\",axis=1)\n",
    "\n",
    "\n",
    "# Make list of columns to be compared using t-tests\n",
    "col_list = list(protdf.columns)\n",
    "col_list.remove('Label')\n",
    "\n",
    "print(\"Doing t-test comparisons\\n\")\n",
    "\n",
    "# Call wrap_ttest, pass in formatted dataframe\n",
    "wrap_results = al.wrap_ttest(protdf, 'Label', col_list)\n",
    "\n",
    "# Print results, if anything significant was found\n",
    "if wrap_results is not None:\n",
    "        print(wrap_results)\n",
    "        print(\"\\n\\n\")\n",
    "        \n",
    "        all_significant_comparisons = add_to_all_significant_comparisons(wrap_results, \"Gbm\", True, all_significant_comparisons)\n",
    "        "
   ]
  },
  {
   "cell_type": "markdown",
   "metadata": {},
   "source": [
    "# All Proteins: Transcriptomics "
   ]
  },
  {
   "cell_type": "code",
   "execution_count": 8,
   "metadata": {},
   "outputs": [
    {
     "name": "stdout",
     "output_type": "stream",
     "text": [
      "\n",
      "Gene:  RYR3\n"
     ]
    },
    {
     "name": "stderr",
     "output_type": "stream",
     "text": [
      "Warning: In joining the somatic_mutation table, no mutations were found for the following samples, so they were filled with Wildtype_Tumor or Wildtype_Normal: 101 samples for the RYR3 gene (/Users/Lindsey/anaconda3/lib/python3.7/site-packages/ipykernel_launcher.py, line 7)\n"
     ]
    },
    {
     "name": "stdout",
     "output_type": "stream",
     "text": [
      "Doing t-test comparisons\n",
      "\n",
      "                                         Comparison       P_Value\n",
      "0         MIR4309_transcriptomics_ENSG00000266015.1  2.141199e-08\n",
      "1    ARHGEF38-IT1_transcriptomics_ENSG00000249885.1  1.447441e-07\n",
      "2       LINC01047_transcriptomics_ENSG00000232225.5  1.966811e-07\n",
      "3       RNU6-227P_transcriptomics_ENSG00000199735.1  2.400447e-07\n",
      "4     RP1-59B16.1_transcriptomics_ENSG00000220748.2  3.271365e-07\n",
      "5        SEPHS1P7_transcriptomics_ENSG00000231926.1  3.271541e-07\n",
      "6   RP11-551G24.3_transcriptomics_ENSG00000236775.1  3.273002e-07\n",
      "7       MIR5701-1_transcriptomics_ENSG00000266545.1  3.273574e-07\n",
      "8        TCEB1P31_transcriptomics_ENSG00000256021.1  3.273574e-07\n",
      "9       RNU6-210P_transcriptomics_ENSG00000252752.1  3.289980e-07\n",
      "10      SIGLEC31P_transcriptomics_ENSG00000268847.1  3.289980e-07\n",
      "11        MIR4288_transcriptomics_ENSG00000265251.1  3.322928e-07\n",
      "12          Y_RNA_transcriptomics_ENSG00000206847.1  3.330977e-07\n",
      "13   RP11-316I3.2_transcriptomics_ENSG00000238054.1  3.389422e-07\n",
      "14     AL901608.1_transcriptomics_ENSG00000264024.1  3.670021e-07\n",
      "15  RP11-520P18.1_transcriptomics_ENSG00000243328.1  3.670021e-07\n",
      "16         IL9RP3_transcriptomics_ENSG00000226942.2  3.767840e-07\n",
      "\n",
      "\n",
      "\n"
     ]
    }
   ],
   "source": [
    "try:\n",
    "    print(\"\\nGene: \", gene)\n",
    "\n",
    "    # Use all proteins\n",
    "\n",
    "    # Create dataframe in order to do comparisons with wrap_ttest\n",
    "    protdf = brain.join_omics_to_mutations(mutations_genes=[gene], omics_df_name=omics)\n",
    "    protdf = brain.reduce_multiindex(protdf, flatten=True) # flatten for specific column names\n",
    "    protdf = protdf.loc[protdf['Sample_Status'] == 'Tumor']\n",
    "    \n",
    "    # Create binary column \n",
    "    protdf['Label'] = np.where(\n",
    "                protdf[gene+'_Mutation_Status'] == 'Wildtype_Tumor', 'Wildtype', 'Mutated')\n",
    "\n",
    "    # Format the dataframe correctly'''\n",
    "    protdf = protdf.drop(gene+\"_Mutation\",axis=1)\n",
    "    protdf = protdf.drop(gene+\"_Location\",axis=1)\n",
    "    protdf = protdf.drop(gene+\"_Mutation_Status\", axis=1)\n",
    "    protdf = protdf.drop(\"Sample_Status\",axis=1)\n",
    "\n",
    "    # Make list of columns to be compared using t-tests\n",
    "    col_list = list(protdf.columns)\n",
    "    col_list.remove('Label')\n",
    "\n",
    "    print(\"Doing t-test comparisons\\n\")\n",
    "    \n",
    "    # Call wrap_ttest, pass in formatted dataframe\n",
    "    wrap_results = al.wrap_ttest(protdf, 'Label', col_list)\n",
    "\n",
    "    # Print results, if anything significant was found\n",
    "    if wrap_results is not None:\n",
    "            print(wrap_results)\n",
    "            print(\"\\n\\n\")\n",
    "            \n",
    "            all_significant_comparisons = add_to_all_significant_comparisons(wrap_results, \"Gbm\", False, all_significant_comparisons)\n",
    "\n",
    "\n",
    "except Exception as e:\n",
    "    print(\"Error in Comparison\")\n",
    "    print(e)"
   ]
  },
  {
   "cell_type": "markdown",
   "metadata": {},
   "source": [
    "# Print all significant comparisons"
   ]
  },
  {
   "cell_type": "code",
   "execution_count": 9,
   "metadata": {},
   "outputs": [
    {
     "data": {
      "text/html": [
       "<div>\n",
       "<style scoped>\n",
       "    .dataframe tbody tr th:only-of-type {\n",
       "        vertical-align: middle;\n",
       "    }\n",
       "\n",
       "    .dataframe tbody tr th {\n",
       "        vertical-align: top;\n",
       "    }\n",
       "\n",
       "    .dataframe thead th {\n",
       "        text-align: right;\n",
       "    }\n",
       "</style>\n",
       "<table border=\"1\" class=\"dataframe\">\n",
       "  <thead>\n",
       "    <tr style=\"text-align: right;\">\n",
       "      <th></th>\n",
       "      <th>Cancer_Type</th>\n",
       "      <th>Gene</th>\n",
       "      <th>Comparison</th>\n",
       "      <th>Interacting_Protein</th>\n",
       "      <th>P_Value</th>\n",
       "    </tr>\n",
       "  </thead>\n",
       "  <tbody>\n",
       "    <tr>\n",
       "      <td>0</td>\n",
       "      <td>Gbm</td>\n",
       "      <td>RYR3</td>\n",
       "      <td>MIR4309_transcriptomics_ENSG00000266015.1</td>\n",
       "      <td>False</td>\n",
       "      <td>2.141199e-08</td>\n",
       "    </tr>\n",
       "    <tr>\n",
       "      <td>1</td>\n",
       "      <td>Gbm</td>\n",
       "      <td>RYR3</td>\n",
       "      <td>ARHGEF38-IT1_transcriptomics_ENSG00000249885.1</td>\n",
       "      <td>False</td>\n",
       "      <td>1.447441e-07</td>\n",
       "    </tr>\n",
       "    <tr>\n",
       "      <td>2</td>\n",
       "      <td>Gbm</td>\n",
       "      <td>RYR3</td>\n",
       "      <td>LINC01047_transcriptomics_ENSG00000232225.5</td>\n",
       "      <td>False</td>\n",
       "      <td>1.966811e-07</td>\n",
       "    </tr>\n",
       "    <tr>\n",
       "      <td>3</td>\n",
       "      <td>Gbm</td>\n",
       "      <td>RYR3</td>\n",
       "      <td>RNU6-227P_transcriptomics_ENSG00000199735.1</td>\n",
       "      <td>False</td>\n",
       "      <td>2.400447e-07</td>\n",
       "    </tr>\n",
       "    <tr>\n",
       "      <td>4</td>\n",
       "      <td>Gbm</td>\n",
       "      <td>RYR3</td>\n",
       "      <td>RP1-59B16.1_transcriptomics_ENSG00000220748.2</td>\n",
       "      <td>False</td>\n",
       "      <td>3.271365e-07</td>\n",
       "    </tr>\n",
       "    <tr>\n",
       "      <td>5</td>\n",
       "      <td>Gbm</td>\n",
       "      <td>RYR3</td>\n",
       "      <td>SEPHS1P7_transcriptomics_ENSG00000231926.1</td>\n",
       "      <td>False</td>\n",
       "      <td>3.271541e-07</td>\n",
       "    </tr>\n",
       "    <tr>\n",
       "      <td>6</td>\n",
       "      <td>Gbm</td>\n",
       "      <td>RYR3</td>\n",
       "      <td>RP11-551G24.3_transcriptomics_ENSG00000236775.1</td>\n",
       "      <td>False</td>\n",
       "      <td>3.273002e-07</td>\n",
       "    </tr>\n",
       "    <tr>\n",
       "      <td>7</td>\n",
       "      <td>Gbm</td>\n",
       "      <td>RYR3</td>\n",
       "      <td>MIR5701-1_transcriptomics_ENSG00000266545.1</td>\n",
       "      <td>False</td>\n",
       "      <td>3.273574e-07</td>\n",
       "    </tr>\n",
       "    <tr>\n",
       "      <td>8</td>\n",
       "      <td>Gbm</td>\n",
       "      <td>RYR3</td>\n",
       "      <td>TCEB1P31_transcriptomics_ENSG00000256021.1</td>\n",
       "      <td>False</td>\n",
       "      <td>3.273574e-07</td>\n",
       "    </tr>\n",
       "    <tr>\n",
       "      <td>9</td>\n",
       "      <td>Gbm</td>\n",
       "      <td>RYR3</td>\n",
       "      <td>RNU6-210P_transcriptomics_ENSG00000252752.1</td>\n",
       "      <td>False</td>\n",
       "      <td>3.289980e-07</td>\n",
       "    </tr>\n",
       "    <tr>\n",
       "      <td>10</td>\n",
       "      <td>Gbm</td>\n",
       "      <td>RYR3</td>\n",
       "      <td>SIGLEC31P_transcriptomics_ENSG00000268847.1</td>\n",
       "      <td>False</td>\n",
       "      <td>3.289980e-07</td>\n",
       "    </tr>\n",
       "    <tr>\n",
       "      <td>11</td>\n",
       "      <td>Gbm</td>\n",
       "      <td>RYR3</td>\n",
       "      <td>MIR4288_transcriptomics_ENSG00000265251.1</td>\n",
       "      <td>False</td>\n",
       "      <td>3.322928e-07</td>\n",
       "    </tr>\n",
       "    <tr>\n",
       "      <td>12</td>\n",
       "      <td>Gbm</td>\n",
       "      <td>RYR3</td>\n",
       "      <td>Y_RNA_transcriptomics_ENSG00000206847.1</td>\n",
       "      <td>False</td>\n",
       "      <td>3.330977e-07</td>\n",
       "    </tr>\n",
       "    <tr>\n",
       "      <td>13</td>\n",
       "      <td>Gbm</td>\n",
       "      <td>RYR3</td>\n",
       "      <td>RP11-316I3.2_transcriptomics_ENSG00000238054.1</td>\n",
       "      <td>False</td>\n",
       "      <td>3.389422e-07</td>\n",
       "    </tr>\n",
       "    <tr>\n",
       "      <td>14</td>\n",
       "      <td>Gbm</td>\n",
       "      <td>RYR3</td>\n",
       "      <td>AL901608.1_transcriptomics_ENSG00000264024.1</td>\n",
       "      <td>False</td>\n",
       "      <td>3.670021e-07</td>\n",
       "    </tr>\n",
       "    <tr>\n",
       "      <td>15</td>\n",
       "      <td>Gbm</td>\n",
       "      <td>RYR3</td>\n",
       "      <td>RP11-520P18.1_transcriptomics_ENSG00000243328.1</td>\n",
       "      <td>False</td>\n",
       "      <td>3.670021e-07</td>\n",
       "    </tr>\n",
       "    <tr>\n",
       "      <td>16</td>\n",
       "      <td>Gbm</td>\n",
       "      <td>RYR3</td>\n",
       "      <td>IL9RP3_transcriptomics_ENSG00000226942.2</td>\n",
       "      <td>False</td>\n",
       "      <td>3.767840e-07</td>\n",
       "    </tr>\n",
       "  </tbody>\n",
       "</table>\n",
       "</div>"
      ],
      "text/plain": [
       "   Cancer_Type  Gene                                       Comparison  \\\n",
       "0          Gbm  RYR3        MIR4309_transcriptomics_ENSG00000266015.1   \n",
       "1          Gbm  RYR3   ARHGEF38-IT1_transcriptomics_ENSG00000249885.1   \n",
       "2          Gbm  RYR3      LINC01047_transcriptomics_ENSG00000232225.5   \n",
       "3          Gbm  RYR3      RNU6-227P_transcriptomics_ENSG00000199735.1   \n",
       "4          Gbm  RYR3    RP1-59B16.1_transcriptomics_ENSG00000220748.2   \n",
       "5          Gbm  RYR3       SEPHS1P7_transcriptomics_ENSG00000231926.1   \n",
       "6          Gbm  RYR3  RP11-551G24.3_transcriptomics_ENSG00000236775.1   \n",
       "7          Gbm  RYR3      MIR5701-1_transcriptomics_ENSG00000266545.1   \n",
       "8          Gbm  RYR3       TCEB1P31_transcriptomics_ENSG00000256021.1   \n",
       "9          Gbm  RYR3      RNU6-210P_transcriptomics_ENSG00000252752.1   \n",
       "10         Gbm  RYR3      SIGLEC31P_transcriptomics_ENSG00000268847.1   \n",
       "11         Gbm  RYR3        MIR4288_transcriptomics_ENSG00000265251.1   \n",
       "12         Gbm  RYR3          Y_RNA_transcriptomics_ENSG00000206847.1   \n",
       "13         Gbm  RYR3   RP11-316I3.2_transcriptomics_ENSG00000238054.1   \n",
       "14         Gbm  RYR3     AL901608.1_transcriptomics_ENSG00000264024.1   \n",
       "15         Gbm  RYR3  RP11-520P18.1_transcriptomics_ENSG00000243328.1   \n",
       "16         Gbm  RYR3         IL9RP3_transcriptomics_ENSG00000226942.2   \n",
       "\n",
       "   Interacting_Protein       P_Value  \n",
       "0                False  2.141199e-08  \n",
       "1                False  1.447441e-07  \n",
       "2                False  1.966811e-07  \n",
       "3                False  2.400447e-07  \n",
       "4                False  3.271365e-07  \n",
       "5                False  3.271541e-07  \n",
       "6                False  3.273002e-07  \n",
       "7                False  3.273574e-07  \n",
       "8                False  3.273574e-07  \n",
       "9                False  3.289980e-07  \n",
       "10               False  3.289980e-07  \n",
       "11               False  3.322928e-07  \n",
       "12               False  3.330977e-07  \n",
       "13               False  3.389422e-07  \n",
       "14               False  3.670021e-07  \n",
       "15               False  3.670021e-07  \n",
       "16               False  3.767840e-07  "
      ]
     },
     "metadata": {},
     "output_type": "display_data"
    }
   ],
   "source": [
    "if len(all_significant_comparisons) > 0:\n",
    "    display(all_significant_comparisons)\n",
    "    \n",
    "else:\n",
    "    print('No Significant Comparisons!')"
   ]
  },
  {
   "cell_type": "markdown",
   "metadata": {},
   "source": [
    "### Write Significant Comparisons (if any) to Shared CSV file"
   ]
  },
  {
   "cell_type": "code",
   "execution_count": 10,
   "metadata": {},
   "outputs": [
    {
     "data": {
      "text/plain": [
       "\"\\nexisting_results = pd.read_csv(gene+'_Trans_Results.csv')\\n\\nupdated_results = pd.concat([existing_results, all_significant_comparisons], sort=False)\\n\\nupdated_results.to_csv(path_or_buf = gene + '_Trans_Results.csv', index=False)\""
      ]
     },
     "execution_count": 10,
     "metadata": {},
     "output_type": "execute_result"
    }
   ],
   "source": [
    "'''\n",
    "existing_results = pd.read_csv(gene+'_Trans_Results.csv')\n",
    "\n",
    "updated_results = pd.concat([existing_results, all_significant_comparisons], sort=False)\n",
    "\n",
    "updated_results.to_csv(path_or_buf = gene + '_Trans_Results.csv', index=False)'''"
   ]
  }
 ],
 "metadata": {
  "kernelspec": {
   "display_name": "Python 3",
   "language": "python",
   "name": "python3"
  },
  "language_info": {
   "codemirror_mode": {
    "name": "ipython",
    "version": 3
   },
   "file_extension": ".py",
   "mimetype": "text/x-python",
   "name": "python",
   "nbconvert_exporter": "python",
   "pygments_lexer": "ipython3",
   "version": "3.7.3"
  }
 },
 "nbformat": 4,
 "nbformat_minor": 2
}
