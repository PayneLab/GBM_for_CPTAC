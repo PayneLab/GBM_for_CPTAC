{
 "cells": [
  {
   "cell_type": "markdown",
   "metadata": {},
   "source": [
    "# Combined Proteomic Comparison \n"
   ]
  },
  {
   "cell_type": "markdown",
   "metadata": {},
   "source": []
  },
  {
   "cell_type": "markdown",
   "metadata": {},
   "source": [
    "## Step 1: Library Imports"
   ]
  },
  {
   "cell_type": "markdown",
   "metadata": {},
   "source": [
    "Run this cell to import the necessary libraries"
   ]
  },
  {
   "cell_type": "code",
   "execution_count": 1,
   "metadata": {},
   "outputs": [],
   "source": [
    "import pandas as pd\n",
    "import numpy as np\n",
    "import seaborn as sns\n",
    "import matplotlib.pyplot as plt\n",
    "import scipy.stats\n",
    "import re\n",
    "import sys \n",
    "\n",
    "import cptac\n",
    "import cptac.utils as u"
   ]
  },
  {
   "cell_type": "code",
   "execution_count": 2,
   "metadata": {},
   "outputs": [],
   "source": [
    "def format_pval_annotation(pval_symbol, x1, x2, line_start = .05, line_height=.05):\n",
    "    # for manual adjustment to pval annotations\n",
    "    \n",
    "    y, h = line_start, line_height\n",
    "    plt.plot([x1, x1, x2, x2], #draw horizontal line\n",
    "             [y, y+h, y+h, y], #vertical line\n",
    "             lw=1.5, color= '.3')\n",
    "    plt.text((x1+x2)*.5, # half between x coord\n",
    "             y+h, pval_symbol, horizontalalignment='center', verticalalignment='bottom', color = \"black\")\n",
    "\n",
    "# used in pval_annotation\n",
    "def get_pval_symbol(pval_df):\n",
    "    if pval_df.iloc[0:,2].bool() == True:\n",
    "        pval_symbol = '*'\n",
    "    else:\n",
    "        pval_symbol = 'ns'\n",
    "    return pval_symbol\n",
    "\n",
    "def pval_annotation(pval_df, plotted_df):\n",
    "    # pval symbol\n",
    "    num_pvals = len(pval_df)\n",
    "    omics_col = plotted_df.columns[0]\n",
    "    \n",
    "\n",
    "    # annotation for Mutated and Wiltype\n",
    "    if num_pvals == 1:\n",
    "        mut_pval = pval_df.loc[pval_df.index == \"Mutated/Wildtype\"]\n",
    "        mut_pval_symbol = get_pval_symbol(pval_df)\n",
    "        \n",
    "        x1, x2 = 0, 1   # columns (first column: 0, see plt.xticks())\n",
    "        y, h = plotted_df[omics_col].max() + .05, .05     \n",
    "        plt.plot([x1, x1, x2, x2], #draw horizontal line\n",
    "                 [y, y+h, y+h, y], #vertical line\n",
    "                 lw=1.5, color= '.3')\n",
    "        plt.text((x1+x2)*.5, # half between x coord\n",
    "                 y+h, mut_pval_symbol, horizontalalignment='center', verticalalignment='bottom', color = \"black\")\n",
    "    \n",
    "    # annotation for Missense, Truncation and Wildtype\n",
    "    elif num_pvals == 2:\n",
    "        # Missense\n",
    "        miss_pval = pval_df.loc[pval_df.index == \"Missense/Wildtype\"]\n",
    "        miss_pval_symbol = get_pval_symbol(miss_pval)\n",
    "    \n",
    "        x1, x2 = 0, 1   # columns (first column: 0, see plt.xticks())\n",
    "        y, h = plotted_df[omics_col].max() + .05, .05     \n",
    "        plt.plot([x1, x1, x2, x2], #draw horizontal line\n",
    "                 [y, y+h, y+h, y], #vertical line\n",
    "                 lw=1.5, color= '.3')\n",
    "        plt.text((x1+x2)*.5, # half between x coord\n",
    "                 y+h, miss_pval_symbol, horizontalalignment='center', verticalalignment='bottom', color = \"black\")\n",
    "        \n",
    "        # Truncation \n",
    "        trunc_pval = pval_df.loc[pval_df.index == \"Truncation/Wildtype\"]\n",
    "        trunc_pval_symbol = get_pval_symbol(trunc_pval)\n",
    "        \n",
    "        x3, x4 = 0, 2   # columns (first column: 0, see plt.xticks())\n",
    "        y2, h2 = plotted_df[omics_col].max() + .15, .05     \n",
    "        plt.plot([x3, x3, x4, x4], #draw horizontal line\n",
    "                 [y2, y2+h2, y2+h2, y2], #vertical line\n",
    "                 lw=1.5, color= '.3')\n",
    "        plt.text((x3+x4)*.5, # half between x coord\n",
    "                 y2+h2, trunc_pval_symbol, horizontalalignment='center', verticalalignment='bottom', color = \"black\")\n"
   ]
  },
  {
   "cell_type": "markdown",
   "metadata": {},
   "source": [
    "## Step 2: Find the mutation frequency of the gene of interest"
   ]
  },
  {
   "cell_type": "code",
   "execution_count": 3,
   "metadata": {},
   "outputs": [
    {
     "name": "stdout",
     "output_type": "stream",
     "text": [
      "                                    \r"
     ]
    }
   ],
   "source": [
    "brain = cptac.Gbm()\n",
    "desired_cutoff = 0.05\n",
    "gene = 'RB1'"
   ]
  },
  {
   "cell_type": "markdown",
   "metadata": {},
   "source": [
    "## Step 3: cis comparisons for omics "
   ]
  },
  {
   "cell_type": "markdown",
   "metadata": {},
   "source": [
    "Determine if the DNA mutation has an effect on the omics measurement. In order to do this, we have a few steps in code. These steps are found in the format_cis_comparison_data function.\n",
    "1. get a table with both the omics and mutation data for tumors\n",
    "2. get a binary column from the mutation data to separate our samples\n",
    "3. format data frame to be used in the T-test\n",
    "4. send data to the T-test.\n",
    "\n",
    "The format_cis_comparison_data does the first 3 steps (for dataframes with multi-indexes)."
   ]
  },
  {
   "cell_type": "markdown",
   "metadata": {},
   "source": [
    "# Proteomics RB1 cis comparison"
   ]
  },
  {
   "cell_type": "markdown",
   "metadata": {},
   "source": [
    "Proteomics: Mutated and Wildtype rb1"
   ]
  },
  {
   "cell_type": "code",
   "execution_count": 4,
   "metadata": {
    "scrolled": true
   },
   "outputs": [
    {
     "name": "stderr",
     "output_type": "stream",
     "text": [
      "Warning: In joining the somatic_mutation table, no mutations were found for the following samples, so they were filled with Wildtype_Tumor or Wildtype_Normal: 99 samples for the RB1 gene, 77 samples for the TP53 gene (C:\\Users\\brittany henderson\\Anaconda3\\envs\\Research\\lib\\site-packages\\ipykernel_launcher.py, line 3)\n"
     ]
    },
    {
     "data": {
      "text/html": [
       "<div>\n",
       "<style scoped>\n",
       "    .dataframe tbody tr th:only-of-type {\n",
       "        vertical-align: middle;\n",
       "    }\n",
       "\n",
       "    .dataframe tbody tr th {\n",
       "        vertical-align: top;\n",
       "    }\n",
       "\n",
       "    .dataframe thead th {\n",
       "        text-align: right;\n",
       "    }\n",
       "</style>\n",
       "<table border=\"1\" class=\"dataframe\">\n",
       "  <thead>\n",
       "    <tr style=\"text-align: right;\">\n",
       "      <th>Name</th>\n",
       "      <th>RB1_proteomics</th>\n",
       "      <th>RB1_binary_mutations</th>\n",
       "      <th>TP53_binary_mutations</th>\n",
       "    </tr>\n",
       "    <tr>\n",
       "      <th>Sample_ID</th>\n",
       "      <th></th>\n",
       "      <th></th>\n",
       "      <th></th>\n",
       "    </tr>\n",
       "  </thead>\n",
       "  <tbody>\n",
       "    <tr>\n",
       "      <td>S001</td>\n",
       "      <td>-1.799180</td>\n",
       "      <td>Mutated</td>\n",
       "      <td>Mutated</td>\n",
       "    </tr>\n",
       "    <tr>\n",
       "      <td>S002</td>\n",
       "      <td>-1.071307</td>\n",
       "      <td>Mutated</td>\n",
       "      <td>Mutated</td>\n",
       "    </tr>\n",
       "    <tr>\n",
       "      <td>S003</td>\n",
       "      <td>0.154265</td>\n",
       "      <td>Wildtype</td>\n",
       "      <td>Wildtype</td>\n",
       "    </tr>\n",
       "    <tr>\n",
       "      <td>S004</td>\n",
       "      <td>-0.884636</td>\n",
       "      <td>Mutated</td>\n",
       "      <td>Mutated</td>\n",
       "    </tr>\n",
       "    <tr>\n",
       "      <td>S005</td>\n",
       "      <td>0.041888</td>\n",
       "      <td>Wildtype</td>\n",
       "      <td>Wildtype</td>\n",
       "    </tr>\n",
       "    <tr>\n",
       "      <td>...</td>\n",
       "      <td>...</td>\n",
       "      <td>...</td>\n",
       "      <td>...</td>\n",
       "    </tr>\n",
       "    <tr>\n",
       "      <td>S100</td>\n",
       "      <td>-0.210103</td>\n",
       "      <td>Wildtype</td>\n",
       "      <td>Wildtype</td>\n",
       "    </tr>\n",
       "    <tr>\n",
       "      <td>S101</td>\n",
       "      <td>1.331462</td>\n",
       "      <td>Wildtype</td>\n",
       "      <td>Wildtype</td>\n",
       "    </tr>\n",
       "    <tr>\n",
       "      <td>S102</td>\n",
       "      <td>-0.003929</td>\n",
       "      <td>Wildtype</td>\n",
       "      <td>Wildtype</td>\n",
       "    </tr>\n",
       "    <tr>\n",
       "      <td>S104</td>\n",
       "      <td>-0.008174</td>\n",
       "      <td>Wildtype</td>\n",
       "      <td>Wildtype</td>\n",
       "    </tr>\n",
       "    <tr>\n",
       "      <td>S105</td>\n",
       "      <td>1.608747</td>\n",
       "      <td>Wildtype</td>\n",
       "      <td>Mutated</td>\n",
       "    </tr>\n",
       "  </tbody>\n",
       "</table>\n",
       "<p>99 rows × 3 columns</p>\n",
       "</div>"
      ],
      "text/plain": [
       "Name       RB1_proteomics RB1_binary_mutations TP53_binary_mutations\n",
       "Sample_ID                                                           \n",
       "S001            -1.799180              Mutated               Mutated\n",
       "S002            -1.071307              Mutated               Mutated\n",
       "S003             0.154265             Wildtype              Wildtype\n",
       "S004            -0.884636              Mutated               Mutated\n",
       "S005             0.041888             Wildtype              Wildtype\n",
       "...                   ...                  ...                   ...\n",
       "S100            -0.210103             Wildtype              Wildtype\n",
       "S101             1.331462             Wildtype              Wildtype\n",
       "S102            -0.003929             Wildtype              Wildtype\n",
       "S104            -0.008174             Wildtype              Wildtype\n",
       "S105             1.608747             Wildtype               Mutated\n",
       "\n",
       "[99 rows x 3 columns]"
      ]
     },
     "execution_count": 4,
     "metadata": {},
     "output_type": "execute_result"
    }
   ],
   "source": [
    "# Step 1 - Create dataframe in order to do comparisons with wrap_ttest  \n",
    "prot_and_mutations = brain.join_omics_to_mutations(\n",
    "    mutations_genes = ['RB1','TP53'], omics_df_name = 'proteomics', omics_genes = \"RB1\") # single col level \n",
    "\n",
    "# Step 2 - Create binary column \n",
    "prot_and_mutations['RB1_binary_mutations'] = np.where(\n",
    "            prot_and_mutations['RB1_Mutation_Status'] == 'Wildtype_Tumor', 'Wildtype', 'Mutated')\n",
    "\n",
    "# Step 2 - Create binary column \n",
    "prot_and_mutations['TP53_binary_mutations'] = np.where(\n",
    "            prot_and_mutations['TP53_Mutation_Status'] == 'Wildtype_Tumor', 'Wildtype', 'Mutated')\n",
    "prot_and_mutations\n",
    "\n",
    "# Step 3 - Format the dataframe correctly for the T-test(just omics and binary columns for tumors)\n",
    "tumors = prot_and_mutations[prot_and_mutations.Sample_Status == 'Tumor'] #drop Normal samples\n",
    "columns_to_drop = [\"RB1_Mutation\", \"RB1_Location\", \"RB1_Mutation_Status\",\n",
    "                   \"TP53_Mutation\", \"TP53_Location\", \"TP53_Mutation_Status\",\"Sample_Status\"]\n",
    "RB1_mut_status = tumors.drop(columns_to_drop, axis = 1)\n",
    "RB1_mut_status"
   ]
  },
  {
   "cell_type": "markdown",
   "metadata": {},
   "source": [
    "# CDK2 "
   ]
  },
  {
   "cell_type": "code",
   "execution_count": 5,
   "metadata": {},
   "outputs": [
    {
     "name": "stderr",
     "output_type": "stream",
     "text": [
      "Warning: In joining the somatic_mutation table, no mutations were found for the following samples, so they were filled with Wildtype_Tumor or Wildtype_Normal: 99 samples for the RB1 gene, 77 samples for the TP53 gene (C:\\Users\\brittany henderson\\Anaconda3\\envs\\Research\\lib\\site-packages\\ipykernel_launcher.py, line 3)\n"
     ]
    },
    {
     "data": {
      "text/html": [
       "<div>\n",
       "<style scoped>\n",
       "    .dataframe tbody tr th:only-of-type {\n",
       "        vertical-align: middle;\n",
       "    }\n",
       "\n",
       "    .dataframe tbody tr th {\n",
       "        vertical-align: top;\n",
       "    }\n",
       "\n",
       "    .dataframe thead th {\n",
       "        text-align: right;\n",
       "    }\n",
       "</style>\n",
       "<table border=\"1\" class=\"dataframe\">\n",
       "  <thead>\n",
       "    <tr style=\"text-align: right;\">\n",
       "      <th>Name</th>\n",
       "      <th>CDK2_proteomics</th>\n",
       "      <th>RB1_binary_mutations</th>\n",
       "      <th>TP53_binary_mutations</th>\n",
       "    </tr>\n",
       "    <tr>\n",
       "      <th>Sample_ID</th>\n",
       "      <th></th>\n",
       "      <th></th>\n",
       "      <th></th>\n",
       "    </tr>\n",
       "  </thead>\n",
       "  <tbody>\n",
       "    <tr>\n",
       "      <td>S001</td>\n",
       "      <td>0.507714</td>\n",
       "      <td>Mutated</td>\n",
       "      <td>Mutated</td>\n",
       "    </tr>\n",
       "    <tr>\n",
       "      <td>S002</td>\n",
       "      <td>0.764774</td>\n",
       "      <td>Mutated</td>\n",
       "      <td>Mutated</td>\n",
       "    </tr>\n",
       "    <tr>\n",
       "      <td>S003</td>\n",
       "      <td>0.415454</td>\n",
       "      <td>Wildtype</td>\n",
       "      <td>Wildtype</td>\n",
       "    </tr>\n",
       "    <tr>\n",
       "      <td>S004</td>\n",
       "      <td>0.157479</td>\n",
       "      <td>Mutated</td>\n",
       "      <td>Mutated</td>\n",
       "    </tr>\n",
       "    <tr>\n",
       "      <td>S005</td>\n",
       "      <td>-0.423898</td>\n",
       "      <td>Wildtype</td>\n",
       "      <td>Wildtype</td>\n",
       "    </tr>\n",
       "    <tr>\n",
       "      <td>...</td>\n",
       "      <td>...</td>\n",
       "      <td>...</td>\n",
       "      <td>...</td>\n",
       "    </tr>\n",
       "    <tr>\n",
       "      <td>S100</td>\n",
       "      <td>0.386990</td>\n",
       "      <td>Wildtype</td>\n",
       "      <td>Wildtype</td>\n",
       "    </tr>\n",
       "    <tr>\n",
       "      <td>S101</td>\n",
       "      <td>0.678933</td>\n",
       "      <td>Wildtype</td>\n",
       "      <td>Wildtype</td>\n",
       "    </tr>\n",
       "    <tr>\n",
       "      <td>S102</td>\n",
       "      <td>-0.089902</td>\n",
       "      <td>Wildtype</td>\n",
       "      <td>Wildtype</td>\n",
       "    </tr>\n",
       "    <tr>\n",
       "      <td>S104</td>\n",
       "      <td>-0.181600</td>\n",
       "      <td>Wildtype</td>\n",
       "      <td>Wildtype</td>\n",
       "    </tr>\n",
       "    <tr>\n",
       "      <td>S105</td>\n",
       "      <td>0.040887</td>\n",
       "      <td>Wildtype</td>\n",
       "      <td>Mutated</td>\n",
       "    </tr>\n",
       "  </tbody>\n",
       "</table>\n",
       "<p>99 rows × 3 columns</p>\n",
       "</div>"
      ],
      "text/plain": [
       "Name       CDK2_proteomics RB1_binary_mutations TP53_binary_mutations\n",
       "Sample_ID                                                            \n",
       "S001              0.507714              Mutated               Mutated\n",
       "S002              0.764774              Mutated               Mutated\n",
       "S003              0.415454             Wildtype              Wildtype\n",
       "S004              0.157479              Mutated               Mutated\n",
       "S005             -0.423898             Wildtype              Wildtype\n",
       "...                    ...                  ...                   ...\n",
       "S100              0.386990             Wildtype              Wildtype\n",
       "S101              0.678933             Wildtype              Wildtype\n",
       "S102             -0.089902             Wildtype              Wildtype\n",
       "S104             -0.181600             Wildtype              Wildtype\n",
       "S105              0.040887             Wildtype               Mutated\n",
       "\n",
       "[99 rows x 3 columns]"
      ]
     },
     "execution_count": 5,
     "metadata": {},
     "output_type": "execute_result"
    }
   ],
   "source": [
    "# Step 1 - Create dataframe in order to do comparisons with wrap_ttest  \n",
    "prot_and_mutations = brain.join_omics_to_mutations(\n",
    "    mutations_genes = ['RB1','TP53'], omics_df_name = 'proteomics', omics_genes = \"CDK2\") # single col level \n",
    "\n",
    "# Step 2 - Create binary column \n",
    "prot_and_mutations['RB1_binary_mutations'] = np.where(\n",
    "            prot_and_mutations['RB1_Mutation_Status'] == 'Wildtype_Tumor', 'Wildtype', 'Mutated')\n",
    "\n",
    "# Step 2 - Create binary column \n",
    "prot_and_mutations['TP53_binary_mutations'] = np.where(\n",
    "            prot_and_mutations['TP53_Mutation_Status'] == 'Wildtype_Tumor', 'Wildtype', 'Mutated')\n",
    "prot_and_mutations\n",
    "\n",
    "# Step 3 - Format the dataframe correctly for the T-test(just omics and binary columns for tumors)\n",
    "tumors = prot_and_mutations[prot_and_mutations.Sample_Status == 'Tumor'] #drop Normal samples\n",
    "columns_to_drop = [\"RB1_Mutation\", \"RB1_Location\", \"RB1_Mutation_Status\",\n",
    "                   \"TP53_Mutation\", \"TP53_Location\", \"TP53_Mutation_Status\",\"Sample_Status\"]\n",
    "CDK2_mut_status = tumors.drop(columns_to_drop, axis = 1)\n",
    "CDK2_mut_status"
   ]
  },
  {
   "cell_type": "markdown",
   "metadata": {},
   "source": [
    "# CDK6"
   ]
  },
  {
   "cell_type": "code",
   "execution_count": 6,
   "metadata": {},
   "outputs": [
    {
     "name": "stderr",
     "output_type": "stream",
     "text": [
      "Warning: In joining the somatic_mutation table, no mutations were found for the following samples, so they were filled with Wildtype_Tumor or Wildtype_Normal: 99 samples for the RB1 gene, 77 samples for the TP53 gene (C:\\Users\\brittany henderson\\Anaconda3\\envs\\Research\\lib\\site-packages\\ipykernel_launcher.py, line 3)\n"
     ]
    },
    {
     "data": {
      "text/html": [
       "<div>\n",
       "<style scoped>\n",
       "    .dataframe tbody tr th:only-of-type {\n",
       "        vertical-align: middle;\n",
       "    }\n",
       "\n",
       "    .dataframe tbody tr th {\n",
       "        vertical-align: top;\n",
       "    }\n",
       "\n",
       "    .dataframe thead th {\n",
       "        text-align: right;\n",
       "    }\n",
       "</style>\n",
       "<table border=\"1\" class=\"dataframe\">\n",
       "  <thead>\n",
       "    <tr style=\"text-align: right;\">\n",
       "      <th>Name</th>\n",
       "      <th>CDK6_proteomics</th>\n",
       "      <th>RB1_binary_mutations</th>\n",
       "      <th>TP53_binary_mutations</th>\n",
       "    </tr>\n",
       "    <tr>\n",
       "      <th>Sample_ID</th>\n",
       "      <th></th>\n",
       "      <th></th>\n",
       "      <th></th>\n",
       "    </tr>\n",
       "  </thead>\n",
       "  <tbody>\n",
       "    <tr>\n",
       "      <td>S001</td>\n",
       "      <td>-1.011444</td>\n",
       "      <td>Mutated</td>\n",
       "      <td>Mutated</td>\n",
       "    </tr>\n",
       "    <tr>\n",
       "      <td>S002</td>\n",
       "      <td>-0.907507</td>\n",
       "      <td>Mutated</td>\n",
       "      <td>Mutated</td>\n",
       "    </tr>\n",
       "    <tr>\n",
       "      <td>S003</td>\n",
       "      <td>0.080839</td>\n",
       "      <td>Wildtype</td>\n",
       "      <td>Wildtype</td>\n",
       "    </tr>\n",
       "    <tr>\n",
       "      <td>S004</td>\n",
       "      <td>-1.560394</td>\n",
       "      <td>Mutated</td>\n",
       "      <td>Mutated</td>\n",
       "    </tr>\n",
       "    <tr>\n",
       "      <td>S005</td>\n",
       "      <td>-0.964315</td>\n",
       "      <td>Wildtype</td>\n",
       "      <td>Wildtype</td>\n",
       "    </tr>\n",
       "    <tr>\n",
       "      <td>...</td>\n",
       "      <td>...</td>\n",
       "      <td>...</td>\n",
       "      <td>...</td>\n",
       "    </tr>\n",
       "    <tr>\n",
       "      <td>S100</td>\n",
       "      <td>0.744616</td>\n",
       "      <td>Wildtype</td>\n",
       "      <td>Wildtype</td>\n",
       "    </tr>\n",
       "    <tr>\n",
       "      <td>S101</td>\n",
       "      <td>1.802314</td>\n",
       "      <td>Wildtype</td>\n",
       "      <td>Wildtype</td>\n",
       "    </tr>\n",
       "    <tr>\n",
       "      <td>S102</td>\n",
       "      <td>0.354357</td>\n",
       "      <td>Wildtype</td>\n",
       "      <td>Wildtype</td>\n",
       "    </tr>\n",
       "    <tr>\n",
       "      <td>S104</td>\n",
       "      <td>0.531084</td>\n",
       "      <td>Wildtype</td>\n",
       "      <td>Wildtype</td>\n",
       "    </tr>\n",
       "    <tr>\n",
       "      <td>S105</td>\n",
       "      <td>1.640008</td>\n",
       "      <td>Wildtype</td>\n",
       "      <td>Mutated</td>\n",
       "    </tr>\n",
       "  </tbody>\n",
       "</table>\n",
       "<p>99 rows × 3 columns</p>\n",
       "</div>"
      ],
      "text/plain": [
       "Name       CDK6_proteomics RB1_binary_mutations TP53_binary_mutations\n",
       "Sample_ID                                                            \n",
       "S001             -1.011444              Mutated               Mutated\n",
       "S002             -0.907507              Mutated               Mutated\n",
       "S003              0.080839             Wildtype              Wildtype\n",
       "S004             -1.560394              Mutated               Mutated\n",
       "S005             -0.964315             Wildtype              Wildtype\n",
       "...                    ...                  ...                   ...\n",
       "S100              0.744616             Wildtype              Wildtype\n",
       "S101              1.802314             Wildtype              Wildtype\n",
       "S102              0.354357             Wildtype              Wildtype\n",
       "S104              0.531084             Wildtype              Wildtype\n",
       "S105              1.640008             Wildtype               Mutated\n",
       "\n",
       "[99 rows x 3 columns]"
      ]
     },
     "execution_count": 6,
     "metadata": {},
     "output_type": "execute_result"
    }
   ],
   "source": [
    "# Step 1 - Create dataframe in order to do comparisons with wrap_ttest  \n",
    "prot_and_mutations = brain.join_omics_to_mutations(\n",
    "    mutations_genes = ['RB1','TP53'], omics_df_name = 'proteomics', omics_genes = \"CDK6\") # single col level \n",
    "\n",
    "# Step 2 - Create binary column \n",
    "prot_and_mutations['RB1_binary_mutations'] = np.where(\n",
    "            prot_and_mutations['RB1_Mutation_Status'] == 'Wildtype_Tumor', 'Wildtype', 'Mutated')\n",
    "\n",
    "# Step 2 - Create binary column \n",
    "prot_and_mutations['TP53_binary_mutations'] = np.where(\n",
    "            prot_and_mutations['TP53_Mutation_Status'] == 'Wildtype_Tumor', 'Wildtype', 'Mutated')\n",
    "prot_and_mutations\n",
    "\n",
    "# Step 3 - Format the dataframe correctly for the T-test(just omics and binary columns for tumors)\n",
    "tumors = prot_and_mutations[prot_and_mutations.Sample_Status == 'Tumor'] #drop Normal samples\n",
    "columns_to_drop = [\"RB1_Mutation\", \"RB1_Location\", \"RB1_Mutation_Status\",\n",
    "                   \"TP53_Mutation\", \"TP53_Location\", \"TP53_Mutation_Status\",\"Sample_Status\"]\n",
    "CDK6_mut_status = tumors.drop(columns_to_drop, axis = 1)\n",
    "CDK6_mut_status"
   ]
  },
  {
   "cell_type": "markdown",
   "metadata": {},
   "source": [
    "# CDKN2A"
   ]
  },
  {
   "cell_type": "code",
   "execution_count": 7,
   "metadata": {},
   "outputs": [
    {
     "name": "stderr",
     "output_type": "stream",
     "text": [
      "Warning: In joining the somatic_mutation table, no mutations were found for the following samples, so they were filled with Wildtype_Tumor or Wildtype_Normal: 99 samples for the RB1 gene, 77 samples for the TP53 gene (C:\\Users\\brittany henderson\\Anaconda3\\envs\\Research\\lib\\site-packages\\ipykernel_launcher.py, line 3)\n"
     ]
    },
    {
     "data": {
      "text/html": [
       "<div>\n",
       "<style scoped>\n",
       "    .dataframe tbody tr th:only-of-type {\n",
       "        vertical-align: middle;\n",
       "    }\n",
       "\n",
       "    .dataframe tbody tr th {\n",
       "        vertical-align: top;\n",
       "    }\n",
       "\n",
       "    .dataframe thead th {\n",
       "        text-align: right;\n",
       "    }\n",
       "</style>\n",
       "<table border=\"1\" class=\"dataframe\">\n",
       "  <thead>\n",
       "    <tr style=\"text-align: right;\">\n",
       "      <th>Name</th>\n",
       "      <th>CDKN2A_proteomics</th>\n",
       "      <th>RB1_binary_mutations</th>\n",
       "      <th>TP53_binary_mutations</th>\n",
       "    </tr>\n",
       "    <tr>\n",
       "      <th>Sample_ID</th>\n",
       "      <th></th>\n",
       "      <th></th>\n",
       "      <th></th>\n",
       "    </tr>\n",
       "  </thead>\n",
       "  <tbody>\n",
       "    <tr>\n",
       "      <td>S001</td>\n",
       "      <td>1.249326</td>\n",
       "      <td>Mutated</td>\n",
       "      <td>Mutated</td>\n",
       "    </tr>\n",
       "    <tr>\n",
       "      <td>S002</td>\n",
       "      <td>1.042734</td>\n",
       "      <td>Mutated</td>\n",
       "      <td>Mutated</td>\n",
       "    </tr>\n",
       "    <tr>\n",
       "      <td>S003</td>\n",
       "      <td>0.046073</td>\n",
       "      <td>Wildtype</td>\n",
       "      <td>Wildtype</td>\n",
       "    </tr>\n",
       "    <tr>\n",
       "      <td>S004</td>\n",
       "      <td>1.275257</td>\n",
       "      <td>Mutated</td>\n",
       "      <td>Mutated</td>\n",
       "    </tr>\n",
       "    <tr>\n",
       "      <td>S005</td>\n",
       "      <td>1.482385</td>\n",
       "      <td>Wildtype</td>\n",
       "      <td>Wildtype</td>\n",
       "    </tr>\n",
       "    <tr>\n",
       "      <td>...</td>\n",
       "      <td>...</td>\n",
       "      <td>...</td>\n",
       "      <td>...</td>\n",
       "    </tr>\n",
       "    <tr>\n",
       "      <td>S100</td>\n",
       "      <td>0.444150</td>\n",
       "      <td>Wildtype</td>\n",
       "      <td>Wildtype</td>\n",
       "    </tr>\n",
       "    <tr>\n",
       "      <td>S101</td>\n",
       "      <td>-0.515793</td>\n",
       "      <td>Wildtype</td>\n",
       "      <td>Wildtype</td>\n",
       "    </tr>\n",
       "    <tr>\n",
       "      <td>S102</td>\n",
       "      <td>-0.486051</td>\n",
       "      <td>Wildtype</td>\n",
       "      <td>Wildtype</td>\n",
       "    </tr>\n",
       "    <tr>\n",
       "      <td>S104</td>\n",
       "      <td>-0.248658</td>\n",
       "      <td>Wildtype</td>\n",
       "      <td>Wildtype</td>\n",
       "    </tr>\n",
       "    <tr>\n",
       "      <td>S105</td>\n",
       "      <td>-1.006866</td>\n",
       "      <td>Wildtype</td>\n",
       "      <td>Mutated</td>\n",
       "    </tr>\n",
       "  </tbody>\n",
       "</table>\n",
       "<p>99 rows × 3 columns</p>\n",
       "</div>"
      ],
      "text/plain": [
       "Name       CDKN2A_proteomics RB1_binary_mutations TP53_binary_mutations\n",
       "Sample_ID                                                              \n",
       "S001                1.249326              Mutated               Mutated\n",
       "S002                1.042734              Mutated               Mutated\n",
       "S003                0.046073             Wildtype              Wildtype\n",
       "S004                1.275257              Mutated               Mutated\n",
       "S005                1.482385             Wildtype              Wildtype\n",
       "...                      ...                  ...                   ...\n",
       "S100                0.444150             Wildtype              Wildtype\n",
       "S101               -0.515793             Wildtype              Wildtype\n",
       "S102               -0.486051             Wildtype              Wildtype\n",
       "S104               -0.248658             Wildtype              Wildtype\n",
       "S105               -1.006866             Wildtype               Mutated\n",
       "\n",
       "[99 rows x 3 columns]"
      ]
     },
     "execution_count": 7,
     "metadata": {},
     "output_type": "execute_result"
    }
   ],
   "source": [
    "# Step 1 - Create dataframe in order to do comparisons with wrap_ttest  \n",
    "prot_and_mutations = brain.join_omics_to_mutations(\n",
    "    mutations_genes = ['RB1','TP53'], omics_df_name = 'proteomics', omics_genes = \"CDKN2A\") # single col level \n",
    "\n",
    "# Step 2 - Create binary column \n",
    "prot_and_mutations['RB1_binary_mutations'] = np.where(\n",
    "            prot_and_mutations['RB1_Mutation_Status'] == 'Wildtype_Tumor', 'Wildtype', 'Mutated')\n",
    "\n",
    "# Step 2 - Create binary column \n",
    "prot_and_mutations['TP53_binary_mutations'] = np.where(\n",
    "            prot_and_mutations['TP53_Mutation_Status'] == 'Wildtype_Tumor', 'Wildtype', 'Mutated')\n",
    "prot_and_mutations\n",
    "\n",
    "# Step 3 - Format the dataframe correctly for the T-test(just omics and binary columns for tumors)\n",
    "tumors = prot_and_mutations[prot_and_mutations.Sample_Status == 'Tumor'] #drop Normal samples\n",
    "columns_to_drop = [\"RB1_Mutation\", \"RB1_Location\", \"RB1_Mutation_Status\",\n",
    "                   \"TP53_Mutation\", \"TP53_Location\", \"TP53_Mutation_Status\",\"Sample_Status\"]\n",
    "CDKN2A_mut_status = tumors.drop(columns_to_drop, axis = 1)\n",
    "CDKN2A_mut_status"
   ]
  },
  {
   "cell_type": "markdown",
   "metadata": {},
   "source": [
    "# TFDP1"
   ]
  },
  {
   "cell_type": "code",
   "execution_count": 8,
   "metadata": {},
   "outputs": [
    {
     "name": "stderr",
     "output_type": "stream",
     "text": [
      "Warning: In joining the somatic_mutation table, no mutations were found for the following samples, so they were filled with Wildtype_Tumor or Wildtype_Normal: 99 samples for the RB1 gene, 77 samples for the TP53 gene (C:\\Users\\brittany henderson\\Anaconda3\\envs\\Research\\lib\\site-packages\\ipykernel_launcher.py, line 3)\n"
     ]
    }
   ],
   "source": [
    "# Step 1 - Create dataframe in order to do comparisons with wrap_ttest  \n",
    "prot_and_mutations = brain.join_omics_to_mutations(\n",
    "    mutations_genes = ['RB1','TP53'], omics_df_name = 'proteomics', omics_genes = \"TFDP1\") # single col level \n",
    "\n",
    "# Step 2 - Create binary column \n",
    "prot_and_mutations['RB1_binary_mutations'] = np.where(\n",
    "            prot_and_mutations['RB1_Mutation_Status'] == 'Wildtype_Tumor', 'Wildtype', 'Mutated')\n",
    "\n",
    "# Step 2 - Create binary column \n",
    "prot_and_mutations['TP53_binary_mutations'] = np.where(\n",
    "            prot_and_mutations['TP53_Mutation_Status'] == 'Wildtype_Tumor', 'Wildtype', 'Mutated')\n",
    "prot_and_mutations\n",
    "\n",
    "# Step 3 - Format the dataframe correctly for the T-test(just omics and binary columns for tumors)\n",
    "tumors = prot_and_mutations[prot_and_mutations.Sample_Status == 'Tumor'] #drop Normal samples\n",
    "columns_to_drop = [\"RB1_Mutation\", \"RB1_Location\", \"RB1_Mutation_Status\",\n",
    "                   \"TP53_Mutation\", \"TP53_Location\", \"TP53_Mutation_Status\",\"Sample_Status\"]\n",
    "TFDP1_mut_status = tumors.drop(columns_to_drop, axis = 1)\n",
    "#print(\"rb1 mutated: \",len(MORF_mut_status.loc[MORF_mut_status['RB1_binary_mutations'] == 'Mutated']))\n",
    "#print(\"tp53 mutated: \",len(MORF_mut_status.loc[MORF_mut_status['TP53_binary_mutations'] == 'Mutated']))"
   ]
  },
  {
   "cell_type": "markdown",
   "metadata": {},
   "source": [
    "# MORF4L2"
   ]
  },
  {
   "cell_type": "code",
   "execution_count": 9,
   "metadata": {},
   "outputs": [
    {
     "name": "stderr",
     "output_type": "stream",
     "text": [
      "Warning: In joining the somatic_mutation table, no mutations were found for the following samples, so they were filled with Wildtype_Tumor or Wildtype_Normal: 99 samples for the RB1 gene, 77 samples for the TP53 gene (C:\\Users\\brittany henderson\\Anaconda3\\envs\\Research\\lib\\site-packages\\ipykernel_launcher.py, line 3)"
     ]
    },
    {
     "name": "stdout",
     "output_type": "stream",
     "text": [
      "rb1 mutated:  10\n",
      "tp53 mutated:  32\n"
     ]
    },
    {
     "name": "stderr",
     "output_type": "stream",
     "text": [
      "\n"
     ]
    }
   ],
   "source": [
    "# Step 1 - Create dataframe in order to do comparisons with wrap_ttest  \n",
    "prot_and_mutations = brain.join_omics_to_mutations(\n",
    "    mutations_genes = ['RB1','TP53'], omics_df_name = 'proteomics', omics_genes = \"MORF4L2\") # single col level \n",
    "\n",
    "# Step 2 - Create binary column \n",
    "prot_and_mutations['RB1_binary_mutations'] = np.where(\n",
    "            prot_and_mutations['RB1_Mutation_Status'] == 'Wildtype_Tumor', 'Wildtype', 'Mutated')\n",
    "\n",
    "# Step 2 - Create binary column \n",
    "prot_and_mutations['TP53_binary_mutations'] = np.where(\n",
    "            prot_and_mutations['TP53_Mutation_Status'] == 'Wildtype_Tumor', 'Wildtype', 'Mutated')\n",
    "prot_and_mutations\n",
    "\n",
    "# Step 3 - Format the dataframe correctly for the T-test(just omics and binary columns for tumors)\n",
    "tumors = prot_and_mutations[prot_and_mutations.Sample_Status == 'Tumor'] #drop Normal samples\n",
    "columns_to_drop = [\"RB1_Mutation\", \"RB1_Location\", \"RB1_Mutation_Status\",\n",
    "                   \"TP53_Mutation\", \"TP53_Location\", \"TP53_Mutation_Status\",\"Sample_Status\"]\n",
    "MORF4L2_mut_status = tumors.drop(columns_to_drop, axis = 1)\n",
    "print(\"rb1 mutated: \",len(MORF4L2_mut_status.loc[MORF4L2_mut_status['RB1_binary_mutations'] == 'Mutated']))\n",
    "print(\"tp53 mutated: \",len(MORF4L2_mut_status.loc[MORF4L2_mut_status['TP53_binary_mutations'] == 'Mutated']))"
   ]
  },
  {
   "cell_type": "markdown",
   "metadata": {},
   "source": [
    "# CCND2"
   ]
  },
  {
   "cell_type": "code",
   "execution_count": 10,
   "metadata": {},
   "outputs": [
    {
     "name": "stderr",
     "output_type": "stream",
     "text": [
      "Warning: In joining the somatic_mutation table, no mutations were found for the following samples, so they were filled with Wildtype_Tumor or Wildtype_Normal: 99 samples for the RB1 gene, 77 samples for the TP53 gene (C:\\Users\\brittany henderson\\Anaconda3\\envs\\Research\\lib\\site-packages\\ipykernel_launcher.py, line 3)\n"
     ]
    }
   ],
   "source": [
    "# Step 1 - Create dataframe in order to do comparisons with wrap_ttest  \n",
    "prot_and_mutations = brain.join_omics_to_mutations(\n",
    "    mutations_genes = ['RB1','TP53'], omics_df_name = 'proteomics', omics_genes = \"CCND2\") # single col level \n",
    "\n",
    "# Step 2 - Create binary column \n",
    "prot_and_mutations['RB1_binary_mutations'] = np.where(\n",
    "            prot_and_mutations['RB1_Mutation_Status'] == 'Wildtype_Tumor', 'Wildtype', 'Mutated')\n",
    "\n",
    "# Step 2 - Create binary column \n",
    "prot_and_mutations['TP53_binary_mutations'] = np.where(\n",
    "            prot_and_mutations['TP53_Mutation_Status'] == 'Wildtype_Tumor', 'Wildtype', 'Mutated')\n",
    "prot_and_mutations\n",
    "\n",
    "# Step 3 - Format the dataframe correctly for the T-test(just omics and binary columns for tumors)\n",
    "tumors = prot_and_mutations[prot_and_mutations.Sample_Status == 'Tumor'] #drop Normal samples\n",
    "columns_to_drop = [\"RB1_Mutation\", \"RB1_Location\", \"RB1_Mutation_Status\",\n",
    "                   \"TP53_Mutation\", \"TP53_Location\", \"TP53_Mutation_Status\",\"Sample_Status\"]\n",
    "CCND2_mut_status = tumors.drop(columns_to_drop, axis = 1)\n",
    "#print(\"rb1 mutated: \",len(mut_status.loc[mut_status['RB1_binary_mutations'] == 'Mutated']))\n",
    "#print(\"tp53 mutated: \",len(mut_status.loc[mut_status['TP53_binary_mutations'] == 'Mutated']))"
   ]
  },
  {
   "cell_type": "markdown",
   "metadata": {},
   "source": [
    "# TP53"
   ]
  },
  {
   "cell_type": "code",
   "execution_count": 11,
   "metadata": {},
   "outputs": [
    {
     "name": "stderr",
     "output_type": "stream",
     "text": [
      "Warning: In joining the somatic_mutation table, no mutations were found for the following samples, so they were filled with Wildtype_Tumor or Wildtype_Normal: 99 samples for the RB1 gene, 77 samples for the TP53 gene (C:\\Users\\brittany henderson\\Anaconda3\\envs\\Research\\lib\\site-packages\\ipykernel_launcher.py, line 3)\n"
     ]
    }
   ],
   "source": [
    "# Step 1 - Create dataframe in order to do comparisons with wrap_ttest  \n",
    "prot_and_mutations = brain.join_omics_to_mutations(\n",
    "    mutations_genes = ['RB1','TP53'], omics_df_name = 'proteomics', omics_genes = \"TP53\") # single col level \n",
    "\n",
    "# Step 2 - Create binary column \n",
    "prot_and_mutations['RB1_binary_mutations'] = np.where(\n",
    "            prot_and_mutations['RB1_Mutation_Status'] == 'Wildtype_Tumor', 'Wildtype', 'Mutated')\n",
    "\n",
    "# Step 2 - Create binary column \n",
    "prot_and_mutations['TP53_binary_mutations'] = np.where(\n",
    "            prot_and_mutations['TP53_Mutation_Status'] == 'Wildtype_Tumor', 'Wildtype', 'Mutated')\n",
    "prot_and_mutations\n",
    "\n",
    "# Step 3 - Format the dataframe correctly for the T-test(just omics and binary columns for tumors)\n",
    "tumors = prot_and_mutations[prot_and_mutations.Sample_Status == 'Tumor'] #drop Normal samples\n",
    "columns_to_drop = [\"RB1_Mutation\", \"RB1_Location\", \"RB1_Mutation_Status\",\n",
    "                   \"TP53_Mutation\", \"TP53_Location\", \"TP53_Mutation_Status\",\"Sample_Status\"]\n",
    "TP53_mut_status = tumors.drop(columns_to_drop, axis = 1)"
   ]
  },
  {
   "cell_type": "code",
   "execution_count": 12,
   "metadata": {},
   "outputs": [
    {
     "data": {
      "text/html": [
       "<div>\n",
       "<style scoped>\n",
       "    .dataframe tbody tr th:only-of-type {\n",
       "        vertical-align: middle;\n",
       "    }\n",
       "\n",
       "    .dataframe tbody tr th {\n",
       "        vertical-align: top;\n",
       "    }\n",
       "\n",
       "    .dataframe thead th {\n",
       "        text-align: right;\n",
       "    }\n",
       "</style>\n",
       "<table border=\"1\" class=\"dataframe\">\n",
       "  <thead>\n",
       "    <tr style=\"text-align: right;\">\n",
       "      <th>Name</th>\n",
       "      <th>TP53_proteomics</th>\n",
       "      <th>RB1_binary_mutations</th>\n",
       "      <th>TP53_binary_mutations</th>\n",
       "      <th>Mutation_Exclusivity</th>\n",
       "    </tr>\n",
       "    <tr>\n",
       "      <th>Sample_ID</th>\n",
       "      <th></th>\n",
       "      <th></th>\n",
       "      <th></th>\n",
       "      <th></th>\n",
       "    </tr>\n",
       "  </thead>\n",
       "  <tbody>\n",
       "    <tr>\n",
       "      <td>S001</td>\n",
       "      <td>0.044573</td>\n",
       "      <td>Mutated</td>\n",
       "      <td>Mutated</td>\n",
       "      <td>Both</td>\n",
       "    </tr>\n",
       "    <tr>\n",
       "      <td>S002</td>\n",
       "      <td>0.117856</td>\n",
       "      <td>Mutated</td>\n",
       "      <td>Mutated</td>\n",
       "      <td>Both</td>\n",
       "    </tr>\n",
       "    <tr>\n",
       "      <td>S003</td>\n",
       "      <td>-0.120887</td>\n",
       "      <td>Wildtype</td>\n",
       "      <td>Wildtype</td>\n",
       "      <td>Neither</td>\n",
       "    </tr>\n",
       "    <tr>\n",
       "      <td>S004</td>\n",
       "      <td>1.832557</td>\n",
       "      <td>Mutated</td>\n",
       "      <td>Mutated</td>\n",
       "      <td>Both</td>\n",
       "    </tr>\n",
       "    <tr>\n",
       "      <td>S005</td>\n",
       "      <td>-0.288708</td>\n",
       "      <td>Wildtype</td>\n",
       "      <td>Wildtype</td>\n",
       "      <td>Neither</td>\n",
       "    </tr>\n",
       "    <tr>\n",
       "      <td>...</td>\n",
       "      <td>...</td>\n",
       "      <td>...</td>\n",
       "      <td>...</td>\n",
       "      <td>...</td>\n",
       "    </tr>\n",
       "    <tr>\n",
       "      <td>S100</td>\n",
       "      <td>-0.343235</td>\n",
       "      <td>Wildtype</td>\n",
       "      <td>Wildtype</td>\n",
       "      <td>Neither</td>\n",
       "    </tr>\n",
       "    <tr>\n",
       "      <td>S101</td>\n",
       "      <td>NaN</td>\n",
       "      <td>Wildtype</td>\n",
       "      <td>Wildtype</td>\n",
       "      <td>Neither</td>\n",
       "    </tr>\n",
       "    <tr>\n",
       "      <td>S102</td>\n",
       "      <td>NaN</td>\n",
       "      <td>Wildtype</td>\n",
       "      <td>Wildtype</td>\n",
       "      <td>Neither</td>\n",
       "    </tr>\n",
       "    <tr>\n",
       "      <td>S104</td>\n",
       "      <td>-1.062906</td>\n",
       "      <td>Wildtype</td>\n",
       "      <td>Wildtype</td>\n",
       "      <td>Neither</td>\n",
       "    </tr>\n",
       "    <tr>\n",
       "      <td>S105</td>\n",
       "      <td>NaN</td>\n",
       "      <td>Wildtype</td>\n",
       "      <td>Mutated</td>\n",
       "      <td>TP53_Only</td>\n",
       "    </tr>\n",
       "  </tbody>\n",
       "</table>\n",
       "<p>99 rows × 4 columns</p>\n",
       "</div>"
      ],
      "text/plain": [
       "Name       TP53_proteomics RB1_binary_mutations TP53_binary_mutations  \\\n",
       "Sample_ID                                                               \n",
       "S001              0.044573              Mutated               Mutated   \n",
       "S002              0.117856              Mutated               Mutated   \n",
       "S003             -0.120887             Wildtype              Wildtype   \n",
       "S004              1.832557              Mutated               Mutated   \n",
       "S005             -0.288708             Wildtype              Wildtype   \n",
       "...                    ...                  ...                   ...   \n",
       "S100             -0.343235             Wildtype              Wildtype   \n",
       "S101                   NaN             Wildtype              Wildtype   \n",
       "S102                   NaN             Wildtype              Wildtype   \n",
       "S104             -1.062906             Wildtype              Wildtype   \n",
       "S105                   NaN             Wildtype               Mutated   \n",
       "\n",
       "Name      Mutation_Exclusivity  \n",
       "Sample_ID                       \n",
       "S001                      Both  \n",
       "S002                      Both  \n",
       "S003                   Neither  \n",
       "S004                      Both  \n",
       "S005                   Neither  \n",
       "...                        ...  \n",
       "S100                   Neither  \n",
       "S101                   Neither  \n",
       "S102                   Neither  \n",
       "S104                   Neither  \n",
       "S105                 TP53_Only  \n",
       "\n",
       "[99 rows x 4 columns]"
      ]
     },
     "execution_count": 12,
     "metadata": {},
     "output_type": "execute_result"
    }
   ],
   "source": [
    "for ind, row in TP53_mut_status.iterrows():\n",
    "    if row['RB1_binary_mutations'] == 'Mutated' and row['TP53_binary_mutations'] == 'Mutated':\n",
    "        TP53_mut_status.loc[ind, 'Mutation_Exclusivity'] = 'Both'\n",
    "        \n",
    "    elif row['RB1_binary_mutations'] == 'Mutated' and row['TP53_binary_mutations'] != 'Mutated':\n",
    "        TP53_mut_status.loc[ind, 'Mutation_Exclusivity'] = 'RB1_Only'\n",
    "        \n",
    "    elif row['RB1_binary_mutations'] != 'Mutated' and row['TP53_binary_mutations'] == 'Mutated':\n",
    "        TP53_mut_status.loc[ind, 'Mutation_Exclusivity'] = 'TP53_Only'\n",
    "        \n",
    "    else:\n",
    "        TP53_mut_status.loc[ind, 'Mutation_Exclusivity'] = 'Neither'\n",
    "TP53_mut_status"
   ]
  },
  {
   "cell_type": "code",
   "execution_count": 13,
   "metadata": {},
   "outputs": [],
   "source": [
    "# order neither, tp53 only is like wt,  rb1 only and both like mutated "
   ]
  },
  {
   "cell_type": "markdown",
   "metadata": {},
   "source": [
    "# Visualize "
   ]
  },
  {
   "cell_type": "code",
   "execution_count": 14,
   "metadata": {},
   "outputs": [
    {
     "name": "stderr",
     "output_type": "stream",
     "text": [
      "C:\\Users\\brittany henderson\\Anaconda3\\envs\\Research\\lib\\site-packages\\ipykernel_launcher.py:1: FutureWarning: Sorting because non-concatenation axis is not aligned. A future version\n",
      "of pandas will change to not sort by default.\n",
      "\n",
      "To accept the future behavior, pass 'sort=False'.\n",
      "\n",
      "To retain the current behavior and silence the warning, pass 'sort=True'.\n",
      "\n",
      "  \"\"\"Entry point for launching an IPython kernel.\n"
     ]
    },
    {
     "data": {
      "text/html": [
       "<div>\n",
       "<style scoped>\n",
       "    .dataframe tbody tr th:only-of-type {\n",
       "        vertical-align: middle;\n",
       "    }\n",
       "\n",
       "    .dataframe tbody tr th {\n",
       "        vertical-align: top;\n",
       "    }\n",
       "\n",
       "    .dataframe thead th {\n",
       "        text-align: right;\n",
       "    }\n",
       "</style>\n",
       "<table border=\"1\" class=\"dataframe\">\n",
       "  <thead>\n",
       "    <tr style=\"text-align: right;\">\n",
       "      <th></th>\n",
       "      <th>Mutation_Exclusivity</th>\n",
       "      <th>variable</th>\n",
       "      <th>omics</th>\n",
       "    </tr>\n",
       "  </thead>\n",
       "  <tbody>\n",
       "    <tr>\n",
       "      <td>0</td>\n",
       "      <td>NaN</td>\n",
       "      <td>CCND2_proteomics</td>\n",
       "      <td>0.0207138</td>\n",
       "    </tr>\n",
       "    <tr>\n",
       "      <td>1</td>\n",
       "      <td>NaN</td>\n",
       "      <td>CCND2_proteomics</td>\n",
       "      <td>0.0415693</td>\n",
       "    </tr>\n",
       "    <tr>\n",
       "      <td>2</td>\n",
       "      <td>NaN</td>\n",
       "      <td>CCND2_proteomics</td>\n",
       "      <td>0.42506</td>\n",
       "    </tr>\n",
       "    <tr>\n",
       "      <td>3</td>\n",
       "      <td>NaN</td>\n",
       "      <td>CCND2_proteomics</td>\n",
       "      <td>0.0578722</td>\n",
       "    </tr>\n",
       "    <tr>\n",
       "      <td>4</td>\n",
       "      <td>NaN</td>\n",
       "      <td>CCND2_proteomics</td>\n",
       "      <td>1.15014</td>\n",
       "    </tr>\n",
       "    <tr>\n",
       "      <td>...</td>\n",
       "      <td>...</td>\n",
       "      <td>...</td>\n",
       "      <td>...</td>\n",
       "    </tr>\n",
       "    <tr>\n",
       "      <td>787</td>\n",
       "      <td>Neither</td>\n",
       "      <td>TP53_proteomics</td>\n",
       "      <td>-0.343235</td>\n",
       "    </tr>\n",
       "    <tr>\n",
       "      <td>788</td>\n",
       "      <td>Neither</td>\n",
       "      <td>TP53_proteomics</td>\n",
       "      <td>NaN</td>\n",
       "    </tr>\n",
       "    <tr>\n",
       "      <td>789</td>\n",
       "      <td>Neither</td>\n",
       "      <td>TP53_proteomics</td>\n",
       "      <td>NaN</td>\n",
       "    </tr>\n",
       "    <tr>\n",
       "      <td>790</td>\n",
       "      <td>Neither</td>\n",
       "      <td>TP53_proteomics</td>\n",
       "      <td>-1.06291</td>\n",
       "    </tr>\n",
       "    <tr>\n",
       "      <td>791</td>\n",
       "      <td>TP53_Only</td>\n",
       "      <td>TP53_proteomics</td>\n",
       "      <td>NaN</td>\n",
       "    </tr>\n",
       "  </tbody>\n",
       "</table>\n",
       "<p>792 rows × 3 columns</p>\n",
       "</div>"
      ],
      "text/plain": [
       "    Mutation_Exclusivity          variable      omics\n",
       "0                    NaN  CCND2_proteomics  0.0207138\n",
       "1                    NaN  CCND2_proteomics  0.0415693\n",
       "2                    NaN  CCND2_proteomics    0.42506\n",
       "3                    NaN  CCND2_proteomics  0.0578722\n",
       "4                    NaN  CCND2_proteomics    1.15014\n",
       "..                   ...               ...        ...\n",
       "787              Neither   TP53_proteomics  -0.343235\n",
       "788              Neither   TP53_proteomics        NaN\n",
       "789              Neither   TP53_proteomics        NaN\n",
       "790              Neither   TP53_proteomics   -1.06291\n",
       "791            TP53_Only   TP53_proteomics        NaN\n",
       "\n",
       "[792 rows x 3 columns]"
      ]
     },
     "execution_count": 14,
     "metadata": {},
     "output_type": "execute_result"
    }
   ],
   "source": [
    "RB1_all = pd.concat([CCND2_mut_status, TP53_mut_status])\n",
    "#([RB1_mut_status, CDK2_mut_status, CDK6_mut_status, CDKN2A_mut_status, TFDP1_mut_status, MORF4L2_mut_status,TP53_mut_status])\n",
    "#RB1_all = pd.merge(RB1_all, TP53_prot_miss_trunc_wildtype, on = \"Sample_ID\")\n",
    "RB1_alldf = pd.melt(RB1_all, id_vars = ['Mutation_Exclusivity'], value_name = \"omics\")\n",
    "RB1_alldf"
   ]
  },
  {
   "cell_type": "markdown",
   "metadata": {},
   "source": [
    "merge TP53 mutation type to label graph "
   ]
  },
  {
   "cell_type": "code",
   "execution_count": 15,
   "metadata": {},
   "outputs": [
    {
     "ename": "ValueError",
     "evalue": "Neither the `x` nor `y` variable appears to be numeric.",
     "output_type": "error",
     "traceback": [
      "\u001b[1;31m---------------------------------------------------------------------------\u001b[0m",
      "\u001b[1;31mValueError\u001b[0m                                Traceback (most recent call last)",
      "\u001b[1;32m<ipython-input-15-cbb8700c7ec5>\u001b[0m in \u001b[0;36m<module>\u001b[1;34m\u001b[0m\n\u001b[0;32m      2\u001b[0m \u001b[0mplt\u001b[0m\u001b[1;33m.\u001b[0m\u001b[0mrcParams\u001b[0m\u001b[1;33m[\u001b[0m\u001b[1;34m'figure.figsize'\u001b[0m\u001b[1;33m]\u001b[0m\u001b[1;33m=\u001b[0m\u001b[1;33m(\u001b[0m\u001b[1;36m14\u001b[0m\u001b[1;33m,\u001b[0m\u001b[1;36m8\u001b[0m\u001b[1;33m)\u001b[0m \u001b[1;31m#size of plot\u001b[0m\u001b[1;33m\u001b[0m\u001b[1;33m\u001b[0m\u001b[0m\n\u001b[0;32m      3\u001b[0m boxplot = sns.boxplot(x='Mutation_Exclusivity', y=\"omics\", \n\u001b[1;32m----> 4\u001b[1;33m                         data = RB1_alldf, showfliers = False)    \n\u001b[0m\u001b[0;32m      5\u001b[0m \u001b[1;31m#boxplot.set_title(\"GBM RB1 Mutation Type effect on Proteomics Abundance\")\u001b[0m\u001b[1;33m\u001b[0m\u001b[1;33m\u001b[0m\u001b[1;33m\u001b[0m\u001b[0m\n\u001b[0;32m      6\u001b[0m \u001b[1;31m#boxplot = sns.stripplot(x='variable', y=\"omics\", hue = 'Mutation_Exclusivity', data = RB1_alldf, jitter = True,\u001b[0m\u001b[1;33m\u001b[0m\u001b[1;33m\u001b[0m\u001b[1;33m\u001b[0m\u001b[0m\n",
      "\u001b[1;32m~\\Anaconda3\\envs\\Research\\lib\\site-packages\\seaborn\\categorical.py\u001b[0m in \u001b[0;36mboxplot\u001b[1;34m(x, y, hue, data, order, hue_order, orient, color, palette, saturation, width, dodge, fliersize, linewidth, whis, notch, ax, **kwargs)\u001b[0m\n\u001b[0;32m   2229\u001b[0m     plotter = _BoxPlotter(x, y, hue, data, order, hue_order,\n\u001b[0;32m   2230\u001b[0m                           \u001b[0morient\u001b[0m\u001b[1;33m,\u001b[0m \u001b[0mcolor\u001b[0m\u001b[1;33m,\u001b[0m \u001b[0mpalette\u001b[0m\u001b[1;33m,\u001b[0m \u001b[0msaturation\u001b[0m\u001b[1;33m,\u001b[0m\u001b[1;33m\u001b[0m\u001b[1;33m\u001b[0m\u001b[0m\n\u001b[1;32m-> 2231\u001b[1;33m                           width, dodge, fliersize, linewidth)\n\u001b[0m\u001b[0;32m   2232\u001b[0m \u001b[1;33m\u001b[0m\u001b[0m\n\u001b[0;32m   2233\u001b[0m     \u001b[1;32mif\u001b[0m \u001b[0max\u001b[0m \u001b[1;32mis\u001b[0m \u001b[1;32mNone\u001b[0m\u001b[1;33m:\u001b[0m\u001b[1;33m\u001b[0m\u001b[1;33m\u001b[0m\u001b[0m\n",
      "\u001b[1;32m~\\Anaconda3\\envs\\Research\\lib\\site-packages\\seaborn\\categorical.py\u001b[0m in \u001b[0;36m__init__\u001b[1;34m(self, x, y, hue, data, order, hue_order, orient, color, palette, saturation, width, dodge, fliersize, linewidth)\u001b[0m\n\u001b[0;32m    444\u001b[0m                  width, dodge, fliersize, linewidth):\n\u001b[0;32m    445\u001b[0m \u001b[1;33m\u001b[0m\u001b[0m\n\u001b[1;32m--> 446\u001b[1;33m         \u001b[0mself\u001b[0m\u001b[1;33m.\u001b[0m\u001b[0mestablish_variables\u001b[0m\u001b[1;33m(\u001b[0m\u001b[0mx\u001b[0m\u001b[1;33m,\u001b[0m \u001b[0my\u001b[0m\u001b[1;33m,\u001b[0m \u001b[0mhue\u001b[0m\u001b[1;33m,\u001b[0m \u001b[0mdata\u001b[0m\u001b[1;33m,\u001b[0m \u001b[0morient\u001b[0m\u001b[1;33m,\u001b[0m \u001b[0morder\u001b[0m\u001b[1;33m,\u001b[0m \u001b[0mhue_order\u001b[0m\u001b[1;33m)\u001b[0m\u001b[1;33m\u001b[0m\u001b[1;33m\u001b[0m\u001b[0m\n\u001b[0m\u001b[0;32m    447\u001b[0m         \u001b[0mself\u001b[0m\u001b[1;33m.\u001b[0m\u001b[0mestablish_colors\u001b[0m\u001b[1;33m(\u001b[0m\u001b[0mcolor\u001b[0m\u001b[1;33m,\u001b[0m \u001b[0mpalette\u001b[0m\u001b[1;33m,\u001b[0m \u001b[0msaturation\u001b[0m\u001b[1;33m)\u001b[0m\u001b[1;33m\u001b[0m\u001b[1;33m\u001b[0m\u001b[0m\n\u001b[0;32m    448\u001b[0m \u001b[1;33m\u001b[0m\u001b[0m\n",
      "\u001b[1;32m~\\Anaconda3\\envs\\Research\\lib\\site-packages\\seaborn\\categorical.py\u001b[0m in \u001b[0;36mestablish_variables\u001b[1;34m(self, x, y, hue, data, orient, order, hue_order, units)\u001b[0m\n\u001b[0;32m    156\u001b[0m \u001b[1;33m\u001b[0m\u001b[0m\n\u001b[0;32m    157\u001b[0m             \u001b[1;31m# Figure out the plotting orientation\u001b[0m\u001b[1;33m\u001b[0m\u001b[1;33m\u001b[0m\u001b[1;33m\u001b[0m\u001b[0m\n\u001b[1;32m--> 158\u001b[1;33m             \u001b[0morient\u001b[0m \u001b[1;33m=\u001b[0m \u001b[0mself\u001b[0m\u001b[1;33m.\u001b[0m\u001b[0minfer_orient\u001b[0m\u001b[1;33m(\u001b[0m\u001b[0mx\u001b[0m\u001b[1;33m,\u001b[0m \u001b[0my\u001b[0m\u001b[1;33m,\u001b[0m \u001b[0morient\u001b[0m\u001b[1;33m)\u001b[0m\u001b[1;33m\u001b[0m\u001b[1;33m\u001b[0m\u001b[0m\n\u001b[0m\u001b[0;32m    159\u001b[0m \u001b[1;33m\u001b[0m\u001b[0m\n\u001b[0;32m    160\u001b[0m             \u001b[1;31m# Option 2a:\u001b[0m\u001b[1;33m\u001b[0m\u001b[1;33m\u001b[0m\u001b[1;33m\u001b[0m\u001b[0m\n",
      "\u001b[1;32m~\\Anaconda3\\envs\\Research\\lib\\site-packages\\seaborn\\categorical.py\u001b[0m in \u001b[0;36minfer_orient\u001b[1;34m(self, x, y, orient)\u001b[0m\n\u001b[0;32m    359\u001b[0m         \u001b[1;32melif\u001b[0m \u001b[0mis_not_numeric\u001b[0m\u001b[1;33m(\u001b[0m\u001b[0my\u001b[0m\u001b[1;33m)\u001b[0m\u001b[1;33m:\u001b[0m\u001b[1;33m\u001b[0m\u001b[1;33m\u001b[0m\u001b[0m\n\u001b[0;32m    360\u001b[0m             \u001b[1;32mif\u001b[0m \u001b[0mis_not_numeric\u001b[0m\u001b[1;33m(\u001b[0m\u001b[0mx\u001b[0m\u001b[1;33m)\u001b[0m\u001b[1;33m:\u001b[0m\u001b[1;33m\u001b[0m\u001b[1;33m\u001b[0m\u001b[0m\n\u001b[1;32m--> 361\u001b[1;33m                 \u001b[1;32mraise\u001b[0m \u001b[0mValueError\u001b[0m\u001b[1;33m(\u001b[0m\u001b[0mno_numeric\u001b[0m\u001b[1;33m)\u001b[0m\u001b[1;33m\u001b[0m\u001b[1;33m\u001b[0m\u001b[0m\n\u001b[0m\u001b[0;32m    362\u001b[0m             \u001b[1;32melse\u001b[0m\u001b[1;33m:\u001b[0m\u001b[1;33m\u001b[0m\u001b[1;33m\u001b[0m\u001b[0m\n\u001b[0;32m    363\u001b[0m                 \u001b[1;32mreturn\u001b[0m \u001b[1;34m\"h\"\u001b[0m\u001b[1;33m\u001b[0m\u001b[1;33m\u001b[0m\u001b[0m\n",
      "\u001b[1;31mValueError\u001b[0m: Neither the `x` nor `y` variable appears to be numeric."
     ]
    }
   ],
   "source": [
    "# Visualize\n",
    "plt.rcParams['figure.figsize']=(14,8) #size of plot\n",
    "boxplot = sns.boxplot(x='Mutation_Exclusivity', y=\"omics\", \n",
    "                        data = RB1_alldf, showfliers = False)    \n",
    "#boxplot.set_title(\"GBM RB1 Mutation Type effect on Proteomics Abundance\")\n",
    "#boxplot = sns.stripplot(x='variable', y=\"omics\", hue = 'Mutation_Exclusivity', data = RB1_alldf, jitter = True, \n",
    " #                          color = \".3\", hue_order = ['Neither', 'RB1_Only', 'TP53_Only' 'Both'], dodge = True)\n",
    "\n",
    "boxplot.set(xlabel = \"interacting genes\", ylabel = 'omics')\n",
    "\n",
    "#boxplot.set(xlabel = \"interacting genes\", ylabel = 'value')\n",
    "\n",
    "plt.show()\n",
    "plt.clf()\n",
    "plt.close()\n"
   ]
  },
  {
   "cell_type": "code",
   "execution_count": null,
   "metadata": {},
   "outputs": [],
   "source": [
    "# Visualize\n",
    "plt.rcParams['figure.figsize']=(14,8) #size of plot\n",
    "boxplot = sns.boxplot(x='Gene', y=\"value\", hue = 'binary_mutations', \n",
    "                         hue_order = ['Wildtype', 'Truncation'], data = RB1_alldf, showfliers = False)    \n",
    "boxplot.set_title(\"GBM RB1 Mutation Type effect on Proteomics Abundance\")\n",
    "boxplot = sns.stripplot(x='Gene', y=\"value\", hue = 'binary_mutations', data = RB1_alldf, jitter = True, \n",
    "                           color = \".3\", hue_order = ['Wildtype', 'Truncation'], dodge = True)\n",
    "boxplot.set(xlabel = \"interacting genes\", ylabel = 'value')\n",
    "\n",
    "plt.show()\n",
    "\n",
    "plt.clf()\n",
    "plt.close()"
   ]
  },
  {
   "cell_type": "code",
   "execution_count": null,
   "metadata": {},
   "outputs": [],
   "source": [
    "# Create Dataframe \n",
    "\n",
    "RB1_cis_mut = RB1_prot_miss_trunc_wildtype.assign(Gene= \"RB1\")\n",
    "CDK2_trans_mut = CDK2_prot_miss_trunc_wildtype.assign(Gene = \"CDK2\")\n",
    "CDK6_trans_mut = CDK6_prot_miss_trunc_wildtype.assign(Gene = \"CDK6\")\n",
    "CDKN2A_trans_mut = CDKN2A_prot_miss_trunc_wildtype.assign(Gene = \"CDKN2A\")\n",
    "TFDP1_trans_mut = TFDP1_prot_miss_trunc_wildtype.assign(Gene = \"TFDP1\")\n",
    "CCND2_trans_mut = CCND2_prot_miss_trunc_wildtype.assign(Gene = \"CCND2\")\n",
    "TP53_trans_mut = TP53_prot_miss_trunc_wildtype.assign(Gene = \"TP53\")\n",
    "\n",
    "RB1_all = pd.concat([RB1_cis_mut, CDK2_trans_mut, CDK6_trans_mut, CDKN2A_trans_mut,CCND2_trans_mut, TFDP1_trans_mut])\n",
    "RB1_alldf = pd.melt(RB1_all, id_vars = [\"Gene\", 'binary_mutations'])\n",
    "RB1_alldf"
   ]
  },
  {
   "cell_type": "code",
   "execution_count": null,
   "metadata": {},
   "outputs": [],
   "source": [
    "# Visualize\n",
    "plt.rcParams['figure.figsize']=(14,8) #size of plot\n",
    "boxplot = sns.boxplot(x='Gene', y=\"value\", hue = 'binary_mutations', \n",
    "                         hue_order = ['Wildtype', 'Truncation'], data = RB1_alldf, showfliers = False)    \n",
    "boxplot.set_title(\"GBM RB1 Mutation Type effect on Proteomics Abundance\")\n",
    "boxplot = sns.stripplot(x='Gene', y=\"value\", hue = 'binary_mutations', data = RB1_alldf, jitter = True, \n",
    "                           color = \".3\", hue_order = ['Wildtype', 'Truncation'], dodge = True)\n",
    "boxplot.set(xlabel = \"interacting genes\", ylabel = 'value')\n",
    "\n",
    "plt.show()\n",
    "\n",
    "plt.clf()\n",
    "plt.close()"
   ]
  },
  {
   "cell_type": "markdown",
   "metadata": {},
   "source": [
    "# Extra checks "
   ]
  },
  {
   "cell_type": "markdown",
   "metadata": {},
   "source": [
    "looking for E2F1 in transcriptomics and proteomics "
   ]
  },
  {
   "cell_type": "code",
   "execution_count": null,
   "metadata": {},
   "outputs": [],
   "source": [
    "#num_freq_mut_genes = len(freq_mut)\n",
    "num_freq_mut_genes = 20\n",
    "# Step 1 - Create dataframe in order to do comparisons with wrap_ttest - drop \n",
    "transrcpt_mutations = brain.join_omics_to_mutations(\n",
    "    mutations_genes = gene, omics_df_name = 'transcriptomics', omics_genes = \"E2F1\")\n",
    "reduced_transcript_mutations = brain.reduce_multiindex(transrcpt_mutations, levels_to_drop=1) #single col labels\n",
    "\n",
    "# Step 2 & 3 - Get binary column and format\n",
    "transcript_mut_wt = format_mutated_wt_comparison(reduced_transcript_mutations)\n",
    "transcript_mut_wt"
   ]
  },
  {
   "cell_type": "code",
   "execution_count": null,
   "metadata": {},
   "outputs": [],
   "source": [
    "# Step 4 - T-test\n",
    "trans_col_list = ['E2F1_transcriptomics']\n",
    "trans_col = 'E2F1_transcriptomics'\n",
    "\n",
    "print(\"Doing t-test comparison for mutation status\")\n",
    "transcript_results = wrap_ttest_return_all(transcript_mut_wt, 'binary_mutations', trans_col_list, num_freq_mut_genes)\n",
    "transcript_results = transcript_results.rename(index = {0: \"Mutated/Wildtype\"})\n",
    "transcript_results"
   ]
  },
  {
   "cell_type": "code",
   "execution_count": null,
   "metadata": {},
   "outputs": [],
   "source": [
    "\n",
    "# Step 1 - Create dataframe in order to do comparisons with wrap_ttest  \n",
    "prot_and_mutations = brain.join_omics_to_mutations(\n",
    "    mutations_genes = gene, omics_df_name = 'proteomics', omics_genes = \"E2F1\") # single col level\n",
    "\n",
    "\n",
    "# Step 2 & 3 - Get binary column and format\n",
    "prot_mut_wt = format_mutated_wt_comparison(prot_and_mutations)\n",
    "prot_mut_wt.loc[prot_mut_wt [\"binary_mutations\"] == \"Mutated\"]"
   ]
  },
  {
   "cell_type": "code",
   "execution_count": null,
   "metadata": {},
   "outputs": [],
   "source": [
    "#num_freq_mut_genes = len(freq_mut) \n",
    "num_freq_mut_genes = 20\n",
    "prot_col_list = [\"E2F1\"+'_proteomics']\n",
    "prot_col = \"E2F1\"+\"_proteomics\"\n",
    "\n",
    "# Step 4 - T-test comparing means of mutated vs wildtype effect on cis omics\n",
    "print(\"Doing t-test comparison for mutated and wildtype\")\n",
    "prot_results = wrap_ttest_return_all(prot_mut_wt, 'binary_mutations', prot_col_list, num_freq_mut_genes)\n",
    "prot_results = prot_results.rename(index = {0: \"Mutated/Wildtype\"})\n",
    "prot_results"
   ]
  },
  {
   "cell_type": "code",
   "execution_count": null,
   "metadata": {},
   "outputs": [],
   "source": [
    "df = brain.get_proteomics()\n",
    "E2_cols = [col for col in df.columns if \"E2\" in col]\n",
    "print (E2_cols)"
   ]
  },
  {
   "cell_type": "code",
   "execution_count": null,
   "metadata": {},
   "outputs": [],
   "source": [
    "df[\"E2F3\"]"
   ]
  },
  {
   "cell_type": "markdown",
   "metadata": {},
   "source": [
    "looking for CCNE1"
   ]
  },
  {
   "cell_type": "code",
   "execution_count": null,
   "metadata": {},
   "outputs": [],
   "source": [
    "#num_freq_mut_genes = len(freq_mut)\n",
    "num_freq_mut_genes = 20\n",
    "# Step 1 - Create dataframe in order to do comparisons with wrap_ttest - drop \n",
    "transrcpt_mutations = brain.join_omics_to_mutations(\n",
    "    mutations_genes = gene, omics_df_name = 'transcriptomics', omics_genes = \"CCNE1\")\n",
    "reduced_transcript_mutations = brain.reduce_multiindex(transrcpt_mutations, levels_to_drop=1) #single col labels\n",
    "\n",
    "# Step 2 & 3 - Get binary column and format\n",
    "transcript_mut_wt = format_mutated_wt_comparison(reduced_transcript_mutations)\n",
    "transcript_mut_wt"
   ]
  },
  {
   "cell_type": "code",
   "execution_count": null,
   "metadata": {},
   "outputs": [],
   "source": [
    "# Step 4 - T-test\n",
    "trans_col_list = ['CCNE1_transcriptomics']\n",
    "trans_col = 'CCNE1_transcriptomics'\n",
    "\n",
    "print(\"Doing t-test comparison for mutation status\")\n",
    "transcript_results = wrap_ttest_return_all(transcript_mut_wt, 'binary_mutations', trans_col_list, num_freq_mut_genes)\n",
    "transcript_results = transcript_results.rename(index = {0: \"Mutated/Wildtype\"})\n",
    "transcript_results"
   ]
  },
  {
   "cell_type": "code",
   "execution_count": null,
   "metadata": {},
   "outputs": [],
   "source": [
    "\n",
    "# Step 1 - Create dataframe in order to do comparisons with wrap_ttest  \n",
    "prot_and_mutations = brain.join_omics_to_mutations(\n",
    "    mutations_genes = gene, omics_df_name = 'proteomics', omics_genes = \"CCNE1\") # single col level\n",
    "\n",
    "\n",
    "# Step 2 & 3 - Get binary column and format\n",
    "prot_mut_wt = format_mutated_wt_comparison(prot_and_mutations)\n",
    "prot_mut_wt.loc[prot_mut_wt [\"binary_mutations\"] == \"Mutated\"]"
   ]
  },
  {
   "cell_type": "code",
   "execution_count": null,
   "metadata": {},
   "outputs": [],
   "source": [
    "#num_freq_mut_genes = len(freq_mut) \n",
    "num_freq_mut_genes = 20\n",
    "prot_col_list = [\"CCNE1\"+'_proteomics']\n",
    "prot_col = \"CCNE1\"+\"_proteomics\"\n",
    "\n",
    "# Step 4 - T-test comparing means of mutated vs wildtype effect on cis omics\n",
    "print(\"Doing t-test comparison for mutated and wildtype\")\n",
    "prot_results = wrap_ttest_return_all(prot_mut_wt, 'binary_mutations', prot_col_list, num_freq_mut_genes)\n",
    "prot_results = prot_results.rename(index = {0: \"Mutated/Wildtype\"})\n",
    "prot_results"
   ]
  },
  {
   "cell_type": "code",
   "execution_count": null,
   "metadata": {},
   "outputs": [],
   "source": [
    "df = brain.get_proteomics()\n",
    "CCN_cols = [col for col in df.columns if \"CCN\" in col]\n",
    "print (CCN_cols)\n"
   ]
  },
  {
   "cell_type": "code",
   "execution_count": null,
   "metadata": {},
   "outputs": [],
   "source": [
    "df.columns.get_loc(\"CCND1\")\n",
    "df.iloc[0:4,1465:1480]"
   ]
  },
  {
   "cell_type": "code",
   "execution_count": null,
   "metadata": {},
   "outputs": [],
   "source": []
  },
  {
   "cell_type": "markdown",
   "metadata": {},
   "source": [
    "could not find E2F1 or CCNE1 in proteomics, but were significant in transcriptomics. "
   ]
  },
  {
   "cell_type": "code",
   "execution_count": null,
   "metadata": {},
   "outputs": [],
   "source": [
    "#num_freq_mut_genes = len(freq_mut)\n",
    "num_freq_mut_genes = 20\n",
    "# Step 1 - Create dataframe in order to do comparisons with wrap_ttest - drop \n",
    "transrcpt_mutations = brain.join_omics_to_mutations(\n",
    "    mutations_genes = gene, omics_df_name = 'transcriptomics', omics_genes = \"CDK2\")\n",
    "reduced_transcript_mutations = brain.reduce_multiindex(transrcpt_mutations, levels_to_drop=1) #single col labels\n",
    "\n",
    "# Step 2 & 3 - Get binary column and format\n",
    "transcript_mut_wt = format_mutated_wt_comparison(reduced_transcript_mutations)\n",
    "transcript_mut_wt"
   ]
  },
  {
   "cell_type": "code",
   "execution_count": null,
   "metadata": {},
   "outputs": [],
   "source": [
    "#num_freq_mut_genes = len(freq_mut) \n",
    "num_freq_mut_genes = 20\n",
    "prot_col_list = [\"CDK4\"+'_proteomics']\n",
    "prot_col = \"CDK4\"+\"_proteomics\"\n",
    "\n",
    "# Step 4 - T-test comparing means of mutated vs wildtype effect on cis omics\n",
    "print(\"Doing t-test comparison for mutated and wildtype\")\n",
    "prot_results = wrap_ttest_return_all(CDK2_prot_mut_wt, 'binary_mutations', prot_col_list, num_freq_mut_genes)\n",
    "prot_results = prot_results.rename(index = {0: \"Mutated/Wildtype\"})\n",
    "prot_results"
   ]
  },
  {
   "cell_type": "markdown",
   "metadata": {},
   "source": [
    "# BIRC5"
   ]
  },
  {
   "cell_type": "code",
   "execution_count": null,
   "metadata": {},
   "outputs": [],
   "source": [
    "#num_freq_mut_genes = len(freq_mut)\n",
    "num_freq_mut_genes = 20\n",
    "# Step 1 - Create dataframe in order to do comparisons with wrap_ttest - drop \n",
    "transrcpt_mutations = brain.join_omics_to_mutations(\n",
    "    mutations_genes = gene, omics_df_name = 'transcriptomics', omics_genes = \"BIRC5\")\n",
    "reduced_transcript_mutations = brain.reduce_multiindex(transrcpt_mutations, levels_to_drop=1) #single col labels\n",
    "\n",
    "# Step 2 & 3 - Get binary column and format\n",
    "transcript_mut_wt = format_mutated_wt_comparison(reduced_transcript_mutations)\n",
    "transcript_mut_wt"
   ]
  },
  {
   "cell_type": "code",
   "execution_count": null,
   "metadata": {},
   "outputs": [],
   "source": [
    "# Step 4 - T-test\n",
    "trans_col_list = ['BIRC5_transcriptomics']\n",
    "trans_col = 'BIRC5_transcriptomics'\n",
    "\n",
    "print(\"Doing t-test comparison for mutation status\")\n",
    "transcript_results = wrap_ttest_return_all(transcript_mut_wt, 'binary_mutations', trans_col_list, num_freq_mut_genes)\n",
    "transcript_results = transcript_results.rename(index = {0: \"Mutated/Wildtype\"})\n",
    "transcript_results"
   ]
  },
  {
   "cell_type": "code",
   "execution_count": null,
   "metadata": {},
   "outputs": [],
   "source": [
    "\n",
    "# Step 1 - Create dataframe in order to do comparisons with wrap_ttest  \n",
    "prot_and_mutations = brain.join_omics_to_mutations(\n",
    "    mutations_genes = gene, omics_df_name = 'proteomics', omics_genes = \"BIRC5\") # single col level\n",
    "\n",
    "\n",
    "# Step 2 & 3 - Get binary column and format\n",
    "prot_mut_wt = format_mutated_wt_comparison(prot_and_mutations)\n",
    "prot_mut_wt.loc[prot_mut_wt [\"binary_mutations\"] == \"Mutated\"]"
   ]
  },
  {
   "cell_type": "code",
   "execution_count": null,
   "metadata": {},
   "outputs": [],
   "source": []
  }
 ],
 "metadata": {
  "kernelspec": {
   "display_name": "Python 3",
   "language": "python",
   "name": "python3"
  },
  "language_info": {
   "codemirror_mode": {
    "name": "ipython",
    "version": 3
   },
   "file_extension": ".py",
   "mimetype": "text/x-python",
   "name": "python",
   "nbconvert_exporter": "python",
   "pygments_lexer": "ipython3",
   "version": "3.7.3"
  }
 },
 "nbformat": 4,
 "nbformat_minor": 2
}
