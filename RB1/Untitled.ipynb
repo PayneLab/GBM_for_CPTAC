{
 "cells": [
  {
   "cell_type": "code",
   "execution_count": 1,
   "metadata": {},
   "outputs": [],
   "source": [
    "import pandas as pd\n",
    "import numpy as np\n",
    "import seaborn as sns\n",
    "import matplotlib.pyplot as plt\n",
    "import scipy.stats\n",
    "import re\n",
    "import sys \n",
    "#sys.path.append('C:\\\\Users\\\\brittany henderson\\\\GitHub\\\\GBM_for_CPTAC\\\\')\n",
    "#import cis_functions as f\n",
    "\n",
    "import cptac\n",
    "import cptac.utils as u"
   ]
  },
  {
   "cell_type": "code",
   "execution_count": 2,
   "metadata": {},
   "outputs": [
    {
     "name": "stdout",
     "output_type": "stream",
     "text": [
      "                                    \r"
     ]
    },
    {
     "data": {
      "text/plain": [
       "True"
      ]
     },
     "execution_count": 2,
     "metadata": {},
     "output_type": "execute_result"
    }
   ],
   "source": [
    "cptac.download(dataset=\"GBM\")"
   ]
  },
  {
   "cell_type": "code",
   "execution_count": 3,
   "metadata": {},
   "outputs": [
    {
     "name": "stdout",
     "output_type": "stream",
     "text": [
      "                                    \r"
     ]
    }
   ],
   "source": [
    "brain = cptac.Gbm()\n",
    "gene = \"RB1\""
   ]
  },
  {
   "cell_type": "code",
   "execution_count": 4,
   "metadata": {},
   "outputs": [
    {
     "name": "stderr",
     "output_type": "stream",
     "text": [
      "Warning: In joining the somatic_mutation table, no mutations were found for the following samples, so they were filled with Wildtype_Tumor or Wildtype_Normal: 99 samples for the RB1 gene (/Users/Lindsey/anaconda3/lib/python3.7/site-packages/ipykernel_launcher.py, line 5)\n"
     ]
    },
    {
     "data": {
      "text/html": [
       "<div>\n",
       "<style scoped>\n",
       "    .dataframe tbody tr th:only-of-type {\n",
       "        vertical-align: middle;\n",
       "    }\n",
       "\n",
       "    .dataframe tbody tr th {\n",
       "        vertical-align: top;\n",
       "    }\n",
       "\n",
       "    .dataframe thead th {\n",
       "        text-align: right;\n",
       "    }\n",
       "</style>\n",
       "<table border=\"1\" class=\"dataframe\">\n",
       "  <thead>\n",
       "    <tr style=\"text-align: right;\">\n",
       "      <th>Name</th>\n",
       "      <th>RB1_proteomics</th>\n",
       "      <th>RB1_Mutation</th>\n",
       "      <th>RB1_Location</th>\n",
       "      <th>RB1_Mutation_Status</th>\n",
       "      <th>Sample_Status</th>\n",
       "    </tr>\n",
       "    <tr>\n",
       "      <th>Sample_ID</th>\n",
       "      <th></th>\n",
       "      <th></th>\n",
       "      <th></th>\n",
       "      <th></th>\n",
       "      <th></th>\n",
       "    </tr>\n",
       "  </thead>\n",
       "  <tbody>\n",
       "    <tr>\n",
       "      <td>S001</td>\n",
       "      <td>-1.799180</td>\n",
       "      <td>[Splice_Site]</td>\n",
       "      <td>[p.X654_splice]</td>\n",
       "      <td>Single_mutation</td>\n",
       "      <td>Tumor</td>\n",
       "    </tr>\n",
       "    <tr>\n",
       "      <td>S002</td>\n",
       "      <td>-1.071307</td>\n",
       "      <td>[Frame_Shift_Del]</td>\n",
       "      <td>[p.F117Lfs*8]</td>\n",
       "      <td>Single_mutation</td>\n",
       "      <td>Tumor</td>\n",
       "    </tr>\n",
       "    <tr>\n",
       "      <td>S003</td>\n",
       "      <td>0.154265</td>\n",
       "      <td>[Wildtype_Tumor]</td>\n",
       "      <td>[No_mutation]</td>\n",
       "      <td>Wildtype_Tumor</td>\n",
       "      <td>Tumor</td>\n",
       "    </tr>\n",
       "    <tr>\n",
       "      <td>S004</td>\n",
       "      <td>-0.884636</td>\n",
       "      <td>[Splice_Region, Splice_Site]</td>\n",
       "      <td>[p.D349=, p.X605_splice]</td>\n",
       "      <td>Multiple_mutation</td>\n",
       "      <td>Tumor</td>\n",
       "    </tr>\n",
       "    <tr>\n",
       "      <td>S005</td>\n",
       "      <td>0.041888</td>\n",
       "      <td>[Wildtype_Tumor]</td>\n",
       "      <td>[No_mutation]</td>\n",
       "      <td>Wildtype_Tumor</td>\n",
       "      <td>Tumor</td>\n",
       "    </tr>\n",
       "    <tr>\n",
       "      <td>...</td>\n",
       "      <td>...</td>\n",
       "      <td>...</td>\n",
       "      <td>...</td>\n",
       "      <td>...</td>\n",
       "      <td>...</td>\n",
       "    </tr>\n",
       "    <tr>\n",
       "      <td>S111</td>\n",
       "      <td>-0.625293</td>\n",
       "      <td>[Wildtype_Normal]</td>\n",
       "      <td>[No_mutation]</td>\n",
       "      <td>Wildtype_Normal</td>\n",
       "      <td>Normal</td>\n",
       "    </tr>\n",
       "    <tr>\n",
       "      <td>S112</td>\n",
       "      <td>-0.522348</td>\n",
       "      <td>[Wildtype_Normal]</td>\n",
       "      <td>[No_mutation]</td>\n",
       "      <td>Wildtype_Normal</td>\n",
       "      <td>Normal</td>\n",
       "    </tr>\n",
       "    <tr>\n",
       "      <td>S113</td>\n",
       "      <td>-0.901327</td>\n",
       "      <td>[Wildtype_Normal]</td>\n",
       "      <td>[No_mutation]</td>\n",
       "      <td>Wildtype_Normal</td>\n",
       "      <td>Normal</td>\n",
       "    </tr>\n",
       "    <tr>\n",
       "      <td>S114</td>\n",
       "      <td>-0.546379</td>\n",
       "      <td>[Wildtype_Normal]</td>\n",
       "      <td>[No_mutation]</td>\n",
       "      <td>Wildtype_Normal</td>\n",
       "      <td>Normal</td>\n",
       "    </tr>\n",
       "    <tr>\n",
       "      <td>S115</td>\n",
       "      <td>-0.842556</td>\n",
       "      <td>[Wildtype_Normal]</td>\n",
       "      <td>[No_mutation]</td>\n",
       "      <td>Wildtype_Normal</td>\n",
       "      <td>Normal</td>\n",
       "    </tr>\n",
       "  </tbody>\n",
       "</table>\n",
       "<p>109 rows × 5 columns</p>\n",
       "</div>"
      ],
      "text/plain": [
       "Name       RB1_proteomics                  RB1_Mutation  \\\n",
       "Sample_ID                                                 \n",
       "S001            -1.799180                 [Splice_Site]   \n",
       "S002            -1.071307             [Frame_Shift_Del]   \n",
       "S003             0.154265              [Wildtype_Tumor]   \n",
       "S004            -0.884636  [Splice_Region, Splice_Site]   \n",
       "S005             0.041888              [Wildtype_Tumor]   \n",
       "...                   ...                           ...   \n",
       "S111            -0.625293             [Wildtype_Normal]   \n",
       "S112            -0.522348             [Wildtype_Normal]   \n",
       "S113            -0.901327             [Wildtype_Normal]   \n",
       "S114            -0.546379             [Wildtype_Normal]   \n",
       "S115            -0.842556             [Wildtype_Normal]   \n",
       "\n",
       "Name                   RB1_Location RB1_Mutation_Status Sample_Status  \n",
       "Sample_ID                                                              \n",
       "S001                [p.X654_splice]     Single_mutation         Tumor  \n",
       "S002                  [p.F117Lfs*8]     Single_mutation         Tumor  \n",
       "S003                  [No_mutation]      Wildtype_Tumor         Tumor  \n",
       "S004       [p.D349=, p.X605_splice]   Multiple_mutation         Tumor  \n",
       "S005                  [No_mutation]      Wildtype_Tumor         Tumor  \n",
       "...                             ...                 ...           ...  \n",
       "S111                  [No_mutation]     Wildtype_Normal        Normal  \n",
       "S112                  [No_mutation]     Wildtype_Normal        Normal  \n",
       "S113                  [No_mutation]     Wildtype_Normal        Normal  \n",
       "S114                  [No_mutation]     Wildtype_Normal        Normal  \n",
       "S115                  [No_mutation]     Wildtype_Normal        Normal  \n",
       "\n",
       "[109 rows x 5 columns]"
      ]
     },
     "execution_count": 4,
     "metadata": {},
     "output_type": "execute_result"
    }
   ],
   "source": [
    "#num_freq_mut_genes = len(freq_mut)\n",
    "num_freq_mut_genes = 20\n",
    "# Step 1 - Create dataframe in order to do comparisons with wrap_ttest - drop \n",
    "proteomics_mutations = brain.join_omics_to_mutations(\n",
    "    mutations_genes = gene, omics_df_name = 'proteomics', omics_genes = gene)\n",
    "#reduced_transcript_mutations = brain.reduce_multiindex(transrcpt_mutations, levels_to_drop=1) #single col labels\n",
    "proteomics_mutations\n",
    "# Step 2 & 3 - Get binary column and format"
   ]
  },
  {
   "cell_type": "code",
   "execution_count": 5,
   "metadata": {},
   "outputs": [
    {
     "ename": "NameError",
     "evalue": "name 'transrcpt_mutations' is not defined",
     "output_type": "error",
     "traceback": [
      "\u001b[0;31m---------------------------------------------------------------------------\u001b[0m",
      "\u001b[0;31mNameError\u001b[0m                                 Traceback (most recent call last)",
      "\u001b[0;32m<ipython-input-5-68dda027ee6b>\u001b[0m in \u001b[0;36m<module>\u001b[0;34m\u001b[0m\n\u001b[0;32m----> 1\u001b[0;31m \u001b[0mdf\u001b[0m \u001b[0;34m=\u001b[0m \u001b[0mtransrcpt_mutations\u001b[0m\u001b[0;34m[\u001b[0m\u001b[0;34m\"Sample_ID\"\u001b[0m\u001b[0;34m]\u001b[0m \u001b[0;34m=\u001b[0m \u001b[0;34m[\u001b[0m\u001b[0;34m\"S001\"\u001b[0m\u001b[0;34m,\u001b[0m\u001b[0;34m\"S002\"\u001b[0m\u001b[0;34m]\u001b[0m\u001b[0;34m\u001b[0m\u001b[0;34m\u001b[0m\u001b[0m\n\u001b[0m\u001b[1;32m      2\u001b[0m \u001b[0mdf\u001b[0m\u001b[0;34m\u001b[0m\u001b[0;34m\u001b[0m\u001b[0m\n",
      "\u001b[0;31mNameError\u001b[0m: name 'transrcpt_mutations' is not defined"
     ]
    }
   ],
   "source": [
    "df = transrcpt_mutations[\"Sample_ID\"] = [\"S001\",\"S002\"]\n",
    "df"
   ]
  },
  {
   "cell_type": "code",
   "execution_count": null,
   "metadata": {},
   "outputs": [],
   "source": []
  }
 ],
 "metadata": {
  "kernelspec": {
   "display_name": "Python 3",
   "language": "python",
   "name": "python3"
  },
  "language_info": {
   "codemirror_mode": {
    "name": "ipython",
    "version": 3
   },
   "file_extension": ".py",
   "mimetype": "text/x-python",
   "name": "python",
   "nbconvert_exporter": "python",
   "pygments_lexer": "ipython3",
   "version": "3.7.3"
  }
 },
 "nbformat": 4,
 "nbformat_minor": 2
}
