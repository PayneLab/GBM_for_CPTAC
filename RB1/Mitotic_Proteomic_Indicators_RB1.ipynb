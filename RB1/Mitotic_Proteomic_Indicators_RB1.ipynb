{
 "cells": [
  {
   "cell_type": "markdown",
   "metadata": {},
   "source": [
    "## Notebook examining proteins listed in this paper as indicators of G2/M phase"
   ]
  },
  {
   "cell_type": "markdown",
   "metadata": {},
   "source": [
    "https://www.ncbi.nlm.nih.gov/pmc/articles/PMC5650473/"
   ]
  },
  {
   "cell_type": "markdown",
   "metadata": {},
   "source": [
    "#### Listed Proteins"
   ]
  },
  {
   "cell_type": "markdown",
   "metadata": {},
   "source": [
    "CDC20, AURKA, KIFC1, CCNB1, ANLN, HMMR, KIF20A, AURKB, CCNB2, RRM2, PLK1, RACGAP1, CENPF and PRC1"
   ]
  },
  {
   "cell_type": "markdown",
   "metadata": {},
   "source": [
    "#### Library Imports"
   ]
  },
  {
   "cell_type": "code",
   "execution_count": 1,
   "metadata": {},
   "outputs": [
    {
     "name": "stdout",
     "output_type": "stream",
     "text": [
      "                                    \r"
     ]
    },
    {
     "ename": "DataVersionNotInstalledError",
     "evalue": "Data version 2.1 is not installed. To install, run \"cptac.download(dataset='endometrial', version='2.1')\".",
     "output_type": "error",
     "traceback": [
      "\u001b[0;31m---------------------------------------------------------------------------\u001b[0m",
      "\u001b[0;31mDataVersionNotInstalledError\u001b[0m              Traceback (most recent call last)",
      "\u001b[0;32m<ipython-input-1-747970ed98da>\u001b[0m in \u001b[0;36m<module>\u001b[0;34m\u001b[0m\n\u001b[1;32m      9\u001b[0m \u001b[0;32mimport\u001b[0m \u001b[0mcptac\u001b[0m\u001b[0;34m.\u001b[0m\u001b[0mutils\u001b[0m \u001b[0;32mas\u001b[0m \u001b[0mut\u001b[0m\u001b[0;34m\u001b[0m\u001b[0;34m\u001b[0m\u001b[0m\n\u001b[1;32m     10\u001b[0m \u001b[0;34m\u001b[0m\u001b[0m\n\u001b[0;32m---> 11\u001b[0;31m \u001b[0men\u001b[0m \u001b[0;34m=\u001b[0m \u001b[0mcptac\u001b[0m\u001b[0;34m.\u001b[0m\u001b[0mEndometrial\u001b[0m\u001b[0;34m(\u001b[0m\u001b[0;34m)\u001b[0m\u001b[0;34m\u001b[0m\u001b[0;34m\u001b[0m\u001b[0m\n\u001b[0m",
      "\u001b[0;32m~/anaconda3/lib/python3.7/site-packages/cptac/endometrial.py\u001b[0m in \u001b[0;36m__init__\u001b[0;34m(self, version)\u001b[0m\n\u001b[1;32m     43\u001b[0m         }\n\u001b[1;32m     44\u001b[0m \u001b[0;34m\u001b[0m\u001b[0m\n\u001b[0;32m---> 45\u001b[0;31m         \u001b[0msuper\u001b[0m\u001b[0;34m(\u001b[0m\u001b[0;34m)\u001b[0m\u001b[0;34m.\u001b[0m\u001b[0m__init__\u001b[0m\u001b[0;34m(\u001b[0m\u001b[0mcancer_type\u001b[0m\u001b[0;34m=\u001b[0m\u001b[0;34m\"endometrial\"\u001b[0m\u001b[0;34m,\u001b[0m \u001b[0mversion\u001b[0m\u001b[0;34m=\u001b[0m\u001b[0mversion\u001b[0m\u001b[0;34m,\u001b[0m \u001b[0mvalid_versions\u001b[0m\u001b[0;34m=\u001b[0m\u001b[0mvalid_versions\u001b[0m\u001b[0;34m,\u001b[0m \u001b[0mdata_files\u001b[0m\u001b[0;34m=\u001b[0m\u001b[0mdata_files\u001b[0m\u001b[0;34m)\u001b[0m\u001b[0;34m\u001b[0m\u001b[0;34m\u001b[0m\u001b[0m\n\u001b[0m\u001b[1;32m     46\u001b[0m \u001b[0;34m\u001b[0m\u001b[0m\n\u001b[1;32m     47\u001b[0m         \u001b[0;31m# Load the data files into dataframes in the self._data dict\u001b[0m\u001b[0;34m\u001b[0m\u001b[0;34m\u001b[0m\u001b[0;34m\u001b[0m\u001b[0m\n",
      "\u001b[0;32m~/anaconda3/lib/python3.7/site-packages/cptac/dataset.py\u001b[0m in \u001b[0;36m__init__\u001b[0;34m(self, cancer_type, version, valid_versions, data_files)\u001b[0m\n\u001b[1;32m     47\u001b[0m         \u001b[0;31m# Get the paths to the data files\u001b[0m\u001b[0;34m\u001b[0m\u001b[0;34m\u001b[0m\u001b[0;34m\u001b[0m\u001b[0m\n\u001b[1;32m     48\u001b[0m         \u001b[0mversion_data_files\u001b[0m \u001b[0;34m=\u001b[0m \u001b[0mdata_files\u001b[0m\u001b[0;34m[\u001b[0m\u001b[0mself\u001b[0m\u001b[0;34m.\u001b[0m\u001b[0m_version\u001b[0m\u001b[0;34m]\u001b[0m \u001b[0;31m# Get the data files for this version from the data files dictionary\u001b[0m\u001b[0;34m\u001b[0m\u001b[0;34m\u001b[0m\u001b[0m\n\u001b[0;32m---> 49\u001b[0;31m         \u001b[0mself\u001b[0m\u001b[0;34m.\u001b[0m\u001b[0m_data_files_paths\u001b[0m \u001b[0;34m=\u001b[0m \u001b[0mget_version_files_paths\u001b[0m\u001b[0;34m(\u001b[0m\u001b[0mself\u001b[0m\u001b[0;34m.\u001b[0m\u001b[0m_cancer_type\u001b[0m\u001b[0;34m,\u001b[0m \u001b[0mself\u001b[0m\u001b[0;34m.\u001b[0m\u001b[0m_version\u001b[0m\u001b[0;34m,\u001b[0m \u001b[0mversion_data_files\u001b[0m\u001b[0;34m)\u001b[0m\u001b[0;34m\u001b[0m\u001b[0;34m\u001b[0m\u001b[0m\n\u001b[0m\u001b[1;32m     50\u001b[0m \u001b[0;34m\u001b[0m\u001b[0m\n\u001b[1;32m     51\u001b[0m         \u001b[0;31m# Initialize dataframe and definitions dicts as empty for this parent class\u001b[0m\u001b[0;34m\u001b[0m\u001b[0;34m\u001b[0m\u001b[0;34m\u001b[0m\u001b[0m\n",
      "\u001b[0;32m~/anaconda3/lib/python3.7/site-packages/cptac/file_tools.py\u001b[0m in \u001b[0;36mget_version_files_paths\u001b[0;34m(dataset, version, data_files)\u001b[0m\n\u001b[1;32m     95\u001b[0m     \u001b[0mversion_path\u001b[0m \u001b[0;34m=\u001b[0m \u001b[0mos\u001b[0m\u001b[0;34m.\u001b[0m\u001b[0mpath\u001b[0m\u001b[0;34m.\u001b[0m\u001b[0mjoin\u001b[0m\u001b[0;34m(\u001b[0m\u001b[0mdataset_path\u001b[0m\u001b[0;34m,\u001b[0m \u001b[0;34mf\"{dataset}_v{version}\"\u001b[0m\u001b[0;34m)\u001b[0m\u001b[0;34m\u001b[0m\u001b[0;34m\u001b[0m\u001b[0m\n\u001b[1;32m     96\u001b[0m     \u001b[0;32mif\u001b[0m \u001b[0;32mnot\u001b[0m \u001b[0mos\u001b[0m\u001b[0;34m.\u001b[0m\u001b[0mpath\u001b[0m\u001b[0;34m.\u001b[0m\u001b[0misdir\u001b[0m\u001b[0;34m(\u001b[0m\u001b[0mversion_path\u001b[0m\u001b[0;34m)\u001b[0m\u001b[0;34m:\u001b[0m\u001b[0;34m\u001b[0m\u001b[0;34m\u001b[0m\u001b[0m\n\u001b[0;32m---> 97\u001b[0;31m         \u001b[0;32mraise\u001b[0m \u001b[0mDataVersionNotInstalledError\u001b[0m\u001b[0;34m(\u001b[0m\u001b[0;34mf\"Data version {version} is not installed. To install, run \\\"cptac.download(dataset='{dataset}', version='{version}')\\\".\"\u001b[0m\u001b[0;34m)\u001b[0m\u001b[0;34m\u001b[0m\u001b[0;34m\u001b[0m\u001b[0m\n\u001b[0m\u001b[1;32m     98\u001b[0m \u001b[0;34m\u001b[0m\u001b[0m\n\u001b[1;32m     99\u001b[0m     \u001b[0mdata_files_paths\u001b[0m \u001b[0;34m=\u001b[0m \u001b[0;34m[\u001b[0m\u001b[0;34m]\u001b[0m\u001b[0;34m\u001b[0m\u001b[0;34m\u001b[0m\u001b[0m\n",
      "\u001b[0;31mDataVersionNotInstalledError\u001b[0m: Data version 2.1 is not installed. To install, run \"cptac.download(dataset='endometrial', version='2.1')\"."
     ]
    }
   ],
   "source": [
    "import pandas as pd\n",
    "import numpy as np\n",
    "import scipy.stats\n",
    "\n",
    "import seaborn as sns\n",
    "import matplotlib.pyplot as plt\n",
    "\n",
    "import cptac\n",
    "import cptac.utils as ut\n",
    "\n",
    "en = cptac.Endometrial()"
   ]
  },
  {
   "cell_type": "markdown",
   "metadata": {},
   "source": [
    "#### Specify Mutation Gene, Create List of Proteins"
   ]
  },
  {
   "cell_type": "code",
   "execution_count": null,
   "metadata": {},
   "outputs": [],
   "source": [
    "mut_gene = 'RB1'\n",
    "prots = ['CDC20','AURKA','KIFC1','CCNB1','ANLN','HMMR','KIF20A','AURKB','CCNB2','RRM2','PLK1','RACGAP1','CENPF','PRC1']"
   ]
  },
  {
   "cell_type": "markdown",
   "metadata": {},
   "source": [
    "#### Compare proteomics of the listed proteins with TP53 Mutation"
   ]
  },
  {
   "cell_type": "code",
   "execution_count": null,
   "metadata": {},
   "outputs": [],
   "source": [
    "#Join TP53 Mutations to proteomic data for given proteins\n",
    "prot_df = en.join_omics_to_mutations(mutations_genes=mut_gene, omics_genes=prots, omics_df_name='proteomics')\n",
    "\n",
    "#Keep only Tumor Samples\n",
    "prot_df = prot_df.loc[prot_df['Sample_Status'] == 'Tumor']\n",
    "\n",
    "#Create binary classification of Mutated/Wildtype\n",
    "for ind, row in prot_df.iterrows():\n",
    "    if row[mut_gene + '_Mutation_Status'] == 'Wildtype_Tumor':\n",
    "        prot_df.loc[ind, mut_gene + '_Mutation_Binary'] = 'Wildtype'\n",
    "    else:\n",
    "        prot_df.loc[ind, mut_gene + '_Mutation_Binary'] = 'Mutated'\n",
    "        \n",
    "#Drop unneeded columns\n",
    "prot_df = prot_df.drop([mut_gene+'_Mutation', mut_gene+'_Location', mut_gene+'_Mutation_Status','Sample_Status'], axis=1)\n",
    "prot_df.head()"
   ]
  },
  {
   "cell_type": "markdown",
   "metadata": {},
   "source": [
    "#### Determine significant comparisons when adjusting for multiple testing"
   ]
  },
  {
   "cell_type": "code",
   "execution_count": null,
   "metadata": {},
   "outputs": [],
   "source": [
    "comp_cols = list(prot_df.columns)\n",
    "comp_cols.remove(mut_gene+'_Mutation_Binary')\n",
    "results = ut.wrap_ttest(df=prot_df, label_column=mut_gene+'_Mutation_Binary', comparison_columns=comp_cols, verbose=True)"
   ]
  },
  {
   "cell_type": "markdown",
   "metadata": {},
   "source": [
    "#### Show results that were statistically significant"
   ]
  },
  {
   "cell_type": "code",
   "execution_count": null,
   "metadata": {},
   "outputs": [],
   "source": [
    "results"
   ]
  },
  {
   "cell_type": "markdown",
   "metadata": {},
   "source": [
    "#### Generate plot of these proteins"
   ]
  },
  {
   "cell_type": "code",
   "execution_count": null,
   "metadata": {},
   "outputs": [],
   "source": [
    "#Specify dimensions and settings\n",
    "a4_dims = (40.4, 16.54)\n",
    "fig, ax = plt.subplots(figsize=a4_dims)\n",
    "plotdf = pd.melt(prot_df, id_vars=['TP53_Mutation_Binary'], value_vars=comp_cols)\n",
    "plotdf = plotdf.replace(to_replace=r'_proteomics', value='', regex=True)\n",
    "my_pal = {\"Wildtype\": \"blue\", \"Mutated\": \"orange\"}\n",
    "\n",
    "#Make boxplot\n",
    "plot = sns.boxplot(data=plotdf, y='value', x='Name',hue='TP53_Mutation_Binary', hue_order=['Wildtype','Mutated']).set_title(\"Proteomics vs. TP53 Mutation\",fontsize = '40')\n",
    "\n",
    "#Overlay stripplot\n",
    "plot = sns.stripplot(data=plotdf, y='value', x='Name',hue='TP53_Mutation_Binary', hue_order=['Wildtype','Mutated'], dodge=True, jitter=True, color='.3')\n",
    "\n",
    "#Change Style and label sizes\n",
    "plot.tick_params(labelsize=20)\n",
    "plot.set_xlabel('')\n",
    "plot.set_ylabel('Protein Abundance', fontsize='20')\n",
    "plot.set_title('Proteomic abundance of 14 proteins known to be high during M phase vs. TP53 mutation status in Endometrial Cancer', fontsize = '35')\n",
    "sns.set_style(\"white\")\n",
    "\n",
    "#Adjust the Legend\n",
    "handles, labels = ax.get_legend_handles_labels()\n",
    "plt.legend(handles[0:2],['Wildtype','Mutated'], title='TP53 Status', fontsize='20', frameon=True)\n",
    "plot.get_legend().get_title().set_fontsize('25')"
   ]
  }
 ],
 "metadata": {
  "kernelspec": {
   "display_name": "Python 3",
   "language": "python",
   "name": "python3"
  },
  "language_info": {
   "codemirror_mode": {
    "name": "ipython",
    "version": 3
   },
   "file_extension": ".py",
   "mimetype": "text/x-python",
   "name": "python",
   "nbconvert_exporter": "python",
   "pygments_lexer": "ipython3",
   "version": "3.7.3"
  }
 },
 "nbformat": 4,
 "nbformat_minor": 2
}
