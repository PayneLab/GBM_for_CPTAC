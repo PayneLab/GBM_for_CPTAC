{
 "cells": [
  {
   "cell_type": "markdown",
   "metadata": {},
   "source": [
    "# RB1 Mutation Trans Effect on Transcriptomics"
   ]
  },
  {
   "cell_type": "markdown",
   "metadata": {},
   "source": [
    "### Library Imports"
   ]
  },
  {
   "cell_type": "code",
   "execution_count": 1,
   "metadata": {},
   "outputs": [
    {
     "name": "stdout",
     "output_type": "stream",
     "text": [
      "                                    \r"
     ]
    }
   ],
   "source": [
    "import pandas as pd\n",
    "import numpy as np\n",
    "import scipy.stats\n",
    "\n",
    "import warnings\n",
    "warnings.filterwarnings(\"ignore\")\n",
    "\n",
    "import cptac\n",
    "import cptac.utils as al\n",
    "\n",
    "brain = cptac.Gbm()"
   ]
  },
  {
   "cell_type": "markdown",
   "metadata": {},
   "source": [
    "### Select Gene"
   ]
  },
  {
   "cell_type": "code",
   "execution_count": 2,
   "metadata": {},
   "outputs": [],
   "source": [
    "gene = \"RB1\""
   ]
  },
  {
   "cell_type": "markdown",
   "metadata": {},
   "source": [
    "### Investigate Proteomics, Phosphoproteomics, Acetylproteomics, or Transcriptomics"
   ]
  },
  {
   "cell_type": "code",
   "execution_count": 13,
   "metadata": {},
   "outputs": [],
   "source": [
    "#omics = \"proteomics\"\n",
    "omics = \"transcriptomics\"\n",
    "#omics = \"phosphoproteomics\"\n",
    "#omics = \"acetylproteomics\""
   ]
  },
  {
   "cell_type": "markdown",
   "metadata": {},
   "source": [
    "### Track all significant comparisons in Dataframe"
   ]
  },
  {
   "cell_type": "code",
   "execution_count": 14,
   "metadata": {},
   "outputs": [],
   "source": [
    "all_significant_comparisons = pd.DataFrame(columns=['Cancer_Type', 'Gene', 'Comparison','Interacting_Protein','P_Value'])"
   ]
  },
  {
   "cell_type": "code",
   "execution_count": 15,
   "metadata": {},
   "outputs": [],
   "source": [
    "def add_to_all_significant_comparisons(df, cancer, interacting, all_sig_comp):\n",
    "    expanded = df\n",
    "    expanded['Gene'] = gene\n",
    "    expanded['Cancer_Type'] = cancer\n",
    "    expanded['Interacting_Protein'] = interacting\n",
    "    \n",
    "    updated_all_comparisons = pd.concat([all_sig_comp, expanded], sort=False)\n",
    "    \n",
    "    return updated_all_comparisons"
   ]
  },
  {
   "cell_type": "markdown",
   "metadata": {},
   "source": [
    "# Interacting Proteins: Transcriptomics"
   ]
  },
  {
   "cell_type": "markdown",
   "metadata": {},
   "source": [
    "### Generate interacting protein list"
   ]
  },
  {
   "cell_type": "markdown",
   "metadata": {},
   "source": [
    "Make a call to cptac.utils to get the interacting proteins method, which interacts with the uniprot and string databases to generate a list of known interacting partners with the given gene."
   ]
  },
  {
   "cell_type": "code",
   "execution_count": 16,
   "metadata": {},
   "outputs": [
    {
     "name": "stdout",
     "output_type": "stream",
     "text": [
      "Interacting Proteins:\n",
      "CDK4\n",
      "CCND1\n",
      "CCND2\n",
      "CCNE1\n",
      "E2F3\n",
      "CDK6\n",
      "CDK2\n",
      "RB1\n",
      "TP53\n",
      "CCNA2\n",
      "PPP1CA\n",
      "E2F1\n",
      "DNMT1\n",
      "E2F2\n",
      "CCND3\n",
      "RBBP4\n",
      "HDAC1\n",
      "TFDP1\n",
      "E2F4\n",
      "TP53BP1\n",
      "CDK1\n",
      "CDKN1A\n",
      "E2F5\n",
      "CDKN2A\n",
      "DP2\n",
      "HMGA2\n",
      "MCM7\n",
      "HBP1\n",
      "AATF\n",
      "LIN9\n",
      "BRCA1\n",
      "ABL1\n",
      "BCR\n",
      "NCOA6\n",
      "MORF4L2\n",
      "SERPINB2\n"
     ]
    }
   ],
   "source": [
    "# Use get interacting proteins method to generate list of interacting proteins\n",
    "interacting_proteins = al.get_interacting_proteins(gene)\n",
    "\n",
    "# Show interacting protein list\n",
    "print(\"Interacting Proteins:\")\n",
    "for interacting_protein in interacting_proteins:\n",
    "    print(interacting_protein)"
   ]
  },
  {
   "cell_type": "markdown",
   "metadata": {},
   "source": [
    "### Test for significant comparisons in any of interacting proteins"
   ]
  },
  {
   "cell_type": "code",
   "execution_count": 17,
   "metadata": {},
   "outputs": [
    {
     "name": "stdout",
     "output_type": "stream",
     "text": [
      "Doing t-test comparisons\n",
      "\n",
      "                                  Comparison       P_Value\n",
      "0   CCNE1_transcriptomics_ENSG00000105173.12  1.579781e-07\n",
      "1   TFDP1_transcriptomics_ENSG00000198176.11  6.867372e-07\n",
      "2     CDK2_transcriptomics_ENSG00000123374.9  1.224552e-06\n",
      "3  CDKN2A_transcriptomics_ENSG00000147889.15  1.255831e-06\n",
      "4     RB1_transcriptomics_ENSG00000139687.12  1.583221e-06\n",
      "5   DNMT1_transcriptomics_ENSG00000130816.13  1.166545e-04\n",
      "6   BRCA1_transcriptomics_ENSG00000012048.18  2.545444e-04\n",
      "7    E2F1_transcriptomics_ENSG00000101412.12  4.630799e-04\n",
      "8     CDK6_transcriptomics_ENSG00000105810.8  1.343566e-03\n",
      "\n",
      "\n",
      "\n"
     ]
    },
    {
     "name": "stderr",
     "output_type": "stream",
     "text": [
      "Warning: The following columns were not found in the transcriptomics dataframe, so they were inserted into joined table, but filled with NaN: DP2 (/Users/Lindsey/anaconda3/lib/python3.7/site-packages/ipykernel_launcher.py, line 2)\n",
      "Warning: In joining the somatic_mutation table, no mutations were found for the following samples, so they were filled with Wildtype_Tumor or Wildtype_Normal: 99 samples for the RB1 gene (/Users/Lindsey/anaconda3/lib/python3.7/site-packages/ipykernel_launcher.py, line 2)\n"
     ]
    }
   ],
   "source": [
    "# Create dataframe in order to do comparisons with wrap_ttest\n",
    "protdf = brain.join_omics_to_mutations(mutations_genes=[gene], omics_df_name=omics, omics_genes=interacting_proteins)\n",
    "protdf = brain.reduce_multiindex(protdf, flatten=True)\n",
    "protdf = protdf[protdf.Sample_Status == 'Tumor'] # drop Normal samples\n",
    "\n",
    "# Create the binary valued column needed to do the comparison\n",
    "for ind, row in protdf.iterrows():\n",
    "    if row[gene+\"_Mutation_Status\"] != 'Wildtype_Tumor':\n",
    "        protdf.at[ind,'Label'] = 'Mutated'\n",
    "    else:\n",
    "        protdf.at[ind,'Label'] = 'Wildtype'\n",
    "\n",
    "# Format the dataframe correctly\n",
    "protdf = protdf.drop(gene+\"_Mutation\",axis=1)\n",
    "protdf = protdf.drop(gene+\"_Location\",axis=1)\n",
    "protdf = protdf.drop(gene+\"_Mutation_Status\", axis=1)\n",
    "protdf = protdf.drop(\"Sample_Status\",axis=1)\n",
    "\n",
    "\n",
    "# Make list of columns to be compared using t-tests\n",
    "col_list = list(protdf.columns)\n",
    "col_list.remove('Label')\n",
    "\n",
    "print(\"Doing t-test comparisons\\n\")\n",
    "\n",
    "# Call wrap_ttest, pass in formatted dataframe\n",
    "wrap_results = al.wrap_ttest(protdf, 'Label', col_list)\n",
    "\n",
    "# Print results, if anything significant was found\n",
    "if wrap_results is not None:\n",
    "        print(wrap_results)\n",
    "        print(\"\\n\\n\")\n",
    "        \n",
    "        all_significant_comparisons = add_to_all_significant_comparisons(wrap_results, \"Gbm\", True, all_significant_comparisons)\n",
    "        "
   ]
  },
  {
   "cell_type": "code",
   "execution_count": 18,
   "metadata": {},
   "outputs": [
    {
     "data": {
      "text/html": [
       "<div>\n",
       "<style scoped>\n",
       "    .dataframe tbody tr th:only-of-type {\n",
       "        vertical-align: middle;\n",
       "    }\n",
       "\n",
       "    .dataframe tbody tr th {\n",
       "        vertical-align: top;\n",
       "    }\n",
       "\n",
       "    .dataframe thead th {\n",
       "        text-align: right;\n",
       "    }\n",
       "</style>\n",
       "<table border=\"1\" class=\"dataframe\">\n",
       "  <thead>\n",
       "    <tr style=\"text-align: right;\">\n",
       "      <th></th>\n",
       "      <th>Comparison</th>\n",
       "      <th>P_Value</th>\n",
       "      <th>Gene</th>\n",
       "      <th>Cancer_Type</th>\n",
       "      <th>Interacting_Protein</th>\n",
       "    </tr>\n",
       "  </thead>\n",
       "  <tbody>\n",
       "    <tr>\n",
       "      <td>0</td>\n",
       "      <td>CCNE1_transcriptomics_ENSG00000105173.12</td>\n",
       "      <td>1.579781e-07</td>\n",
       "      <td>RB1</td>\n",
       "      <td>Gbm</td>\n",
       "      <td>True</td>\n",
       "    </tr>\n",
       "    <tr>\n",
       "      <td>1</td>\n",
       "      <td>TFDP1_transcriptomics_ENSG00000198176.11</td>\n",
       "      <td>6.867372e-07</td>\n",
       "      <td>RB1</td>\n",
       "      <td>Gbm</td>\n",
       "      <td>True</td>\n",
       "    </tr>\n",
       "    <tr>\n",
       "      <td>2</td>\n",
       "      <td>CDK2_transcriptomics_ENSG00000123374.9</td>\n",
       "      <td>1.224552e-06</td>\n",
       "      <td>RB1</td>\n",
       "      <td>Gbm</td>\n",
       "      <td>True</td>\n",
       "    </tr>\n",
       "    <tr>\n",
       "      <td>3</td>\n",
       "      <td>CDKN2A_transcriptomics_ENSG00000147889.15</td>\n",
       "      <td>1.255831e-06</td>\n",
       "      <td>RB1</td>\n",
       "      <td>Gbm</td>\n",
       "      <td>True</td>\n",
       "    </tr>\n",
       "    <tr>\n",
       "      <td>4</td>\n",
       "      <td>RB1_transcriptomics_ENSG00000139687.12</td>\n",
       "      <td>1.583221e-06</td>\n",
       "      <td>RB1</td>\n",
       "      <td>Gbm</td>\n",
       "      <td>True</td>\n",
       "    </tr>\n",
       "    <tr>\n",
       "      <td>5</td>\n",
       "      <td>DNMT1_transcriptomics_ENSG00000130816.13</td>\n",
       "      <td>1.166545e-04</td>\n",
       "      <td>RB1</td>\n",
       "      <td>Gbm</td>\n",
       "      <td>True</td>\n",
       "    </tr>\n",
       "    <tr>\n",
       "      <td>6</td>\n",
       "      <td>BRCA1_transcriptomics_ENSG00000012048.18</td>\n",
       "      <td>2.545444e-04</td>\n",
       "      <td>RB1</td>\n",
       "      <td>Gbm</td>\n",
       "      <td>True</td>\n",
       "    </tr>\n",
       "    <tr>\n",
       "      <td>7</td>\n",
       "      <td>E2F1_transcriptomics_ENSG00000101412.12</td>\n",
       "      <td>4.630799e-04</td>\n",
       "      <td>RB1</td>\n",
       "      <td>Gbm</td>\n",
       "      <td>True</td>\n",
       "    </tr>\n",
       "    <tr>\n",
       "      <td>8</td>\n",
       "      <td>CDK6_transcriptomics_ENSG00000105810.8</td>\n",
       "      <td>1.343566e-03</td>\n",
       "      <td>RB1</td>\n",
       "      <td>Gbm</td>\n",
       "      <td>True</td>\n",
       "    </tr>\n",
       "  </tbody>\n",
       "</table>\n",
       "</div>"
      ],
      "text/plain": [
       "                                  Comparison       P_Value Gene Cancer_Type  \\\n",
       "0   CCNE1_transcriptomics_ENSG00000105173.12  1.579781e-07  RB1         Gbm   \n",
       "1   TFDP1_transcriptomics_ENSG00000198176.11  6.867372e-07  RB1         Gbm   \n",
       "2     CDK2_transcriptomics_ENSG00000123374.9  1.224552e-06  RB1         Gbm   \n",
       "3  CDKN2A_transcriptomics_ENSG00000147889.15  1.255831e-06  RB1         Gbm   \n",
       "4     RB1_transcriptomics_ENSG00000139687.12  1.583221e-06  RB1         Gbm   \n",
       "5   DNMT1_transcriptomics_ENSG00000130816.13  1.166545e-04  RB1         Gbm   \n",
       "6   BRCA1_transcriptomics_ENSG00000012048.18  2.545444e-04  RB1         Gbm   \n",
       "7    E2F1_transcriptomics_ENSG00000101412.12  4.630799e-04  RB1         Gbm   \n",
       "8     CDK6_transcriptomics_ENSG00000105810.8  1.343566e-03  RB1         Gbm   \n",
       "\n",
       "   Interacting_Protein  \n",
       "0                 True  \n",
       "1                 True  \n",
       "2                 True  \n",
       "3                 True  \n",
       "4                 True  \n",
       "5                 True  \n",
       "6                 True  \n",
       "7                 True  \n",
       "8                 True  "
      ]
     },
     "metadata": {},
     "output_type": "display_data"
    }
   ],
   "source": [
    "display(wrap_results) "
   ]
  },
  {
   "cell_type": "markdown",
   "metadata": {},
   "source": [
    "# All Proteins: Transcriptomics "
   ]
  },
  {
   "cell_type": "code",
   "execution_count": 8,
   "metadata": {},
   "outputs": [
    {
     "name": "stdout",
     "output_type": "stream",
     "text": [
      "\n",
      "Gene:  RB1\n"
     ]
    },
    {
     "name": "stderr",
     "output_type": "stream",
     "text": [
      "Warning: In joining the somatic_mutation table, no mutations were found for the following samples, so they were filled with Wildtype_Tumor or Wildtype_Normal: 99 samples for the RB1 gene (/Users/Lindsey/anaconda3/lib/python3.7/site-packages/ipykernel_launcher.py, line 7)\n"
     ]
    },
    {
     "name": "stdout",
     "output_type": "stream",
     "text": [
      "Doing t-test comparisons\n",
      "\n",
      "                                         Comparison       P_Value\n",
      "0      AC106786.1_transcriptomics_ENSG00000223652.2  5.592300e-15\n",
      "1          RBBP8_transcriptomics_ENSG00000101773.15  2.069821e-13\n",
      "2         UBE2CP2_transcriptomics_ENSG00000265939.1  5.321912e-12\n",
      "3          ANKUB1_transcriptomics_ENSG00000206199.8  8.386719e-12\n",
      "4        SLC47A2_transcriptomics_ENSG00000180638.16  1.493243e-11\n",
      "..                                              ...           ...\n",
      "148      S100PBP_transcriptomics_ENSG00000116497.16  7.183099e-07\n",
      "149  RP11-746P2.5_transcriptomics_ENSG00000229064.1  7.433115e-07\n",
      "150      FBXO36P1_transcriptomics_ENSG00000266117.1  7.580728e-07\n",
      "151   SLC16A1-AS1_transcriptomics_ENSG00000226419.5  7.809521e-07\n",
      "152        PARD6B_transcriptomics_ENSG00000124171.7  8.258120e-07\n",
      "\n",
      "[153 rows x 2 columns]\n",
      "\n",
      "\n",
      "\n"
     ]
    }
   ],
   "source": [
    "try:\n",
    "    print(\"\\nGene: \", gene)\n",
    "\n",
    "    # Use all proteins\n",
    "\n",
    "    # Create dataframe in order to do comparisons with wrap_ttest\n",
    "    protdf = brain.join_omics_to_mutations(mutations_genes=[gene], omics_df_name=omics)\n",
    "    protdf = brain.reduce_multiindex(protdf, flatten=True) # flatten for specific column names\n",
    "    protdf = protdf.loc[protdf['Sample_Status'] == 'Tumor']\n",
    "    \n",
    "    # Create binary column \n",
    "    protdf['Label'] = np.where(\n",
    "                protdf[gene+'_Mutation_Status'] == 'Wildtype_Tumor', 'Wildtype', 'Mutated')\n",
    "\n",
    "    # Format the dataframe correctly'''\n",
    "    protdf = protdf.drop(gene+\"_Mutation\",axis=1)\n",
    "    protdf = protdf.drop(gene+\"_Location\",axis=1)\n",
    "    protdf = protdf.drop(gene+\"_Mutation_Status\", axis=1)\n",
    "    protdf = protdf.drop(\"Sample_Status\",axis=1)\n",
    "\n",
    "    # Make list of columns to be compared using t-tests\n",
    "    col_list = list(protdf.columns)\n",
    "    col_list.remove('Label')\n",
    "\n",
    "    print(\"Doing t-test comparisons\\n\")\n",
    "    \n",
    "    # Call wrap_ttest, pass in formatted dataframe\n",
    "    wrap_results = al.wrap_ttest(protdf, 'Label', col_list)\n",
    "\n",
    "    # Print results, if anything significant was found\n",
    "    if wrap_results is not None:\n",
    "            print(wrap_results)\n",
    "            print(\"\\n\\n\")\n",
    "            \n",
    "            all_significant_comparisons = add_to_all_significant_comparisons(wrap_results, \"Gbm\", False, all_significant_comparisons)\n",
    "\n",
    "\n",
    "except Exception as e:\n",
    "    print(\"Error in Comparison\")\n",
    "    print(e)"
   ]
  },
  {
   "cell_type": "markdown",
   "metadata": {},
   "source": [
    "# Print all significant comparisons"
   ]
  },
  {
   "cell_type": "code",
   "execution_count": 9,
   "metadata": {},
   "outputs": [
    {
     "data": {
      "text/html": [
       "<div>\n",
       "<style scoped>\n",
       "    .dataframe tbody tr th:only-of-type {\n",
       "        vertical-align: middle;\n",
       "    }\n",
       "\n",
       "    .dataframe tbody tr th {\n",
       "        vertical-align: top;\n",
       "    }\n",
       "\n",
       "    .dataframe thead th {\n",
       "        text-align: right;\n",
       "    }\n",
       "</style>\n",
       "<table border=\"1\" class=\"dataframe\">\n",
       "  <thead>\n",
       "    <tr style=\"text-align: right;\">\n",
       "      <th></th>\n",
       "      <th>Cancer_Type</th>\n",
       "      <th>Gene</th>\n",
       "      <th>Comparison</th>\n",
       "      <th>Interacting_Protein</th>\n",
       "      <th>P_Value</th>\n",
       "    </tr>\n",
       "  </thead>\n",
       "  <tbody>\n",
       "    <tr>\n",
       "      <td>0</td>\n",
       "      <td>Gbm</td>\n",
       "      <td>RB1</td>\n",
       "      <td>CCNE1_transcriptomics_ENSG00000105173.12</td>\n",
       "      <td>True</td>\n",
       "      <td>1.579781e-07</td>\n",
       "    </tr>\n",
       "    <tr>\n",
       "      <td>1</td>\n",
       "      <td>Gbm</td>\n",
       "      <td>RB1</td>\n",
       "      <td>TFDP1_transcriptomics_ENSG00000198176.11</td>\n",
       "      <td>True</td>\n",
       "      <td>6.867372e-07</td>\n",
       "    </tr>\n",
       "    <tr>\n",
       "      <td>2</td>\n",
       "      <td>Gbm</td>\n",
       "      <td>RB1</td>\n",
       "      <td>CDK2_transcriptomics_ENSG00000123374.9</td>\n",
       "      <td>True</td>\n",
       "      <td>1.224552e-06</td>\n",
       "    </tr>\n",
       "    <tr>\n",
       "      <td>3</td>\n",
       "      <td>Gbm</td>\n",
       "      <td>RB1</td>\n",
       "      <td>CDKN2A_transcriptomics_ENSG00000147889.15</td>\n",
       "      <td>True</td>\n",
       "      <td>1.255831e-06</td>\n",
       "    </tr>\n",
       "    <tr>\n",
       "      <td>4</td>\n",
       "      <td>Gbm</td>\n",
       "      <td>RB1</td>\n",
       "      <td>RB1_transcriptomics_ENSG00000139687.12</td>\n",
       "      <td>True</td>\n",
       "      <td>1.583221e-06</td>\n",
       "    </tr>\n",
       "    <tr>\n",
       "      <td>...</td>\n",
       "      <td>...</td>\n",
       "      <td>...</td>\n",
       "      <td>...</td>\n",
       "      <td>...</td>\n",
       "      <td>...</td>\n",
       "    </tr>\n",
       "    <tr>\n",
       "      <td>148</td>\n",
       "      <td>Gbm</td>\n",
       "      <td>RB1</td>\n",
       "      <td>S100PBP_transcriptomics_ENSG00000116497.16</td>\n",
       "      <td>False</td>\n",
       "      <td>7.183099e-07</td>\n",
       "    </tr>\n",
       "    <tr>\n",
       "      <td>149</td>\n",
       "      <td>Gbm</td>\n",
       "      <td>RB1</td>\n",
       "      <td>RP11-746P2.5_transcriptomics_ENSG00000229064.1</td>\n",
       "      <td>False</td>\n",
       "      <td>7.433115e-07</td>\n",
       "    </tr>\n",
       "    <tr>\n",
       "      <td>150</td>\n",
       "      <td>Gbm</td>\n",
       "      <td>RB1</td>\n",
       "      <td>FBXO36P1_transcriptomics_ENSG00000266117.1</td>\n",
       "      <td>False</td>\n",
       "      <td>7.580728e-07</td>\n",
       "    </tr>\n",
       "    <tr>\n",
       "      <td>151</td>\n",
       "      <td>Gbm</td>\n",
       "      <td>RB1</td>\n",
       "      <td>SLC16A1-AS1_transcriptomics_ENSG00000226419.5</td>\n",
       "      <td>False</td>\n",
       "      <td>7.809521e-07</td>\n",
       "    </tr>\n",
       "    <tr>\n",
       "      <td>152</td>\n",
       "      <td>Gbm</td>\n",
       "      <td>RB1</td>\n",
       "      <td>PARD6B_transcriptomics_ENSG00000124171.7</td>\n",
       "      <td>False</td>\n",
       "      <td>8.258120e-07</td>\n",
       "    </tr>\n",
       "  </tbody>\n",
       "</table>\n",
       "<p>162 rows × 5 columns</p>\n",
       "</div>"
      ],
      "text/plain": [
       "    Cancer_Type Gene                                      Comparison  \\\n",
       "0           Gbm  RB1        CCNE1_transcriptomics_ENSG00000105173.12   \n",
       "1           Gbm  RB1        TFDP1_transcriptomics_ENSG00000198176.11   \n",
       "2           Gbm  RB1          CDK2_transcriptomics_ENSG00000123374.9   \n",
       "3           Gbm  RB1       CDKN2A_transcriptomics_ENSG00000147889.15   \n",
       "4           Gbm  RB1          RB1_transcriptomics_ENSG00000139687.12   \n",
       "..          ...  ...                                             ...   \n",
       "148         Gbm  RB1      S100PBP_transcriptomics_ENSG00000116497.16   \n",
       "149         Gbm  RB1  RP11-746P2.5_transcriptomics_ENSG00000229064.1   \n",
       "150         Gbm  RB1      FBXO36P1_transcriptomics_ENSG00000266117.1   \n",
       "151         Gbm  RB1   SLC16A1-AS1_transcriptomics_ENSG00000226419.5   \n",
       "152         Gbm  RB1        PARD6B_transcriptomics_ENSG00000124171.7   \n",
       "\n",
       "    Interacting_Protein       P_Value  \n",
       "0                  True  1.579781e-07  \n",
       "1                  True  6.867372e-07  \n",
       "2                  True  1.224552e-06  \n",
       "3                  True  1.255831e-06  \n",
       "4                  True  1.583221e-06  \n",
       "..                  ...           ...  \n",
       "148               False  7.183099e-07  \n",
       "149               False  7.433115e-07  \n",
       "150               False  7.580728e-07  \n",
       "151               False  7.809521e-07  \n",
       "152               False  8.258120e-07  \n",
       "\n",
       "[162 rows x 5 columns]"
      ]
     },
     "metadata": {},
     "output_type": "display_data"
    }
   ],
   "source": [
    "if len(all_significant_comparisons) > 0:\n",
    "    display(all_significant_comparisons)\n",
    "    \n",
    "else:\n",
    "    print('No Significant Comparisons!')"
   ]
  },
  {
   "cell_type": "markdown",
   "metadata": {},
   "source": [
    "### Write Significant Comparisons (if any) to Shared CSV file"
   ]
  },
  {
   "cell_type": "code",
   "execution_count": 10,
   "metadata": {},
   "outputs": [
    {
     "data": {
      "text/plain": [
       "\"\\nexisting_results = pd.read_csv(gene+'_Trans_Results.csv')\\n\\nupdated_results = pd.concat([existing_results, all_significant_comparisons], sort=False)\\n\\nupdated_results.to_csv(path_or_buf = gene + '_Trans_Results.csv', index=False)\""
      ]
     },
     "execution_count": 10,
     "metadata": {},
     "output_type": "execute_result"
    }
   ],
   "source": [
    "'''\n",
    "existing_results = pd.read_csv(gene+'_Trans_Results.csv')\n",
    "\n",
    "updated_results = pd.concat([existing_results, all_significant_comparisons], sort=False)\n",
    "\n",
    "updated_results.to_csv(path_or_buf = gene + '_Trans_Results.csv', index=False)'''"
   ]
  }
 ],
 "metadata": {
  "kernelspec": {
   "display_name": "Python 3",
   "language": "python",
   "name": "python3"
  },
  "language_info": {
   "codemirror_mode": {
    "name": "ipython",
    "version": 3
   },
   "file_extension": ".py",
   "mimetype": "text/x-python",
   "name": "python",
   "nbconvert_exporter": "python",
   "pygments_lexer": "ipython3",
   "version": "3.7.3"
  }
 },
 "nbformat": 4,
 "nbformat_minor": 2
}
